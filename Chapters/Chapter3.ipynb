{
 "cells": [
  {
   "cell_type": "markdown",
   "id": "d04fe879",
   "metadata": {},
   "source": [
    "# **Cấu trúc điều kiện**\n",
    "\n",
    "Trong R có một số cấu trúc điều kiện chính để kiểm soát luồng chương trình:\n",
    "## **1. `if` – `else`**"
   ]
  },
  {
   "cell_type": "code",
   "execution_count": 1,
   "id": "c7a2dd30",
   "metadata": {
    "vscode": {
     "languageId": "r"
    }
   },
   "outputs": [
    {
     "name": "stdout",
     "output_type": "stream",
     "text": [
      "[1] \"x dương\"\n"
     ]
    }
   ],
   "source": [
    "x <- 5\n",
    "\n",
    "if (x > 0) {\n",
    "  print(\"x dương\")\n",
    "} else {\n",
    "  print(\"x không dương\")\n",
    "}"
   ]
  },
  {
   "cell_type": "markdown",
   "id": "217fb589",
   "metadata": {},
   "source": [
    "\n",
    "---\n",
    "\n",
    "## **2. `if ... else if ... else`**\n",
    "\n",
    "Xử lý nhiều trường hợp nối tiếp."
   ]
  },
  {
   "cell_type": "code",
   "execution_count": 2,
   "id": "f1a49699",
   "metadata": {
    "vscode": {
     "languageId": "r"
    }
   },
   "outputs": [
    {
     "name": "stdout",
     "output_type": "stream",
     "text": [
      "[1] \"x bằng 0\"\n"
     ]
    }
   ],
   "source": [
    "x <- 0\n",
    "\n",
    "if (x > 0) {\n",
    "  print(\"x dương\")\n",
    "} else if (x < 0) {\n",
    "  print(\"x âm\")\n",
    "} else {\n",
    "  print(\"x bằng 0\")\n",
    "}\n"
   ]
  },
  {
   "cell_type": "markdown",
   "id": "ea221dc5",
   "metadata": {},
   "source": [
    "## **3. `ifelse()` (vector hóa)**\n",
    "Hàm trả về kết quả theo điều kiện, áp dụng cho toàn bộ vector."
   ]
  },
  {
   "cell_type": "code",
   "execution_count": 3,
   "id": "f7530dbd",
   "metadata": {
    "vscode": {
     "languageId": "r"
    }
   },
   "outputs": [
    {
     "data": {
      "text/html": [
       "<style>\n",
       ".list-inline {list-style: none; margin:0; padding: 0}\n",
       ".list-inline>li {display: inline-block}\n",
       ".list-inline>li:not(:last-child)::after {content: \"\\00b7\"; padding: 0 .5ex}\n",
       "</style>\n",
       "<ol class=list-inline><li>'Không dương'</li><li>'Không dương'</li><li>'Không dương'</li><li>'Không dương'</li><li>'Dương'</li><li>'Dương'</li><li>'Dương'</li></ol>\n"
      ],
      "text/latex": [
       "\\begin{enumerate*}\n",
       "\\item 'Không dương'\n",
       "\\item 'Không dương'\n",
       "\\item 'Không dương'\n",
       "\\item 'Không dương'\n",
       "\\item 'Dương'\n",
       "\\item 'Dương'\n",
       "\\item 'Dương'\n",
       "\\end{enumerate*}\n"
      ],
      "text/markdown": [
       "1. 'Không dương'\n",
       "2. 'Không dương'\n",
       "3. 'Không dương'\n",
       "4. 'Không dương'\n",
       "5. 'Dương'\n",
       "6. 'Dương'\n",
       "7. 'Dương'\n",
       "\n",
       "\n"
      ],
      "text/plain": [
       "[1] \"Không dương\" \"Không dương\" \"Không dương\" \"Không dương\" \"Dương\"      \n",
       "[6] \"Dương\"       \"Dương\"      "
      ]
     },
     "metadata": {},
     "output_type": "display_data"
    }
   ],
   "source": [
    "x <- -3:3\n",
    "ifelse(x > 0, \"Dương\", \"Không dương\")\n",
    "# [1] \"Không dương\" \"Không dương\" \"Không dương\" \"Không dương\" \"Dương\" \"Dương\" \"Dương\""
   ]
  },
  {
   "cell_type": "markdown",
   "id": "dee42499",
   "metadata": {},
   "source": [
    "## **4. `switch()`**\n",
    "Dùng khi có nhiều lựa chọn cố định."
   ]
  },
  {
   "cell_type": "code",
   "execution_count": 4,
   "id": "4123164c",
   "metadata": {
    "vscode": {
     "languageId": "r"
    }
   },
   "outputs": [
    {
     "data": {
      "text/html": [
       "'Bạn chọn B'"
      ],
      "text/latex": [
       "'Bạn chọn B'"
      ],
      "text/markdown": [
       "'Bạn chọn B'"
      ],
      "text/plain": [
       "[1] \"Bạn chọn B\""
      ]
     },
     "metadata": {},
     "output_type": "display_data"
    }
   ],
   "source": [
    "x <- \"b\"\n",
    "\n",
    "switch(x,\n",
    "       \"a\" = \"Bạn chọn A\",\n",
    "       \"b\" = \"Bạn chọn B\",\n",
    "       \"c\" = \"Bạn chọn C\",\n",
    "       \"Khác\")\n",
    "# [1] \"Bạn chọn B\"\n"
   ]
  },
  {
   "cell_type": "markdown",
   "id": "4234c54f",
   "metadata": {},
   "source": [
    "## **5. `any()` và `all()`**\n",
    "\n",
    "Kiểm tra xem mảng có chứa ít nhất 1 hoặc chứa tất cả phần tử tuân theo điều kiện không"
   ]
  },
  {
   "cell_type": "code",
   "execution_count": 5,
   "id": "50cd66c8",
   "metadata": {
    "vscode": {
     "languageId": "r"
    }
   },
   "outputs": [
    {
     "data": {
      "text/html": [
       "TRUE"
      ],
      "text/latex": [
       "TRUE"
      ],
      "text/markdown": [
       "TRUE"
      ],
      "text/plain": [
       "[1] TRUE"
      ]
     },
     "metadata": {},
     "output_type": "display_data"
    },
    {
     "data": {
      "text/html": [
       "FALSE"
      ],
      "text/latex": [
       "FALSE"
      ],
      "text/markdown": [
       "FALSE"
      ],
      "text/plain": [
       "[1] FALSE"
      ]
     },
     "metadata": {},
     "output_type": "display_data"
    }
   ],
   "source": [
    "x <- c(-1, 2, -3, 4)\n",
    "\n",
    "any(x > 3)   # TRUE (ít nhất một phần tử > 3)\n",
    "all(x > 0)   # TRUE (tất cả phần tử > 0)"
   ]
  },
  {
   "cell_type": "markdown",
   "id": "e4f28a2c",
   "metadata": {},
   "source": [
    "# **Cấu trúc lặp**\n",
    "\n",
    "Trong R có nhiều cấu trúc lặp để thực hiện các thao tác lặp đi lặp lại:\n",
    "\n",
    "## **Vòng lặp for**\n",
    "Dùng để lặp qua một dãy giá trị.\n",
    "\n",
    "Cú pháp\n",
    "\n",
    "```r\n",
    "for (<variables> in <vector>){\n",
    "    <body>\n",
    "}\n",
    "```\n",
    "\n",
    "Trong đó:\n",
    "* `variables`: biến tạm dùng để nhận giá trị từng phần tử của vector trong mỗi vòng lặp.\n",
    "* `vector`: dãy giá trị mà vòng lặp sẽ đi qua (có thể là vector số, vector ký tự, danh sách…).\n",
    "* `body`: khối lệnh sẽ thực thi cho mỗi giá trị của `variables`.\n",
    "\n",
    "Ví dụ"
   ]
  },
  {
   "cell_type": "code",
   "execution_count": 6,
   "id": "f6606477",
   "metadata": {
    "vscode": {
     "languageId": "r"
    }
   },
   "outputs": [
    {
     "name": "stdout",
     "output_type": "stream",
     "text": [
      "[1] 1\n",
      "[1] 2\n",
      "[1] 3\n",
      "[1] 4\n",
      "[1] 5\n"
     ]
    }
   ],
   "source": [
    "for (i in 1:5) {\n",
    "    print(i)\n",
    "}"
   ]
  },
  {
   "cell_type": "code",
   "execution_count": 7,
   "id": "335e391f",
   "metadata": {
    "vscode": {
     "languageId": "r"
    }
   },
   "outputs": [
    {
     "name": "stdout",
     "output_type": "stream",
     "text": [
      "[1] 1\n",
      "[1] 3\n",
      "[1] 5\n",
      "[1] 7\n",
      "[1] 9\n"
     ]
    }
   ],
   "source": [
    "for (i in seq(1, 10, 2)) {\n",
    "    print(i)\n",
    "}"
   ]
  },
  {
   "cell_type": "markdown",
   "id": "5d8c2c58",
   "metadata": {},
   "source": [
    "## **Vòng lặp while**\n",
    "\n",
    "Vòng lặp `while` lặp lại **miễn là điều kiện còn đúng**.\n",
    "\n",
    "Cú pháp:\n",
    "\n",
    "```r\n",
    "while (<condition>) {\n",
    "    <body>\n",
    "}\n",
    "```\n",
    "\n",
    "Trong đó:\n",
    "\n",
    "* `condition`: điều kiện logic; vòng lặp tiếp tục khi giá trị là `TRUE`.\n",
    "* `body`: khối lệnh sẽ thực thi trong mỗi vòng lặp.\n",
    "\n",
    "Ví dụ minh họa:"
   ]
  },
  {
   "cell_type": "code",
   "execution_count": 8,
   "id": "35a9201e",
   "metadata": {
    "vscode": {
     "languageId": "r"
    }
   },
   "outputs": [
    {
     "name": "stdout",
     "output_type": "stream",
     "text": [
      "[1] 1\n",
      "[1] 2\n",
      "[1] 3\n",
      "[1] 4\n",
      "[1] 5\n"
     ]
    }
   ],
   "source": [
    "x <- 1\n",
    "while (x <= 5) {\n",
    "  print(x)\n",
    "  x <- x + 1\n",
    "}"
   ]
  },
  {
   "cell_type": "markdown",
   "id": "0c3b5dac",
   "metadata": {},
   "source": [
    "## **Vòng lặp repeat**\n",
    "\n",
    "Vòng lặp `repeat` lặp đi lặp lại **vô hạn** cho đến khi gặp lệnh `break`.\n",
    "\n",
    "Cú pháp:\n",
    "\n",
    "```r\n",
    "repeat {\n",
    "    <body>\n",
    "    if (<condition>) break\n",
    "}\n",
    "```\n",
    "\n",
    "Trong đó:\n",
    "\n",
    "* `<body>`: khối lệnh sẽ thực thi liên tục.\n",
    "* `<condition>`: điều kiện dừng; khi `TRUE`, vòng lặp kết thúc nhờ `break`.\n",
    "\n",
    "Ví dụ minh họa:"
   ]
  },
  {
   "cell_type": "code",
   "execution_count": 9,
   "id": "b9a643f8",
   "metadata": {
    "vscode": {
     "languageId": "r"
    }
   },
   "outputs": [
    {
     "name": "stdout",
     "output_type": "stream",
     "text": [
      "[1] 1\n",
      "[1] 2\n",
      "[1] 3\n",
      "[1] 4\n",
      "[1] 5\n"
     ]
    }
   ],
   "source": [
    "x <- 1\n",
    "repeat {\n",
    "  print(x)\n",
    "  x <- x + 1\n",
    "  if (x > 5) break\n",
    "}"
   ]
  },
  {
   "cell_type": "markdown",
   "id": "269dab13",
   "metadata": {},
   "source": [
    "## **Sử dụng `break` và `next` trong vòng lặp**\n",
    "\n",
    "* **`break`**: thoát hẳn khỏi vòng lặp, kết thúc việc lặp.\n",
    "* **`next`**: bỏ qua vòng hiện tại, tiếp tục với vòng kế tiếp.\n",
    "\n",
    "Ví dụ minh họa:"
   ]
  },
  {
   "cell_type": "code",
   "execution_count": 10,
   "id": "9b07d659",
   "metadata": {
    "vscode": {
     "languageId": "r"
    }
   },
   "outputs": [
    {
     "name": "stdout",
     "output_type": "stream",
     "text": [
      "[1] 1\n",
      "[1] 2\n",
      "[1] 4\n"
     ]
    }
   ],
   "source": [
    "for (i in 1:10) {\n",
    "    if (i == 3) {  # bỏ qua i = 3\n",
    "        next\n",
    "    }  \n",
    "    else if (i == 5) { # dừng vòng lặp khi i = 5\n",
    "        break\n",
    "    }\n",
    "    print(i)\n",
    "}\n",
    "# Kết quả in ra: 1 2 4"
   ]
  }
 ],
 "metadata": {
  "kernelspec": {
   "display_name": "R",
   "language": "R",
   "name": "ir"
  },
  "language_info": {
   "codemirror_mode": "r",
   "file_extension": ".r",
   "mimetype": "text/x-r-source",
   "name": "R",
   "pygments_lexer": "r",
   "version": "4.5.1"
  }
 },
 "nbformat": 4,
 "nbformat_minor": 5
}
