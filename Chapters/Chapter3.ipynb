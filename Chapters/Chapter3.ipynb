{
 "cells": [
  {
   "cell_type": "markdown",
   "id": "d04fe879",
   "metadata": {},
   "source": [
    "# **Cấu trúc điều kiện**\n",
    "\n",
    "Trong R có một số cấu trúc điều kiện chính để kiểm soát luồng chương trình:\n",
    "## **1. `if` – `else`**\n",
    "\n",
    "Trong R, cấu trúc rẽ nhánh `if ... else ...` được dùng để **kiểm tra điều kiện** và thực thi lệnh tương ứng.\n",
    "\n",
    "### Cú pháp\n",
    "\n",
    "```r\n",
    "if (<điều_kiện>) {\n",
    "    # khối lệnh khi <điều_kiện> đúng (TRUE)\n",
    "} else {\n",
    "    # khối lệnh khi <điều_kiện> sai (FALSE)\n",
    "}\n",
    "```\n",
    "\n",
    "* `<điều_kiện>`: phải trả về giá trị logic (`TRUE` hoặc `FALSE`).\n",
    "* Nếu điều kiện đúng → R thực hiện khối lệnh trong `if`.\n",
    "* Nếu sai → R thực hiện khối lệnh trong `else`."
   ]
  },
  {
   "cell_type": "code",
   "execution_count": 1,
   "id": "c7a2dd30",
   "metadata": {
    "vscode": {
     "languageId": "r"
    }
   },
   "outputs": [
    {
     "name": "stdout",
     "output_type": "stream",
     "text": [
      "[1] \"x dương\"\n"
     ]
    }
   ],
   "source": [
    "x <- 5\n",
    "\n",
    "if (x > 0) {\n",
    "    print(\"x dương\")\n",
    "} else {\n",
    "    print(\"x không dương\")\n",
    "}"
   ]
  },
  {
   "cell_type": "markdown",
   "id": "3a1404e0",
   "metadata": {},
   "source": [
    "### Trường hợp một dòng (inline)\n",
    "\n",
    "Nếu khối lệnh chỉ có một câu lệnh, có thể viết gọn:\n",
    "\n",
    "```r\n",
    "if (<điều_kiện>) khối lệnh khi <điều_kiện> đúng (TRUE) else khối lệnh khi <điều_kiện> sai (FALSE)\n",
    "```"
   ]
  },
  {
   "cell_type": "code",
   "execution_count": 2,
   "id": "55199242",
   "metadata": {
    "vscode": {
     "languageId": "r"
    }
   },
   "outputs": [
    {
     "name": "stdout",
     "output_type": "stream",
     "text": [
      "[1] \"x không dương\"\n"
     ]
    }
   ],
   "source": [
    "x <- -10\n",
    "if (x > 0) print(\"x dương\") else print(\"x không dương\")"
   ]
  },
  {
   "cell_type": "markdown",
   "id": "217fb589",
   "metadata": {},
   "source": [
    "\n",
    "---\n",
    "\n",
    "## **2. `if ... else if ... else`**\n",
    "\n",
    "Dùng để **xử lý nhiều điều kiện nối tiếp**, kiểm tra lần lượt từ trên xuống.\n",
    "\n",
    "### **Cú pháp**\n",
    "\n",
    "```r\n",
    "if (<điều_kiện1>) {\n",
    "    # khối lệnh khi <điều_kiện1> đúng\n",
    "} else if (<điều_kiện2>) {\n",
    "    # khối lệnh khi <điều_kiện2> đúng\n",
    "} else if (<điều_kiện3>) {\n",
    "    # khối lệnh khi <điều_kiện3> đúng\n",
    "} else {\n",
    "    # khối lệnh mặc định khi tất cả đều sai\n",
    "}\n",
    "```\n",
    "\n",
    "* R sẽ kiểm tra `<điều_kiện1>`. Nếu đúng → chạy lệnh và bỏ qua phần còn lại.\n",
    "* Nếu sai → tiếp tục kiểm tra `<điều_kiện2>`, rồi `<điều_kiện3>`, ...\n",
    "* Nếu tất cả đều sai → chạy khối `else`."
   ]
  },
  {
   "cell_type": "code",
   "execution_count": 3,
   "id": "f1a49699",
   "metadata": {
    "vscode": {
     "languageId": "r"
    }
   },
   "outputs": [
    {
     "name": "stdout",
     "output_type": "stream",
     "text": [
      "[1] \"x bằng 0\"\n"
     ]
    }
   ],
   "source": [
    "x <- 0\n",
    "\n",
    "if (x > 0) {\n",
    "    print(\"x dương\")\n",
    "} else if (x < 0) {\n",
    "    print(\"x âm\")\n",
    "} else {\n",
    "    print(\"x bằng 0\")\n",
    "}\n"
   ]
  },
  {
   "cell_type": "markdown",
   "id": "ea221dc5",
   "metadata": {},
   "source": [
    "## **3. `ifelse()` (vector hóa)**\n",
    "\n",
    "Hàm `ifelse()` dùng để **xử lý điều kiện trên toàn bộ vector**, thay vì chỉ một giá trị như `if`.\n",
    "\n",
    "### **Cú pháp**\n",
    "\n",
    "```r\n",
    "ifelse(điều_kiện, giá_trị_nếu_đúng, giá_trị_nếu_sai)\n",
    "```\n",
    "\n",
    "* `điều_kiện`: một vector logic (`TRUE`/`FALSE`).\n",
    "* `giá_trị_nếu_đúng`: trả về cho các phần tử thỏa điều kiện.\n",
    "* `giá_trị_nếu_sai`: trả về cho các phần tử không thỏa điều kiện."
   ]
  },
  {
   "cell_type": "code",
   "execution_count": 4,
   "id": "f7530dbd",
   "metadata": {
    "vscode": {
     "languageId": "r"
    }
   },
   "outputs": [
    {
     "name": "stdout",
     "output_type": "stream",
     "text": [
      "[1] \"không dương\" \"không dương\" \"dương\"       \"dương\"      \n"
     ]
    }
   ],
   "source": [
    "x <- c(-2, 0, 3, 5)\n",
    "\n",
    "res <- ifelse(x > 0, \"dương\", \"không dương\")\n",
    "print(res)"
   ]
  },
  {
   "cell_type": "markdown",
   "id": "8aa77010",
   "metadata": {},
   "source": [
    "* Từng phần tử của vector `x` được kiểm tra riêng.\n",
    "* Trả về một vector cùng chiều với `x`."
   ]
  },
  {
   "cell_type": "markdown",
   "id": "dee42499",
   "metadata": {},
   "source": [
    "## **4. `switch()`**\n",
    "\n",
    "Hàm `switch()` dùng để **chọn một giá trị trong nhiều lựa chọn cố định**, dựa trên giá trị của một biểu thức.\n",
    "\n",
    "---\n",
    "\n",
    "### **Cú pháp cơ bản**\n",
    "\n",
    "```r\n",
    "switch(biểu_thức,\n",
    "       lựa_chọn1 = giá_trị1,\n",
    "       lựa_chọn2 = giá_trị2,\n",
    "       lựa_chọn3 = giá_trị3,\n",
    "       ...\n",
    ")\n",
    "```\n",
    "\n",
    "* `biểu_thức` có thể là **số nguyên** hoặc **chuỗi ký tự**.\n",
    "* R trả về giá trị tương ứng với lựa chọn khớp.\n",
    "* Nếu không khớp → trả về `NULL` (nếu không có giá trị mặc định)."
   ]
  },
  {
   "cell_type": "code",
   "execution_count": 5,
   "id": "4123164c",
   "metadata": {
    "vscode": {
     "languageId": "r"
    }
   },
   "outputs": [
    {
     "name": "stdout",
     "output_type": "stream",
     "text": [
      "[1] \"Học Lý\"\n"
     ]
    }
   ],
   "source": [
    "ngay <- \"Thứ 3\"\n",
    "\n",
    "res <- switch(ngay,\n",
    "       \"Thứ 2\" = \"Học Toán\",\n",
    "       \"Thứ 3\" = \"Học Lý\",\n",
    "       \"Thứ 4\" = \"Học Hóa\",\n",
    "       \"Không có lịch học\"\n",
    ")\n",
    "\n",
    "print(res)"
   ]
  },
  {
   "cell_type": "code",
   "execution_count": 6,
   "id": "1ff0e863",
   "metadata": {
    "vscode": {
     "languageId": "r"
    }
   },
   "outputs": [
    {
     "name": "stdout",
     "output_type": "stream",
     "text": [
      "[1] \"Hai\"\n"
     ]
    }
   ],
   "source": [
    "res <- switch(2,\n",
    "       \"Một\",\n",
    "       \"Hai\",\n",
    "       \"Ba\"\n",
    ")\n",
    "print(res)"
   ]
  },
  {
   "cell_type": "markdown",
   "id": "c58a06c9",
   "metadata": {},
   "source": [
    "> Giá trị số nguyên chỉ định **vị trí của lựa chọn** (2 → \"Hai\")."
   ]
  },
  {
   "cell_type": "markdown",
   "id": "4234c54f",
   "metadata": {},
   "source": [
    "## **5. `any()` và `all()`**\n",
    "\n",
    "Hai hàm này dùng để **kiểm tra điều kiện trên toàn bộ vector**:\n",
    "\n",
    "\n",
    "### **Cú pháp**\n",
    "\n",
    "```r\n",
    "any(vector_logic)   # TRUE nếu ít nhất 1 phần tử TRUE\n",
    "all(vector_logic)   # TRUE nếu tất cả phần tử TRUE\n",
    "```\n",
    "\n",
    "* `vector_logic`: một vector gồm các giá trị TRUE/FALSE."
   ]
  },
  {
   "cell_type": "code",
   "execution_count": 7,
   "id": "50cd66c8",
   "metadata": {
    "vscode": {
     "languageId": "r"
    }
   },
   "outputs": [
    {
     "name": "stdout",
     "output_type": "stream",
     "text": [
      "[1] TRUE\n",
      "[1] TRUE\n",
      "[1] FALSE\n"
     ]
    }
   ],
   "source": [
    "x <- c(1, 2, 3, 4, 5)\n",
    "\n",
    "print(any(x > 4))   # TRUE, vì có 5 > 4\n",
    "print(all(x > 0))   # TRUE, tất cả > 0\n",
    "print(all(x > 3))   # FALSE, vì 1,2,3 không > 3"
   ]
  },
  {
   "cell_type": "markdown",
   "id": "f77961cc",
   "metadata": {},
   "source": [
    "* `any()` → kiểm tra **ít nhất 1 phần tử** thỏa điều kiện.\n",
    "* `all()` → kiểm tra **tất cả phần tử** thỏa điều kiện."
   ]
  },
  {
   "cell_type": "markdown",
   "id": "e4f28a2c",
   "metadata": {},
   "source": [
    "# **Cấu trúc lặp**\n",
    "\n",
    "Trong R có nhiều cấu trúc lặp để thực hiện các thao tác lặp đi lặp lại:\n",
    "\n",
    "## **Vòng lặp for**\n",
    "Dùng để lặp qua một dãy giá trị.\n",
    "\n",
    "Cú pháp\n",
    "\n",
    "```r\n",
    "for (<variables> in <vector>){\n",
    "    <body>\n",
    "}\n",
    "```\n",
    "\n",
    "Trong đó:\n",
    "* `variables`: biến tạm dùng để nhận giá trị từng phần tử của vector trong mỗi vòng lặp.\n",
    "* `vector`: dãy giá trị mà vòng lặp sẽ đi qua (có thể là vector số, vector ký tự, danh sách…).\n",
    "* `body`: khối lệnh sẽ thực thi cho mỗi giá trị của `variables`.\n",
    "\n",
    "Ví dụ"
   ]
  },
  {
   "cell_type": "code",
   "execution_count": 8,
   "id": "f6606477",
   "metadata": {
    "vscode": {
     "languageId": "r"
    }
   },
   "outputs": [
    {
     "name": "stdout",
     "output_type": "stream",
     "text": [
      "[1] 1\n",
      "[1] 2\n",
      "[1] 3\n",
      "[1] 4\n",
      "[1] 5\n"
     ]
    }
   ],
   "source": [
    "for (i in 1:5) {\n",
    "    print(i)\n",
    "}"
   ]
  },
  {
   "cell_type": "code",
   "execution_count": 9,
   "id": "335e391f",
   "metadata": {
    "vscode": {
     "languageId": "r"
    }
   },
   "outputs": [
    {
     "name": "stdout",
     "output_type": "stream",
     "text": [
      "[1] 1\n",
      "[1] 3\n",
      "[1] 5\n",
      "[1] 7\n",
      "[1] 9\n"
     ]
    }
   ],
   "source": [
    "for (i in seq(1, 10, 2)) {\n",
    "    print(i)\n",
    "}"
   ]
  },
  {
   "cell_type": "markdown",
   "id": "5d8c2c58",
   "metadata": {},
   "source": [
    "## **Vòng lặp while**\n",
    "\n",
    "Vòng lặp `while` lặp lại **miễn là điều kiện còn đúng**.\n",
    "\n",
    "Cú pháp:\n",
    "\n",
    "```r\n",
    "while (<condition>) {\n",
    "    <body>\n",
    "}\n",
    "```\n",
    "\n",
    "Trong đó:\n",
    "\n",
    "* `condition`: điều kiện logic; vòng lặp tiếp tục khi giá trị là `TRUE`.\n",
    "* `body`: khối lệnh sẽ thực thi trong mỗi vòng lặp.\n",
    "\n",
    "Ví dụ minh họa:"
   ]
  },
  {
   "cell_type": "code",
   "execution_count": 10,
   "id": "35a9201e",
   "metadata": {
    "vscode": {
     "languageId": "r"
    }
   },
   "outputs": [
    {
     "name": "stdout",
     "output_type": "stream",
     "text": [
      "[1] 1\n",
      "[1] 2\n",
      "[1] 3\n",
      "[1] 4\n",
      "[1] 5\n"
     ]
    }
   ],
   "source": [
    "x <- 1\n",
    "while (x <= 5) {\n",
    "    print(x)\n",
    "    x <- x + 1\n",
    "}"
   ]
  },
  {
   "cell_type": "markdown",
   "id": "0c3b5dac",
   "metadata": {},
   "source": [
    "## **Vòng lặp repeat**\n",
    "\n",
    "Vòng lặp `repeat` lặp đi lặp lại **vô hạn** cho đến khi gặp lệnh `break`.\n",
    "\n",
    "Cú pháp:\n",
    "\n",
    "```r\n",
    "repeat {\n",
    "    <body>\n",
    "    if (<condition>) break\n",
    "}\n",
    "```\n",
    "\n",
    "Trong đó:\n",
    "\n",
    "* `<body>`: khối lệnh sẽ thực thi liên tục.\n",
    "* `<condition>`: điều kiện dừng; khi `TRUE`, vòng lặp kết thúc nhờ `break`.\n",
    "\n",
    "Ví dụ minh họa:"
   ]
  },
  {
   "cell_type": "code",
   "execution_count": 11,
   "id": "b9a643f8",
   "metadata": {
    "vscode": {
     "languageId": "r"
    }
   },
   "outputs": [
    {
     "name": "stdout",
     "output_type": "stream",
     "text": [
      "[1] 1\n",
      "[1] 2\n",
      "[1] 3\n",
      "[1] 4\n",
      "[1] 5\n"
     ]
    }
   ],
   "source": [
    "x <- 1\n",
    "repeat {\n",
    "    print(x)\n",
    "    x <- x + 1\n",
    "    if (x > 5) break\n",
    "}"
   ]
  },
  {
   "cell_type": "markdown",
   "id": "269dab13",
   "metadata": {},
   "source": [
    "## **Sử dụng `break` và `next` trong vòng lặp**\n",
    "\n",
    "* **`break`**: thoát hẳn khỏi vòng lặp, kết thúc việc lặp.\n",
    "* **`next`**: bỏ qua vòng hiện tại, tiếp tục với vòng kế tiếp.\n",
    "\n",
    "Ví dụ minh họa:"
   ]
  },
  {
   "cell_type": "code",
   "execution_count": 12,
   "id": "9b07d659",
   "metadata": {
    "vscode": {
     "languageId": "r"
    }
   },
   "outputs": [
    {
     "name": "stdout",
     "output_type": "stream",
     "text": [
      "[1] 1\n",
      "[1] 2\n",
      "[1] 4\n"
     ]
    }
   ],
   "source": [
    "for (i in 1:10) {\n",
    "    if (i == 3) {  # bỏ qua i = 3\n",
    "        next\n",
    "    }  \n",
    "    else if (i == 5) { # dừng vòng lặp khi i = 5\n",
    "        break\n",
    "    }\n",
    "    print(i)\n",
    "}\n",
    "# Kết quả in ra: 1 2 4"
   ]
  }
 ],
 "metadata": {
  "kernelspec": {
   "display_name": "R",
   "language": "R",
   "name": "ir"
  },
  "language_info": {
   "codemirror_mode": "r",
   "file_extension": ".r",
   "mimetype": "text/x-r-source",
   "name": "R",
   "pygments_lexer": "r",
   "version": "4.5.1"
  }
 },
 "nbformat": 4,
 "nbformat_minor": 5
}
