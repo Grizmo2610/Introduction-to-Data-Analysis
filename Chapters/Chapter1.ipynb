{
 "cells": [
  {
   "cell_type": "markdown",
   "id": "894fa841",
   "metadata": {},
   "source": [
    "# **Một số Phép toán trong R**\n",
    "\n",
    "Trong R (và các ngôn ngữ lập trình khác), toán tử là những ký hiệu hoặc từ khóa đặc biệt dùng để thực hiện phép tính hay thao tác trên dữ liệu.\n",
    "\n",
    "Nếu ví dụ ngoài đời:\n",
    "\n",
    "* Dấu + là toán tử để cộng.\n",
    "* Dấu - là toán tử để trừ.\n",
    "\n",
    "Tương tự, trong R cũng có các toán tử như vậy, nhưng ngoài cộng, trừ còn có nhiều loại hơn.\n",
    "\n",
    "## **Các phép toán cơ bản trong R**\n",
    "\n",
    "* Phép cộng `+`:"
   ]
  },
  {
   "cell_type": "code",
   "execution_count": 1,
   "id": "c8e1d49f",
   "metadata": {
    "vscode": {
     "languageId": "r"
    }
   },
   "outputs": [
    {
     "data": {
      "text/html": [
       "357"
      ],
      "text/latex": [
       "357"
      ],
      "text/markdown": [
       "357"
      ],
      "text/plain": [
       "[1] 357"
      ]
     },
     "metadata": {},
     "output_type": "display_data"
    }
   ],
   "source": [
    "123 + 234   # 357"
   ]
  },
  {
   "cell_type": "markdown",
   "id": "c52dcdec",
   "metadata": {},
   "source": [
    "* Phép trừ `-`:"
   ]
  },
  {
   "cell_type": "code",
   "execution_count": 2,
   "id": "d794f33d",
   "metadata": {
    "vscode": {
     "languageId": "r"
    }
   },
   "outputs": [
    {
     "data": {
      "text/html": [
       "2702"
      ],
      "text/latex": [
       "2702"
      ],
      "text/markdown": [
       "2702"
      ],
      "text/plain": [
       "[1] 2702"
      ]
     },
     "metadata": {},
     "output_type": "display_data"
    }
   ],
   "source": [
    "3234 - 532 # 2702"
   ]
  },
  {
   "cell_type": "markdown",
   "id": "a95a9280",
   "metadata": {},
   "source": [
    "* Phép nhân `*`:"
   ]
  },
  {
   "cell_type": "code",
   "execution_count": 3,
   "id": "7e3d67c6",
   "metadata": {
    "vscode": {
     "languageId": "r"
    }
   },
   "outputs": [
    {
     "data": {
      "text/html": [
       "56088"
      ],
      "text/latex": [
       "56088"
      ],
      "text/markdown": [
       "56088"
      ],
      "text/plain": [
       "[1] 56088"
      ]
     },
     "metadata": {},
     "output_type": "display_data"
    }
   ],
   "source": [
    "123 * 456   # 56088"
   ]
  },
  {
   "cell_type": "markdown",
   "id": "f101f131",
   "metadata": {},
   "source": [
    "* Phép chia `/`:"
   ]
  },
  {
   "cell_type": "code",
   "execution_count": 4,
   "id": "ba58e13f",
   "metadata": {
    "vscode": {
     "languageId": "r"
    }
   },
   "outputs": [
    {
     "data": {
      "text/html": [
       "4"
      ],
      "text/latex": [
       "4"
      ],
      "text/markdown": [
       "4"
      ],
      "text/plain": [
       "[1] 4"
      ]
     },
     "metadata": {},
     "output_type": "display_data"
    }
   ],
   "source": [
    "100 / 25    # 4"
   ]
  },
  {
   "cell_type": "markdown",
   "id": "126211af",
   "metadata": {},
   "source": [
    "* Lũy thừa `^`:"
   ]
  },
  {
   "cell_type": "code",
   "execution_count": 5,
   "id": "eb61947b",
   "metadata": {
    "vscode": {
     "languageId": "r"
    }
   },
   "outputs": [
    {
     "data": {
      "text/html": [
       "8"
      ],
      "text/latex": [
       "8"
      ],
      "text/markdown": [
       "8"
      ],
      "text/plain": [
       "[1] 8"
      ]
     },
     "metadata": {},
     "output_type": "display_data"
    }
   ],
   "source": [
    "2 ^ 3       # 8"
   ]
  },
  {
   "cell_type": "markdown",
   "id": "09a7bcf4",
   "metadata": {},
   "source": [
    "* Chia lấy phần nguyên `%/%`:"
   ]
  },
  {
   "cell_type": "code",
   "execution_count": 6,
   "id": "712dfe64",
   "metadata": {
    "vscode": {
     "languageId": "r"
    }
   },
   "outputs": [
    {
     "data": {
      "text/html": [
       "3"
      ],
      "text/latex": [
       "3"
      ],
      "text/markdown": [
       "3"
      ],
      "text/plain": [
       "[1] 3"
      ]
     },
     "metadata": {},
     "output_type": "display_data"
    }
   ],
   "source": [
    "10 %/% 3    # 3"
   ]
  },
  {
   "cell_type": "markdown",
   "id": "b20ecd4a",
   "metadata": {},
   "source": [
    "* Chia lấy phần dư `%%`:"
   ]
  },
  {
   "cell_type": "code",
   "execution_count": 7,
   "id": "80951557",
   "metadata": {
    "vscode": {
     "languageId": "r"
    }
   },
   "outputs": [
    {
     "data": {
      "text/html": [
       "1"
      ],
      "text/latex": [
       "1"
      ],
      "text/markdown": [
       "1"
      ],
      "text/plain": [
       "[1] 1"
      ]
     },
     "metadata": {},
     "output_type": "display_data"
    }
   ],
   "source": [
    "10 %% 3     # 1"
   ]
  },
  {
   "cell_type": "markdown",
   "id": "546b214c",
   "metadata": {},
   "source": [
    "---\n",
    "\n",
    "## **Các phép toán logic trong R**\n",
    "\n",
    "* Toán tử **và** - `&&` hoặc `&`:"
   ]
  },
  {
   "cell_type": "code",
   "execution_count": 8,
   "id": "45513f44",
   "metadata": {
    "vscode": {
     "languageId": "r"
    }
   },
   "outputs": [
    {
     "data": {
      "text/html": [
       "FALSE"
      ],
      "text/latex": [
       "FALSE"
      ],
      "text/markdown": [
       "FALSE"
      ],
      "text/plain": [
       "[1] FALSE"
      ]
     },
     "metadata": {},
     "output_type": "display_data"
    },
    {
     "data": {
      "text/html": [
       "FALSE"
      ],
      "text/latex": [
       "FALSE"
      ],
      "text/markdown": [
       "FALSE"
      ],
      "text/plain": [
       "[1] FALSE"
      ]
     },
     "metadata": {},
     "output_type": "display_data"
    }
   ],
   "source": [
    "TRUE & FALSE    # FALSE\n",
    "TRUE && FALSE   # FALSE"
   ]
  },
  {
   "cell_type": "markdown",
   "id": "e5456a5d",
   "metadata": {},
   "source": [
    "* Toán tử hoặc - `||` hoặc `|`:"
   ]
  },
  {
   "cell_type": "code",
   "execution_count": 9,
   "id": "6c7399d0",
   "metadata": {
    "vscode": {
     "languageId": "r"
    }
   },
   "outputs": [
    {
     "data": {
      "text/html": [
       "TRUE"
      ],
      "text/latex": [
       "TRUE"
      ],
      "text/markdown": [
       "TRUE"
      ],
      "text/plain": [
       "[1] TRUE"
      ]
     },
     "metadata": {},
     "output_type": "display_data"
    },
    {
     "data": {
      "text/html": [
       "TRUE"
      ],
      "text/latex": [
       "TRUE"
      ],
      "text/markdown": [
       "TRUE"
      ],
      "text/plain": [
       "[1] TRUE"
      ]
     },
     "metadata": {},
     "output_type": "display_data"
    }
   ],
   "source": [
    "TRUE | FALSE    # TRUE\n",
    "TRUE || FALSE   # TRUE"
   ]
  },
  {
   "cell_type": "markdown",
   "id": "70e160a8",
   "metadata": {},
   "source": [
    "* Phép phủ định `!`:"
   ]
  },
  {
   "cell_type": "code",
   "execution_count": 10,
   "id": "fa19339d",
   "metadata": {
    "vscode": {
     "languageId": "r"
    }
   },
   "outputs": [
    {
     "data": {
      "text/html": [
       "FALSE"
      ],
      "text/latex": [
       "FALSE"
      ],
      "text/markdown": [
       "FALSE"
      ],
      "text/plain": [
       "[1] FALSE"
      ]
     },
     "metadata": {},
     "output_type": "display_data"
    },
    {
     "data": {
      "text/html": [
       "TRUE"
      ],
      "text/latex": [
       "TRUE"
      ],
      "text/markdown": [
       "TRUE"
      ],
      "text/plain": [
       "[1] TRUE"
      ]
     },
     "metadata": {},
     "output_type": "display_data"
    }
   ],
   "source": [
    "!TRUE   # FALSE\n",
    "!FALSE  # TRUE"
   ]
  },
  {
   "cell_type": "markdown",
   "id": "318f9f5b",
   "metadata": {},
   "source": [
    "\n",
    "---\n",
    "\n",
    "## **Các phép toán so sánh**\n",
    "\n",
    "* So sánh bằng:"
   ]
  },
  {
   "cell_type": "code",
   "execution_count": 11,
   "id": "c73d390f",
   "metadata": {
    "vscode": {
     "languageId": "r"
    }
   },
   "outputs": [
    {
     "data": {
      "text/html": [
       "TRUE"
      ],
      "text/latex": [
       "TRUE"
      ],
      "text/markdown": [
       "TRUE"
      ],
      "text/plain": [
       "[1] TRUE"
      ]
     },
     "metadata": {},
     "output_type": "display_data"
    },
    {
     "data": {
      "text/html": [
       "FALSE"
      ],
      "text/latex": [
       "FALSE"
      ],
      "text/markdown": [
       "FALSE"
      ],
      "text/plain": [
       "[1] FALSE"
      ]
     },
     "metadata": {},
     "output_type": "display_data"
    }
   ],
   "source": [
    "5 == 5   # TRUE\n",
    "5 == 6   # FALSE"
   ]
  },
  {
   "cell_type": "markdown",
   "id": "1086dfe3",
   "metadata": {},
   "source": [
    "* Khác:"
   ]
  },
  {
   "cell_type": "code",
   "execution_count": 12,
   "id": "50a07267",
   "metadata": {
    "vscode": {
     "languageId": "r"
    }
   },
   "outputs": [
    {
     "data": {
      "text/html": [
       "TRUE"
      ],
      "text/latex": [
       "TRUE"
      ],
      "text/markdown": [
       "TRUE"
      ],
      "text/plain": [
       "[1] TRUE"
      ]
     },
     "metadata": {},
     "output_type": "display_data"
    }
   ],
   "source": [
    "5 != 6   # TRUE"
   ]
  },
  {
   "cell_type": "markdown",
   "id": "5a70a31f",
   "metadata": {},
   "source": [
    "* Lớn hơn / Nhỏ hơn:"
   ]
  },
  {
   "cell_type": "code",
   "execution_count": 13,
   "id": "ad587837",
   "metadata": {
    "vscode": {
     "languageId": "r"
    }
   },
   "outputs": [
    {
     "data": {
      "text/html": [
       "TRUE"
      ],
      "text/latex": [
       "TRUE"
      ],
      "text/markdown": [
       "TRUE"
      ],
      "text/plain": [
       "[1] TRUE"
      ]
     },
     "metadata": {},
     "output_type": "display_data"
    },
    {
     "data": {
      "text/html": [
       "FALSE"
      ],
      "text/latex": [
       "FALSE"
      ],
      "text/markdown": [
       "FALSE"
      ],
      "text/plain": [
       "[1] FALSE"
      ]
     },
     "metadata": {},
     "output_type": "display_data"
    }
   ],
   "source": [
    "5 > 2    # TRUE\n",
    "5 < 2    # FALSE"
   ]
  },
  {
   "cell_type": "markdown",
   "id": "4fbb121c",
   "metadata": {},
   "source": [
    "* Lớn hơn hoặc bằng / Nhỏ hơn hoặc bằng:"
   ]
  },
  {
   "cell_type": "code",
   "execution_count": 14,
   "id": "967a4c9f",
   "metadata": {
    "vscode": {
     "languageId": "r"
    }
   },
   "outputs": [
    {
     "data": {
      "text/html": [
       "TRUE"
      ],
      "text/latex": [
       "TRUE"
      ],
      "text/markdown": [
       "TRUE"
      ],
      "text/plain": [
       "[1] TRUE"
      ]
     },
     "metadata": {},
     "output_type": "display_data"
    },
    {
     "data": {
      "text/html": [
       "TRUE"
      ],
      "text/latex": [
       "TRUE"
      ],
      "text/markdown": [
       "TRUE"
      ],
      "text/plain": [
       "[1] TRUE"
      ]
     },
     "metadata": {},
     "output_type": "display_data"
    }
   ],
   "source": [
    "5 >= 5   # TRUE\n",
    "4 <= 6   # TRUE"
   ]
  },
  {
   "cell_type": "markdown",
   "id": "1faee282",
   "metadata": {},
   "source": [
    "---\n",
    "\n",
    "> Ngoại trừ toán tử `&&` và `||`, các toán tử khác trong R đều có tính **“vectơ hóa”** (vectorized). Ví dụ:"
   ]
  },
  {
   "cell_type": "code",
   "execution_count": 15,
   "id": "8267723b",
   "metadata": {
    "vscode": {
     "languageId": "r"
    }
   },
   "outputs": [
    {
     "name": "stdout",
     "output_type": "stream",
     "text": [
      "[1] 5 7 9\n",
      "[1]  TRUE FALSE FALSE\n"
     ]
    }
   ],
   "source": [
    "print(c(1, 2, 3) + c(4, 5, 6))   # 5 7 9\n",
    "print(c(1, 2, 3) > c(0, 2, 5))   # TRUE FALSE FALSE"
   ]
  },
  {
   "cell_type": "markdown",
   "id": "fcc035a3",
   "metadata": {},
   "source": [
    "# **Các kiểu dữ liệu trong R**\n",
    "\n",
    "## **Biến và gán dữ liệu trong R**\n",
    "\n",
    "Trong R, để gán giá trị cho một biến có thể dùng các toán tử `=` hoặc `<-` hoặc `->`.\n",
    "\n",
    "Tên biến trong R phân biệt chữ hoa và chữ thường (`Var1` khác với `var1`)."
   ]
  },
  {
   "cell_type": "code",
   "execution_count": 16,
   "id": "0ffef29a",
   "metadata": {
    "vscode": {
     "languageId": "r"
    }
   },
   "outputs": [
    {
     "name": "stdout",
     "output_type": "stream",
     "text": [
      "[1] 30\n"
     ]
    }
   ],
   "source": [
    "x <- 10\n",
    "y = 20\n",
    "x + y -> z\n",
    "print(z)"
   ]
  },
  {
   "cell_type": "markdown",
   "id": "ddbe92b0",
   "metadata": {},
   "source": [
    "\n",
    "---\n",
    "\n",
    "## **Logical**\n",
    "\n",
    "Kiểu **logical** chỉ có hai giá trị: `TRUE` hoặc `FALSE`."
   ]
  },
  {
   "cell_type": "code",
   "execution_count": 17,
   "id": "30cdfafd",
   "metadata": {
    "vscode": {
     "languageId": "r"
    }
   },
   "outputs": [
    {
     "name": "stdout",
     "output_type": "stream",
     "text": [
      "[1] TRUE\n",
      "[1] \"logical\"\n",
      "[1] TRUE\n"
     ]
    }
   ],
   "source": [
    "v <- TRUE\n",
    "print(v)\n",
    "print(class(v))   # \"logical\"\n",
    "\n",
    "a <- (5 > 3)\n",
    "print(a)          # TRUE"
   ]
  },
  {
   "cell_type": "markdown",
   "id": "150ebd7f",
   "metadata": {},
   "source": [
    "--- \n",
    "\n",
    "## **Numeric**\n",
    "\n",
    "Kiểu **numeric** biểu diễn số thực (decimal). Đây là kiểu số mặc định trong R."
   ]
  },
  {
   "cell_type": "code",
   "execution_count": 18,
   "id": "f03f8d43",
   "metadata": {
    "vscode": {
     "languageId": "r"
    }
   },
   "outputs": [
    {
     "name": "stdout",
     "output_type": "stream",
     "text": [
      "[1] 12.3\n"
     ]
    },
    {
     "name": "stdout",
     "output_type": "stream",
     "text": [
      "[1] \"numeric\"\n"
     ]
    }
   ],
   "source": [
    "v <- 12.3\n",
    "print(v)\n",
    "print(class(v))   # \"numeric\""
   ]
  },
  {
   "cell_type": "markdown",
   "id": "f591b731",
   "metadata": {},
   "source": [
    "\n",
    "---\n",
    "\n",
    "## **Integer**\n",
    "\n",
    "Để khai báo số nguyên, thêm hậu tố `L` sau số."
   ]
  },
  {
   "cell_type": "code",
   "execution_count": 19,
   "id": "cffa89f1",
   "metadata": {
    "vscode": {
     "languageId": "r"
    }
   },
   "outputs": [
    {
     "name": "stdout",
     "output_type": "stream",
     "text": [
      "[1] 10\n",
      "[1] \"integer\"\n"
     ]
    }
   ],
   "source": [
    "v <- 10L\n",
    "print(v)\n",
    "print(class(v))   # \"integer\""
   ]
  },
  {
   "cell_type": "markdown",
   "id": "9f7a3538",
   "metadata": {},
   "source": [
    "\n",
    "---\n",
    "\n",
    "## **Complex**\n",
    "\n",
    "Kiểu **complex** dùng để biểu diễn số phức với phần thực và phần ảo."
   ]
  },
  {
   "cell_type": "code",
   "execution_count": 20,
   "id": "c02dc216",
   "metadata": {
    "vscode": {
     "languageId": "r"
    }
   },
   "outputs": [
    {
     "name": "stdout",
     "output_type": "stream",
     "text": [
      "[1] 2+3i\n",
      "[1] \"complex\"\n"
     ]
    }
   ],
   "source": [
    "v <- 2 + 3i\n",
    "print(v)\n",
    "print(class(v))   # \"complex\""
   ]
  },
  {
   "cell_type": "markdown",
   "id": "ade8f21f",
   "metadata": {},
   "source": [
    "\n",
    "---\n",
    "\n",
    "## **Character**\n",
    "\n",
    "Kiểu **character** biểu diễn chuỗi ký tự."
   ]
  },
  {
   "cell_type": "code",
   "execution_count": 21,
   "id": "84868dc8",
   "metadata": {
    "vscode": {
     "languageId": "r"
    }
   },
   "outputs": [
    {
     "name": "stdout",
     "output_type": "stream",
     "text": [
      "[1] \"Hello R\"\n",
      "[1] \"character\"\n"
     ]
    }
   ],
   "source": [
    "v <- \"Hello R\"\n",
    "print(v)\n",
    "print(class(v))   # \"character\""
   ]
  },
  {
   "cell_type": "markdown",
   "id": "1e7a721a",
   "metadata": {},
   "source": [
    "\n",
    "---\n",
    "\n",
    "## **Raw**\n",
    "\n",
    "Kiểu **raw** biểu diễn dữ liệu thô dưới dạng mã hex.\n"
   ]
  },
  {
   "cell_type": "code",
   "execution_count": 22,
   "id": "1a2a1bf0",
   "metadata": {
    "vscode": {
     "languageId": "r"
    }
   },
   "outputs": [
    {
     "name": "stdout",
     "output_type": "stream",
     "text": [
      "[1] 48 65 6c 6c 6f\n",
      "[1] \"raw\"\n"
     ]
    },
    {
     "data": {
      "text/html": [
       "'Hello'"
      ],
      "text/latex": [
       "'Hello'"
      ],
      "text/markdown": [
       "'Hello'"
      ],
      "text/plain": [
       "[1] \"Hello\""
      ]
     },
     "metadata": {},
     "output_type": "display_data"
    },
    {
     "data": {
      "text/plain": [
       "[1] 48 65 6c 6c 6f"
      ]
     },
     "metadata": {},
     "output_type": "display_data"
    }
   ],
   "source": [
    "# Tạo raw từ số\n",
    "v <- as.raw(c(0x48, 0x65, 0x6c, 0x6c, 0x6f))\n",
    "print(v)          # 48 65 6c 6c 6f\n",
    "print(class(v))   # \"raw\"\n",
    "\n",
    "# Chuyển raw về chuỗi\n",
    "rawToChar(v)      # \"Hello\"\n",
    "\n",
    "# Ngược lại: chuỗi sang raw\n",
    "charToRaw(\"Hello\")  # 48 65 6c 6c 6f"
   ]
  },
  {
   "cell_type": "markdown",
   "id": "a191583a",
   "metadata": {},
   "source": [
    "\n",
    "---\n",
    "\n",
    "# **Các cấu trúc dữ liệu trong R**\n",
    "\n",
    "## **vector**\n",
    "\n",
    "Là một mảng dùng để lưu trữ các dữ liệu có cùng kiểu với nhau. Để tạo một vector, ta sử dụng hàm `c()` hoặc sử dụng toán tử `:` (Đối với các phần tử là số nguyên liên tiếp)"
   ]
  },
  {
   "cell_type": "code",
   "execution_count": 23,
   "id": "a4e8b9f9",
   "metadata": {
    "vscode": {
     "languageId": "r"
    }
   },
   "outputs": [
    {
     "name": "stdout",
     "output_type": "stream",
     "text": [
      "[1] 1 3 5 7 8\n",
      "[1] 1 2 3 4 5 6 7 8 9\n"
     ]
    }
   ],
   "source": [
    "# x là một vector\n",
    "x <- c(1, 3, 5, 7, 8)\n",
    "print(x)\n",
    "\n",
    "y <- 1:9\n",
    "print(y)"
   ]
  },
  {
   "cell_type": "markdown",
   "id": "c7aac229",
   "metadata": {
    "vscode": {
     "languageId": "r"
    }
   },
   "source": [
    "Để lấy giá trị một phần tử trong vector, ta sử dụng cú pháp sau:"
   ]
  },
  {
   "cell_type": "code",
   "execution_count": 24,
   "id": "1edc0138",
   "metadata": {
    "vscode": {
     "languageId": "r"
    }
   },
   "outputs": [
    {
     "name": "stdout",
     "output_type": "stream",
     "text": [
      "[1] 3\n",
      "[1] 3 5 7 8\n"
     ]
    },
    {
     "name": "stdout",
     "output_type": "stream",
     "text": [
      "[1] 7 8\n",
      "[1] 1 3 8\n",
      "[1] 1 3 5 7\n"
     ]
    }
   ],
   "source": [
    "print(x[2]) # 3\n",
    "print(x[-1]) # 3 5 7 8\n",
    "print(x[-c(1, 2, 3)]) # 7 8\n",
    "print(x[c(TRUE, TRUE, FALSE, FALSE, TRUE)]) # 1 3 8\n",
    "print(x[c(1, 2, 3, 4)])"
   ]
  },
  {
   "cell_type": "markdown",
   "id": "c81cf052",
   "metadata": {},
   "source": [
    "Ta cũng có thể kết hợp 2 hoặc nhiều vector bằng cách sau:"
   ]
  },
  {
   "cell_type": "code",
   "execution_count": 25,
   "id": "4716f89c",
   "metadata": {
    "vscode": {
     "languageId": "r"
    }
   },
   "outputs": [
    {
     "name": "stdout",
     "output_type": "stream",
     "text": [
      "[1]  1  2  3  4  5  6  9 10 11\n"
     ]
    }
   ],
   "source": [
    "a <- 1:3\n",
    "b <- 4:6\n",
    "c <- 9:11\n",
    "\n",
    "v <- c(a, b, c)\n",
    "print(v)"
   ]
  },
  {
   "cell_type": "markdown",
   "id": "93849dd5",
   "metadata": {},
   "source": [
    "## Tính vector hóa trong R với các toán tử\n",
    "\n",
    "Một đặc điểm mạnh mẽ của R là **các toán tử và hàm được vector hóa**. Nghĩa là ta có thể thực hiện phép toán trực tiếp trên toàn bộ vector mà không cần dùng vòng lặp.\n",
    "\n",
    "### Ví dụ 1: Các phép toán cơ bản"
   ]
  },
  {
   "cell_type": "code",
   "execution_count": 26,
   "id": "374c883d",
   "metadata": {
    "vscode": {
     "languageId": "r"
    }
   },
   "outputs": [
    {
     "name": "stdout",
     "output_type": "stream",
     "text": [
      "[1] 11 22 33 44\n",
      "[1]  -9 -18 -27 -36\n",
      "[1]  10  40  90 160\n",
      "[1] 0.1 0.1 0.1 0.1\n"
     ]
    }
   ],
   "source": [
    "x <- c(1, 2, 3, 4)\n",
    "y <- c(10, 20, 30, 40)\n",
    "\n",
    "print(x + y)   # [1] 11 22 33 44\n",
    "print(x - y)   # [1]  -9 -18 -27 -36\n",
    "print(x * y)   # [1]  10  40  90 160\n",
    "print(x / y)   # [1] 0.1 0.1 0.1 0.1"
   ]
  },
  {
   "cell_type": "markdown",
   "id": "432c1c69",
   "metadata": {},
   "source": [
    "\n",
    "---\n",
    "\n",
    "### Ví dụ 2: Lũy thừa và chia lấy dư, chia lấy nguyên"
   ]
  },
  {
   "cell_type": "code",
   "execution_count": 27,
   "id": "1ad4a02c",
   "metadata": {
    "vscode": {
     "languageId": "r"
    }
   },
   "outputs": [
    {
     "name": "stdout",
     "output_type": "stream",
     "text": [
      "[1]  4 16 36\n",
      "[1] 2 0 2\n",
      "[1] 0 1 1\n"
     ]
    }
   ],
   "source": [
    "x <- c(2, 4, 6)\n",
    "\n",
    "print(x ^ 2)    # [1]  4 16 36\n",
    "print(x %% 4)   # [1] 2 0 2\n",
    "print(x %/% 4)  # [1] 0 1 1  (chia lấy phần nguyên)"
   ]
  },
  {
   "cell_type": "markdown",
   "id": "31d929d9",
   "metadata": {},
   "source": [
    "\n",
    "---\n",
    "\n",
    "### Ví dụ 3: Vector có độ dài khác nhau (recycling rule)\n",
    "\n",
    "Khi hai vector có độ dài khác nhau, R sẽ lặp lại (recycle) phần tử của vector ngắn hơn:"
   ]
  },
  {
   "cell_type": "code",
   "execution_count": 28,
   "id": "8e6c9c6a",
   "metadata": {
    "vscode": {
     "languageId": "r"
    }
   },
   "outputs": [
    {
     "name": "stdout",
     "output_type": "stream",
     "text": [
      "[1] 11 22 13 24\n"
     ]
    }
   ],
   "source": [
    "x <- c(1, 2, 3, 4)\n",
    "y <- c(10, 20)\n",
    "\n",
    "print(x + y)    # [1] 11 22 13 24"
   ]
  },
  {
   "cell_type": "markdown",
   "id": "35135032",
   "metadata": {},
   "source": [
    "Ở đây: `1+10, 2+20, 3+10, 4+20`"
   ]
  },
  {
   "cell_type": "markdown",
   "id": "6d43bc2d",
   "metadata": {},
   "source": [
    "### Ví dụ 4: Toán tử so sánh trong R"
   ]
  },
  {
   "cell_type": "code",
   "execution_count": 29,
   "id": "3aed7937",
   "metadata": {
    "vscode": {
     "languageId": "r"
    }
   },
   "outputs": [
    {
     "name": "stdout",
     "output_type": "stream",
     "text": [
      "[1] FALSE  TRUE FALSE\n",
      "[1]  TRUE FALSE  TRUE\n",
      "[1] FALSE FALSE  TRUE\n",
      "[1] FALSE  TRUE  TRUE\n",
      "[1]  TRUE FALSE FALSE\n",
      "[1]  TRUE  TRUE FALSE\n"
     ]
    }
   ],
   "source": [
    "x <- c(5, 10, 15)\n",
    "y <- c(10, 10, 10)\n",
    "\n",
    "print(x == y)   # [1] FALSE  TRUE FALSE\n",
    "print(x != y)   # [1]  TRUE FALSE  TRUE\n",
    "print(x >  y)   # [1] FALSE FALSE  TRUE\n",
    "print(x >= y)   # [1] FALSE  TRUE  TRUE\n",
    "print(x <  y)   # [1]  TRUE FALSE FALSE\n",
    "print(x <= y)   # [1]  TRUE  TRUE FALSE\n"
   ]
  },
  {
   "cell_type": "markdown",
   "id": "35ef0a97",
   "metadata": {},
   "source": [
    "### Ví dụ 5: Toán tử logic"
   ]
  },
  {
   "cell_type": "code",
   "execution_count": 30,
   "id": "85f491ac",
   "metadata": {
    "vscode": {
     "languageId": "r"
    }
   },
   "outputs": [
    {
     "name": "stdout",
     "output_type": "stream",
     "text": [
      "[1] FALSE FALSE  TRUE\n",
      "[1] TRUE TRUE TRUE\n",
      "[1] FALSE  TRUE FALSE\n"
     ]
    }
   ],
   "source": [
    "a <- c(TRUE, FALSE, TRUE)\n",
    "b <- c(FALSE, TRUE, TRUE)\n",
    "\n",
    "print(a & b)    # [1] FALSE FALSE  TRUE\n",
    "\n",
    "print(a | b)    # [1] TRUE TRUE TRUE\n",
    "\n",
    "print(!a)       # [1] FALSE  TRUE FALSE"
   ]
  },
  {
   "cell_type": "markdown",
   "id": "c0044d76",
   "metadata": {},
   "source": [
    "\n",
    "---\n",
    "\n",
    "## **list**\n",
    "\n",
    "Là một danh sách, có thể dùng để lưu các biến ở nhiều kiểu dữ liệu khác nhau. Để tạo 1 list, ta sử dụng hàm `list()`"
   ]
  },
  {
   "cell_type": "code",
   "execution_count": 31,
   "id": "815f1373",
   "metadata": {
    "vscode": {
     "languageId": "r"
    }
   },
   "outputs": [
    {
     "name": "stdout",
     "output_type": "stream",
     "text": [
      "$a\n",
      "[1] 1 2 3\n",
      "\n",
      "$b\n",
      "[1] \"Apple\"  \"Orange\"\n",
      "\n",
      "$c\n",
      "[1]  TRUE FALSE\n",
      "\n"
     ]
    }
   ],
   "source": [
    "list1 <- list(a = c(1, 2, 3),\n",
    "              b = c(\"Apple\", \"Orange\"),\n",
    "              c = c(TRUE, FALSE))\n",
    "print(list1)"
   ]
  },
  {
   "cell_type": "markdown",
   "id": "00d05195",
   "metadata": {},
   "source": [
    "Để lấy các phần tử trong 1 list, ta sử dụng dấu $ như sau:"
   ]
  },
  {
   "cell_type": "code",
   "execution_count": 32,
   "id": "d0af11d2",
   "metadata": {
    "vscode": {
     "languageId": "r"
    }
   },
   "outputs": [
    {
     "name": "stdout",
     "output_type": "stream",
     "text": [
      "[1] 1 2 3\n"
     ]
    }
   ],
   "source": [
    "print(list1$a) # Kết quả: 1 2 3"
   ]
  },
  {
   "cell_type": "markdown",
   "id": "9e6631ed",
   "metadata": {},
   "source": [
    "\n",
    "---\n",
    "\n",
    "## **factor**\n",
    "\n",
    "Là một vector chuyên dùng để lưu trữ các biến định tính. Để tạo factor từ một vector, ta dùng hàm `factor()`"
   ]
  },
  {
   "cell_type": "code",
   "execution_count": 33,
   "id": "bac0bbf2",
   "metadata": {
    "vscode": {
     "languageId": "r"
    }
   },
   "outputs": [
    {
     "name": "stdout",
     "output_type": "stream",
     "text": [
      "[1] female female female male   female male   male   female\n",
      "Levels: female male\n"
     ]
    }
   ],
   "source": [
    "sex_vec <- c(\n",
    "             \"female\", \"female\", \"female\", \"male\",\n",
    "             \"female\", \"male\", \"male\", \"female\")\n",
    "sex_fac <- factor(sex_vec)\n",
    "print(sex_fac)"
   ]
  },
  {
   "cell_type": "markdown",
   "id": "5c8fef30",
   "metadata": {},
   "source": [
    "Ta có thể truy cập các phần tử của factor tương tự như vector"
   ]
  },
  {
   "cell_type": "code",
   "execution_count": 34,
   "id": "64a43588",
   "metadata": {
    "vscode": {
     "languageId": "r"
    }
   },
   "outputs": [
    {
     "name": "stdout",
     "output_type": "stream",
     "text": [
      "[1] male\n",
      "Levels: female male\n"
     ]
    }
   ],
   "source": [
    "print(sex_fac[4])"
   ]
  },
  {
   "cell_type": "markdown",
   "id": "4a5c136d",
   "metadata": {},
   "source": [
    "\n",
    "---\n",
    "\n",
    "## **matrix**\n",
    "Là một mảng 2 chiều dùng để lưu trữ các dữ liệu có cùng kiểu với nhau. Để tạo một matrix, ta dùng hàm `matrix()`"
   ]
  },
  {
   "cell_type": "code",
   "execution_count": 35,
   "id": "c777fe83",
   "metadata": {
    "vscode": {
     "languageId": "r"
    }
   },
   "outputs": [
    {
     "name": "stdout",
     "output_type": "stream",
     "text": [
      "     [,1] [,2]\n",
      "[1,]    1    4\n",
      "[2,]    2    5\n",
      "[3,]    3    6\n"
     ]
    }
   ],
   "source": [
    "matrix1 <- matrix(data = c(1, 2, 3, 4, 5, 6), ncol = 2)\n",
    "print(matrix1)"
   ]
  },
  {
   "cell_type": "code",
   "execution_count": 36,
   "id": "4768fea9",
   "metadata": {
    "vscode": {
     "languageId": "r"
    }
   },
   "outputs": [
    {
     "name": "stdout",
     "output_type": "stream",
     "text": [
      "     [,1] [,2] [,3]\n",
      "[1,]    1    3    5\n",
      "[2,]    2    4    6\n"
     ]
    }
   ],
   "source": [
    "matrix2 <- matrix(data = c(1, 2, 3, 4, 5, 6), nrow = 2)\n",
    "print(matrix2)"
   ]
  },
  {
   "cell_type": "code",
   "execution_count": 37,
   "id": "6261a98d",
   "metadata": {
    "vscode": {
     "languageId": "r"
    }
   },
   "outputs": [
    {
     "name": "stderr",
     "output_type": "stream",
     "text": [
      "Warning message in matrix(data = c(1, 2, 3, 4, 5, 6), ncol = 2, nrow = 2):\n",
      "\"data length differs from size of matrix: [6 != 2 x 2]\"\n"
     ]
    },
    {
     "name": "stdout",
     "output_type": "stream",
     "text": [
      "     [,1] [,2]\n",
      "[1,]    1    3\n",
      "[2,]    2    4\n"
     ]
    }
   ],
   "source": [
    "matrix3 <- matrix(data = c(1, 2, 3, 4, 5, 6), ncol = 2, nrow = 2)\n",
    "print(matrix3)"
   ]
  },
  {
   "cell_type": "code",
   "execution_count": 38,
   "id": "360054d0",
   "metadata": {
    "vscode": {
     "languageId": "r"
    }
   },
   "outputs": [
    {
     "name": "stdout",
     "output_type": "stream",
     "text": [
      "     [,1] [,2] [,3]\n",
      "[1,]    1    5    3\n",
      "[2,]    2    6    4\n",
      "[3,]    3    1    5\n",
      "[4,]    4    2    6\n"
     ]
    }
   ],
   "source": [
    "matrix4 <- matrix(data = c(1, 2, 3, 4, 5, 6), ncol = 3, nrow = 4)\n",
    "print(matrix4)"
   ]
  },
  {
   "cell_type": "code",
   "execution_count": 39,
   "id": "373069be",
   "metadata": {
    "vscode": {
     "languageId": "r"
    }
   },
   "outputs": [
    {
     "name": "stdout",
     "output_type": "stream",
     "text": [
      "     [,1] [,2] [,3]\n",
      "[1,]    1    4    7\n",
      "[2,]    2    5    8\n",
      "[3,]    3    6    9\n",
      "[1] 1\n"
     ]
    }
   ],
   "source": [
    "matrix5 <- matrix(1:9, ncol = 3, nrow = 3)\n",
    "print(matrix5)\n",
    "print(matrix5[1, 1])"
   ]
  },
  {
   "cell_type": "code",
   "execution_count": 40,
   "id": "794cb556",
   "metadata": {
    "vscode": {
     "languageId": "r"
    }
   },
   "outputs": [
    {
     "name": "stdout",
     "output_type": "stream",
     "text": [
      "     [,1] [,2] [,3]\n",
      "[1,]    1    2    3\n",
      "[2,]    4    5    6\n",
      "[3,]    7    8    9\n",
      "     [,1] [,2] [,3]\n",
      "[1,]    1    4    7\n",
      "[2,]    2    5    8\n",
      "[3,]    3    6    9\n"
     ]
    }
   ],
   "source": [
    "matrix6 <- matrix(1:9, ncol = 3, nrow = 3, byrow = TRUE)\n",
    "print(matrix6)\n",
    "\n",
    "matrix7 <- matrix(1:9, ncol = 3, nrow = 3, byrow = FALSE)\n",
    "print(matrix7)"
   ]
  }
 ],
 "metadata": {
  "kernelspec": {
   "display_name": "R",
   "language": "R",
   "name": "ir"
  },
  "language_info": {
   "codemirror_mode": "r",
   "file_extension": ".r",
   "mimetype": "text/x-r-source",
   "name": "R",
   "pygments_lexer": "r",
   "version": "4.5.1"
  }
 },
 "nbformat": 4,
 "nbformat_minor": 5
}
