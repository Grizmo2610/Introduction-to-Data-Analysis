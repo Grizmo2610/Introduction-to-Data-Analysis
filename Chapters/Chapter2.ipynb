{
 "cells": [
  {
   "cell_type": "markdown",
   "id": "4ff6109e",
   "metadata": {},
   "source": [
    "# **Hàm và cách sử dụng hàm trong R**\n",
    "\n",
    "## **Hàm tự định nghĩa**\n",
    "\n",
    "Trong R, hàm là một tập hợp các câu lệnh được sắp xếp để thực hiện 1 công việc cụ thể. Trong thư viện chuẩn của R đã có sẵn rất nhiều hàm thông dụng trong tính toán xác suất thống kê. Các hàm trong R có cấu trúc như sau:\n",
    "\n",
    "```r\n",
    "<function_name> <- function(arg1, arg2 = <default>, ...) {\n",
    "    <các câu lệnh>\n",
    "    return(<kết quả>)\n",
    "}\n",
    "```\n",
    "\n",
    "Trong đó:\n",
    "\n",
    "* `<function_name>`: tên hàm do người dùng đặt.\n",
    "* `arg1`: tham số **bắt buộc** – khi gọi hàm phải truyền giá trị.\n",
    "* `arg2`: tham số **tùy chọn** – có giá trị mặc định, nếu không truyền thì dùng giá trị này.\n",
    "* `<các câu lệnh>`: phần thân hàm để xử lý.\n",
    "* `return(<kết quả>)`: giá trị trả về (nếu không viết `return`, R mặc định trả về kết quả của dòng cuối cùng).\n",
    "\n",
    "Để gọi hàm trong R, ta làm như sau:\n",
    "```\n",
    "<function_name>(<args>)\n",
    "```\n",
    "\n",
    "Nếu cần lưu kết quả của hàm\n",
    "\n",
    "```\n",
    "result <- <function_name>(<args>)\n",
    "```\n",
    "\n",
    "Trong đó <function_name> là tên của hàm mà ta muốn gọi, sau đó ta truyền các tham số vào phần <args> , theo 3 cách:\n",
    "* Truyền tham số theo tên: Ta thực hiện như sau:\n",
    "```\n",
    "<function_name>(<arg> = <value>, ...)\n",
    "```\n",
    "* Truyền tham số theo vị trí: Ta thực hiện như sau:\n",
    "\n",
    "```\n",
    "<function_name>(<value1>, <value2>, ...)\n",
    "```\n",
    "\n",
    "Sử dụng cả hai cách truyền tham số. Ta hoàn toàn có thể truyền tham số theo cả hai cách trên khi gọi hàm. Ví dụ:\n",
    "```\n",
    "<function_name>(<value1>, <argument_n> = <value2>,...)\n",
    "```\n",
    "\n",
    "\n",
    "* Ví dụ 1: Hàm tính tổng hai số"
   ]
  },
  {
   "cell_type": "code",
   "execution_count": 1,
   "id": "9b74a9d7",
   "metadata": {
    "vscode": {
     "languageId": "r"
    }
   },
   "outputs": [
    {
     "name": "stdout",
     "output_type": "stream",
     "text": [
      "[1] 25\n",
      "[1] 15\n"
     ]
    }
   ],
   "source": [
    "tong_hai_so <- function(a, b = 10) {\n",
    "    kq <- a + b\n",
    "    return(kq)\n",
    "}\n",
    "\n",
    "# Gọi hàm với cả hai tham số\n",
    "print(tong_hai_so(5, 20))   # Kết quả: 25\n",
    "\n",
    "# Gọi hàm chỉ với tham số bắt buộc\n",
    "print(tong_hai_so(5))       # Kết quả: 15 (vì b mặc định = 10)"
   ]
  },
  {
   "cell_type": "markdown",
   "id": "558462e7",
   "metadata": {},
   "source": [
    "\n",
    "---\n",
    "\n",
    "* *Ví dụ 2: Hàm không cần `return()`"
   ]
  },
  {
   "cell_type": "code",
   "execution_count": 2,
   "id": "3501714b",
   "metadata": {
    "vscode": {
     "languageId": "r"
    }
   },
   "outputs": [
    {
     "data": {
      "text/html": [
       "16"
      ],
      "text/latex": [
       "16"
      ],
      "text/markdown": [
       "16"
      ],
      "text/plain": [
       "[1] 16"
      ]
     },
     "metadata": {},
     "output_type": "display_data"
    },
    {
     "data": {
      "text/html": [
       "64"
      ],
      "text/latex": [
       "64"
      ],
      "text/markdown": [
       "64"
      ],
      "text/plain": [
       "[1] 64"
      ]
     },
     "metadata": {},
     "output_type": "display_data"
    }
   ],
   "source": [
    "binh_phuong <- function(x) {\n",
    "    x ^ 2\n",
    "}\n",
    "\n",
    "binh_phuong(4) # 16\n",
    "\n",
    "lap_phuong <- function(x) {\n",
    "    2 ^ 3\n",
    "    x ^ 3\n",
    "}\n",
    "\n",
    "lap_phuong(4) # 64"
   ]
  },
  {
   "cell_type": "markdown",
   "id": "6d790616",
   "metadata": {},
   "source": [
    "Trong R, hàm sẽ trả về giá trị của biểu thức cuối cùng trong thân hàm nếu không dùng `return()`."
   ]
  },
  {
   "cell_type": "markdown",
   "id": "fd54c0f3",
   "metadata": {},
   "source": [
    "\n",
    "---\n",
    "\n",
    "## **Truyền nhiều tham số trong hàm**\n",
    "\n",
    "Hàm trong R có thể nhận số lượng tham số không xác định thông qua `...`.\n",
    "\n",
    "Ví dụ:"
   ]
  },
  {
   "cell_type": "code",
   "execution_count": 3,
   "id": "433e8300",
   "metadata": {
    "vscode": {
     "languageId": "r"
    }
   },
   "outputs": [
    {
     "name": "stdout",
     "output_type": "stream",
     "text": [
      "[1] 15\n"
     ]
    }
   ],
   "source": [
    "tong_nhieu_so <- function(...) {\n",
    "    so <- c(...)\n",
    "    print(sum(so))\n",
    "}\n",
    "\n",
    "tong_nhieu_so(1, 2, 3, 4, 5)   # Kết quả: 15"
   ]
  },
  {
   "cell_type": "markdown",
   "id": "49658b0d",
   "metadata": {},
   "source": [
    "\n",
    "---\n",
    "\n",
    "## **Hàm có sẵn trong R**\n",
    "\n",
    "### Một số hàm toán học\n",
    "Trong R có một số hàm toán học cơ bản sau:\n",
    "\n",
    "* **`abs(x)`**: Trả về giá trị tuyệt đối của $x$.\n",
    "* **`sqrt(x)`**: Trả về căn bậc hai của $x$ (x ≥ 0).\n",
    "* **`sin(x)`**: Tính giá trị sin của $x$ (theo radian).\n",
    "* **`cos(x)`**: Tính giá trị cos của $x$ (theo radian).\n",
    "* **`tan(x)`**: Tính giá trị tan của $x$ (theo radian).\n",
    "* **`log(x)`**: Logarit tự nhiên (cơ số $e$) của $x$.\n",
    "* **`log(x, base)`**: Logarit của $x$ theo cơ số chỉ định.\n",
    "* **`log10(x)`**: Logarit cơ số 10 của $x$.\n",
    "* **`exp(x)`**: Tính $e^x$.\n",
    "* **`round(x)`**: Làm tròn số $x$ đến số nguyên gần nhất (có thể kèm số chữ số thập phân)."
   ]
  },
  {
   "cell_type": "code",
   "execution_count": 4,
   "id": "96022df7",
   "metadata": {
    "vscode": {
     "languageId": "r"
    }
   },
   "outputs": [
    {
     "name": "stdout",
     "output_type": "stream",
     "text": [
      "[1] \"abs(-5) = 5\"\n",
      "[1] \"sqrt(4) = 2\"\n",
      "[1] \"exp(1) = 2.71828182845905\"\n",
      "[1] \"log(exp(1)) = 1\"\n",
      "[1] \"log(4, 2) = 2\"\n",
      "[1] \"log10(100) = 2\"\n",
      "[1] \"round(5.5) = 6\"\n",
      "[1] \"sin(0) = 0\"\n",
      "[1] \"cos(2*pi) = 1\"\n",
      "[1] \"tan(pi/4) = 1\"\n"
     ]
    }
   ],
   "source": [
    "print(paste(\"abs(-5) =\", abs(-5)))\n",
    "print(paste(\"sqrt(4) =\", sqrt(4)))\n",
    "print(paste(\"exp(1) =\", exp(1)))\n",
    "print(paste(\"log(exp(1)) =\", log(exp(1))))\n",
    "print(paste(\"log(4, 2) =\", log(4, 2)))\n",
    "print(paste(\"log10(100) =\", log10(100)))\n",
    "print(paste(\"round(5.5) =\", round(5.5)))\n",
    "print(paste(\"sin(0) =\", sin(0)))\n",
    "print(paste(\"cos(2*pi) =\", cos(2 * pi)))\n",
    "print(paste(\"tan(pi/4) =\", tan(pi / 4)))"
   ]
  },
  {
   "cell_type": "markdown",
   "id": "f85fc3b8",
   "metadata": {},
   "source": [
    "### Một số hàm tính toán ma trận\n",
    "\n",
    "Trong R có một số hàm tính toán ma trận sau"
   ]
  },
  {
   "cell_type": "code",
   "execution_count": 5,
   "id": "6eae997c",
   "metadata": {
    "vscode": {
     "languageId": "r"
    }
   },
   "outputs": [
    {
     "name": "stdout",
     "output_type": "stream",
     "text": [
      "     [,1] [,2]\n",
      "[1,]    2    3\n",
      "[2,]    1    4\n"
     ]
    }
   ],
   "source": [
    "mat_a <- matrix(c(2, 1, 3, 4), nrow=2)\n",
    "print(mat_a)"
   ]
  },
  {
   "cell_type": "markdown",
   "id": "b654eb77",
   "metadata": {},
   "source": [
    "* Nhân ma trận, dùng toán tử `%*%`"
   ]
  },
  {
   "cell_type": "code",
   "execution_count": 6,
   "id": "b2e9107b",
   "metadata": {
    "vscode": {
     "languageId": "r"
    }
   },
   "outputs": [
    {
     "name": "stdout",
     "output_type": "stream",
     "text": [
      "     [,1] [,2]\n",
      "[1,]    7   18\n",
      "[2,]    6   19\n"
     ]
    }
   ],
   "source": [
    "print(mat_a %*% mat_a)"
   ]
  },
  {
   "cell_type": "markdown",
   "id": "0f66fcfd",
   "metadata": {},
   "source": [
    "* Chuyển vị ma trận, dùng hàm `t()`"
   ]
  },
  {
   "cell_type": "code",
   "execution_count": 7,
   "id": "8eff37b4",
   "metadata": {
    "vscode": {
     "languageId": "r"
    }
   },
   "outputs": [
    {
     "name": "stdout",
     "output_type": "stream",
     "text": [
      "     [,1] [,2]\n",
      "[1,]    2    1\n",
      "[2,]    3    4\n"
     ]
    }
   ],
   "source": [
    "print(t(mat_a))"
   ]
  },
  {
   "cell_type": "markdown",
   "id": "d6f9e8d2",
   "metadata": {},
   "source": [
    "* Tính định thức, dùng hàm `det()`"
   ]
  },
  {
   "cell_type": "code",
   "execution_count": 8,
   "id": "cfbe2329",
   "metadata": {
    "vscode": {
     "languageId": "r"
    }
   },
   "outputs": [
    {
     "name": "stdout",
     "output_type": "stream",
     "text": [
      "[1] 5\n"
     ]
    }
   ],
   "source": [
    "print(det(mat_a))"
   ]
  },
  {
   "cell_type": "markdown",
   "id": "3291dc71",
   "metadata": {},
   "source": [
    "* Tính ma trận nghịch đảo, dùng hàm `solve()`"
   ]
  },
  {
   "cell_type": "code",
   "execution_count": 9,
   "id": "58ae3bc7",
   "metadata": {
    "vscode": {
     "languageId": "r"
    }
   },
   "outputs": [
    {
     "name": "stdout",
     "output_type": "stream",
     "text": [
      "     [,1] [,2]\n",
      "[1,]  0.8 -0.6\n",
      "[2,] -0.2  0.4\n"
     ]
    }
   ],
   "source": [
    "print(solve(mat_a))"
   ]
  },
  {
   "cell_type": "markdown",
   "id": "ef586bc4",
   "metadata": {},
   "source": [
    "* Tính giá trị riêng (eigen values) và vector riêng (eigen vectors)"
   ]
  },
  {
   "cell_type": "code",
   "execution_count": 10,
   "id": "7d5dfea4",
   "metadata": {
    "vscode": {
     "languageId": "r"
    }
   },
   "outputs": [
    {
     "name": "stdout",
     "output_type": "stream",
     "text": [
      "[1] 5 1\n",
      "           [,1]       [,2]\n",
      "[1,] -0.7071068 -0.9486833\n",
      "[2,] -0.7071068  0.3162278\n"
     ]
    }
   ],
   "source": [
    "eig <- eigen(mat_a)\n",
    "print(eig$values)    # Giá trị riêng\n",
    "\n",
    "print(eig$vectors)   # Vector riêng (cột tương ứng với giá trị riêng)"
   ]
  },
  {
   "cell_type": "markdown",
   "id": "97cd8a64",
   "metadata": {},
   "source": [
    "## **Một số hàm tính toán thống kê mô tả:**\n",
    "\n",
    "### Một số khái niệm trong thống kê mô tả\n",
    "\n",
    "#### **Mean (Trung bình cộng)**\n",
    "\n",
    "* **Khái niệm**: Giá trị trung tâm, bằng tổng các giá trị chia cho số lượng phần tử.\n",
    "* **Công thức**:\n",
    "\n",
    "$$\n",
    "\\bar{x} = \\frac{1}{n}\\sum_{i=1}^{n} x_i\n",
    "$$\n",
    "\n",
    "Trong đó $x_i$ là giá trị quan sát, $n$ là số quan sát.\n",
    "\n",
    "---\n",
    "\n",
    "#### **Median (Trung vị)**\n",
    "\n",
    "* **Khái niệm**: Giá trị đứng giữa dãy số khi sắp xếp theo thứ tự tăng/giảm.\n",
    "* Nếu số lượng phần tử $n$ **lẻ** → Median là giá trị ở vị trí $\\frac{n+1}{2}$.\n",
    "* Nếu $n$ **chẵn** → Median là trung bình cộng của hai giá trị ở vị trí $\\frac{n}{2}$ và $\\frac{n}{2}+1$.\n",
    "\n",
    "---\n",
    "\n",
    "#### **Variance (Phương sai, var)**\n",
    "\n",
    "* **Khái niệm**: Đo mức độ phân tán của dữ liệu quanh trung bình.\n",
    "* **Công thức mẫu (sample variance)**:\n",
    "\n",
    "$$\n",
    "s^2 = \\frac{1}{n-1}\\sum_{i=1}^{n}(x_i - \\bar{x})^2\n",
    "$$\n",
    "\n",
    "* **Công thức tổng thể (population variance)**:\n",
    "\n",
    "$$\n",
    "\\sigma^2 = \\frac{1}{N}\\sum_{i=1}^{N}(x_i - \\mu)^2\n",
    "$$\n",
    "\n",
    "Trong đó:\n",
    "\n",
    "* $\\bar{x}$: trung bình mẫu\n",
    "* $\\mu$: trung bình tổng thể\n",
    "\n",
    "---\n",
    "\n",
    "#### **Standard Deviation (Độ lệch chuẩn, sd)**\n",
    "\n",
    "* **Khái niệm**: Căn bậc hai của phương sai, giúp đo mức độ phân tán bằng cùng đơn vị với dữ liệu gốc.\n",
    "* **Công thức mẫu**:\n",
    "\n",
    "$$\n",
    "s = \\sqrt{\\frac{1}{n-1}\\sum_{i=1}^{n}(x_i - \\bar{x})^2}\n",
    "$$\n",
    "\n",
    "* **Công thức tổng thể**:\n",
    "\n",
    "$$\n",
    "\\sigma = \\sqrt{\\frac{1}{N}\\sum_{i=1}^{N}(x_i - \\mu)^2}\n",
    "$$"
   ]
  },
  {
   "cell_type": "markdown",
   "id": "75f6c78c",
   "metadata": {
    "vscode": {
     "languageId": "r"
    }
   },
   "source": [
    "* Trung bình: `mean()`"
   ]
  },
  {
   "cell_type": "code",
   "execution_count": 11,
   "id": "01368ca1",
   "metadata": {
    "vscode": {
     "languageId": "r"
    }
   },
   "outputs": [
    {
     "name": "stdout",
     "output_type": "stream",
     "text": [
      " [1]  1  2  3  4  5  6  7  8  9 10\n",
      "[1] 5.5\n"
     ]
    }
   ],
   "source": [
    "x <- 1:10\n",
    "print(x)\n",
    "print(mean(x))"
   ]
  },
  {
   "cell_type": "markdown",
   "id": "63f038d5",
   "metadata": {},
   "source": [
    "* Trung vị: `median()`"
   ]
  },
  {
   "cell_type": "code",
   "execution_count": 12,
   "id": "fee62cb5",
   "metadata": {
    "vscode": {
     "languageId": "r"
    }
   },
   "outputs": [
    {
     "name": "stdout",
     "output_type": "stream",
     "text": [
      "[1] 1 3 5 5\n"
     ]
    },
    {
     "name": "stdout",
     "output_type": "stream",
     "text": [
      "[1] 4\n"
     ]
    }
   ],
   "source": [
    "x <- c(1, 3, 5, 5)\n",
    "print(x)\n",
    "print(median(x))"
   ]
  },
  {
   "cell_type": "markdown",
   "id": "b9cecd81",
   "metadata": {},
   "source": [
    "* Phương sai: `var()`"
   ]
  },
  {
   "cell_type": "code",
   "execution_count": 13,
   "id": "32beea0c",
   "metadata": {
    "vscode": {
     "languageId": "r"
    }
   },
   "outputs": [
    {
     "name": "stdout",
     "output_type": "stream",
     "text": [
      "[1] 3.666667\n"
     ]
    }
   ],
   "source": [
    "x <- c(1, 3, 5, 5)\n",
    "print(var(x))"
   ]
  },
  {
   "cell_type": "markdown",
   "id": "fc6d127d",
   "metadata": {},
   "source": [
    "* Độ lệch chuẩn: `sd()`"
   ]
  },
  {
   "cell_type": "code",
   "execution_count": 14,
   "id": "811e9c2e",
   "metadata": {
    "vscode": {
     "languageId": "r"
    }
   },
   "outputs": [
    {
     "name": "stdout",
     "output_type": "stream",
     "text": [
      "[1] 1\n"
     ]
    }
   ],
   "source": [
    "x <- 1:3\n",
    "print(sd(x))"
   ]
  },
  {
   "cell_type": "markdown",
   "id": "79a15be1",
   "metadata": {},
   "source": [
    "* Giá trị lớn nhất, nhỏ nhất: `min(), max()`"
   ]
  },
  {
   "cell_type": "code",
   "execution_count": 15,
   "id": "b2d52ed7",
   "metadata": {
    "vscode": {
     "languageId": "r"
    }
   },
   "outputs": [
    {
     "name": "stdout",
     "output_type": "stream",
     "text": [
      "[1] 1 9\n"
     ]
    }
   ],
   "source": [
    "x <- 1:9\n",
    "print(c(min(x), max(x)))"
   ]
  },
  {
   "cell_type": "markdown",
   "id": "58799bbb",
   "metadata": {},
   "source": [
    "## **Một số hàm phân bố cơ bản**\n",
    "Trong quá trình tính toán thống kê, đôi lúc ta cần mô phỏng một mẫu dữ liệu tuân theo một phân bố cho trước. Trong R có một số hàm giúp chúng ta làm được việc này"
   ]
  },
  {
   "cell_type": "markdown",
   "id": "04c673ce",
   "metadata": {},
   "source": [
    "* Phân bố chuẩn `rnorm(n, mean, sd)` Sinh các số ngẫu nhiên từ phân phối chuẩn\n",
    "    * `n`: số mẫu cần sinh\n",
    "    * `mean` giá trị trung bình $\\mu$(mặc định = 0)\n",
    "    * `sd`: độ lệch chuẩn $\\sigma$ (mặc định = 1)"
   ]
  },
  {
   "cell_type": "code",
   "execution_count": 16,
   "id": "6c3e7d6e",
   "metadata": {
    "vscode": {
     "languageId": "r"
    }
   },
   "outputs": [
    {
     "name": "stdout",
     "output_type": "stream",
     "text": [
      " [1]  0.6547639 -0.4888644  0.6963304  0.6052632  1.5475329  0.1052367\n",
      " [7]  1.0186183 -0.5685210  0.2254665  0.9613130\n",
      "[1] \"numeric\"\n"
     ]
    }
   ],
   "source": [
    "a <- rnorm(n = 10, mean=0.5, sd=0.5)\n",
    "print(a)\n",
    "print(class(a))"
   ]
  },
  {
   "cell_type": "markdown",
   "id": "32fafc56",
   "metadata": {},
   "source": [
    "* Phân bố nhị thức `rbinom(n, size, prob)`: Sinh các số ngẫu nhiên từ phân phối nhị thức.\n",
    "    * `n`: số mẫu cần sinh\n",
    "    * `size`: số thử nghiệm trong mỗi biến nhị thức\n",
    "    * `prob`: xác suất thành công"
   ]
  },
  {
   "cell_type": "code",
   "execution_count": 17,
   "id": "286dcae5",
   "metadata": {
    "vscode": {
     "languageId": "r"
    }
   },
   "outputs": [
    {
     "name": "stdout",
     "output_type": "stream",
     "text": [
      " [1]  7 10 10  8  5  6  8  5  6  5\n",
      "[1] \"integer\"\n"
     ]
    }
   ],
   "source": [
    "a <- rbinom(10, size = 20, prob = 0.3)\n",
    "print(a)\n",
    "print(class(a))"
   ]
  },
  {
   "cell_type": "markdown",
   "id": "9f2cb743",
   "metadata": {},
   "source": [
    "* Phân bố Poisson `rpois()`: Sinh các số ngẫu nhiên từ phân phối Poisson.\n",
    "    * `n`: số mẫu cần sinh\n",
    "    * `lambda`: giá trị trung bình của Poisson"
   ]
  },
  {
   "cell_type": "code",
   "execution_count": 18,
   "id": "28f4f419",
   "metadata": {
    "vscode": {
     "languageId": "r"
    }
   },
   "outputs": [
    {
     "name": "stdout",
     "output_type": "stream",
     "text": [
      "[1] 7 3 4 1 0\n"
     ]
    },
    {
     "name": "stdout",
     "output_type": "stream",
     "text": [
      "[1] \"integer\"\n"
     ]
    }
   ],
   "source": [
    "a <- rpois(5, lambda = 3)\n",
    "print(a)\n",
    "print(class(a))"
   ]
  },
  {
   "cell_type": "markdown",
   "id": "10b3f514",
   "metadata": {},
   "source": [
    "* Phân bố đều `runif()`: Sinh số ngẫu nhiên từ phân phối đều trên đoạn [min, max].\n",
    "    * `n`: số mẫu cần sinh\n",
    "    * `min, max`: giới hạn dưới và trên"
   ]
  },
  {
   "cell_type": "code",
   "execution_count": 19,
   "id": "35e8d084",
   "metadata": {
    "vscode": {
     "languageId": "r"
    }
   },
   "outputs": [
    {
     "name": "stdout",
     "output_type": "stream",
     "text": [
      "[1] 5.0730351 7.9696829 7.7154302 4.5532095 0.8105644\n"
     ]
    },
    {
     "name": "stdout",
     "output_type": "stream",
     "text": [
      "[1] \"numeric\"\n"
     ]
    }
   ],
   "source": [
    "a <- runif(5, min = 0, max = 10)\n",
    "print(a)\n",
    "print(class(a))"
   ]
  },
  {
   "cell_type": "markdown",
   "id": "5349f55a",
   "metadata": {},
   "source": [
    "## **Một số hàm tiện ích khác**\n",
    "\n",
    "Ngoài các hàm tính toán như trên, R còn cung cấp thêm cho chúng ta một số hàm khác như sau:\n",
    "\n",
    "* Tính tổng và tích các phần tử trong 1 vector: `sum()` và `prod()`\n"
   ]
  },
  {
   "cell_type": "code",
   "execution_count": 20,
   "id": "a12f19e4",
   "metadata": {
    "vscode": {
     "languageId": "r"
    }
   },
   "outputs": [
    {
     "name": "stdout",
     "output_type": "stream",
     "text": [
      "[1] 15\n",
      "[1] 120\n"
     ]
    }
   ],
   "source": [
    "x <- c(2, 3, 1, 5, 4)\n",
    "print(sum(x))\n",
    "print(prod(x))"
   ]
  },
  {
   "cell_type": "markdown",
   "id": "ab0d748d",
   "metadata": {},
   "source": [
    "Hàm `sum()` và `prod()` cũng có thể sử dụng với tập hợp các phần tử là các số (Không nhất thiết phải là vector)"
   ]
  },
  {
   "cell_type": "code",
   "execution_count": 21,
   "id": "082f2cd8",
   "metadata": {
    "vscode": {
     "languageId": "r"
    }
   },
   "outputs": [
    {
     "name": "stdout",
     "output_type": "stream",
     "text": [
      "[1] 10\n",
      "[1] 120\n"
     ]
    }
   ],
   "source": [
    "print(sum(1, 2, 3, 4))\n",
    "print(prod(1, 2, 3, 4, 5))"
   ]
  },
  {
   "cell_type": "markdown",
   "id": "2bb4fe8d",
   "metadata": {},
   "source": [
    "* Tính số phần tử của vector: `length()`"
   ]
  },
  {
   "cell_type": "code",
   "execution_count": 22,
   "id": "78f88ecc",
   "metadata": {
    "vscode": {
     "languageId": "r"
    }
   },
   "outputs": [
    {
     "name": "stdout",
     "output_type": "stream",
     "text": [
      "[1] 5\n"
     ]
    }
   ],
   "source": [
    "x <- c(2, 3, 1, 5, 4)\n",
    "print(length(x))"
   ]
  },
  {
   "cell_type": "markdown",
   "id": "169e645a",
   "metadata": {},
   "source": [
    "* Sắp xếp các phần tử trong vector: `sort(x, decreasing = FALSE)` Mặc định `decreasing = FALSE` tức là mặc định sẽ là dãy không giảm (Số sau lớn hơn hoặc bằng số trước) thay đổi decreasing = TRUE để thành sắp xếp dãy không tăng (Số sau nhỏ hơn hoặc bằng số trước)"
   ]
  },
  {
   "cell_type": "code",
   "execution_count": 23,
   "id": "6986fbe3",
   "metadata": {
    "vscode": {
     "languageId": "r"
    }
   },
   "outputs": [
    {
     "name": "stdout",
     "output_type": "stream",
     "text": [
      "[1] 1 2 3 4 5 6 7 9\n"
     ]
    }
   ],
   "source": [
    "x <- c(4, 1, 5, 7, 2, 3, 6, 9)\n",
    "print(sort(x, decreasing = FALSE))"
   ]
  },
  {
   "cell_type": "markdown",
   "id": "e2ea2862",
   "metadata": {},
   "source": [
    "* Tạo một dãy số liên tiếp: `seq(from, to, by)`: Tạo 1 dãy các số nguyên liên tiếp từ `from` cho tới `to`, mối số cách nhau chính xác bằng `by`"
   ]
  },
  {
   "cell_type": "code",
   "execution_count": 24,
   "id": "7b4d83ee",
   "metadata": {
    "vscode": {
     "languageId": "r"
    }
   },
   "outputs": [
    {
     "name": "stdout",
     "output_type": "stream",
     "text": [
      "[1] 1 2 3 4 5\n",
      " [1]  1  2  3  4  5  6  7  8  9 10\n"
     ]
    }
   ],
   "source": [
    "print(seq(1, 5))\n",
    "print(seq(1, 10, ))"
   ]
  },
  {
   "cell_type": "markdown",
   "id": "30f2d950",
   "metadata": {},
   "source": [
    "* Tạo một dãy số lặp: `rep()`"
   ]
  },
  {
   "cell_type": "code",
   "execution_count": 25,
   "id": "16ba1a0e",
   "metadata": {
    "vscode": {
     "languageId": "r"
    }
   },
   "outputs": [
    {
     "data": {
      "text/html": [
       "<style>\n",
       ".list-inline {list-style: none; margin:0; padding: 0}\n",
       ".list-inline>li {display: inline-block}\n",
       ".list-inline>li:not(:last-child)::after {content: \"\\00b7\"; padding: 0 .5ex}\n",
       "</style>\n",
       "<ol class=list-inline><li>1</li><li>2</li><li>3</li><li>1</li><li>2</li><li>3</li><li>1</li><li>2</li><li>3</li></ol>\n"
      ],
      "text/latex": [
       "\\begin{enumerate*}\n",
       "\\item 1\n",
       "\\item 2\n",
       "\\item 3\n",
       "\\item 1\n",
       "\\item 2\n",
       "\\item 3\n",
       "\\item 1\n",
       "\\item 2\n",
       "\\item 3\n",
       "\\end{enumerate*}\n"
      ],
      "text/markdown": [
       "1. 1\n",
       "2. 2\n",
       "3. 3\n",
       "4. 1\n",
       "5. 2\n",
       "6. 3\n",
       "7. 1\n",
       "8. 2\n",
       "9. 3\n",
       "\n",
       "\n"
      ],
      "text/plain": [
       "[1] 1 2 3 1 2 3 1 2 3"
      ]
     },
     "metadata": {},
     "output_type": "display_data"
    },
    {
     "data": {
      "text/html": [
       "<style>\n",
       ".list-inline {list-style: none; margin:0; padding: 0}\n",
       ".list-inline>li {display: inline-block}\n",
       ".list-inline>li:not(:last-child)::after {content: \"\\00b7\"; padding: 0 .5ex}\n",
       "</style>\n",
       "<ol class=list-inline><li>1</li><li>2</li><li>2</li><li>3</li><li>3</li><li>3</li></ol>\n"
      ],
      "text/latex": [
       "\\begin{enumerate*}\n",
       "\\item 1\n",
       "\\item 2\n",
       "\\item 2\n",
       "\\item 3\n",
       "\\item 3\n",
       "\\item 3\n",
       "\\end{enumerate*}\n"
      ],
      "text/markdown": [
       "1. 1\n",
       "2. 2\n",
       "3. 2\n",
       "4. 3\n",
       "5. 3\n",
       "6. 3\n",
       "\n",
       "\n"
      ],
      "text/plain": [
       "[1] 1 2 2 3 3 3"
      ]
     },
     "metadata": {},
     "output_type": "display_data"
    }
   ],
   "source": [
    "rep(1:3, times = 3)\n",
    "rep(1:3, times = c(1, 2, 3))"
   ]
  }
 ],
 "metadata": {
  "kernelspec": {
   "display_name": "R",
   "language": "R",
   "name": "ir"
  },
  "language_info": {
   "codemirror_mode": "r",
   "file_extension": ".r",
   "mimetype": "text/x-r-source",
   "name": "R",
   "pygments_lexer": "r",
   "version": "4.5.1"
  }
 },
 "nbformat": 4,
 "nbformat_minor": 5
}
