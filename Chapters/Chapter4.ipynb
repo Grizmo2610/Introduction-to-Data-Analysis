{
 "cells": [
  {
   "cell_type": "markdown",
   "id": "67612663",
   "metadata": {},
   "source": [
    "# **Data Frame trong R**\n",
    "Trong R, data frame là cấu trúc dữ liệu dùng để lưu trữ bảng dữ liệu dạng hàng và cột, mỗi cột có thể là một kiểu dữ liệu khác nhau (numeric, character, factor…). Nó tương tự như bảng trong Excel hoặc SQL.\n",
    "\n",
    "Ví dụ tạo 1 DataFrame"
   ]
  },
  {
   "cell_type": "code",
   "execution_count": 1,
   "id": "005244f2",
   "metadata": {
    "vscode": {
     "languageId": "r"
    }
   },
   "outputs": [
    {
     "name": "stdout",
     "output_type": "stream",
     "text": [
      "  ID Name Age\n",
      "1  1    A  25\n",
      "2  2    B  30\n",
      "3  3    C  22\n"
     ]
    }
   ],
   "source": [
    "# Tạo data frame từ các vector\n",
    "id <- c(1, 2, 3)\n",
    "name <- c(\"A\", \"B\", \"C\")\n",
    "age <- c(25, 30, 22)\n",
    "\n",
    "df <- data.frame(ID = id, Name = name, Age = age)\n",
    "print(df)"
   ]
  },
  {
   "cell_type": "markdown",
   "id": "7e25bb70",
   "metadata": {},
   "source": [
    "Cú pháp của Dataframe là \n",
    "```r\n",
    "data.frame(...)\n",
    "```\n",
    "\n",
    "Chính vì thế nên có thể truyền nhiều tham số với tên khác nhau, không nhất thiết phải đặt giống như trong ví dụ.\n",
    "\n",
    "---\n",
    "\n",
    "### Truy cập dữ liệu với DataFrame\n",
    "\n",
    "Để truy cập dữ liệu trong DataFrame ta thực hiện 1 số cách như sau:\n",
    "* Sử dụng `$<col>` hoặc `df[ , \"<col>\"]` để lấy một cột cụ thể (với `<col>` là tên cột đó)"
   ]
  },
  {
   "cell_type": "code",
   "execution_count": 2,
   "id": "37e9acad",
   "metadata": {
    "vscode": {
     "languageId": "r"
    }
   },
   "outputs": [
    {
     "name": "stdout",
     "output_type": "stream",
     "text": [
      "[1] \"A\" \"B\" \"C\"\n",
      "[1] 25 30 22\n"
     ]
    }
   ],
   "source": [
    "print(df$Name)\n",
    "print(df[ , \"Age\"])"
   ]
  },
  {
   "cell_type": "markdown",
   "id": "1c8fb396",
   "metadata": {},
   "source": [
    "* Sử dụng `df[<row>, ]` để lấy hàng cụ thể (với `<row>` là hàng tương ứng)"
   ]
  },
  {
   "cell_type": "code",
   "execution_count": 3,
   "id": "34a5c788",
   "metadata": {
    "vscode": {
     "languageId": "r"
    }
   },
   "outputs": [
    {
     "name": "stdout",
     "output_type": "stream",
     "text": [
      "  ID Name Age\n",
      "1  1    A  25\n"
     ]
    }
   ],
   "source": [
    "print(df[1, ])"
   ]
  },
  {
   "cell_type": "markdown",
   "id": "473c769f",
   "metadata": {},
   "source": [
    "* Sử dụng kết hợp để lấy giá trị tại 1 ô cụ thể: `df[<row>, \"<col>\"]` (với `<col>` là tên cột đó và `<row>` là hàng tương ứng)"
   ]
  },
  {
   "cell_type": "code",
   "execution_count": 4,
   "id": "c0934aa4",
   "metadata": {
    "vscode": {
     "languageId": "r"
    }
   },
   "outputs": [
    {
     "name": "stdout",
     "output_type": "stream",
     "text": [
      "[1] \"A\"\n"
     ]
    }
   ],
   "source": [
    "print(df[1, \"Name\"])"
   ]
  },
  {
   "cell_type": "markdown",
   "id": "ae9ef8ad",
   "metadata": {},
   "source": [
    "* Một vài cách hiển thị khác với \n",
    "    * `View(df)` - Lưu ý chữ **V** Là viết hoa: Hiển thị toàn bộ DataFrame trong 1 task mới (Áp dụng cho R Studio)\n",
    "    * `head(x=df, n=3)`: Lấy ra `n` hàng đầu tiên của DataFrame `x`\n",
    "    * `tail(x=df, n=2)`: Lấy ra `n` hàng cuối cùng của DataFrame `x`"
   ]
  },
  {
   "cell_type": "code",
   "execution_count": 5,
   "id": "c79cd096",
   "metadata": {
    "vscode": {
     "languageId": "r"
    }
   },
   "outputs": [
    {
     "data": {
      "text/html": [
       "<table class=\"dataframe\">\n",
       "<caption>A data.frame: 3 × 3</caption>\n",
       "<thead>\n",
       "\t<tr><th scope=col>ID</th><th scope=col>Name</th><th scope=col>Age</th></tr>\n",
       "\t<tr><th scope=col>&lt;dbl&gt;</th><th scope=col>&lt;chr&gt;</th><th scope=col>&lt;dbl&gt;</th></tr>\n",
       "</thead>\n",
       "<tbody>\n",
       "\t<tr><td>1</td><td>A</td><td>25</td></tr>\n",
       "\t<tr><td>2</td><td>B</td><td>30</td></tr>\n",
       "\t<tr><td>3</td><td>C</td><td>22</td></tr>\n",
       "</tbody>\n",
       "</table>\n"
      ],
      "text/latex": [
       "A data.frame: 3 × 3\n",
       "\\begin{tabular}{lll}\n",
       " ID & Name & Age\\\\\n",
       " <dbl> & <chr> & <dbl>\\\\\n",
       "\\hline\n",
       "\t 1 & A & 25\\\\\n",
       "\t 2 & B & 30\\\\\n",
       "\t 3 & C & 22\\\\\n",
       "\\end{tabular}\n"
      ],
      "text/markdown": [
       "\n",
       "A data.frame: 3 × 3\n",
       "\n",
       "| ID &lt;dbl&gt; | Name &lt;chr&gt; | Age &lt;dbl&gt; |\n",
       "|---|---|---|\n",
       "| 1 | A | 25 |\n",
       "| 2 | B | 30 |\n",
       "| 3 | C | 22 |\n",
       "\n"
      ],
      "text/plain": [
       "  ID Name Age\n",
       "1 1  A    25 \n",
       "2 2  B    30 \n",
       "3 3  C    22 "
      ]
     },
     "metadata": {},
     "output_type": "display_data"
    },
    {
     "data": {
      "text/html": [
       "<table class=\"dataframe\">\n",
       "<caption>A data.frame: 3 × 3</caption>\n",
       "<thead>\n",
       "\t<tr><th></th><th scope=col>ID</th><th scope=col>Name</th><th scope=col>Age</th></tr>\n",
       "\t<tr><th></th><th scope=col>&lt;dbl&gt;</th><th scope=col>&lt;chr&gt;</th><th scope=col>&lt;dbl&gt;</th></tr>\n",
       "</thead>\n",
       "<tbody>\n",
       "\t<tr><th scope=row>1</th><td>1</td><td>A</td><td>25</td></tr>\n",
       "\t<tr><th scope=row>2</th><td>2</td><td>B</td><td>30</td></tr>\n",
       "\t<tr><th scope=row>3</th><td>3</td><td>C</td><td>22</td></tr>\n",
       "</tbody>\n",
       "</table>\n"
      ],
      "text/latex": [
       "A data.frame: 3 × 3\n",
       "\\begin{tabular}{r|lll}\n",
       "  & ID & Name & Age\\\\\n",
       "  & <dbl> & <chr> & <dbl>\\\\\n",
       "\\hline\n",
       "\t1 & 1 & A & 25\\\\\n",
       "\t2 & 2 & B & 30\\\\\n",
       "\t3 & 3 & C & 22\\\\\n",
       "\\end{tabular}\n"
      ],
      "text/markdown": [
       "\n",
       "A data.frame: 3 × 3\n",
       "\n",
       "| <!--/--> | ID &lt;dbl&gt; | Name &lt;chr&gt; | Age &lt;dbl&gt; |\n",
       "|---|---|---|---|\n",
       "| 1 | 1 | A | 25 |\n",
       "| 2 | 2 | B | 30 |\n",
       "| 3 | 3 | C | 22 |\n",
       "\n"
      ],
      "text/plain": [
       "  ID Name Age\n",
       "1 1  A    25 \n",
       "2 2  B    30 \n",
       "3 3  C    22 "
      ]
     },
     "metadata": {},
     "output_type": "display_data"
    },
    {
     "data": {
      "text/html": [
       "<table class=\"dataframe\">\n",
       "<caption>A data.frame: 2 × 3</caption>\n",
       "<thead>\n",
       "\t<tr><th></th><th scope=col>ID</th><th scope=col>Name</th><th scope=col>Age</th></tr>\n",
       "\t<tr><th></th><th scope=col>&lt;dbl&gt;</th><th scope=col>&lt;chr&gt;</th><th scope=col>&lt;dbl&gt;</th></tr>\n",
       "</thead>\n",
       "<tbody>\n",
       "\t<tr><th scope=row>2</th><td>2</td><td>B</td><td>30</td></tr>\n",
       "\t<tr><th scope=row>3</th><td>3</td><td>C</td><td>22</td></tr>\n",
       "</tbody>\n",
       "</table>\n"
      ],
      "text/latex": [
       "A data.frame: 2 × 3\n",
       "\\begin{tabular}{r|lll}\n",
       "  & ID & Name & Age\\\\\n",
       "  & <dbl> & <chr> & <dbl>\\\\\n",
       "\\hline\n",
       "\t2 & 2 & B & 30\\\\\n",
       "\t3 & 3 & C & 22\\\\\n",
       "\\end{tabular}\n"
      ],
      "text/markdown": [
       "\n",
       "A data.frame: 2 × 3\n",
       "\n",
       "| <!--/--> | ID &lt;dbl&gt; | Name &lt;chr&gt; | Age &lt;dbl&gt; |\n",
       "|---|---|---|---|\n",
       "| 2 | 2 | B | 30 |\n",
       "| 3 | 3 | C | 22 |\n",
       "\n"
      ],
      "text/plain": [
       "  ID Name Age\n",
       "2 2  B    30 \n",
       "3 3  C    22 "
      ]
     },
     "metadata": {},
     "output_type": "display_data"
    }
   ],
   "source": [
    "View(df)\n",
    "head(df, 3)\n",
    "tail(df, 2)"
   ]
  },
  {
   "cell_type": "markdown",
   "id": "3fa14a3b",
   "metadata": {},
   "source": [
    "* Thêm cột `df$<col> <- <vector` Trong đó:\n",
    "    * `<col>` là tên cột mới\n",
    "    * `<vector>` là giá trị của các cột mới. Lưu ý số lượng phần tử phải bằng với số hàng"
   ]
  },
  {
   "cell_type": "code",
   "execution_count": 6,
   "id": "8488f9a2",
   "metadata": {
    "vscode": {
     "languageId": "r"
    }
   },
   "outputs": [
    {
     "name": "stdout",
     "output_type": "stream",
     "text": [
      "  ID Name Age Salary\n",
      "1  1    A  25   5000\n",
      "2  2    B  30   6000\n",
      "3  3    C  22   4500\n"
     ]
    }
   ],
   "source": [
    "df$Salary <- c(5000, 6000, 4500)\n",
    "print(df)"
   ]
  },
  {
   "cell_type": "markdown",
   "id": "92b7b7fc",
   "metadata": {},
   "source": [
    "* Xóa cột `df$<col> <- NULL` Trong đó:\n",
    "    * `<col>` là tên cột muốn xóa"
   ]
  },
  {
   "cell_type": "code",
   "execution_count": 7,
   "id": "0e0e6a28",
   "metadata": {
    "vscode": {
     "languageId": "r"
    }
   },
   "outputs": [
    {
     "name": "stdout",
     "output_type": "stream",
     "text": [
      "  ID Name Salary\n",
      "1  1    A   5000\n",
      "2  2    B   6000\n",
      "3  3    C   4500\n"
     ]
    }
   ],
   "source": [
    "df$Age <- NULL\n",
    "print(df)"
   ]
  },
  {
   "cell_type": "markdown",
   "id": "c7ae8d15",
   "metadata": {},
   "source": [
    "* Thêm một hàng\n",
    "```r\n",
    "rbind <- data.frame(...)\n",
    "df <- rbind(df, new_row)\n",
    "```\n",
    "Trong đó:\n",
    "* ... là các giá trị tương ứng với từng cột của hàng mới. Lưu ý cần nhập đầy đủ các giá trị và cần nhập như khi tạo 1 DataFrame mới\n",
    "* df là DataFrame gốc mà bạn muốn thêm hàng mới"
   ]
  },
  {
   "cell_type": "code",
   "execution_count": 8,
   "id": "a3c7d33a",
   "metadata": {
    "vscode": {
     "languageId": "r"
    }
   },
   "outputs": [
    {
     "name": "stdout",
     "output_type": "stream",
     "text": [
      "  ID Name Salary\n",
      "1  1    A   5000\n",
      "2  2    B   6000\n",
      "3  3    C   4500\n",
      "4  4    C     10\n"
     ]
    }
   ],
   "source": [
    "new_row <- data.frame(ID=4, Name=\"C\", Salary=10)\n",
    "df <- rbind(df, new_row)\n",
    "print(df)"
   ]
  },
  {
   "cell_type": "markdown",
   "id": "049e6606",
   "metadata": {},
   "source": [
    "# **Nhập xuất dữ liệu**\n",
    "\n",
    "Trong R có rất nhiều hàm giúp chúng ta đọc dữ liệu từ file hoặc packages. Dưới đây là một số hàm phổ biến\n",
    "* Nhập trực tiếp dùng hàm `c()` hoặc `rep()`\n",
    "* Đọc file .csv bằng hàm `read.csv()`\n",
    "* Đọc file .xlsx bằng hàm `read_excel()` trong gói lệnh `readxl`\n",
    "* Đọc dữ liệu từ packages bằng hàm `data()`\n",
    "\n",
    "Để cài đặt gói lệnh ta sử dụng cú pháp: \n",
    "```r\n",
    "install.packages(\"<package_name>\")\n",
    "```\n",
    "Lưu ý `<package_names>` được đặt trong dấu **\"\"**\n",
    "\n",
    "Sau đó ta nạp package trước khi sử dụng\n",
    "```r\n",
    "library(readxl)\n",
    "```\n",
    "\n",
    "Ví dụ: "
   ]
  },
  {
   "cell_type": "code",
   "execution_count": 9,
   "id": "b2015833",
   "metadata": {
    "vscode": {
     "languageId": "r"
    }
   },
   "outputs": [
    {
     "name": "stderr",
     "output_type": "stream",
     "text": [
      "Installing package into 'C:/Users/Hoang Tu/AppData/Local/R/win-library/4.5'\n",
      "(as 'lib' is unspecified)\n",
      "\n"
     ]
    },
    {
     "name": "stdout",
     "output_type": "stream",
     "text": [
      "package 'readxl' successfully unpacked and MD5 sums checked\n",
      "\n",
      "The downloaded binary packages are in\n",
      "\tC:\\Users\\Hoang Tu\\AppData\\Local\\Temp\\RtmpWGnCmE\\downloaded_packages\n"
     ]
    }
   ],
   "source": [
    "install.packages(\"readxl\")\n",
    "library(readxl)"
   ]
  },
  {
   "cell_type": "markdown",
   "id": "d38c57fe",
   "metadata": {},
   "source": [
    "* Nhập dữ liệu trực tiếp"
   ]
  },
  {
   "cell_type": "code",
   "execution_count": 10,
   "id": "9c9d14df",
   "metadata": {
    "vscode": {
     "languageId": "r"
    }
   },
   "outputs": [
    {
     "name": "stdout",
     "output_type": "stream",
     "text": [
      "  age insulin\n",
      "1  50    16.5\n",
      "2  62    10.8\n",
      "3  60    32.3\n",
      "4  40    19.3\n",
      "5  48    14.2\n",
      "6  47    11.3\n",
      "7  57    15.5\n",
      "8  70    15.8\n",
      "9  48    16.2\n"
     ]
    }
   ],
   "source": [
    "age <- c(50, 62, 60, 40, 48, 47, 57, 70, 48)\n",
    "insulin <- c(16.5, 10.8, 32.3, 19.3, 14.2, 11.3, 15.5, 15.8, 16.2)\n",
    "data <- data.frame(age,insulin)\n",
    "print(data)"
   ]
  },
  {
   "cell_type": "markdown",
   "id": "0afa783d",
   "metadata": {},
   "source": [
    "Lưu ý: Bạn cần set thư mục hiện tại dể làm việc với `setwd`\n",
    "```r\n",
    "setwd(\"Path/to/your/folder\")\n",
    "```\n",
    "Ví dụ"
   ]
  },
  {
   "cell_type": "code",
   "execution_count": 11,
   "id": "4fa356ce",
   "metadata": {
    "vscode": {
     "languageId": "r"
    }
   },
   "outputs": [],
   "source": [
    "setwd(\"C:\\\\HoangTu\\\\Programing\\\\University\\\\NMPTDL\")"
   ]
  },
  {
   "cell_type": "markdown",
   "id": "d57a7892",
   "metadata": {},
   "source": [
    "* Đọc dữ liệu từ file “.csv”\n",
    "```r\n",
    "read.csv(\"Path/to/your/csv/file\", header = TRUE)\n",
    "```"
   ]
  },
  {
   "cell_type": "code",
   "execution_count": 12,
   "id": "3649cedd",
   "metadata": {
    "vscode": {
     "languageId": "r"
    }
   },
   "outputs": [
    {
     "data": {
      "text/html": [
       "<table class=\"dataframe\">\n",
       "<caption>A data.frame: 6 × 8</caption>\n",
       "<thead>\n",
       "\t<tr><th></th><th scope=col>OrderDate</th><th scope=col>Region</th><th scope=col>City</th><th scope=col>Category</th><th scope=col>Product</th><th scope=col>Quantity</th><th scope=col>UnitPrice</th><th scope=col>TotalPrice</th></tr>\n",
       "\t<tr><th></th><th scope=col>&lt;chr&gt;</th><th scope=col>&lt;chr&gt;</th><th scope=col>&lt;chr&gt;</th><th scope=col>&lt;chr&gt;</th><th scope=col>&lt;chr&gt;</th><th scope=col>&lt;int&gt;</th><th scope=col>&lt;dbl&gt;</th><th scope=col>&lt;dbl&gt;</th></tr>\n",
       "</thead>\n",
       "<tbody>\n",
       "\t<tr><th scope=row>1</th><td>1/1/2020 </td><td>East</td><td>Boston     </td><td>Bars    </td><td>Carrot        </td><td>33</td><td>1.77</td><td> 58.41</td></tr>\n",
       "\t<tr><th scope=row>2</th><td>4/1/2020 </td><td>East</td><td>Boston     </td><td>Crackers</td><td>Whole Wheat   </td><td>87</td><td>3.49</td><td>303.63</td></tr>\n",
       "\t<tr><th scope=row>3</th><td>7/1/2020 </td><td>West</td><td>Los Angeles</td><td>Cookies </td><td>Chocolate Chip</td><td>58</td><td>1.87</td><td>108.46</td></tr>\n",
       "\t<tr><th scope=row>4</th><td>10/1/2020</td><td>East</td><td>New York   </td><td>Cookies </td><td>Chocolate Chip</td><td>82</td><td>1.87</td><td>153.34</td></tr>\n",
       "\t<tr><th scope=row>5</th><td>13/1/2020</td><td>East</td><td>Boston     </td><td>Cookies </td><td>Arrowroot     </td><td>38</td><td>2.18</td><td> 82.84</td></tr>\n",
       "\t<tr><th scope=row>6</th><td>16/1/2020</td><td>East</td><td>Boston     </td><td>Bars    </td><td>Carrot        </td><td>54</td><td>1.77</td><td> 95.58</td></tr>\n",
       "</tbody>\n",
       "</table>\n"
      ],
      "text/latex": [
       "A data.frame: 6 × 8\n",
       "\\begin{tabular}{r|llllllll}\n",
       "  & OrderDate & Region & City & Category & Product & Quantity & UnitPrice & TotalPrice\\\\\n",
       "  & <chr> & <chr> & <chr> & <chr> & <chr> & <int> & <dbl> & <dbl>\\\\\n",
       "\\hline\n",
       "\t1 & 1/1/2020  & East & Boston      & Bars     & Carrot         & 33 & 1.77 &  58.41\\\\\n",
       "\t2 & 4/1/2020  & East & Boston      & Crackers & Whole Wheat    & 87 & 3.49 & 303.63\\\\\n",
       "\t3 & 7/1/2020  & West & Los Angeles & Cookies  & Chocolate Chip & 58 & 1.87 & 108.46\\\\\n",
       "\t4 & 10/1/2020 & East & New York    & Cookies  & Chocolate Chip & 82 & 1.87 & 153.34\\\\\n",
       "\t5 & 13/1/2020 & East & Boston      & Cookies  & Arrowroot      & 38 & 2.18 &  82.84\\\\\n",
       "\t6 & 16/1/2020 & East & Boston      & Bars     & Carrot         & 54 & 1.77 &  95.58\\\\\n",
       "\\end{tabular}\n"
      ],
      "text/markdown": [
       "\n",
       "A data.frame: 6 × 8\n",
       "\n",
       "| <!--/--> | OrderDate &lt;chr&gt; | Region &lt;chr&gt; | City &lt;chr&gt; | Category &lt;chr&gt; | Product &lt;chr&gt; | Quantity &lt;int&gt; | UnitPrice &lt;dbl&gt; | TotalPrice &lt;dbl&gt; |\n",
       "|---|---|---|---|---|---|---|---|---|\n",
       "| 1 | 1/1/2020  | East | Boston      | Bars     | Carrot         | 33 | 1.77 |  58.41 |\n",
       "| 2 | 4/1/2020  | East | Boston      | Crackers | Whole Wheat    | 87 | 3.49 | 303.63 |\n",
       "| 3 | 7/1/2020  | West | Los Angeles | Cookies  | Chocolate Chip | 58 | 1.87 | 108.46 |\n",
       "| 4 | 10/1/2020 | East | New York    | Cookies  | Chocolate Chip | 82 | 1.87 | 153.34 |\n",
       "| 5 | 13/1/2020 | East | Boston      | Cookies  | Arrowroot      | 38 | 2.18 |  82.84 |\n",
       "| 6 | 16/1/2020 | East | Boston      | Bars     | Carrot         | 54 | 1.77 |  95.58 |\n",
       "\n"
      ],
      "text/plain": [
       "  OrderDate Region City        Category Product        Quantity UnitPrice\n",
       "1 1/1/2020  East   Boston      Bars     Carrot         33       1.77     \n",
       "2 4/1/2020  East   Boston      Crackers Whole Wheat    87       3.49     \n",
       "3 7/1/2020  West   Los Angeles Cookies  Chocolate Chip 58       1.87     \n",
       "4 10/1/2020 East   New York    Cookies  Chocolate Chip 82       1.87     \n",
       "5 13/1/2020 East   Boston      Cookies  Arrowroot      38       2.18     \n",
       "6 16/1/2020 East   Boston      Bars     Carrot         54       1.77     \n",
       "  TotalPrice\n",
       "1  58.41    \n",
       "2 303.63    \n",
       "3 108.46    \n",
       "4 153.34    \n",
       "5  82.84    \n",
       "6  95.58    "
      ]
     },
     "metadata": {},
     "output_type": "display_data"
    }
   ],
   "source": [
    "data <- read.csv(\"Data/Product.csv\", header = TRUE,encoding =\"utf8\")\n",
    "head(data)"
   ]
  },
  {
   "cell_type": "markdown",
   "id": "fbc4f9cc",
   "metadata": {},
   "source": [
    "* Đọc dữ liệu từ file \".xlsx\" (File excel)\n",
    "```r\n",
    "library(readxl)\n",
    "data = read_excel(\"Path\\\\to\\\\your\\\\xlsx\\\\file\")\n",
    "```"
   ]
  },
  {
   "cell_type": "code",
   "execution_count": 13,
   "id": "f74a662d",
   "metadata": {
    "vscode": {
     "languageId": "r"
    }
   },
   "outputs": [
    {
     "data": {
      "text/html": [
       "<table class=\"dataframe\">\n",
       "<caption>A tibble: 5 × 10</caption>\n",
       "<thead>\n",
       "\t<tr><th scope=col>Country</th><th scope=col>Region (Khuvuc)</th><th scope=col>Population (Danso)</th><th scope=col>Under15</th><th scope=col>Over60</th><th scope=col>FertilityRate (Tylesinhsan)</th><th scope=col>LifeExpectancy (Tuoitho)</th><th scope=col>ChildMortality (Tiletuvongotreem)</th><th scope=col>LiteracyRate (Tylebietdocviet)</th><th scope=col>GNI (Thunhapquocdan)</th></tr>\n",
       "\t<tr><th scope=col>&lt;chr&gt;</th><th scope=col>&lt;chr&gt;</th><th scope=col>&lt;dbl&gt;</th><th scope=col>&lt;chr&gt;</th><th scope=col>&lt;chr&gt;</th><th scope=col>&lt;chr&gt;</th><th scope=col>&lt;dbl&gt;</th><th scope=col>&lt;chr&gt;</th><th scope=col>&lt;chr&gt;</th><th scope=col>&lt;dbl&gt;</th></tr>\n",
       "</thead>\n",
       "<tbody>\n",
       "\t<tr><td>Afghanistan</td><td>Eastern Mediterranean</td><td>29825</td><td>47.42  </td><td>3.82 </td><td>45752.0 </td><td>60</td><td>98.5   </td><td>NA      </td><td>1140</td></tr>\n",
       "\t<tr><td>Albania    </td><td>Europe               </td><td> 3162</td><td>21.33  </td><td>14.93</td><td>\n",
       "1.75\n",
       "</td><td>74</td><td>45854.0</td><td>NA      </td><td>8820</td></tr>\n",
       "\t<tr><td>Algeria    </td><td>Africa               </td><td>38482</td><td>27.42  </td><td>7.17 </td><td>\n",
       "2.83\n",
       "</td><td>73</td><td>20.0   </td><td>NA      </td><td>8310</td></tr>\n",
       "\t<tr><td>Andorra    </td><td>Europe               </td><td>   78</td><td>45703.0</td><td>22.86</td><td>NA      </td><td>82</td><td>45691.0</td><td>NA      </td><td>  NA</td></tr>\n",
       "\t<tr><td>Angola     </td><td>Africa               </td><td>20821</td><td>47.58  </td><td>3.84 </td><td>45663.0 </td><td>51</td><td>163.5  </td><td>\n",
       "70.1\n",
       "</td><td>5230</td></tr>\n",
       "</tbody>\n",
       "</table>\n"
      ],
      "text/latex": [
       "A tibble: 5 × 10\n",
       "\\begin{tabular}{llllllllll}\n",
       " Country & Region (Khuvuc) & Population (Danso) & Under15 & Over60 & FertilityRate (Tylesinhsan) & LifeExpectancy (Tuoitho) & ChildMortality (Tiletuvongotreem) & LiteracyRate (Tylebietdocviet) & GNI (Thunhapquocdan)\\\\\n",
       " <chr> & <chr> & <dbl> & <chr> & <chr> & <chr> & <dbl> & <chr> & <chr> & <dbl>\\\\\n",
       "\\hline\n",
       "\t Afghanistan & Eastern Mediterranean & 29825 & 47.42   & 3.82  & 45752.0  & 60 & 98.5    & NA       & 1140\\\\\n",
       "\t Albania     & Europe                &  3162 & 21.33   & 14.93 & \n",
       "1.75\n",
       " & 74 & 45854.0 & NA       & 8820\\\\\n",
       "\t Algeria     & Africa                & 38482 & 27.42   & 7.17  & \n",
       "2.83\n",
       " & 73 & 20.0    & NA       & 8310\\\\\n",
       "\t Andorra     & Europe                &    78 & 45703.0 & 22.86 & NA       & 82 & 45691.0 & NA       &   NA\\\\\n",
       "\t Angola      & Africa                & 20821 & 47.58   & 3.84  & 45663.0  & 51 & 163.5   & \n",
       "70.1\n",
       " & 5230\\\\\n",
       "\\end{tabular}\n"
      ],
      "text/markdown": [
       "\n",
       "A tibble: 5 × 10\n",
       "\n",
       "| Country &lt;chr&gt; | Region (Khuvuc) &lt;chr&gt; | Population (Danso) &lt;dbl&gt; | Under15 &lt;chr&gt; | Over60 &lt;chr&gt; | FertilityRate (Tylesinhsan) &lt;chr&gt; | LifeExpectancy (Tuoitho) &lt;dbl&gt; | ChildMortality (Tiletuvongotreem) &lt;chr&gt; | LiteracyRate (Tylebietdocviet) &lt;chr&gt; | GNI (Thunhapquocdan) &lt;dbl&gt; |\n",
       "|---|---|---|---|---|---|---|---|---|---|\n",
       "| Afghanistan | Eastern Mediterranean | 29825 | 47.42   | 3.82  | 45752.0  | 60 | 98.5    | NA       | 1140 |\n",
       "| Albania     | Europe                |  3162 | 21.33   | 14.93 | \n",
       "1.75\n",
       " | 74 | 45854.0 | NA       | 8820 |\n",
       "| Algeria     | Africa                | 38482 | 27.42   | 7.17  | \n",
       "2.83\n",
       " | 73 | 20.0    | NA       | 8310 |\n",
       "| Andorra     | Europe                |    78 | 45703.0 | 22.86 | NA       | 82 | 45691.0 | NA       |   NA |\n",
       "| Angola      | Africa                | 20821 | 47.58   | 3.84  | 45663.0  | 51 | 163.5   | \n",
       "70.1\n",
       " | 5230 |\n",
       "\n"
      ],
      "text/plain": [
       "  Country     Region (Khuvuc)       Population (Danso) Under15 Over60\n",
       "1 Afghanistan Eastern Mediterranean 29825              47.42   3.82  \n",
       "2 Albania     Europe                 3162              21.33   14.93 \n",
       "3 Algeria     Africa                38482              27.42   7.17  \n",
       "4 Andorra     Europe                   78              45703.0 22.86 \n",
       "5 Angola      Africa                20821              47.58   3.84  \n",
       "  FertilityRate (Tylesinhsan) LifeExpectancy (Tuoitho)\n",
       "1 45752.0                     60                      \n",
       "2 \\n1.75\\n                    74                      \n",
       "3 \\n2.83\\n                    73                      \n",
       "4 NA                          82                      \n",
       "5 45663.0                     51                      \n",
       "  ChildMortality (Tiletuvongotreem) LiteracyRate (Tylebietdocviet)\n",
       "1 98.5                              NA                            \n",
       "2 45854.0                           NA                            \n",
       "3 20.0                              NA                            \n",
       "4 45691.0                           NA                            \n",
       "5 163.5                             \\n70.1\\n                      \n",
       "  GNI (Thunhapquocdan)\n",
       "1 1140                \n",
       "2 8820                \n",
       "3 8310                \n",
       "4   NA                \n",
       "5 5230                "
      ]
     },
     "metadata": {},
     "output_type": "display_data"
    }
   ],
   "source": [
    "library(readxl)\n",
    "data = read_excel(\"Data/WHO1.xlsx\")\n",
    "head(data, 5)"
   ]
  },
  {
   "cell_type": "markdown",
   "id": "e61aa5b4",
   "metadata": {},
   "source": [
    "* Đọc dữ liệu từ packages\n",
    "```r\n",
    "library(<package>)\n",
    "data(<Data>)\n",
    "dim(<Data>)\n",
    "```\n",
    "\n",
    "Trong đó:\n",
    "* `library(<package>)`: load gói chứa dữ liệu hoặc hàm cần dùng.\n",
    "* `data(<Data>)`: tải dataset `<Data>` từ gói đã load vào bộ nhớ R.\n",
    "* `dim(<Data>)`: hiển thị **kích thước** của dataset, gồm số **hàng** và số **cột**. - Tùy chọn nếu như muốn xem kích thước, có thể bỏ qua.\n"
   ]
  },
  {
   "cell_type": "code",
   "execution_count": 14,
   "id": "3c8ebae7",
   "metadata": {
    "vscode": {
     "languageId": "r"
    }
   },
   "outputs": [
    {
     "data": {
      "text/html": [
       "<style>\n",
       ".list-inline {list-style: none; margin:0; padding: 0}\n",
       ".list-inline>li {display: inline-block}\n",
       ".list-inline>li:not(:last-child)::after {content: \"\\00b7\"; padding: 0 .5ex}\n",
       "</style>\n",
       "<ol class=list-inline><li>506</li><li>14</li></ol>\n"
      ],
      "text/latex": [
       "\\begin{enumerate*}\n",
       "\\item 506\n",
       "\\item 14\n",
       "\\end{enumerate*}\n"
      ],
      "text/markdown": [
       "1. 506\n",
       "2. 14\n",
       "\n",
       "\n"
      ],
      "text/plain": [
       "[1] 506  14"
      ]
     },
     "metadata": {},
     "output_type": "display_data"
    },
    {
     "data": {
      "text/html": [
       "<table class=\"dataframe\">\n",
       "<caption>A data.frame: 6 × 14</caption>\n",
       "<thead>\n",
       "\t<tr><th></th><th scope=col>crim</th><th scope=col>zn</th><th scope=col>indus</th><th scope=col>chas</th><th scope=col>nox</th><th scope=col>rm</th><th scope=col>age</th><th scope=col>dis</th><th scope=col>rad</th><th scope=col>tax</th><th scope=col>ptratio</th><th scope=col>black</th><th scope=col>lstat</th><th scope=col>medv</th></tr>\n",
       "\t<tr><th></th><th scope=col>&lt;dbl&gt;</th><th scope=col>&lt;dbl&gt;</th><th scope=col>&lt;dbl&gt;</th><th scope=col>&lt;int&gt;</th><th scope=col>&lt;dbl&gt;</th><th scope=col>&lt;dbl&gt;</th><th scope=col>&lt;dbl&gt;</th><th scope=col>&lt;dbl&gt;</th><th scope=col>&lt;int&gt;</th><th scope=col>&lt;dbl&gt;</th><th scope=col>&lt;dbl&gt;</th><th scope=col>&lt;dbl&gt;</th><th scope=col>&lt;dbl&gt;</th><th scope=col>&lt;dbl&gt;</th></tr>\n",
       "</thead>\n",
       "<tbody>\n",
       "\t<tr><th scope=row>1</th><td>0.00632</td><td>18</td><td>2.31</td><td>0</td><td>0.538</td><td>6.575</td><td>65.2</td><td>4.0900</td><td>1</td><td>296</td><td>15.3</td><td>396.90</td><td>4.98</td><td>24.0</td></tr>\n",
       "\t<tr><th scope=row>2</th><td>0.02731</td><td> 0</td><td>7.07</td><td>0</td><td>0.469</td><td>6.421</td><td>78.9</td><td>4.9671</td><td>2</td><td>242</td><td>17.8</td><td>396.90</td><td>9.14</td><td>21.6</td></tr>\n",
       "\t<tr><th scope=row>3</th><td>0.02729</td><td> 0</td><td>7.07</td><td>0</td><td>0.469</td><td>7.185</td><td>61.1</td><td>4.9671</td><td>2</td><td>242</td><td>17.8</td><td>392.83</td><td>4.03</td><td>34.7</td></tr>\n",
       "\t<tr><th scope=row>4</th><td>0.03237</td><td> 0</td><td>2.18</td><td>0</td><td>0.458</td><td>6.998</td><td>45.8</td><td>6.0622</td><td>3</td><td>222</td><td>18.7</td><td>394.63</td><td>2.94</td><td>33.4</td></tr>\n",
       "\t<tr><th scope=row>5</th><td>0.06905</td><td> 0</td><td>2.18</td><td>0</td><td>0.458</td><td>7.147</td><td>54.2</td><td>6.0622</td><td>3</td><td>222</td><td>18.7</td><td>396.90</td><td>5.33</td><td>36.2</td></tr>\n",
       "\t<tr><th scope=row>6</th><td>0.02985</td><td> 0</td><td>2.18</td><td>0</td><td>0.458</td><td>6.430</td><td>58.7</td><td>6.0622</td><td>3</td><td>222</td><td>18.7</td><td>394.12</td><td>5.21</td><td>28.7</td></tr>\n",
       "</tbody>\n",
       "</table>\n"
      ],
      "text/latex": [
       "A data.frame: 6 × 14\n",
       "\\begin{tabular}{r|llllllllllllll}\n",
       "  & crim & zn & indus & chas & nox & rm & age & dis & rad & tax & ptratio & black & lstat & medv\\\\\n",
       "  & <dbl> & <dbl> & <dbl> & <int> & <dbl> & <dbl> & <dbl> & <dbl> & <int> & <dbl> & <dbl> & <dbl> & <dbl> & <dbl>\\\\\n",
       "\\hline\n",
       "\t1 & 0.00632 & 18 & 2.31 & 0 & 0.538 & 6.575 & 65.2 & 4.0900 & 1 & 296 & 15.3 & 396.90 & 4.98 & 24.0\\\\\n",
       "\t2 & 0.02731 &  0 & 7.07 & 0 & 0.469 & 6.421 & 78.9 & 4.9671 & 2 & 242 & 17.8 & 396.90 & 9.14 & 21.6\\\\\n",
       "\t3 & 0.02729 &  0 & 7.07 & 0 & 0.469 & 7.185 & 61.1 & 4.9671 & 2 & 242 & 17.8 & 392.83 & 4.03 & 34.7\\\\\n",
       "\t4 & 0.03237 &  0 & 2.18 & 0 & 0.458 & 6.998 & 45.8 & 6.0622 & 3 & 222 & 18.7 & 394.63 & 2.94 & 33.4\\\\\n",
       "\t5 & 0.06905 &  0 & 2.18 & 0 & 0.458 & 7.147 & 54.2 & 6.0622 & 3 & 222 & 18.7 & 396.90 & 5.33 & 36.2\\\\\n",
       "\t6 & 0.02985 &  0 & 2.18 & 0 & 0.458 & 6.430 & 58.7 & 6.0622 & 3 & 222 & 18.7 & 394.12 & 5.21 & 28.7\\\\\n",
       "\\end{tabular}\n"
      ],
      "text/markdown": [
       "\n",
       "A data.frame: 6 × 14\n",
       "\n",
       "| <!--/--> | crim &lt;dbl&gt; | zn &lt;dbl&gt; | indus &lt;dbl&gt; | chas &lt;int&gt; | nox &lt;dbl&gt; | rm &lt;dbl&gt; | age &lt;dbl&gt; | dis &lt;dbl&gt; | rad &lt;int&gt; | tax &lt;dbl&gt; | ptratio &lt;dbl&gt; | black &lt;dbl&gt; | lstat &lt;dbl&gt; | medv &lt;dbl&gt; |\n",
       "|---|---|---|---|---|---|---|---|---|---|---|---|---|---|---|\n",
       "| 1 | 0.00632 | 18 | 2.31 | 0 | 0.538 | 6.575 | 65.2 | 4.0900 | 1 | 296 | 15.3 | 396.90 | 4.98 | 24.0 |\n",
       "| 2 | 0.02731 |  0 | 7.07 | 0 | 0.469 | 6.421 | 78.9 | 4.9671 | 2 | 242 | 17.8 | 396.90 | 9.14 | 21.6 |\n",
       "| 3 | 0.02729 |  0 | 7.07 | 0 | 0.469 | 7.185 | 61.1 | 4.9671 | 2 | 242 | 17.8 | 392.83 | 4.03 | 34.7 |\n",
       "| 4 | 0.03237 |  0 | 2.18 | 0 | 0.458 | 6.998 | 45.8 | 6.0622 | 3 | 222 | 18.7 | 394.63 | 2.94 | 33.4 |\n",
       "| 5 | 0.06905 |  0 | 2.18 | 0 | 0.458 | 7.147 | 54.2 | 6.0622 | 3 | 222 | 18.7 | 396.90 | 5.33 | 36.2 |\n",
       "| 6 | 0.02985 |  0 | 2.18 | 0 | 0.458 | 6.430 | 58.7 | 6.0622 | 3 | 222 | 18.7 | 394.12 | 5.21 | 28.7 |\n",
       "\n"
      ],
      "text/plain": [
       "  crim    zn indus chas nox   rm    age  dis    rad tax ptratio black  lstat\n",
       "1 0.00632 18 2.31  0    0.538 6.575 65.2 4.0900 1   296 15.3    396.90 4.98 \n",
       "2 0.02731  0 7.07  0    0.469 6.421 78.9 4.9671 2   242 17.8    396.90 9.14 \n",
       "3 0.02729  0 7.07  0    0.469 7.185 61.1 4.9671 2   242 17.8    392.83 4.03 \n",
       "4 0.03237  0 2.18  0    0.458 6.998 45.8 6.0622 3   222 18.7    394.63 2.94 \n",
       "5 0.06905  0 2.18  0    0.458 7.147 54.2 6.0622 3   222 18.7    396.90 5.33 \n",
       "6 0.02985  0 2.18  0    0.458 6.430 58.7 6.0622 3   222 18.7    394.12 5.21 \n",
       "  medv\n",
       "1 24.0\n",
       "2 21.6\n",
       "3 34.7\n",
       "4 33.4\n",
       "5 36.2\n",
       "6 28.7"
      ]
     },
     "metadata": {},
     "output_type": "display_data"
    }
   ],
   "source": [
    "library(MASS)\n",
    "data(Boston)\n",
    "dim(Boston)\n",
    "head(Boston)"
   ]
  },
  {
   "cell_type": "markdown",
   "id": "527666f0",
   "metadata": {},
   "source": [
    "Ngoài ra, R có rất nhiều hàm giúp chúng ta xuất data frame ra các định dạng tệp khác nhau:\n",
    "* Ghi ra file .csv dùng hàm `write.csv()`\n",
    "```r\n",
    "write.csv(data, \"Path/to/save/file.csv\")\n",
    "```"
   ]
  },
  {
   "cell_type": "code",
   "execution_count": 15,
   "id": "3d0f442c",
   "metadata": {
    "vscode": {
     "languageId": "r"
    }
   },
   "outputs": [],
   "source": [
    "data <- mtcars\n",
    "write.csv(data, \"Data/mtcars.csv\")"
   ]
  },
  {
   "cell_type": "markdown",
   "id": "3e670cba",
   "metadata": {},
   "source": [
    "* Ghi ra file .xlsx dùng hàm `write_xlsx()` trong gói writexl\n",
    "```r\n",
    "library(writexl)\n",
    "data <- mtcars\n",
    "write_xlsx(data, \"Path/to/save/file.xlsx\")\n",
    "```\n",
    "\n",
    "Lưu ý: Cần cài đặt gói \"writexl\" trước khi sử dụng"
   ]
  },
  {
   "cell_type": "code",
   "execution_count": 16,
   "id": "77074035",
   "metadata": {
    "vscode": {
     "languageId": "r"
    }
   },
   "outputs": [
    {
     "name": "stderr",
     "output_type": "stream",
     "text": [
      "Installing package into 'C:/Users/Hoang Tu/AppData/Local/R/win-library/4.5'\n",
      "(as 'lib' is unspecified)\n",
      "\n"
     ]
    },
    {
     "name": "stdout",
     "output_type": "stream",
     "text": [
      "package 'writexl' successfully unpacked and MD5 sums checked\n",
      "\n",
      "The downloaded binary packages are in\n",
      "\tC:\\Users\\Hoang Tu\\AppData\\Local\\Temp\\RtmpWGnCmE\\downloaded_packages\n"
     ]
    }
   ],
   "source": [
    "install.packages(\"writexl\")\n",
    "library(writexl)\n",
    "data <- mtcars\n",
    "write_xlsx(data, \"Data/mtcars.xlsx\")"
   ]
  }
 ],
 "metadata": {
  "kernelspec": {
   "display_name": "R",
   "language": "R",
   "name": "ir"
  },
  "language_info": {
   "codemirror_mode": "r",
   "file_extension": ".r",
   "mimetype": "text/x-r-source",
   "name": "R",
   "pygments_lexer": "r",
   "version": "4.5.1"
  }
 },
 "nbformat": 4,
 "nbformat_minor": 5
}
