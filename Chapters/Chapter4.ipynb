{
 "cells": [
  {
   "cell_type": "markdown",
   "id": "67612663",
   "metadata": {},
   "source": [
    "# **Data Frame trong R**\n",
    "Trong R, data frame là cấu trúc dữ liệu dùng để lưu trữ bảng dữ liệu dạng hàng và cột, mỗi cột có thể là một kiểu dữ liệu khác nhau (numeric, character, factor…). Nó tương tự như bảng trong Excel hoặc SQL.\n",
    "\n",
    "Ví dụ tạo 1 DataFrame"
   ]
  },
  {
   "cell_type": "code",
   "execution_count": 1,
   "id": "005244f2",
   "metadata": {
    "vscode": {
     "languageId": "r"
    }
   },
   "outputs": [
    {
     "name": "stdout",
     "output_type": "stream",
     "text": [
      "  ID Name Age\n",
      "1  1    A  25\n",
      "2  2    B  30\n",
      "3  3    C  22\n"
     ]
    }
   ],
   "source": [
    "# Tạo data frame từ các vector\n",
    "id <- c(1, 2, 3)\n",
    "name <- c(\"A\", \"B\", \"C\")\n",
    "age <- c(25, 30, 22)\n",
    "\n",
    "df <- data.frame(ID = id, Name = name, Age = age)\n",
    "print(df)"
   ]
  },
  {
   "cell_type": "markdown",
   "id": "7e25bb70",
   "metadata": {},
   "source": [
    "Cú pháp của Dataframe là \n",
    "```r\n",
    "data.frame(...)\n",
    "```\n",
    "\n",
    "Chính vì thế nên có thể truyền nhiều tham số với tên khác nhau, không nhất thiết phải đặt giống như trong ví dụ.\n",
    "\n",
    "---\n",
    "\n",
    "### Truy cập dữ liệu với DataFrame\n",
    "\n",
    "Để truy cập dữ liệu trong DataFrame ta thực hiện 1 số cách như sau:\n",
    "* Sử dụng `$<col>` hoặc `df[ , \"<col>\"]` để lấy một cột cụ thể (với `<col>` là tên cột đó)"
   ]
  },
  {
   "cell_type": "code",
   "execution_count": 2,
   "id": "37e9acad",
   "metadata": {
    "vscode": {
     "languageId": "r"
    }
   },
   "outputs": [
    {
     "name": "stdout",
     "output_type": "stream",
     "text": [
      "[1] \"A\" \"B\" \"C\"\n",
      "[1] 25 30 22\n"
     ]
    }
   ],
   "source": [
    "print(df$Name)\n",
    "print(df[ , \"Age\"])"
   ]
  },
  {
   "cell_type": "markdown",
   "id": "1c8fb396",
   "metadata": {},
   "source": [
    "* Sử dụng `df[<row>, ]` để lấy hàng cụ thể (với `<row>` là hàng tương ứng)"
   ]
  },
  {
   "cell_type": "code",
   "execution_count": 3,
   "id": "34a5c788",
   "metadata": {
    "vscode": {
     "languageId": "r"
    }
   },
   "outputs": [
    {
     "name": "stdout",
     "output_type": "stream",
     "text": [
      "  ID Name Age\n",
      "1  1    A  25\n"
     ]
    }
   ],
   "source": [
    "print(df[1, ])"
   ]
  },
  {
   "cell_type": "markdown",
   "id": "473c769f",
   "metadata": {},
   "source": [
    "* Sử dụng kết hợp để lấy giá trị tại 1 ô cụ thể: `df[<row>, \"<col>\"]` (với `<col>` là tên cột đó và `<row>` là hàng tương ứng)"
   ]
  },
  {
   "cell_type": "code",
   "execution_count": 4,
   "id": "c0934aa4",
   "metadata": {
    "vscode": {
     "languageId": "r"
    }
   },
   "outputs": [
    {
     "name": "stdout",
     "output_type": "stream",
     "text": [
      "[1] \"A\"\n"
     ]
    }
   ],
   "source": [
    "print(df[1, \"Name\"])"
   ]
  },
  {
   "cell_type": "markdown",
   "id": "ae9ef8ad",
   "metadata": {},
   "source": [
    "* Một vài cách hiển thị khác với \n",
    "    * `View(df)` - Lưu ý chữ **V** Là viết hoa: Hiển thị toàn bộ DataFrame trong 1 task mới (Áp dụng cho R Studio)\n",
    "    * `head(x=df, n=3)`: Lấy ra `n` hàng đầu tiên của DataFrame `x`\n",
    "    * `tail(x=df, n=2)`: Lấy ra `n` hàng cuối cùng của DataFrame `x`"
   ]
  },
  {
   "cell_type": "code",
   "execution_count": 5,
   "id": "c79cd096",
   "metadata": {
    "vscode": {
     "languageId": "r"
    }
   },
   "outputs": [
    {
     "data": {
      "text/html": [
       "<table class=\"dataframe\">\n",
       "<caption>A data.frame: 3 × 3</caption>\n",
       "<thead>\n",
       "\t<tr><th scope=col>ID</th><th scope=col>Name</th><th scope=col>Age</th></tr>\n",
       "\t<tr><th scope=col>&lt;dbl&gt;</th><th scope=col>&lt;chr&gt;</th><th scope=col>&lt;dbl&gt;</th></tr>\n",
       "</thead>\n",
       "<tbody>\n",
       "\t<tr><td>1</td><td>A</td><td>25</td></tr>\n",
       "\t<tr><td>2</td><td>B</td><td>30</td></tr>\n",
       "\t<tr><td>3</td><td>C</td><td>22</td></tr>\n",
       "</tbody>\n",
       "</table>\n"
      ],
      "text/latex": [
       "A data.frame: 3 × 3\n",
       "\\begin{tabular}{lll}\n",
       " ID & Name & Age\\\\\n",
       " <dbl> & <chr> & <dbl>\\\\\n",
       "\\hline\n",
       "\t 1 & A & 25\\\\\n",
       "\t 2 & B & 30\\\\\n",
       "\t 3 & C & 22\\\\\n",
       "\\end{tabular}\n"
      ],
      "text/markdown": [
       "\n",
       "A data.frame: 3 × 3\n",
       "\n",
       "| ID &lt;dbl&gt; | Name &lt;chr&gt; | Age &lt;dbl&gt; |\n",
       "|---|---|---|\n",
       "| 1 | A | 25 |\n",
       "| 2 | B | 30 |\n",
       "| 3 | C | 22 |\n",
       "\n"
      ],
      "text/plain": [
       "  ID Name Age\n",
       "1 1  A    25 \n",
       "2 2  B    30 \n",
       "3 3  C    22 "
      ]
     },
     "metadata": {},
     "output_type": "display_data"
    },
    {
     "data": {
      "text/html": [
       "<table class=\"dataframe\">\n",
       "<caption>A data.frame: 3 × 3</caption>\n",
       "<thead>\n",
       "\t<tr><th></th><th scope=col>ID</th><th scope=col>Name</th><th scope=col>Age</th></tr>\n",
       "\t<tr><th></th><th scope=col>&lt;dbl&gt;</th><th scope=col>&lt;chr&gt;</th><th scope=col>&lt;dbl&gt;</th></tr>\n",
       "</thead>\n",
       "<tbody>\n",
       "\t<tr><th scope=row>1</th><td>1</td><td>A</td><td>25</td></tr>\n",
       "\t<tr><th scope=row>2</th><td>2</td><td>B</td><td>30</td></tr>\n",
       "\t<tr><th scope=row>3</th><td>3</td><td>C</td><td>22</td></tr>\n",
       "</tbody>\n",
       "</table>\n"
      ],
      "text/latex": [
       "A data.frame: 3 × 3\n",
       "\\begin{tabular}{r|lll}\n",
       "  & ID & Name & Age\\\\\n",
       "  & <dbl> & <chr> & <dbl>\\\\\n",
       "\\hline\n",
       "\t1 & 1 & A & 25\\\\\n",
       "\t2 & 2 & B & 30\\\\\n",
       "\t3 & 3 & C & 22\\\\\n",
       "\\end{tabular}\n"
      ],
      "text/markdown": [
       "\n",
       "A data.frame: 3 × 3\n",
       "\n",
       "| <!--/--> | ID &lt;dbl&gt; | Name &lt;chr&gt; | Age &lt;dbl&gt; |\n",
       "|---|---|---|---|\n",
       "| 1 | 1 | A | 25 |\n",
       "| 2 | 2 | B | 30 |\n",
       "| 3 | 3 | C | 22 |\n",
       "\n"
      ],
      "text/plain": [
       "  ID Name Age\n",
       "1 1  A    25 \n",
       "2 2  B    30 \n",
       "3 3  C    22 "
      ]
     },
     "metadata": {},
     "output_type": "display_data"
    },
    {
     "data": {
      "text/html": [
       "<table class=\"dataframe\">\n",
       "<caption>A data.frame: 2 × 3</caption>\n",
       "<thead>\n",
       "\t<tr><th></th><th scope=col>ID</th><th scope=col>Name</th><th scope=col>Age</th></tr>\n",
       "\t<tr><th></th><th scope=col>&lt;dbl&gt;</th><th scope=col>&lt;chr&gt;</th><th scope=col>&lt;dbl&gt;</th></tr>\n",
       "</thead>\n",
       "<tbody>\n",
       "\t<tr><th scope=row>2</th><td>2</td><td>B</td><td>30</td></tr>\n",
       "\t<tr><th scope=row>3</th><td>3</td><td>C</td><td>22</td></tr>\n",
       "</tbody>\n",
       "</table>\n"
      ],
      "text/latex": [
       "A data.frame: 2 × 3\n",
       "\\begin{tabular}{r|lll}\n",
       "  & ID & Name & Age\\\\\n",
       "  & <dbl> & <chr> & <dbl>\\\\\n",
       "\\hline\n",
       "\t2 & 2 & B & 30\\\\\n",
       "\t3 & 3 & C & 22\\\\\n",
       "\\end{tabular}\n"
      ],
      "text/markdown": [
       "\n",
       "A data.frame: 2 × 3\n",
       "\n",
       "| <!--/--> | ID &lt;dbl&gt; | Name &lt;chr&gt; | Age &lt;dbl&gt; |\n",
       "|---|---|---|---|\n",
       "| 2 | 2 | B | 30 |\n",
       "| 3 | 3 | C | 22 |\n",
       "\n"
      ],
      "text/plain": [
       "  ID Name Age\n",
       "2 2  B    30 \n",
       "3 3  C    22 "
      ]
     },
     "metadata": {},
     "output_type": "display_data"
    }
   ],
   "source": [
    "View(df)\n",
    "head(df, 3)\n",
    "tail(df, 2)"
   ]
  },
  {
   "cell_type": "markdown",
   "id": "3fa14a3b",
   "metadata": {},
   "source": [
    "* Thêm cột `df$<col> <- <vector` Trong đó:\n",
    "    * `<col>` là tên cột mới\n",
    "    * `<vector>` là giá trị của các cột mới. Lưu ý số lượng phần tử phải bằng với số hàng"
   ]
  },
  {
   "cell_type": "code",
   "execution_count": 6,
   "id": "8488f9a2",
   "metadata": {
    "vscode": {
     "languageId": "r"
    }
   },
   "outputs": [
    {
     "name": "stdout",
     "output_type": "stream",
     "text": [
      "  ID Name Age Salary\n",
      "1  1    A  25   5000\n",
      "2  2    B  30   6000\n",
      "3  3    C  22   4500\n"
     ]
    }
   ],
   "source": [
    "df$Salary <- c(5000, 6000, 4500)\n",
    "print(df)"
   ]
  },
  {
   "cell_type": "markdown",
   "id": "92b7b7fc",
   "metadata": {},
   "source": [
    "* Xóa cột `df$<col> <- NULL` Trong đó:\n",
    "    * `<col>` là tên cột muốn xóa"
   ]
  },
  {
   "cell_type": "code",
   "execution_count": 7,
   "id": "0e0e6a28",
   "metadata": {
    "vscode": {
     "languageId": "r"
    }
   },
   "outputs": [
    {
     "name": "stdout",
     "output_type": "stream",
     "text": [
      "  ID Name Salary\n",
      "1  1    A   5000\n",
      "2  2    B   6000\n",
      "3  3    C   4500\n"
     ]
    }
   ],
   "source": [
    "df$Age <- NULL\n",
    "print(df)"
   ]
  },
  {
   "cell_type": "markdown",
   "id": "c7ae8d15",
   "metadata": {},
   "source": [
    "* Thêm một hàng\n",
    "```r\n",
    "rbind <- data.frame(...)\n",
    "df <- rbind(df, new_row)\n",
    "```\n",
    "Trong đó:\n",
    "* ... là các giá trị tương ứng với từng cột của hàng mới. Lưu ý cần nhập đầy đủ các giá trị và cần nhập như khi tạo 1 DataFrame mới\n",
    "* df là DataFrame gốc mà bạn muốn thêm hàng mới"
   ]
  },
  {
   "cell_type": "code",
   "execution_count": 8,
   "id": "a3c7d33a",
   "metadata": {
    "vscode": {
     "languageId": "r"
    }
   },
   "outputs": [
    {
     "name": "stdout",
     "output_type": "stream",
     "text": [
      "  ID Name Salary\n",
      "1  1    A   5000\n",
      "2  2    B   6000\n",
      "3  3    C   4500\n",
      "4  4    C     10\n"
     ]
    }
   ],
   "source": [
    "new_row <- data.frame(ID=4, Name=\"C\", Salary=10)\n",
    "df <- rbind(df, new_row)\n",
    "print(df)"
   ]
  },
  {
   "cell_type": "markdown",
   "id": "049e6606",
   "metadata": {},
   "source": [
    "# **Nhập xuất dữ liệu**\n",
    "\n",
    "Trong R có rất nhiều hàm giúp chúng ta đọc dữ liệu từ file hoặc packages. Dưới đây là một số hàm phổ biến\n",
    "* Nhập trực tiếp dùng hàm `c()` hoặc `rep()`\n",
    "* Đọc file .csv bằng hàm `read.csv()`\n",
    "* Đọc file .xlsx bằng hàm `read_excel()` trong gói lệnh `readxl`\n",
    "* Đọc dữ liệu từ packages bằng hàm `data()`\n",
    "\n",
    "Để cài đặt gói lệnh ta sử dụng cú pháp: \n",
    "```r\n",
    "install.packages(\"<package_name>\")\n",
    "```\n",
    "Lưu ý `<package_names>` được đặt trong dấu **\"\"**\n",
    "\n",
    "Sau đó ta nạp package trước khi sử dụng\n",
    "```r\n",
    "library(readxl)\n",
    "```\n",
    "\n",
    "Ví dụ: "
   ]
  },
  {
   "cell_type": "code",
   "execution_count": 9,
   "id": "b2015833",
   "metadata": {
    "vscode": {
     "languageId": "r"
    }
   },
   "outputs": [
    {
     "name": "stderr",
     "output_type": "stream",
     "text": [
      "Installing package into 'C:/Users/Hoang Tu/AppData/Local/R/win-library/4.5'\n",
      "(as 'lib' is unspecified)\n",
      "\n"
     ]
    },
    {
     "name": "stdout",
     "output_type": "stream",
     "text": [
      "package 'readxl' successfully unpacked and MD5 sums checked\n"
     ]
    },
    {
     "name": "stderr",
     "output_type": "stream",
     "text": [
      "Warning message:\n",
      "\"cannot remove prior installation of package 'readxl'\"\n",
      "Warning message in file.copy(savedcopy, lib, recursive = TRUE):\n",
      "\"problem copying C:\\Users\\Hoang Tu\\AppData\\Local\\R\\win-library\\4.5\\00LOCK\\readxl\\libs\\x64\\readxl.dll to C:\\Users\\Hoang Tu\\AppData\\Local\\R\\win-library\\4.5\\readxl\\libs\\x64\\readxl.dll: Permission denied\"\n",
      "Warning message:\n",
      "\"restored 'readxl'\"\n"
     ]
    },
    {
     "name": "stdout",
     "output_type": "stream",
     "text": [
      "\n",
      "The downloaded binary packages are in\n",
      "\tC:\\Users\\Hoang Tu\\AppData\\Local\\Temp\\Rtmp2PbGpL\\downloaded_packages\n"
     ]
    }
   ],
   "source": [
    "install.packages(\"readxl\")\n",
    "library(readxl)"
   ]
  },
  {
   "cell_type": "markdown",
   "id": "d38c57fe",
   "metadata": {},
   "source": [
    "* Nhập dữ liệu trực tiếp"
   ]
  },
  {
   "cell_type": "code",
   "execution_count": 10,
   "id": "9c9d14df",
   "metadata": {
    "vscode": {
     "languageId": "r"
    }
   },
   "outputs": [
    {
     "name": "stdout",
     "output_type": "stream",
     "text": [
      "  age insulin\n",
      "1  50    16.5\n",
      "2  62    10.8\n",
      "3  60    32.3\n",
      "4  40    19.3\n",
      "5  48    14.2\n",
      "6  47    11.3\n",
      "7  57    15.5\n",
      "8  70    15.8\n",
      "9  48    16.2\n"
     ]
    }
   ],
   "source": [
    "age <- c(50, 62, 60, 40, 48, 47, 57, 70, 48)\n",
    "insulin <- c(16.5, 10.8, 32.3, 19.3, 14.2, 11.3, 15.5, 15.8, 16.2)\n",
    "data <- data.frame(age,insulin)\n",
    "print(data)"
   ]
  },
  {
   "cell_type": "markdown",
   "id": "0afa783d",
   "metadata": {},
   "source": [
    "Lưu ý: Bạn cần set thư mục hiện tại dể làm việc với `setwd`\n",
    "```r\n",
    "setwd(\"Path/to/your/folder\")\n",
    "```\n",
    "Ví dụ"
   ]
  },
  {
   "cell_type": "code",
   "execution_count": 11,
   "id": "4fa356ce",
   "metadata": {
    "vscode": {
     "languageId": "r"
    }
   },
   "outputs": [],
   "source": [
    "setwd(\"C:\\\\HoangTu\\\\Programing\\\\University\\\\NMPTDL\")"
   ]
  },
  {
   "cell_type": "markdown",
   "id": "d57a7892",
   "metadata": {},
   "source": [
    "* Đọc dữ liệu từ file “.csv”\n",
    "```r\n",
    "read.csv(\"Path/to/your/csv/file\", header = TRUE)\n",
    "```"
   ]
  },
  {
   "cell_type": "code",
   "execution_count": 12,
   "id": "3649cedd",
   "metadata": {
    "vscode": {
     "languageId": "r"
    }
   },
   "outputs": [
    {
     "data": {
      "text/html": [
       "<table class=\"dataframe\">\n",
       "<caption>A data.frame: 6 × 8</caption>\n",
       "<thead>\n",
       "\t<tr><th></th><th scope=col>OrderDate</th><th scope=col>Region</th><th scope=col>City</th><th scope=col>Category</th><th scope=col>Product</th><th scope=col>Quantity</th><th scope=col>UnitPrice</th><th scope=col>TotalPrice</th></tr>\n",
       "\t<tr><th></th><th scope=col>&lt;chr&gt;</th><th scope=col>&lt;chr&gt;</th><th scope=col>&lt;chr&gt;</th><th scope=col>&lt;chr&gt;</th><th scope=col>&lt;chr&gt;</th><th scope=col>&lt;int&gt;</th><th scope=col>&lt;dbl&gt;</th><th scope=col>&lt;dbl&gt;</th></tr>\n",
       "</thead>\n",
       "<tbody>\n",
       "\t<tr><th scope=row>1</th><td>1/1/2020 </td><td>East</td><td>Boston     </td><td>Bars    </td><td>Carrot        </td><td>33</td><td>1.77</td><td> 58.41</td></tr>\n",
       "\t<tr><th scope=row>2</th><td>4/1/2020 </td><td>East</td><td>Boston     </td><td>Crackers</td><td>Whole Wheat   </td><td>87</td><td>3.49</td><td>303.63</td></tr>\n",
       "\t<tr><th scope=row>3</th><td>7/1/2020 </td><td>West</td><td>Los Angeles</td><td>Cookies </td><td>Chocolate Chip</td><td>58</td><td>1.87</td><td>108.46</td></tr>\n",
       "\t<tr><th scope=row>4</th><td>10/1/2020</td><td>East</td><td>New York   </td><td>Cookies </td><td>Chocolate Chip</td><td>82</td><td>1.87</td><td>153.34</td></tr>\n",
       "\t<tr><th scope=row>5</th><td>13/1/2020</td><td>East</td><td>Boston     </td><td>Cookies </td><td>Arrowroot     </td><td>38</td><td>2.18</td><td> 82.84</td></tr>\n",
       "\t<tr><th scope=row>6</th><td>16/1/2020</td><td>East</td><td>Boston     </td><td>Bars    </td><td>Carrot        </td><td>54</td><td>1.77</td><td> 95.58</td></tr>\n",
       "</tbody>\n",
       "</table>\n"
      ],
      "text/latex": [
       "A data.frame: 6 × 8\n",
       "\\begin{tabular}{r|llllllll}\n",
       "  & OrderDate & Region & City & Category & Product & Quantity & UnitPrice & TotalPrice\\\\\n",
       "  & <chr> & <chr> & <chr> & <chr> & <chr> & <int> & <dbl> & <dbl>\\\\\n",
       "\\hline\n",
       "\t1 & 1/1/2020  & East & Boston      & Bars     & Carrot         & 33 & 1.77 &  58.41\\\\\n",
       "\t2 & 4/1/2020  & East & Boston      & Crackers & Whole Wheat    & 87 & 3.49 & 303.63\\\\\n",
       "\t3 & 7/1/2020  & West & Los Angeles & Cookies  & Chocolate Chip & 58 & 1.87 & 108.46\\\\\n",
       "\t4 & 10/1/2020 & East & New York    & Cookies  & Chocolate Chip & 82 & 1.87 & 153.34\\\\\n",
       "\t5 & 13/1/2020 & East & Boston      & Cookies  & Arrowroot      & 38 & 2.18 &  82.84\\\\\n",
       "\t6 & 16/1/2020 & East & Boston      & Bars     & Carrot         & 54 & 1.77 &  95.58\\\\\n",
       "\\end{tabular}\n"
      ],
      "text/markdown": [
       "\n",
       "A data.frame: 6 × 8\n",
       "\n",
       "| <!--/--> | OrderDate &lt;chr&gt; | Region &lt;chr&gt; | City &lt;chr&gt; | Category &lt;chr&gt; | Product &lt;chr&gt; | Quantity &lt;int&gt; | UnitPrice &lt;dbl&gt; | TotalPrice &lt;dbl&gt; |\n",
       "|---|---|---|---|---|---|---|---|---|\n",
       "| 1 | 1/1/2020  | East | Boston      | Bars     | Carrot         | 33 | 1.77 |  58.41 |\n",
       "| 2 | 4/1/2020  | East | Boston      | Crackers | Whole Wheat    | 87 | 3.49 | 303.63 |\n",
       "| 3 | 7/1/2020  | West | Los Angeles | Cookies  | Chocolate Chip | 58 | 1.87 | 108.46 |\n",
       "| 4 | 10/1/2020 | East | New York    | Cookies  | Chocolate Chip | 82 | 1.87 | 153.34 |\n",
       "| 5 | 13/1/2020 | East | Boston      | Cookies  | Arrowroot      | 38 | 2.18 |  82.84 |\n",
       "| 6 | 16/1/2020 | East | Boston      | Bars     | Carrot         | 54 | 1.77 |  95.58 |\n",
       "\n"
      ],
      "text/plain": [
       "  OrderDate Region City        Category Product        Quantity UnitPrice\n",
       "1 1/1/2020  East   Boston      Bars     Carrot         33       1.77     \n",
       "2 4/1/2020  East   Boston      Crackers Whole Wheat    87       3.49     \n",
       "3 7/1/2020  West   Los Angeles Cookies  Chocolate Chip 58       1.87     \n",
       "4 10/1/2020 East   New York    Cookies  Chocolate Chip 82       1.87     \n",
       "5 13/1/2020 East   Boston      Cookies  Arrowroot      38       2.18     \n",
       "6 16/1/2020 East   Boston      Bars     Carrot         54       1.77     \n",
       "  TotalPrice\n",
       "1  58.41    \n",
       "2 303.63    \n",
       "3 108.46    \n",
       "4 153.34    \n",
       "5  82.84    \n",
       "6  95.58    "
      ]
     },
     "metadata": {},
     "output_type": "display_data"
    }
   ],
   "source": [
    "data <- read.csv(\"Data/Product.csv\", header = TRUE,encoding =\"utf8\")\n",
    "head(data)"
   ]
  },
  {
   "cell_type": "markdown",
   "id": "fbc4f9cc",
   "metadata": {},
   "source": [
    "* Đọc dữ liệu từ file \".xlsx\" (File excel)\n",
    "```r\n",
    "library(readxl)\n",
    "data = read_excel(\"Path\\\\to\\\\your\\\\xlsx\\\\file\")\n",
    "```"
   ]
  },
  {
   "cell_type": "code",
   "execution_count": 13,
   "id": "f74a662d",
   "metadata": {
    "vscode": {
     "languageId": "r"
    }
   },
   "outputs": [
    {
     "data": {
      "text/html": [
       "<table class=\"dataframe\">\n",
       "<caption>A tibble: 5 × 10</caption>\n",
       "<thead>\n",
       "\t<tr><th scope=col>Country</th><th scope=col>Region (Khuvuc)</th><th scope=col>Population (Danso)</th><th scope=col>Under15</th><th scope=col>Over60</th><th scope=col>FertilityRate (Tylesinhsan)</th><th scope=col>LifeExpectancy (Tuoitho)</th><th scope=col>ChildMortality (Tiletuvongotreem)</th><th scope=col>LiteracyRate (Tylebietdocviet)</th><th scope=col>GNI (Thunhapquocdan)</th></tr>\n",
       "\t<tr><th scope=col>&lt;chr&gt;</th><th scope=col>&lt;chr&gt;</th><th scope=col>&lt;dbl&gt;</th><th scope=col>&lt;chr&gt;</th><th scope=col>&lt;chr&gt;</th><th scope=col>&lt;chr&gt;</th><th scope=col>&lt;dbl&gt;</th><th scope=col>&lt;chr&gt;</th><th scope=col>&lt;chr&gt;</th><th scope=col>&lt;dbl&gt;</th></tr>\n",
       "</thead>\n",
       "<tbody>\n",
       "\t<tr><td>Afghanistan</td><td>Eastern Mediterranean</td><td>29825</td><td>47.42  </td><td>3.82 </td><td>45752.0 </td><td>60</td><td>98.5   </td><td>NA      </td><td>1140</td></tr>\n",
       "\t<tr><td>Albania    </td><td>Europe               </td><td> 3162</td><td>21.33  </td><td>14.93</td><td>\n",
       "1.75\n",
       "</td><td>74</td><td>45854.0</td><td>NA      </td><td>8820</td></tr>\n",
       "\t<tr><td>Algeria    </td><td>Africa               </td><td>38482</td><td>27.42  </td><td>7.17 </td><td>\n",
       "2.83\n",
       "</td><td>73</td><td>20.0   </td><td>NA      </td><td>8310</td></tr>\n",
       "\t<tr><td>Andorra    </td><td>Europe               </td><td>   78</td><td>45703.0</td><td>22.86</td><td>NA      </td><td>82</td><td>45691.0</td><td>NA      </td><td>  NA</td></tr>\n",
       "\t<tr><td>Angola     </td><td>Africa               </td><td>20821</td><td>47.58  </td><td>3.84 </td><td>45663.0 </td><td>51</td><td>163.5  </td><td>\n",
       "70.1\n",
       "</td><td>5230</td></tr>\n",
       "</tbody>\n",
       "</table>\n"
      ],
      "text/latex": [
       "A tibble: 5 × 10\n",
       "\\begin{tabular}{llllllllll}\n",
       " Country & Region (Khuvuc) & Population (Danso) & Under15 & Over60 & FertilityRate (Tylesinhsan) & LifeExpectancy (Tuoitho) & ChildMortality (Tiletuvongotreem) & LiteracyRate (Tylebietdocviet) & GNI (Thunhapquocdan)\\\\\n",
       " <chr> & <chr> & <dbl> & <chr> & <chr> & <chr> & <dbl> & <chr> & <chr> & <dbl>\\\\\n",
       "\\hline\n",
       "\t Afghanistan & Eastern Mediterranean & 29825 & 47.42   & 3.82  & 45752.0  & 60 & 98.5    & NA       & 1140\\\\\n",
       "\t Albania     & Europe                &  3162 & 21.33   & 14.93 & \n",
       "1.75\n",
       " & 74 & 45854.0 & NA       & 8820\\\\\n",
       "\t Algeria     & Africa                & 38482 & 27.42   & 7.17  & \n",
       "2.83\n",
       " & 73 & 20.0    & NA       & 8310\\\\\n",
       "\t Andorra     & Europe                &    78 & 45703.0 & 22.86 & NA       & 82 & 45691.0 & NA       &   NA\\\\\n",
       "\t Angola      & Africa                & 20821 & 47.58   & 3.84  & 45663.0  & 51 & 163.5   & \n",
       "70.1\n",
       " & 5230\\\\\n",
       "\\end{tabular}\n"
      ],
      "text/markdown": [
       "\n",
       "A tibble: 5 × 10\n",
       "\n",
       "| Country &lt;chr&gt; | Region (Khuvuc) &lt;chr&gt; | Population (Danso) &lt;dbl&gt; | Under15 &lt;chr&gt; | Over60 &lt;chr&gt; | FertilityRate (Tylesinhsan) &lt;chr&gt; | LifeExpectancy (Tuoitho) &lt;dbl&gt; | ChildMortality (Tiletuvongotreem) &lt;chr&gt; | LiteracyRate (Tylebietdocviet) &lt;chr&gt; | GNI (Thunhapquocdan) &lt;dbl&gt; |\n",
       "|---|---|---|---|---|---|---|---|---|---|\n",
       "| Afghanistan | Eastern Mediterranean | 29825 | 47.42   | 3.82  | 45752.0  | 60 | 98.5    | NA       | 1140 |\n",
       "| Albania     | Europe                |  3162 | 21.33   | 14.93 | \n",
       "1.75\n",
       " | 74 | 45854.0 | NA       | 8820 |\n",
       "| Algeria     | Africa                | 38482 | 27.42   | 7.17  | \n",
       "2.83\n",
       " | 73 | 20.0    | NA       | 8310 |\n",
       "| Andorra     | Europe                |    78 | 45703.0 | 22.86 | NA       | 82 | 45691.0 | NA       |   NA |\n",
       "| Angola      | Africa                | 20821 | 47.58   | 3.84  | 45663.0  | 51 | 163.5   | \n",
       "70.1\n",
       " | 5230 |\n",
       "\n"
      ],
      "text/plain": [
       "  Country     Region (Khuvuc)       Population (Danso) Under15 Over60\n",
       "1 Afghanistan Eastern Mediterranean 29825              47.42   3.82  \n",
       "2 Albania     Europe                 3162              21.33   14.93 \n",
       "3 Algeria     Africa                38482              27.42   7.17  \n",
       "4 Andorra     Europe                   78              45703.0 22.86 \n",
       "5 Angola      Africa                20821              47.58   3.84  \n",
       "  FertilityRate (Tylesinhsan) LifeExpectancy (Tuoitho)\n",
       "1 45752.0                     60                      \n",
       "2 \\n1.75\\n                    74                      \n",
       "3 \\n2.83\\n                    73                      \n",
       "4 NA                          82                      \n",
       "5 45663.0                     51                      \n",
       "  ChildMortality (Tiletuvongotreem) LiteracyRate (Tylebietdocviet)\n",
       "1 98.5                              NA                            \n",
       "2 45854.0                           NA                            \n",
       "3 20.0                              NA                            \n",
       "4 45691.0                           NA                            \n",
       "5 163.5                             \\n70.1\\n                      \n",
       "  GNI (Thunhapquocdan)\n",
       "1 1140                \n",
       "2 8820                \n",
       "3 8310                \n",
       "4   NA                \n",
       "5 5230                "
      ]
     },
     "metadata": {},
     "output_type": "display_data"
    }
   ],
   "source": [
    "library(readxl)\n",
    "data = read_excel(\"Data/WHO1.xlsx\")\n",
    "head(data, 5)"
   ]
  },
  {
   "cell_type": "markdown",
   "id": "e61aa5b4",
   "metadata": {},
   "source": [
    "* Đọc dữ liệu từ packages\n",
    "```r\n",
    "library(<package>)\n",
    "data(<Data>)\n",
    "dim(<Data>)\n",
    "```\n",
    "\n",
    "Trong đó:\n",
    "* `library(<package>)`: load gói chứa dữ liệu hoặc hàm cần dùng.\n",
    "* `data(<Data>)`: tải dataset `<Data>` từ gói đã load vào bộ nhớ R.\n",
    "* `dim(<Data>)`: hiển thị **kích thước** của dataset, gồm số **hàng** và số **cột**. - Tùy chọn nếu như muốn xem kích thước, có thể bỏ qua.\n"
   ]
  },
  {
   "cell_type": "code",
   "execution_count": 14,
   "id": "3c8ebae7",
   "metadata": {
    "vscode": {
     "languageId": "r"
    }
   },
   "outputs": [
    {
     "data": {
      "text/html": [
       "<style>\n",
       ".list-inline {list-style: none; margin:0; padding: 0}\n",
       ".list-inline>li {display: inline-block}\n",
       ".list-inline>li:not(:last-child)::after {content: \"\\00b7\"; padding: 0 .5ex}\n",
       "</style>\n",
       "<ol class=list-inline><li>506</li><li>14</li></ol>\n"
      ],
      "text/latex": [
       "\\begin{enumerate*}\n",
       "\\item 506\n",
       "\\item 14\n",
       "\\end{enumerate*}\n"
      ],
      "text/markdown": [
       "1. 506\n",
       "2. 14\n",
       "\n",
       "\n"
      ],
      "text/plain": [
       "[1] 506  14"
      ]
     },
     "metadata": {},
     "output_type": "display_data"
    },
    {
     "data": {
      "text/html": [
       "<table class=\"dataframe\">\n",
       "<caption>A data.frame: 6 × 14</caption>\n",
       "<thead>\n",
       "\t<tr><th></th><th scope=col>crim</th><th scope=col>zn</th><th scope=col>indus</th><th scope=col>chas</th><th scope=col>nox</th><th scope=col>rm</th><th scope=col>age</th><th scope=col>dis</th><th scope=col>rad</th><th scope=col>tax</th><th scope=col>ptratio</th><th scope=col>black</th><th scope=col>lstat</th><th scope=col>medv</th></tr>\n",
       "\t<tr><th></th><th scope=col>&lt;dbl&gt;</th><th scope=col>&lt;dbl&gt;</th><th scope=col>&lt;dbl&gt;</th><th scope=col>&lt;int&gt;</th><th scope=col>&lt;dbl&gt;</th><th scope=col>&lt;dbl&gt;</th><th scope=col>&lt;dbl&gt;</th><th scope=col>&lt;dbl&gt;</th><th scope=col>&lt;int&gt;</th><th scope=col>&lt;dbl&gt;</th><th scope=col>&lt;dbl&gt;</th><th scope=col>&lt;dbl&gt;</th><th scope=col>&lt;dbl&gt;</th><th scope=col>&lt;dbl&gt;</th></tr>\n",
       "</thead>\n",
       "<tbody>\n",
       "\t<tr><th scope=row>1</th><td>0.00632</td><td>18</td><td>2.31</td><td>0</td><td>0.538</td><td>6.575</td><td>65.2</td><td>4.0900</td><td>1</td><td>296</td><td>15.3</td><td>396.90</td><td>4.98</td><td>24.0</td></tr>\n",
       "\t<tr><th scope=row>2</th><td>0.02731</td><td> 0</td><td>7.07</td><td>0</td><td>0.469</td><td>6.421</td><td>78.9</td><td>4.9671</td><td>2</td><td>242</td><td>17.8</td><td>396.90</td><td>9.14</td><td>21.6</td></tr>\n",
       "\t<tr><th scope=row>3</th><td>0.02729</td><td> 0</td><td>7.07</td><td>0</td><td>0.469</td><td>7.185</td><td>61.1</td><td>4.9671</td><td>2</td><td>242</td><td>17.8</td><td>392.83</td><td>4.03</td><td>34.7</td></tr>\n",
       "\t<tr><th scope=row>4</th><td>0.03237</td><td> 0</td><td>2.18</td><td>0</td><td>0.458</td><td>6.998</td><td>45.8</td><td>6.0622</td><td>3</td><td>222</td><td>18.7</td><td>394.63</td><td>2.94</td><td>33.4</td></tr>\n",
       "\t<tr><th scope=row>5</th><td>0.06905</td><td> 0</td><td>2.18</td><td>0</td><td>0.458</td><td>7.147</td><td>54.2</td><td>6.0622</td><td>3</td><td>222</td><td>18.7</td><td>396.90</td><td>5.33</td><td>36.2</td></tr>\n",
       "\t<tr><th scope=row>6</th><td>0.02985</td><td> 0</td><td>2.18</td><td>0</td><td>0.458</td><td>6.430</td><td>58.7</td><td>6.0622</td><td>3</td><td>222</td><td>18.7</td><td>394.12</td><td>5.21</td><td>28.7</td></tr>\n",
       "</tbody>\n",
       "</table>\n"
      ],
      "text/latex": [
       "A data.frame: 6 × 14\n",
       "\\begin{tabular}{r|llllllllllllll}\n",
       "  & crim & zn & indus & chas & nox & rm & age & dis & rad & tax & ptratio & black & lstat & medv\\\\\n",
       "  & <dbl> & <dbl> & <dbl> & <int> & <dbl> & <dbl> & <dbl> & <dbl> & <int> & <dbl> & <dbl> & <dbl> & <dbl> & <dbl>\\\\\n",
       "\\hline\n",
       "\t1 & 0.00632 & 18 & 2.31 & 0 & 0.538 & 6.575 & 65.2 & 4.0900 & 1 & 296 & 15.3 & 396.90 & 4.98 & 24.0\\\\\n",
       "\t2 & 0.02731 &  0 & 7.07 & 0 & 0.469 & 6.421 & 78.9 & 4.9671 & 2 & 242 & 17.8 & 396.90 & 9.14 & 21.6\\\\\n",
       "\t3 & 0.02729 &  0 & 7.07 & 0 & 0.469 & 7.185 & 61.1 & 4.9671 & 2 & 242 & 17.8 & 392.83 & 4.03 & 34.7\\\\\n",
       "\t4 & 0.03237 &  0 & 2.18 & 0 & 0.458 & 6.998 & 45.8 & 6.0622 & 3 & 222 & 18.7 & 394.63 & 2.94 & 33.4\\\\\n",
       "\t5 & 0.06905 &  0 & 2.18 & 0 & 0.458 & 7.147 & 54.2 & 6.0622 & 3 & 222 & 18.7 & 396.90 & 5.33 & 36.2\\\\\n",
       "\t6 & 0.02985 &  0 & 2.18 & 0 & 0.458 & 6.430 & 58.7 & 6.0622 & 3 & 222 & 18.7 & 394.12 & 5.21 & 28.7\\\\\n",
       "\\end{tabular}\n"
      ],
      "text/markdown": [
       "\n",
       "A data.frame: 6 × 14\n",
       "\n",
       "| <!--/--> | crim &lt;dbl&gt; | zn &lt;dbl&gt; | indus &lt;dbl&gt; | chas &lt;int&gt; | nox &lt;dbl&gt; | rm &lt;dbl&gt; | age &lt;dbl&gt; | dis &lt;dbl&gt; | rad &lt;int&gt; | tax &lt;dbl&gt; | ptratio &lt;dbl&gt; | black &lt;dbl&gt; | lstat &lt;dbl&gt; | medv &lt;dbl&gt; |\n",
       "|---|---|---|---|---|---|---|---|---|---|---|---|---|---|---|\n",
       "| 1 | 0.00632 | 18 | 2.31 | 0 | 0.538 | 6.575 | 65.2 | 4.0900 | 1 | 296 | 15.3 | 396.90 | 4.98 | 24.0 |\n",
       "| 2 | 0.02731 |  0 | 7.07 | 0 | 0.469 | 6.421 | 78.9 | 4.9671 | 2 | 242 | 17.8 | 396.90 | 9.14 | 21.6 |\n",
       "| 3 | 0.02729 |  0 | 7.07 | 0 | 0.469 | 7.185 | 61.1 | 4.9671 | 2 | 242 | 17.8 | 392.83 | 4.03 | 34.7 |\n",
       "| 4 | 0.03237 |  0 | 2.18 | 0 | 0.458 | 6.998 | 45.8 | 6.0622 | 3 | 222 | 18.7 | 394.63 | 2.94 | 33.4 |\n",
       "| 5 | 0.06905 |  0 | 2.18 | 0 | 0.458 | 7.147 | 54.2 | 6.0622 | 3 | 222 | 18.7 | 396.90 | 5.33 | 36.2 |\n",
       "| 6 | 0.02985 |  0 | 2.18 | 0 | 0.458 | 6.430 | 58.7 | 6.0622 | 3 | 222 | 18.7 | 394.12 | 5.21 | 28.7 |\n",
       "\n"
      ],
      "text/plain": [
       "  crim    zn indus chas nox   rm    age  dis    rad tax ptratio black  lstat\n",
       "1 0.00632 18 2.31  0    0.538 6.575 65.2 4.0900 1   296 15.3    396.90 4.98 \n",
       "2 0.02731  0 7.07  0    0.469 6.421 78.9 4.9671 2   242 17.8    396.90 9.14 \n",
       "3 0.02729  0 7.07  0    0.469 7.185 61.1 4.9671 2   242 17.8    392.83 4.03 \n",
       "4 0.03237  0 2.18  0    0.458 6.998 45.8 6.0622 3   222 18.7    394.63 2.94 \n",
       "5 0.06905  0 2.18  0    0.458 7.147 54.2 6.0622 3   222 18.7    396.90 5.33 \n",
       "6 0.02985  0 2.18  0    0.458 6.430 58.7 6.0622 3   222 18.7    394.12 5.21 \n",
       "  medv\n",
       "1 24.0\n",
       "2 21.6\n",
       "3 34.7\n",
       "4 33.4\n",
       "5 36.2\n",
       "6 28.7"
      ]
     },
     "metadata": {},
     "output_type": "display_data"
    }
   ],
   "source": [
    "library(MASS)\n",
    "data(Boston)\n",
    "dim(Boston)\n",
    "head(Boston)"
   ]
  },
  {
   "cell_type": "markdown",
   "id": "527666f0",
   "metadata": {},
   "source": [
    "Ngoài ra, R có rất nhiều hàm giúp chúng ta xuất data frame ra các định dạng tệp khác nhau:\n",
    "* Ghi ra file .csv dùng hàm `write.csv()`\n",
    "```r\n",
    "write.csv(data, \"Path/to/save/file.csv\")\n",
    "```"
   ]
  },
  {
   "cell_type": "code",
   "execution_count": 15,
   "id": "3d0f442c",
   "metadata": {
    "vscode": {
     "languageId": "r"
    }
   },
   "outputs": [],
   "source": [
    "data <- mtcars\n",
    "write.csv(data, \"Data/mtcars.csv\")"
   ]
  },
  {
   "cell_type": "markdown",
   "id": "3e670cba",
   "metadata": {},
   "source": [
    "* Ghi ra file .xlsx dùng hàm `write_xlsx()` trong gói writexl\n",
    "```r\n",
    "library(writexl)\n",
    "data <- mtcars\n",
    "write_xlsx(data, \"Path/to/save/file.xlsx\")\n",
    "```\n",
    "\n",
    "Lưu ý: Cần cài đặt gói \"writexl\" trước khi sử dụng"
   ]
  },
  {
   "cell_type": "code",
   "execution_count": 16,
   "id": "77074035",
   "metadata": {
    "vscode": {
     "languageId": "r"
    }
   },
   "outputs": [
    {
     "name": "stderr",
     "output_type": "stream",
     "text": [
      "Installing package into 'C:/Users/Hoang Tu/AppData/Local/R/win-library/4.5'\n",
      "(as 'lib' is unspecified)\n",
      "\n"
     ]
    },
    {
     "name": "stdout",
     "output_type": "stream",
     "text": [
      "package 'writexl' successfully unpacked and MD5 sums checked\n"
     ]
    },
    {
     "name": "stderr",
     "output_type": "stream",
     "text": [
      "Warning message:\n",
      "\"cannot remove prior installation of package 'writexl'\"\n",
      "Warning message in file.copy(savedcopy, lib, recursive = TRUE):\n",
      "\"problem copying C:\\Users\\Hoang Tu\\AppData\\Local\\R\\win-library\\4.5\\00LOCK\\writexl\\libs\\x64\\writexl.dll to C:\\Users\\Hoang Tu\\AppData\\Local\\R\\win-library\\4.5\\writexl\\libs\\x64\\writexl.dll: Permission denied\"\n",
      "Warning message:\n",
      "\"restored 'writexl'\"\n"
     ]
    },
    {
     "name": "stdout",
     "output_type": "stream",
     "text": [
      "\n",
      "The downloaded binary packages are in\n",
      "\tC:\\Users\\Hoang Tu\\AppData\\Local\\Temp\\Rtmp2PbGpL\\downloaded_packages\n"
     ]
    }
   ],
   "source": [
    "install.packages(\"writexl\")\n",
    "library(writexl)\n",
    "data <- mtcars\n",
    "write_xlsx(data, \"Data/mtcars.xlsx\")"
   ]
  },
  {
   "cell_type": "markdown",
   "id": "14284bd9",
   "metadata": {},
   "source": [
    "# **Xử lý dữ liệu**\n",
    "\n",
    "## **Load bộ dữ liệu**\n",
    "\n",
    "Trong suốt phần này ta sẽ sử dụng dữ liệu *\"`df=`[`mtcars`](../Data/mtcars.csv)\"* được lấy từ tạp chí **_Motor Trend US_** năm 1974. Trong data set này, biến \"**_am_**\" là kiểu hộp số được mã hóa với 2 giá trị `0` (số tự động), `1` (số điều khiển bằng tay). Chúng ta sẽ mã hóa lại biến số **_am_** thành dạng factor với tên lần lượt là \"**_automatic_**\" và \"**_manual_**\" và gán cho một biến số mới có tên là **_trans_**. Đây là một dataset có sẵn trong R nên ta có thể sử dụng trực tiếp bằng cách gọi đến biến `mtcars` hoặc thông qua file tại thư mục Data [matcars](../Data/mtcars.csv)"
   ]
  },
  {
   "cell_type": "code",
   "execution_count": 17,
   "id": "d11d8ba4",
   "metadata": {
    "vscode": {
     "languageId": "r"
    }
   },
   "outputs": [
    {
     "name": "stdout",
     "output_type": "stream",
     "text": [
      " [1] Manual    Manual    Manual    Automatic Automatic Automatic Automatic\n",
      " [8] Automatic Automatic Automatic Automatic Automatic Automatic Automatic\n",
      "[15] Automatic Automatic Automatic Manual    Manual    Manual    Automatic\n",
      "[22] Automatic Automatic Automatic Automatic Manual    Manual    Manual   \n",
      "[29] Manual    Manual    Manual    Manual   \n",
      "Levels: Automatic Manual\n"
     ]
    }
   ],
   "source": [
    "df <- mtcars\n",
    "df$trans <- factor(df$am, levels = c(0, 1), labels = c(\"Automatic\", \"Manual\"))\n",
    "print(df$trans)"
   ]
  },
  {
   "cell_type": "markdown",
   "id": "17c0876f",
   "metadata": {},
   "source": [
    "Giả sử chúng ta muốn rời rạc hóa dữ liệu công suất của 32 dòng ô tô thành 3 nhóm: `cao (H)`, `trung bình (M)`, `thấp (L)` và gán các giá trị này vào một biến số mới có tên \"power\". Sử dụng hàm `cut()`:\n",
    "Trong R, đoạn lệnh:"
   ]
  },
  {
   "cell_type": "code",
   "execution_count": 18,
   "id": "48afc488",
   "metadata": {
    "vscode": {
     "languageId": "r"
    }
   },
   "outputs": [
    {
     "name": "stdout",
     "output_type": "stream",
     "text": [
      " [1] M M L M M M H L L M M M M M H H H L L L M M M H M L L M H M H M\n",
      "Levels: L M H\n"
     ]
    }
   ],
   "source": [
    "df$power <- cut(df$hp, breaks=c(-Inf, 96.5, 180, Inf), labels=c(\"L\", \"M\", \"H\"))\n",
    "print(df$power)"
   ]
  },
  {
   "cell_type": "markdown",
   "id": "af62d445",
   "metadata": {},
   "source": [
    "Trong đó:\n",
    "* `df`: Data frame đang làm việc.\n",
    "* `df$hp`: Cột **hp** trong data frame `df` (giả sử là horsepower).\n",
    "* `cut(df$hp, ...)`: Hàm **cut** chia dữ liệu số liên tục thành các khoảng (bins).\n",
    "* `breaks=c(-Inf, 96.5, 180, Inf)`: Các điểm chia khoảng.\n",
    "\n",
    "  * `-Inf` → âm vô cùng (mọi giá trị nhỏ hơn 96.5).\n",
    "  * `96.5` → điểm cắt thứ nhất.\n",
    "  * `180` → điểm cắt thứ hai.\n",
    "  * `Inf` → dương vô cùng (mọi giá trị lớn hơn 180).\n",
    "* `labels=c(\"L\",\"M\",\"H\")`: Gán nhãn cho từng khoảng.\n",
    "\n",
    "  * `L`: nếu `hp` $\\leq$ 96.5\n",
    "  * `M`: nếu 96.5 $<$ `hp` $\\leq$ 180\n",
    "  * `H`: nếu `hp` $>$ 180\n",
    "* `df$power`: Cột mới được thêm vào `df`, chứa phân loại công suất (\"L\", \"M\", \"H\")."
   ]
  },
  {
   "cell_type": "markdown",
   "id": "d5934ddf",
   "metadata": {},
   "source": [
    "## **Chuyển đổi giữa các loại vector**"
   ]
  },
  {
   "cell_type": "markdown",
   "id": "8d27a930",
   "metadata": {},
   "source": [
    "Trong quá trình xử lý dữ liệu, ta thường gặp 3 loại vector: vector số, factor, vector chữ. Để chuyển đổi giữa 3 loại Để ta sử dụng các hàm sau:\n",
    "\n",
    "* `as.factor()`: Để chuyển thành factor\n",
    "* `as.character()`: Để chuyển thành vector chữ.\n",
    "* `as.numeric()`: Để chuyển thành vector số.\n",
    "\n",
    "Cú pháp chung\n",
    "\n",
    "```r\n",
    "<dataframe>$<new_var> <- as.<function>(<dataframe>$<var>)\n",
    "```\n",
    "\n",
    "Trong đó:\n",
    "\n",
    "* `<dataframe>`: Bảng dữ liệu.\n",
    "* `<var>`: Biến gốc (có thể là số hoặc chuỗi).\n",
    "* `<new_var>`: Biến mới sau khi được chuyển thành factor. Nếu chỉ ép kiểu thì `<new_var>` có thể trực tiếp thành `<var>`\n",
    "* `<function>`: Hàm sử dụng để biến đổi\n",
    "* `as.<function>(<var>)`: Biến đổi biến `<var>`."
   ]
  },
  {
   "cell_type": "code",
   "execution_count": 19,
   "id": "077bec1f",
   "metadata": {
    "vscode": {
     "languageId": "r"
    }
   },
   "outputs": [
    {
     "name": "stdout",
     "output_type": "stream",
     "text": [
      "[1] \"A\" \"B\" \"A\" \"C\"\n",
      "[1] A B A C\n",
      "Levels: A B C\n"
     ]
    }
   ],
   "source": [
    "x <- c(\"A\", \"B\", \"A\", \"C\")\n",
    "y <- as.factor(x)\n",
    "print(x)\n",
    "print(y)"
   ]
  },
  {
   "cell_type": "code",
   "execution_count": 20,
   "id": "c33aca69",
   "metadata": {
    "vscode": {
     "languageId": "r"
    }
   },
   "outputs": [
    {
     "name": "stdout",
     "output_type": "stream",
     "text": [
      "[1] 1 2 3 4 5\n",
      "[1] \"1\" \"2\" \"3\" \"4\" \"5\"\n"
     ]
    }
   ],
   "source": [
    "x <- c(1, 2, 3, 4, 5)\n",
    "y <- as.character(x)\n",
    "print(x)\n",
    "print(y)"
   ]
  },
  {
   "cell_type": "code",
   "execution_count": 21,
   "id": "e227ff79",
   "metadata": {
    "vscode": {
     "languageId": "r"
    }
   },
   "outputs": [
    {
     "name": "stdout",
     "output_type": "stream",
     "text": [
      "[1] \"1\" \"2\" \"3\" \"4\" \"5\"\n",
      "[1] 1 2 3 4 5\n"
     ]
    }
   ],
   "source": [
    "x <- c(\"1\", \"2\", \"3\", \"4\", \"5\")\n",
    "y <- as.numeric(x)\n",
    "print(x)\n",
    "print(y)"
   ]
  },
  {
   "cell_type": "markdown",
   "id": "2e256ff1",
   "metadata": {},
   "source": [
    "# **Thao tác với dữ liệu**\n",
    "\n",
    "## **Lọc dữ liệu**\n",
    "\n",
    "Trong quá trình xử lý dữ liệu, đôi khi ta cần lọc data frame dựa trên các điều kiện nhất định để từ đó thực hiện các tính toán cần thiết Để lọc dữ liệu trong R, ta sử dụng dấu ngoặc vuông tương tự như khi truy vấn với `Matrix`. điểm khác biệt ở chỗ, `DataFrame` là tổng hợp và kết hợp giữa `List` và `Matrix` nên có thể sử dụng cách truy vấn của cả 2 mà không gặp vấn đề gì:"
   ]
  },
  {
   "cell_type": "code",
   "execution_count": 22,
   "id": "ca80332d",
   "metadata": {
    "vscode": {
     "languageId": "r"
    }
   },
   "outputs": [
    {
     "data": {
      "text/html": [
       "<table class=\"dataframe\">\n",
       "<caption>A data.frame: 5 × 11</caption>\n",
       "<thead>\n",
       "\t<tr><th></th><th scope=col>mpg</th><th scope=col>cyl</th><th scope=col>disp</th><th scope=col>hp</th><th scope=col>drat</th><th scope=col>wt</th><th scope=col>qsec</th><th scope=col>vs</th><th scope=col>am</th><th scope=col>gear</th><th scope=col>carb</th></tr>\n",
       "\t<tr><th></th><th scope=col>&lt;dbl&gt;</th><th scope=col>&lt;dbl&gt;</th><th scope=col>&lt;dbl&gt;</th><th scope=col>&lt;dbl&gt;</th><th scope=col>&lt;dbl&gt;</th><th scope=col>&lt;dbl&gt;</th><th scope=col>&lt;dbl&gt;</th><th scope=col>&lt;dbl&gt;</th><th scope=col>&lt;dbl&gt;</th><th scope=col>&lt;dbl&gt;</th><th scope=col>&lt;dbl&gt;</th></tr>\n",
       "</thead>\n",
       "<tbody>\n",
       "\t<tr><th scope=row>Mazda RX4</th><td>21.0</td><td>6</td><td>160</td><td>110</td><td>3.90</td><td>2.620</td><td>16.46</td><td>0</td><td>1</td><td>4</td><td>4</td></tr>\n",
       "\t<tr><th scope=row>Mazda RX4 Wag</th><td>21.0</td><td>6</td><td>160</td><td>110</td><td>3.90</td><td>2.875</td><td>17.02</td><td>0</td><td>1</td><td>4</td><td>4</td></tr>\n",
       "\t<tr><th scope=row>Datsun 710</th><td>22.8</td><td>4</td><td>108</td><td> 93</td><td>3.85</td><td>2.320</td><td>18.61</td><td>1</td><td>1</td><td>4</td><td>1</td></tr>\n",
       "\t<tr><th scope=row>Hornet 4 Drive</th><td>21.4</td><td>6</td><td>258</td><td>110</td><td>3.08</td><td>3.215</td><td>19.44</td><td>1</td><td>0</td><td>3</td><td>1</td></tr>\n",
       "\t<tr><th scope=row>Hornet Sportabout</th><td>18.7</td><td>8</td><td>360</td><td>175</td><td>3.15</td><td>3.440</td><td>17.02</td><td>0</td><td>0</td><td>3</td><td>2</td></tr>\n",
       "</tbody>\n",
       "</table>\n"
      ],
      "text/latex": [
       "A data.frame: 5 × 11\n",
       "\\begin{tabular}{r|lllllllllll}\n",
       "  & mpg & cyl & disp & hp & drat & wt & qsec & vs & am & gear & carb\\\\\n",
       "  & <dbl> & <dbl> & <dbl> & <dbl> & <dbl> & <dbl> & <dbl> & <dbl> & <dbl> & <dbl> & <dbl>\\\\\n",
       "\\hline\n",
       "\tMazda RX4 & 21.0 & 6 & 160 & 110 & 3.90 & 2.620 & 16.46 & 0 & 1 & 4 & 4\\\\\n",
       "\tMazda RX4 Wag & 21.0 & 6 & 160 & 110 & 3.90 & 2.875 & 17.02 & 0 & 1 & 4 & 4\\\\\n",
       "\tDatsun 710 & 22.8 & 4 & 108 &  93 & 3.85 & 2.320 & 18.61 & 1 & 1 & 4 & 1\\\\\n",
       "\tHornet 4 Drive & 21.4 & 6 & 258 & 110 & 3.08 & 3.215 & 19.44 & 1 & 0 & 3 & 1\\\\\n",
       "\tHornet Sportabout & 18.7 & 8 & 360 & 175 & 3.15 & 3.440 & 17.02 & 0 & 0 & 3 & 2\\\\\n",
       "\\end{tabular}\n"
      ],
      "text/markdown": [
       "\n",
       "A data.frame: 5 × 11\n",
       "\n",
       "| <!--/--> | mpg &lt;dbl&gt; | cyl &lt;dbl&gt; | disp &lt;dbl&gt; | hp &lt;dbl&gt; | drat &lt;dbl&gt; | wt &lt;dbl&gt; | qsec &lt;dbl&gt; | vs &lt;dbl&gt; | am &lt;dbl&gt; | gear &lt;dbl&gt; | carb &lt;dbl&gt; |\n",
       "|---|---|---|---|---|---|---|---|---|---|---|---|\n",
       "| Mazda RX4 | 21.0 | 6 | 160 | 110 | 3.90 | 2.620 | 16.46 | 0 | 1 | 4 | 4 |\n",
       "| Mazda RX4 Wag | 21.0 | 6 | 160 | 110 | 3.90 | 2.875 | 17.02 | 0 | 1 | 4 | 4 |\n",
       "| Datsun 710 | 22.8 | 4 | 108 |  93 | 3.85 | 2.320 | 18.61 | 1 | 1 | 4 | 1 |\n",
       "| Hornet 4 Drive | 21.4 | 6 | 258 | 110 | 3.08 | 3.215 | 19.44 | 1 | 0 | 3 | 1 |\n",
       "| Hornet Sportabout | 18.7 | 8 | 360 | 175 | 3.15 | 3.440 | 17.02 | 0 | 0 | 3 | 2 |\n",
       "\n"
      ],
      "text/plain": [
       "                  mpg  cyl disp hp  drat wt    qsec  vs am gear carb\n",
       "Mazda RX4         21.0 6   160  110 3.90 2.620 16.46 0  1  4    4   \n",
       "Mazda RX4 Wag     21.0 6   160  110 3.90 2.875 17.02 0  1  4    4   \n",
       "Datsun 710        22.8 4   108   93 3.85 2.320 18.61 1  1  4    1   \n",
       "Hornet 4 Drive    21.4 6   258  110 3.08 3.215 19.44 1  0  3    1   \n",
       "Hornet Sportabout 18.7 8   360  175 3.15 3.440 17.02 0  0  3    2   "
      ]
     },
     "metadata": {},
     "output_type": "display_data"
    }
   ],
   "source": [
    "df <- mtcars\n",
    "head(df, 5)"
   ]
  },
  {
   "cell_type": "code",
   "execution_count": 23,
   "id": "f9352173",
   "metadata": {
    "vscode": {
     "languageId": "r"
    }
   },
   "outputs": [
    {
     "data": {
      "text/html": [
       "<table class=\"dataframe\">\n",
       "<caption>A data.frame: 1 × 11</caption>\n",
       "<thead>\n",
       "\t<tr><th></th><th scope=col>mpg</th><th scope=col>cyl</th><th scope=col>disp</th><th scope=col>hp</th><th scope=col>drat</th><th scope=col>wt</th><th scope=col>qsec</th><th scope=col>vs</th><th scope=col>am</th><th scope=col>gear</th><th scope=col>carb</th></tr>\n",
       "\t<tr><th></th><th scope=col>&lt;dbl&gt;</th><th scope=col>&lt;dbl&gt;</th><th scope=col>&lt;dbl&gt;</th><th scope=col>&lt;dbl&gt;</th><th scope=col>&lt;dbl&gt;</th><th scope=col>&lt;dbl&gt;</th><th scope=col>&lt;dbl&gt;</th><th scope=col>&lt;dbl&gt;</th><th scope=col>&lt;dbl&gt;</th><th scope=col>&lt;dbl&gt;</th><th scope=col>&lt;dbl&gt;</th></tr>\n",
       "</thead>\n",
       "<tbody>\n",
       "\t<tr><th scope=row>Datsun 710</th><td>22.8</td><td>4</td><td>108</td><td>93</td><td>3.85</td><td>2.32</td><td>18.61</td><td>1</td><td>1</td><td>4</td><td>1</td></tr>\n",
       "</tbody>\n",
       "</table>\n"
      ],
      "text/latex": [
       "A data.frame: 1 × 11\n",
       "\\begin{tabular}{r|lllllllllll}\n",
       "  & mpg & cyl & disp & hp & drat & wt & qsec & vs & am & gear & carb\\\\\n",
       "  & <dbl> & <dbl> & <dbl> & <dbl> & <dbl> & <dbl> & <dbl> & <dbl> & <dbl> & <dbl> & <dbl>\\\\\n",
       "\\hline\n",
       "\tDatsun 710 & 22.8 & 4 & 108 & 93 & 3.85 & 2.32 & 18.61 & 1 & 1 & 4 & 1\\\\\n",
       "\\end{tabular}\n"
      ],
      "text/markdown": [
       "\n",
       "A data.frame: 1 × 11\n",
       "\n",
       "| <!--/--> | mpg &lt;dbl&gt; | cyl &lt;dbl&gt; | disp &lt;dbl&gt; | hp &lt;dbl&gt; | drat &lt;dbl&gt; | wt &lt;dbl&gt; | qsec &lt;dbl&gt; | vs &lt;dbl&gt; | am &lt;dbl&gt; | gear &lt;dbl&gt; | carb &lt;dbl&gt; |\n",
       "|---|---|---|---|---|---|---|---|---|---|---|---|\n",
       "| Datsun 710 | 22.8 | 4 | 108 | 93 | 3.85 | 2.32 | 18.61 | 1 | 1 | 4 | 1 |\n",
       "\n"
      ],
      "text/plain": [
       "           mpg  cyl disp hp drat wt   qsec  vs am gear carb\n",
       "Datsun 710 22.8 4   108  93 3.85 2.32 18.61 1  1  4    1   "
      ]
     },
     "metadata": {},
     "output_type": "display_data"
    }
   ],
   "source": [
    "data1 <- df[3, ]\n",
    "View(data1)"
   ]
  },
  {
   "cell_type": "code",
   "execution_count": 24,
   "id": "4581b9ff",
   "metadata": {
    "vscode": {
     "languageId": "r"
    }
   },
   "outputs": [
    {
     "name": "stdout",
     "output_type": "stream",
     "text": [
      " [1] 160.0 160.0 108.0 258.0 360.0 225.0 360.0 146.7 140.8 167.6 167.6 275.8\n",
      "[13] 275.8 275.8 472.0 460.0 440.0  78.7  75.7  71.1 120.1 318.0 304.0 350.0\n",
      "[25] 400.0  79.0 120.3  95.1 351.0 145.0 301.0 121.0\n"
     ]
    }
   ],
   "source": [
    "data2 <- df[, 3]\n",
    "print(data2)"
   ]
  },
  {
   "cell_type": "code",
   "execution_count": 25,
   "id": "bada3cd9",
   "metadata": {
    "vscode": {
     "languageId": "r"
    }
   },
   "outputs": [
    {
     "name": "stdout",
     "output_type": "stream",
     "text": [
      " [1] 160.0 160.0 108.0 258.0 360.0 225.0 360.0 146.7 140.8 167.6 167.6 275.8\n",
      "[13] 275.8 275.8 472.0 460.0 440.0  78.7  75.7  71.1 120.1 318.0 304.0 350.0\n",
      "[25] 400.0  79.0 120.3  95.1 351.0 145.0 301.0 121.0\n"
     ]
    }
   ],
   "source": [
    "data3 <- df$disp\n",
    "print(data3)"
   ]
  },
  {
   "cell_type": "code",
   "execution_count": 26,
   "id": "997d88bc",
   "metadata": {
    "vscode": {
     "languageId": "r"
    }
   },
   "outputs": [
    {
     "data": {
      "text/html": [
       "<table class=\"dataframe\">\n",
       "<caption>A data.frame: 3 × 3</caption>\n",
       "<thead>\n",
       "\t<tr><th></th><th scope=col>hp</th><th scope=col>drat</th><th scope=col>wt</th></tr>\n",
       "\t<tr><th></th><th scope=col>&lt;dbl&gt;</th><th scope=col>&lt;dbl&gt;</th><th scope=col>&lt;dbl&gt;</th></tr>\n",
       "</thead>\n",
       "<tbody>\n",
       "\t<tr><th scope=row>Mazda RX4</th><td>110</td><td>3.90</td><td>2.620</td></tr>\n",
       "\t<tr><th scope=row>Mazda RX4 Wag</th><td>110</td><td>3.90</td><td>2.875</td></tr>\n",
       "\t<tr><th scope=row>Datsun 710</th><td> 93</td><td>3.85</td><td>2.320</td></tr>\n",
       "</tbody>\n",
       "</table>\n"
      ],
      "text/latex": [
       "A data.frame: 3 × 3\n",
       "\\begin{tabular}{r|lll}\n",
       "  & hp & drat & wt\\\\\n",
       "  & <dbl> & <dbl> & <dbl>\\\\\n",
       "\\hline\n",
       "\tMazda RX4 & 110 & 3.90 & 2.620\\\\\n",
       "\tMazda RX4 Wag & 110 & 3.90 & 2.875\\\\\n",
       "\tDatsun 710 &  93 & 3.85 & 2.320\\\\\n",
       "\\end{tabular}\n"
      ],
      "text/markdown": [
       "\n",
       "A data.frame: 3 × 3\n",
       "\n",
       "| <!--/--> | hp &lt;dbl&gt; | drat &lt;dbl&gt; | wt &lt;dbl&gt; |\n",
       "|---|---|---|---|\n",
       "| Mazda RX4 | 110 | 3.90 | 2.620 |\n",
       "| Mazda RX4 Wag | 110 | 3.90 | 2.875 |\n",
       "| Datsun 710 |  93 | 3.85 | 2.320 |\n",
       "\n"
      ],
      "text/plain": [
       "              hp  drat wt   \n",
       "Mazda RX4     110 3.90 2.620\n",
       "Mazda RX4 Wag 110 3.90 2.875\n",
       "Datsun 710     93 3.85 2.320"
      ]
     },
     "metadata": {},
     "output_type": "display_data"
    }
   ],
   "source": [
    "data4 <- df[c(1, 2, 3), c(4, 5, 6)]\n",
    "View(data4)"
   ]
  },
  {
   "cell_type": "code",
   "execution_count": 27,
   "id": "e73ee73a",
   "metadata": {
    "vscode": {
     "languageId": "r"
    }
   },
   "outputs": [
    {
     "name": "stdout",
     "output_type": "stream",
     "text": [
      "                mpg cyl  disp  hp drat    wt  qsec vs am gear carb\n",
      "Mazda RX4      21.0   6 160.0 110 3.90 2.620 16.46  0  1    4    4\n",
      "Mazda RX4 Wag  21.0   6 160.0 110 3.90 2.875 17.02  0  1    4    4\n",
      "Datsun 710     22.8   4 108.0  93 3.85 2.320 18.61  1  1    4    1\n",
      "Fiat 128       32.4   4  78.7  66 4.08 2.200 19.47  1  1    4    1\n",
      "Honda Civic    30.4   4  75.7  52 4.93 1.615 18.52  1  1    4    2\n",
      "Toyota Corolla 33.9   4  71.1  65 4.22 1.835 19.90  1  1    4    1\n",
      "Fiat X1-9      27.3   4  79.0  66 4.08 1.935 18.90  1  1    4    1\n",
      "Porsche 914-2  26.0   4 120.3  91 4.43 2.140 16.70  0  1    5    2\n",
      "Lotus Europa   30.4   4  95.1 113 3.77 1.513 16.90  1  1    5    2\n",
      "Ford Pantera L 15.8   8 351.0 264 4.22 3.170 14.50  0  1    5    4\n",
      "Ferrari Dino   19.7   6 145.0 175 3.62 2.770 15.50  0  1    5    6\n",
      "Maserati Bora  15.0   8 301.0 335 3.54 3.570 14.60  0  1    5    8\n",
      "Volvo 142E     21.4   4 121.0 109 4.11 2.780 18.60  1  1    4    2\n"
     ]
    }
   ],
   "source": [
    "manual <- df[df$am == 1, ]\n",
    "print(manual)"
   ]
  },
  {
   "cell_type": "code",
   "execution_count": 28,
   "id": "21cedb61",
   "metadata": {
    "vscode": {
     "languageId": "r"
    }
   },
   "outputs": [
    {
     "name": "stdout",
     "output_type": "stream",
     "text": [
      "                mpg cyl  disp  hp drat    wt  qsec vs am gear carb\n",
      "Mazda RX4      21.0   6 160.0 110 3.90 2.620 16.46  0  1    4    4\n",
      "Mazda RX4 Wag  21.0   6 160.0 110 3.90 2.875 17.02  0  1    4    4\n",
      "Datsun 710     22.8   4 108.0  93 3.85 2.320 18.61  1  1    4    1\n",
      "Fiat 128       32.4   4  78.7  66 4.08 2.200 19.47  1  1    4    1\n",
      "Porsche 914-2  26.0   4 120.3  91 4.43 2.140 16.70  0  1    5    2\n",
      "Ford Pantera L 15.8   8 351.0 264 4.22 3.170 14.50  0  1    5    4\n",
      "Ferrari Dino   19.7   6 145.0 175 3.62 2.770 15.50  0  1    5    6\n",
      "Maserati Bora  15.0   8 301.0 335 3.54 3.570 14.60  0  1    5    8\n",
      "Volvo 142E     21.4   4 121.0 109 4.11 2.780 18.60  1  1    4    2\n"
     ]
    }
   ],
   "source": [
    "manual2 <- df[df$am == 1 & df$wt > 2, ]\n",
    "print(manual2)"
   ]
  },
  {
   "cell_type": "markdown",
   "id": "e1cdd3dd",
   "metadata": {},
   "source": [
    "## **Ghép dữ liệu**\n",
    "\n",
    "Trong R, đôi khi ta có hai bảng dữ liệu khác nhau nhưng lại có một phần thông tin liên quan đến nhau. Ví dụ:\n",
    "\n",
    "* Một bảng lưu danh sách sinh viên cùng với **mã số sinh viên** và **tên**.\n",
    "* Một bảng khác lưu thông tin về **mã số sinh viên** và **điểm số**.\n",
    "\n",
    "Nếu chỉ nhìn từng bảng riêng lẻ thì thông tin chưa đầy đủ. Ta muốn có một bảng chung vừa có **tên sinh viên**, vừa có **điểm số**.\n",
    "\n",
    "Khi đó, hàm `merge()` trong R giúp chúng ta **ghép hai bảng** lại dựa trên cột chung (ở ví dụ trên là **mã số sinh viên**). Sau khi ghép, ta sẽ có một bảng lớn hơn, đầy đủ thông tin hơn để dễ dàng phân tích hoặc sử dụng tiếp.\n",
    "\n",
    "Nói đơn giản: **Bạn có hai bảng có một cột chung. Khi ghép, những dòng có cùng giá trị ở cột đó sẽ được nối thông tin lại với nhau.**\n",
    "\n",
    "Cú pháp\n",
    "\n",
    "```r\n",
    "merge(bảng1, bảng2, by.x = \"row11\", by.y = \"row21\")\n",
    "```\n",
    "\n",
    "**Giải thích:**\n",
    "\n",
    "Bạn có hai bảng dữ liệu:\n",
    "\n",
    "* Bảng 1 có một cột tên **row11**.\n",
    "* Bảng 2 có một cột tên **row21**.\n",
    "\n",
    "Trong hai cột này có những giá trị giống nhau, ví dụ cùng chứa `\"a\"`, `\"b\"`, `\"c\"`.\n",
    "\n",
    "Khi ghép bằng công thức trên, việc xảy ra là:\n",
    "\n",
    "* Tìm những giá trị **trùng nhau** giữa **row11** (bảng 1) và **row21** (bảng 2).\n",
    "* Với mỗi giá trị trùng, gộp toàn bộ thông tin ở hai bảng thành **một dòng mới** trong bảng kết quả.\n",
    "\n",
    "---\n",
    "\n",
    "**Ví dụ:**\n",
    "\n",
    "* Trong bảng 1: `\"a\"` đi kèm `\"d\"`.\n",
    "* Trong bảng 2: `\"a\"` đi kèm `\"Hello\"`.\n",
    "\n",
    "Ghép lại thành:\n",
    "`(\"a\", \"d\", \"Hello\")`.\n",
    "\n",
    "Tương tự cho `\"b\"` và `\"c\"`."
   ]
  },
  {
   "cell_type": "code",
   "execution_count": 29,
   "id": "7b2c1b2b",
   "metadata": {
    "vscode": {
     "languageId": "r"
    }
   },
   "outputs": [
    {
     "name": "stdout",
     "output_type": "stream",
     "text": [
      "  row11 row12  row22\n",
      "1     a     d  Hello\n",
      "2     b     e Grizmo\n",
      "3     c     f    HTT\n"
     ]
    }
   ],
   "source": [
    "df1 <- data.frame(row11 = c(\"a\", \"b\", \"c\"), row12 = c(\"d\", \"e\", \"f\"))\n",
    "df2 <- data.frame(row21 = c(\"a\", \"b\", \"c\"), row22 = c(\"Hello\", \"Grizmo\", \"HTT\"))\n",
    "\n",
    "df <- merge(df1, df2, by.x = \"row11\", by.y = \"row21\")\n",
    "print(df)"
   ]
  },
  {
   "cell_type": "markdown",
   "id": "4bbe0da9",
   "metadata": {},
   "source": [
    "# **Xử lý dữ liệu bị thiếu**\n",
    "\n",
    "## **Xóa bỏ dữ liệu bị thiếu**\n",
    "Để xóa bỏ các hàng dữ liệu bị thiếu, chúng ta sử dụng hàm `na.omit(data)`\n",
    "\n",
    "Trong đó: `data` là biến chứa Dataframe chứa các dữ liệu bị thiếu"
   ]
  },
  {
   "cell_type": "code",
   "execution_count": 30,
   "id": "547358b9",
   "metadata": {
    "vscode": {
     "languageId": "r"
    }
   },
   "outputs": [
    {
     "name": "stdout",
     "output_type": "stream",
     "text": [
      "[1] 13580    21\n",
      "[1] 6830   21\n"
     ]
    }
   ],
   "source": [
    "data <- read.csv(\"Data/melb_data.csv\")\n",
    "print(dim(data))\n",
    "\n",
    "data2 <- na.omit(data)\n",
    "print(dim(data2))"
   ]
  },
  {
   "cell_type": "markdown",
   "id": "98499234",
   "metadata": {},
   "source": [
    "## **Thay thế dữ liệu định lượng bị thiếu**\n",
    "\n",
    "Để thống kê số lượng ô bị thiếu dữ liệu ở từng cột, chúng ta sử dụng hàm `is.na()` và hàm `colSums()`.\n",
    "\n",
    "**1. `is.na(df)`**\n",
    "\n",
    "* Hàm `is.na()` kiểm tra từng ô trong bảng dữ liệu.\n",
    "* Nếu ô bị thiếu (`NA`) → trả về `TRUE`.\n",
    "* Nếu ô có dữ liệu → trả về `FALSE`.\n",
    "\n",
    "Ví dụ:"
   ]
  },
  {
   "cell_type": "code",
   "execution_count": 31,
   "id": "62c60e4a",
   "metadata": {
    "vscode": {
     "languageId": "r"
    }
   },
   "outputs": [
    {
     "name": "stdout",
     "output_type": "stream",
     "text": [
      "      Name Score\n",
      "[1,] FALSE FALSE\n",
      "[2,] FALSE  TRUE\n",
      "[3,]  TRUE FALSE\n",
      "[4,] FALSE  TRUE\n"
     ]
    }
   ],
   "source": [
    "df <- data.frame(\n",
    "  Name = c(\"A\", \"B\", NA, \"D\"),\n",
    "  Score = c(10, NA, 8, NA)\n",
    ")\n",
    "\n",
    "print(is.na(df)) # Kết quả sẽ là một bảng logic (TRUE/FALSE):"
   ]
  },
  {
   "cell_type": "markdown",
   "id": "8f35e96a",
   "metadata": {},
   "source": [
    "**2. `colSums()`**\n",
    "\n",
    "* Hàm `colSums()` dùng để tính tổng giá trị theo từng cột trong bảng.\n",
    "* Thường áp dụng với dữ liệu số.\n",
    "\n",
    "Ví dụ:\n"
   ]
  },
  {
   "cell_type": "code",
   "execution_count": 32,
   "id": "94e94104",
   "metadata": {
    "vscode": {
     "languageId": "r"
    }
   },
   "outputs": [
    {
     "name": "stdout",
     "output_type": "stream",
     "text": [
      "     [,1] [,2]\n",
      "[1,]    1    0\n",
      "[2,]    0    1\n",
      "[3,]    1    1\n",
      "     [,1] [,2]\n",
      "[1,]    1    0\n",
      "[2,]    0    1\n",
      "[3,]    1    1\n"
     ]
    }
   ],
   "source": [
    "print(m <- matrix(c(1, 0, 1, 0, 1, 1), nrow = 3))\n",
    "print(m)"
   ]
  },
  {
   "cell_type": "markdown",
   "id": "1d9522a6",
   "metadata": {},
   "source": [
    "Nếu ta dùng:"
   ]
  },
  {
   "cell_type": "code",
   "execution_count": 33,
   "id": "2471c62f",
   "metadata": {
    "vscode": {
     "languageId": "r"
    }
   },
   "outputs": [
    {
     "name": "stdout",
     "output_type": "stream",
     "text": [
      "[1] 2 2\n"
     ]
    }
   ],
   "source": [
    "res <- colSums(m)\n",
    "print(res)"
   ]
  },
  {
   "cell_type": "markdown",
   "id": "49f21f4c",
   "metadata": {},
   "source": [
    "→ Mỗi cột cộng tất cả giá trị trong cột đó lại.\n",
    "\n",
    "**3. Kết hợp `colSums(is.na(df))`**\n",
    "\n",
    "* `is.na(df)` tạo bảng `TRUE/FALSE`.\n",
    "* Trong R: `TRUE = 1`, `FALSE = 0`.\n",
    "* `colSums()` cộng số `1` trong mỗi cột → ra số lượng ô bị thiếu dữ liệu.\n",
    "\n",
    "Ví dụ:"
   ]
  },
  {
   "cell_type": "code",
   "execution_count": 34,
   "id": "20f79c07",
   "metadata": {
    "vscode": {
     "languageId": "r"
    }
   },
   "outputs": [
    {
     "name": "stdout",
     "output_type": "stream",
     "text": [
      "[1] 13580    21\n",
      "       Suburb       Address         Rooms          Type         Price \n",
      "            0             0             0             0             0 \n",
      "       Method       SellerG          Date      Distance      Postcode \n",
      "            0             0             0             0             0 \n",
      "     Bedroom2      Bathroom           Car      Landsize  BuildingArea \n",
      "            0             0            62             0          6450 \n",
      "    YearBuilt   CouncilArea     Lattitude    Longtitude    Regionname \n",
      "         5375             0             0             0             0 \n",
      "Propertycount \n",
      "            0 \n"
     ]
    }
   ],
   "source": [
    "data <- read.csv(\"Data/melb_data.csv\")\n",
    "print(dim(data))\n",
    "print(colSums(is.na(data)))"
   ]
  },
  {
   "cell_type": "markdown",
   "id": "b8c9b170",
   "metadata": {},
   "source": [
    "## **Thay thế dữ liệu định lượng bị thiếu**\n",
    "\n",
    "Để thay thế dữ liệu định lượng bị thiếu bằng các giá trị khác (ví dụ: giá trị trung bình), ta sử dụng các hàm của R để làm việc này.\n",
    "\n",
    "## **Thay thế dữ liệu định lượng bị thiếu**\n",
    "\n",
    "```r\n",
    "<data>$<col>[is.na(<data>$<col>)] <- mean(<data>$<col>, na.rm = TRUE)\n",
    "```\n",
    "\n",
    "Trong đó:\n",
    "\n",
    "* `<data>`: bảng dữ liệu.\n",
    "* `<col>`: tên cột cần xử lý.\n",
    "* `is.na(data$<col>)`: xác định vị trí các ô bị thiếu (NA) trong cột.\n",
    "* `na.rm = TRUE`: bỏ qua NA trong bảng dữ liệu.\n",
    "* `<-`: gán giá trị trung bình vào các ô bị thiếu.\n",
    "\n",
    "\n",
    "Lưu ý, ta có thể thay thế giá trị khác nhau: Như tạo với dữ liệu là phân bố chuẩn, ngẫu nhiên hoặc đơn giản hơn là thay thế với một giá trị số chung cho toàn thể:\n",
    "```r\n",
    "data$<col>[is.na(data$<col>)] <- <giá trị_số>\n",
    "```"
   ]
  },
  {
   "cell_type": "code",
   "execution_count": 35,
   "id": "8ac274c1",
   "metadata": {
    "vscode": {
     "languageId": "r"
    }
   },
   "outputs": [
    {
     "name": "stdout",
     "output_type": "stream",
     "text": [
      "[1] 13580    21\n",
      "       Suburb       Address         Rooms          Type         Price \n",
      "            0             0             0             0             0 \n",
      "       Method       SellerG          Date      Distance      Postcode \n",
      "            0             0             0             0             0 \n",
      "     Bedroom2      Bathroom           Car      Landsize  BuildingArea \n",
      "            0             0            62             0          6450 \n",
      "    YearBuilt   CouncilArea     Lattitude    Longtitude    Regionname \n",
      "         5375             0             0             0             0 \n",
      "Propertycount \n",
      "            0 \n",
      "[1] 151.9676\n",
      "       Suburb       Address         Rooms          Type         Price \n",
      "            0             0             0             0             0 \n",
      "       Method       SellerG          Date      Distance      Postcode \n",
      "            0             0             0             0             0 \n",
      "     Bedroom2      Bathroom           Car      Landsize  BuildingArea \n",
      "            0             0            62             0             0 \n",
      "    YearBuilt   CouncilArea     Lattitude    Longtitude    Regionname \n",
      "         5375             0             0             0             0 \n",
      "Propertycount \n",
      "            0 \n"
     ]
    }
   ],
   "source": [
    "data <- read.csv(\"Data/melb_data.csv\")\n",
    "print(dim(data))\n",
    "print(colSums(is.na(data)))\n",
    "\n",
    "print(data[is.na(data$BuildingArea), ]$BuildingArea <-\n",
    "        mean(data$BuildingArea, na.rm = TRUE))\n",
    "\n",
    "print(colSums(is.na(data)))"
   ]
  },
  {
   "cell_type": "code",
   "execution_count": 36,
   "id": "bf9b9ef8",
   "metadata": {
    "vscode": {
     "languageId": "r"
    }
   },
   "outputs": [
    {
     "name": "stdout",
     "output_type": "stream",
     "text": [
      "[1] 13580    21\n",
      "       Suburb       Address         Rooms          Type         Price \n",
      "            0             0             0             0             0 \n",
      "       Method       SellerG          Date      Distance      Postcode \n",
      "            0             0             0             0             0 \n",
      "     Bedroom2      Bathroom           Car      Landsize  BuildingArea \n",
      "            0             0            62             0          6450 \n",
      "    YearBuilt   CouncilArea     Lattitude    Longtitude    Regionname \n",
      "         5375             0             0             0             0 \n",
      "Propertycount \n",
      "            0 \n",
      "[1] 2000\n",
      "       Suburb       Address         Rooms          Type         Price \n",
      "            0             0             0             0             0 \n",
      "       Method       SellerG          Date      Distance      Postcode \n",
      "            0             0             0             0             0 \n",
      "     Bedroom2      Bathroom           Car      Landsize  BuildingArea \n",
      "            0             0            62             0          6450 \n",
      "    YearBuilt   CouncilArea     Lattitude    Longtitude    Regionname \n",
      "            0             0             0             0             0 \n",
      "Propertycount \n",
      "            0 \n"
     ]
    }
   ],
   "source": [
    "data <- read.csv(\"Data/melb_data.csv\")\n",
    "print(dim(data))\n",
    "print(colSums(is.na(data)))\n",
    "\n",
    "print(data[is.na(data$YearBuilt), ]$YearBuilt <- 2000)\n",
    "\n",
    "print(colSums(is.na(data)))"
   ]
  },
  {
   "cell_type": "markdown",
   "id": "2486ef3d",
   "metadata": {},
   "source": [
    "# **Họ hàm `apply`**\n",
    "\n",
    "Trong R, ngoài việc sử dung vòng for để thực hiện thao tác lặp, ta còn có thể sử dụng các hàm `apply()`, `lapply()` , `sapply()` Ưu điểm lớn nhất của các hàm này so với sử dụng vòng lặp `for` là giúp code trở nên ngắn gọn hơn.\n",
    "\n",
    "## **Hàm `apply()`**\n",
    "\n",
    "Hàm apply() có cấu trúc như sau:\n",
    "```r\n",
    "apply(X, MARGIN, FUN)\n",
    "```\n",
    "\n",
    "Trong đó:\n",
    "* `X` là một vector hoặc matrix\n",
    "* `MARGIN`: Nếu `MARGIN = 1` thì hàm sẽ áp dụng với từng hàng, `MARGIN = 2` thì sẽ áp dụng hàm với từng cột.\n",
    "* `FUN`: tên của hàm mà ta muốn áp dụng, có thể tự định nghĩa."
   ]
  },
  {
   "cell_type": "code",
   "execution_count": 37,
   "id": "acdd38c4",
   "metadata": {
    "vscode": {
     "languageId": "r"
    }
   },
   "outputs": [
    {
     "name": "stdout",
     "output_type": "stream",
     "text": [
      "     [,1] [,2] [,3] [,4] [,5] [,6] [,7] [,8] [,9] [,10]\n",
      "[1,]    1    4    7   10    3    6    9    2    5     8\n",
      "[2,]    2    5    8    1    4    7   10    3    6     9\n",
      "[3,]    3    6    9    2    5    8    1    4    7    10\n",
      "[1] \"sum across rows:\"\n",
      "[1] 55 55 55\n"
     ]
    }
   ],
   "source": [
    "sample_matrix <- matrix(1:10, nrow = 3, ncol = 10)\n",
    "print(sample_matrix)\n",
    "print(\"sum across rows:\")\n",
    "print(apply(sample_matrix, 1, sum))"
   ]
  },
  {
   "cell_type": "markdown",
   "id": "edbcef2e",
   "metadata": {},
   "source": [
    "## **Hàm `lapply()`**\n",
    "\n",
    "```r\n",
    "lapply(X, FUN)\n",
    "```\n",
    "\n",
    "Với các tham số tương tự như hàm `apply()`\n",
    "\n",
    "Lưu ý rằng hàm `lapply()` luôn trả về kết quả là 1 `list`."
   ]
  },
  {
   "cell_type": "code",
   "execution_count": 38,
   "id": "1a30496e",
   "metadata": {
    "vscode": {
     "languageId": "r"
    }
   },
   "outputs": [
    {
     "name": "stdout",
     "output_type": "stream",
     "text": [
      "[1] \"data after lapply():\"\n",
      "[[1]]\n",
      "[1] \"PRIYANK\"\n",
      "\n",
      "[[2]]\n",
      "[1] \"ABHIRAJ\"\n",
      "\n",
      "[[3]]\n",
      "[1] \"PAWANANJANI\"\n",
      "\n",
      "[[4]]\n",
      "[1] \"SUDHANSHU\"\n",
      "\n",
      "[[5]]\n",
      "[1] \"DEVRAJ\"\n",
      "\n"
     ]
    }
   ],
   "source": [
    "names <- c(\"priyank\", \"abhiraj\", \"pawananjani\", \"sudhanshu\", \"devraj\")\n",
    "# apply lapply() function\n",
    "print(\"data after lapply():\")\n",
    "print(lapply(names, toupper))"
   ]
  },
  {
   "cell_type": "markdown",
   "id": "4c8057ea",
   "metadata": {},
   "source": [
    "> Hàm `toupper(text)` có tác dụng là biến tất cả các ký tự chữ thành in hoa."
   ]
  },
  {
   "cell_type": "markdown",
   "id": "a872c662",
   "metadata": {},
   "source": [
    "## **Hàm `sapply()`**\n",
    "Hàm `sapply()` có cấu trúc như sau:\n",
    "```r\n",
    "sapply(X, FUN)\n",
    "```\n",
    "\n",
    "Với các tham số tương tự như hàm `lapply()`. Điểm khác biệt của hàm trên so với hàm `lapply()` là hàm trả về `vector` hoặc `matrix`."
   ]
  },
  {
   "cell_type": "code",
   "execution_count": 39,
   "id": "2234edc9",
   "metadata": {
    "vscode": {
     "languageId": "r"
    }
   },
   "outputs": [
    {
     "name": "stdout",
     "output_type": "stream",
     "text": [
      "  x  y\n",
      "1 1  3\n",
      "2 2  2\n",
      "3 3  4\n",
      "4 4  2\n",
      "5 5 34\n",
      "6 6  5\n",
      "[1] \"data after sapply():\"\n",
      " x  y \n",
      " 6 34 \n",
      " x  y \n",
      " 4 30 \n"
     ]
    }
   ],
   "source": [
    "x <- c(1, 2, 3, 4, 5, 6)\n",
    "y <- c(3, 2, 4, 2, 34, 5)\n",
    "sample_data <- data.frame(x, y)\n",
    "\n",
    "print(sample_data)\n",
    "print(\"data after sapply():\")\n",
    "print(sapply(sample_data, max))\n",
    "print(sapply(sample_data, function(data) { return(max(data) - 2 * min(data))}))"
   ]
  }
 ],
 "metadata": {
  "kernelspec": {
   "display_name": "R",
   "language": "R",
   "name": "ir"
  },
  "language_info": {
   "codemirror_mode": "r",
   "file_extension": ".r",
   "mimetype": "text/x-r-source",
   "name": "R",
   "pygments_lexer": "r",
   "version": "4.5.1"
  }
 },
 "nbformat": 4,
 "nbformat_minor": 5
}
