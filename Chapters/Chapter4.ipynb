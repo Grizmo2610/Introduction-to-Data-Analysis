{
 "cells": [
  {
   "cell_type": "markdown",
   "id": "67612663",
   "metadata": {},
   "source": [
    "# **Data Frame trong R**\n",
    "Trong R, data frame là cấu trúc dữ liệu dùng để lưu trữ bảng dữ liệu dạng hàng và cột, mỗi cột có thể là một kiểu dữ liệu khác nhau (numeric, character, factor…). Nó tương tự như bảng trong Excel.\n",
    "\n",
    "Ví dụ tạo 1 DataFrame"
   ]
  },
  {
   "cell_type": "code",
   "execution_count": 1,
   "id": "005244f2",
   "metadata": {
    "vscode": {
     "languageId": "r"
    }
   },
   "outputs": [
    {
     "name": "stdout",
     "output_type": "stream",
     "text": [
      "  ID Name Age\n",
      "1  1    A  25\n",
      "2  2    B  30\n",
      "3  3    C  22\n"
     ]
    }
   ],
   "source": [
    "# Tạo data frame từ các vector\n",
    "id <- c(1, 2, 3)\n",
    "name <- c(\"A\", \"B\", \"C\")\n",
    "age <- c(25, 30, 22)\n",
    "\n",
    "df <- data.frame(ID = id, Name = name, Age = age)\n",
    "print(df)"
   ]
  },
  {
   "cell_type": "markdown",
   "id": "7e25bb70",
   "metadata": {},
   "source": [
    "Cú pháp của Dataframe là \n",
    "```r\n",
    "data.frame(...)\n",
    "```\n",
    "\n",
    "Chính vì thế nên có thể truyền nhiều tham số với tên khác nhau, không nhất thiết phải đặt giống như trong ví dụ.\n",
    "\n",
    "---\n",
    "\n",
    "### Truy cập dữ liệu với DataFrame\n",
    "\n",
    "Để truy cập dữ liệu trong DataFrame ta thực hiện 1 số cách như sau:\n",
    "* Sử dụng `$<col>` hoặc `df[ , \"<col>\"]` để lấy một cột cụ thể (với `<col>` là tên cột đó)"
   ]
  },
  {
   "cell_type": "code",
   "execution_count": 2,
   "id": "37e9acad",
   "metadata": {
    "vscode": {
     "languageId": "r"
    }
   },
   "outputs": [
    {
     "name": "stdout",
     "output_type": "stream",
     "text": [
      "[1] \"A\" \"B\" \"C\"\n",
      "[1] 25 30 22\n"
     ]
    }
   ],
   "source": [
    "print(df$Name)\n",
    "print(df[ , \"Age\"])"
   ]
  },
  {
   "cell_type": "markdown",
   "id": "1c8fb396",
   "metadata": {},
   "source": [
    "* Sử dụng `df[<row>, ]` để lấy hàng cụ thể (với `<row>` là hàng tương ứng)"
   ]
  },
  {
   "cell_type": "code",
   "execution_count": 3,
   "id": "34a5c788",
   "metadata": {
    "vscode": {
     "languageId": "r"
    }
   },
   "outputs": [
    {
     "name": "stdout",
     "output_type": "stream",
     "text": [
      "  ID Name Age\n",
      "1  1    A  25\n"
     ]
    }
   ],
   "source": [
    "print(df[1, ])"
   ]
  },
  {
   "cell_type": "markdown",
   "id": "473c769f",
   "metadata": {},
   "source": [
    "* Sử dụng kết hợp để lấy giá trị tại 1 ô cụ thể: `df[<row>, \"<col>\"]` (với `<col>` là tên cột đó và `<row>` là hàng tương ứng)"
   ]
  },
  {
   "cell_type": "code",
   "execution_count": 4,
   "id": "c0934aa4",
   "metadata": {
    "vscode": {
     "languageId": "r"
    }
   },
   "outputs": [
    {
     "name": "stdout",
     "output_type": "stream",
     "text": [
      "[1] \"A\"\n"
     ]
    }
   ],
   "source": [
    "print(df[1, \"Name\"])"
   ]
  },
  {
   "cell_type": "markdown",
   "id": "ae9ef8ad",
   "metadata": {},
   "source": [
    "* Một vài cách hiển thị khác với \n",
    "    * `View(df)` - Lưu ý chữ **V** Là viết hoa: Hiển thị toàn bộ DataFrame trong 1 task mới (Áp dụng cho R Studio)\n",
    "    * `head(x=df, n=3)`: Lấy ra `n` hàng đầu tiên của DataFrame `x`\n",
    "    * `tail(x=df, n=2)`: Lấy ra `n` hàng cuối cùng của DataFrame `x`"
   ]
  },
  {
   "cell_type": "code",
   "execution_count": 5,
   "id": "c79cd096",
   "metadata": {
    "vscode": {
     "languageId": "r"
    }
   },
   "outputs": [
    {
     "data": {
      "text/html": [
       "<table class=\"dataframe\">\n",
       "<caption>A data.frame: 3 × 3</caption>\n",
       "<thead>\n",
       "\t<tr><th scope=col>ID</th><th scope=col>Name</th><th scope=col>Age</th></tr>\n",
       "\t<tr><th scope=col>&lt;dbl&gt;</th><th scope=col>&lt;chr&gt;</th><th scope=col>&lt;dbl&gt;</th></tr>\n",
       "</thead>\n",
       "<tbody>\n",
       "\t<tr><td>1</td><td>A</td><td>25</td></tr>\n",
       "\t<tr><td>2</td><td>B</td><td>30</td></tr>\n",
       "\t<tr><td>3</td><td>C</td><td>22</td></tr>\n",
       "</tbody>\n",
       "</table>\n"
      ],
      "text/latex": [
       "A data.frame: 3 × 3\n",
       "\\begin{tabular}{lll}\n",
       " ID & Name & Age\\\\\n",
       " <dbl> & <chr> & <dbl>\\\\\n",
       "\\hline\n",
       "\t 1 & A & 25\\\\\n",
       "\t 2 & B & 30\\\\\n",
       "\t 3 & C & 22\\\\\n",
       "\\end{tabular}\n"
      ],
      "text/markdown": [
       "\n",
       "A data.frame: 3 × 3\n",
       "\n",
       "| ID &lt;dbl&gt; | Name &lt;chr&gt; | Age &lt;dbl&gt; |\n",
       "|---|---|---|\n",
       "| 1 | A | 25 |\n",
       "| 2 | B | 30 |\n",
       "| 3 | C | 22 |\n",
       "\n"
      ],
      "text/plain": [
       "  ID Name Age\n",
       "1 1  A    25 \n",
       "2 2  B    30 \n",
       "3 3  C    22 "
      ]
     },
     "metadata": {},
     "output_type": "display_data"
    },
    {
     "data": {
      "text/html": [
       "<table class=\"dataframe\">\n",
       "<caption>A data.frame: 3 × 3</caption>\n",
       "<thead>\n",
       "\t<tr><th></th><th scope=col>ID</th><th scope=col>Name</th><th scope=col>Age</th></tr>\n",
       "\t<tr><th></th><th scope=col>&lt;dbl&gt;</th><th scope=col>&lt;chr&gt;</th><th scope=col>&lt;dbl&gt;</th></tr>\n",
       "</thead>\n",
       "<tbody>\n",
       "\t<tr><th scope=row>1</th><td>1</td><td>A</td><td>25</td></tr>\n",
       "\t<tr><th scope=row>2</th><td>2</td><td>B</td><td>30</td></tr>\n",
       "\t<tr><th scope=row>3</th><td>3</td><td>C</td><td>22</td></tr>\n",
       "</tbody>\n",
       "</table>\n"
      ],
      "text/latex": [
       "A data.frame: 3 × 3\n",
       "\\begin{tabular}{r|lll}\n",
       "  & ID & Name & Age\\\\\n",
       "  & <dbl> & <chr> & <dbl>\\\\\n",
       "\\hline\n",
       "\t1 & 1 & A & 25\\\\\n",
       "\t2 & 2 & B & 30\\\\\n",
       "\t3 & 3 & C & 22\\\\\n",
       "\\end{tabular}\n"
      ],
      "text/markdown": [
       "\n",
       "A data.frame: 3 × 3\n",
       "\n",
       "| <!--/--> | ID &lt;dbl&gt; | Name &lt;chr&gt; | Age &lt;dbl&gt; |\n",
       "|---|---|---|---|\n",
       "| 1 | 1 | A | 25 |\n",
       "| 2 | 2 | B | 30 |\n",
       "| 3 | 3 | C | 22 |\n",
       "\n"
      ],
      "text/plain": [
       "  ID Name Age\n",
       "1 1  A    25 \n",
       "2 2  B    30 \n",
       "3 3  C    22 "
      ]
     },
     "metadata": {},
     "output_type": "display_data"
    },
    {
     "data": {
      "text/html": [
       "<table class=\"dataframe\">\n",
       "<caption>A data.frame: 2 × 3</caption>\n",
       "<thead>\n",
       "\t<tr><th></th><th scope=col>ID</th><th scope=col>Name</th><th scope=col>Age</th></tr>\n",
       "\t<tr><th></th><th scope=col>&lt;dbl&gt;</th><th scope=col>&lt;chr&gt;</th><th scope=col>&lt;dbl&gt;</th></tr>\n",
       "</thead>\n",
       "<tbody>\n",
       "\t<tr><th scope=row>2</th><td>2</td><td>B</td><td>30</td></tr>\n",
       "\t<tr><th scope=row>3</th><td>3</td><td>C</td><td>22</td></tr>\n",
       "</tbody>\n",
       "</table>\n"
      ],
      "text/latex": [
       "A data.frame: 2 × 3\n",
       "\\begin{tabular}{r|lll}\n",
       "  & ID & Name & Age\\\\\n",
       "  & <dbl> & <chr> & <dbl>\\\\\n",
       "\\hline\n",
       "\t2 & 2 & B & 30\\\\\n",
       "\t3 & 3 & C & 22\\\\\n",
       "\\end{tabular}\n"
      ],
      "text/markdown": [
       "\n",
       "A data.frame: 2 × 3\n",
       "\n",
       "| <!--/--> | ID &lt;dbl&gt; | Name &lt;chr&gt; | Age &lt;dbl&gt; |\n",
       "|---|---|---|---|\n",
       "| 2 | 2 | B | 30 |\n",
       "| 3 | 3 | C | 22 |\n",
       "\n"
      ],
      "text/plain": [
       "  ID Name Age\n",
       "2 2  B    30 \n",
       "3 3  C    22 "
      ]
     },
     "metadata": {},
     "output_type": "display_data"
    }
   ],
   "source": [
    "View(df)\n",
    "head(df, 3)\n",
    "tail(df, 2)"
   ]
  },
  {
   "cell_type": "markdown",
   "id": "3fa14a3b",
   "metadata": {},
   "source": [
    "* Thêm cột `df$<col> <- <vector` Trong đó:\n",
    "    * `<col>` là tên cột mới\n",
    "    * `<vector>` là giá trị của các cột mới. Lưu ý số lượng phần tử phải bằng với số hàng"
   ]
  },
  {
   "cell_type": "code",
   "execution_count": 6,
   "id": "8488f9a2",
   "metadata": {
    "vscode": {
     "languageId": "r"
    }
   },
   "outputs": [
    {
     "name": "stdout",
     "output_type": "stream",
     "text": [
      "  ID Name Age Salary\n",
      "1  1    A  25   5000\n",
      "2  2    B  30   6000\n",
      "3  3    C  22   4500\n"
     ]
    }
   ],
   "source": [
    "df$Salary <- c(5000, 6000, 4500)\n",
    "print(df)"
   ]
  },
  {
   "cell_type": "markdown",
   "id": "92b7b7fc",
   "metadata": {},
   "source": [
    "* Xóa cột `df$<col> <- NULL` Trong đó:\n",
    "    * `<col>` là tên cột muốn xóa"
   ]
  },
  {
   "cell_type": "code",
   "execution_count": 7,
   "id": "0e0e6a28",
   "metadata": {
    "vscode": {
     "languageId": "r"
    }
   },
   "outputs": [
    {
     "name": "stdout",
     "output_type": "stream",
     "text": [
      "  ID Name Salary\n",
      "1  1    A   5000\n",
      "2  2    B   6000\n",
      "3  3    C   4500\n"
     ]
    }
   ],
   "source": [
    "df$Age <- NULL\n",
    "print(df)"
   ]
  },
  {
   "cell_type": "markdown",
   "id": "c7ae8d15",
   "metadata": {},
   "source": [
    "* Thêm một hàng\n",
    "```r\n",
    "rbind <- data.frame(...)\n",
    "df <- rbind(df, new_row)\n",
    "```\n",
    "Trong đó:\n",
    "* ... là các giá trị tương ứng với từng cột của hàng mới. Lưu ý cần nhập đầy đủ các giá trị và cần nhập như khi tạo 1 DataFrame mới\n",
    "* df là DataFrame gốc mà bạn muốn thêm hàng mới"
   ]
  },
  {
   "cell_type": "code",
   "execution_count": 8,
   "id": "a3c7d33a",
   "metadata": {
    "vscode": {
     "languageId": "r"
    }
   },
   "outputs": [
    {
     "name": "stdout",
     "output_type": "stream",
     "text": [
      "  ID Name Salary\n",
      "1  1    A   5000\n",
      "2  2    B   6000\n",
      "3  3    C   4500\n",
      "4  4    C     10\n"
     ]
    }
   ],
   "source": [
    "new_row <- data.frame(ID=4, Name=\"C\", Salary=10)\n",
    "df <- rbind(df, new_row)\n",
    "print(df)"
   ]
  },
  {
   "cell_type": "markdown",
   "id": "049e6606",
   "metadata": {},
   "source": [
    "# **Nhập xuất dữ liệu**\n",
    "\n",
    "Trong R có rất nhiều hàm giúp chúng ta đọc dữ liệu từ file hoặc packages. Dưới đây là một số hàm phổ biến\n",
    "* Nhập trực tiếp dùng hàm `c()` hoặc `rep()`\n",
    "* Đọc file .csv bằng hàm `read.csv()`\n",
    "* Đọc file .xlsx bằng hàm `read_excel()` trong gói lệnh `readxl`\n",
    "* Đọc dữ liệu từ packages bằng hàm `data()`\n",
    "\n",
    "Để cài đặt gói lệnh ta sử dụng cú pháp: \n",
    "```r\n",
    "install.packages(\"<package_name>\")\n",
    "```\n",
    "Lưu ý `<package_names>` được đặt trong dấu **\"\"**\n",
    "\n",
    "Sau đó ta nạp package trước khi sử dụng\n",
    "```r\n",
    "library(readxl)\n",
    "```\n",
    "\n",
    "Ví dụ: "
   ]
  },
  {
   "cell_type": "code",
   "execution_count": 9,
   "id": "b2015833",
   "metadata": {
    "vscode": {
     "languageId": "r"
    }
   },
   "outputs": [
    {
     "name": "stderr",
     "output_type": "stream",
     "text": [
      "Installing package into 'C:/Users/Hoang Tu/AppData/Local/R/win-library/4.5'\n",
      "(as 'lib' is unspecified)\n",
      "\n"
     ]
    },
    {
     "name": "stdout",
     "output_type": "stream",
     "text": [
      "package 'readxl' successfully unpacked and MD5 sums checked\n"
     ]
    },
    {
     "name": "stderr",
     "output_type": "stream",
     "text": [
      "Warning message:\n",
      "\"cannot remove prior installation of package 'readxl'\"\n",
      "Warning message in file.copy(savedcopy, lib, recursive = TRUE):\n",
      "\"problem copying C:\\Users\\Hoang Tu\\AppData\\Local\\R\\win-library\\4.5\\00LOCK\\readxl\\libs\\x64\\readxl.dll to C:\\Users\\Hoang Tu\\AppData\\Local\\R\\win-library\\4.5\\readxl\\libs\\x64\\readxl.dll: Permission denied\"\n",
      "Warning message:\n",
      "\"restored 'readxl'\"\n"
     ]
    },
    {
     "name": "stdout",
     "output_type": "stream",
     "text": [
      "\n",
      "The downloaded binary packages are in\n",
      "\tC:\\Users\\Hoang Tu\\AppData\\Local\\Temp\\RtmpUFjbuW\\downloaded_packages\n"
     ]
    }
   ],
   "source": [
    "install.packages(\"readxl\")\n",
    "library(readxl)"
   ]
  },
  {
   "cell_type": "markdown",
   "id": "d38c57fe",
   "metadata": {},
   "source": [
    "* Nhập dữ liệu trực tiếp"
   ]
  },
  {
   "cell_type": "code",
   "execution_count": 10,
   "id": "9c9d14df",
   "metadata": {
    "vscode": {
     "languageId": "r"
    }
   },
   "outputs": [
    {
     "name": "stdout",
     "output_type": "stream",
     "text": [
      "  age insulin\n",
      "1  50    16.5\n",
      "2  62    10.8\n",
      "3  60    32.3\n",
      "4  40    19.3\n",
      "5  48    14.2\n",
      "6  47    11.3\n",
      "7  57    15.5\n",
      "8  70    15.8\n",
      "9  48    16.2\n"
     ]
    }
   ],
   "source": [
    "age <- c(50, 62, 60, 40, 48, 47, 57, 70, 48)\n",
    "insulin <- c(16.5, 10.8, 32.3, 19.3, 14.2, 11.3, 15.5, 15.8, 16.2)\n",
    "data <- data.frame(age, insulin)\n",
    "print(data)"
   ]
  },
  {
   "cell_type": "markdown",
   "id": "0afa783d",
   "metadata": {},
   "source": [
    "Lưu ý: Bạn cần set thư mục hiện tại dể làm việc với `setwd`\n",
    "```r\n",
    "setwd(\"Path/to/your/folder\")\n",
    "```\n",
    "Ví dụ"
   ]
  },
  {
   "cell_type": "code",
   "execution_count": 11,
   "id": "4fa356ce",
   "metadata": {
    "vscode": {
     "languageId": "r"
    }
   },
   "outputs": [],
   "source": [
    "setwd(\"C:\\\\HoangTu\\\\Programing\\\\University\\\\NMPTDL\")"
   ]
  },
  {
   "cell_type": "markdown",
   "id": "d57a7892",
   "metadata": {},
   "source": [
    "* Đọc dữ liệu từ file “.csv”\n",
    "```r\n",
    "read.csv(\"Path/to/your/csv/file\", header = TRUE)\n",
    "```"
   ]
  },
  {
   "cell_type": "code",
   "execution_count": 12,
   "id": "3649cedd",
   "metadata": {
    "vscode": {
     "languageId": "r"
    }
   },
   "outputs": [
    {
     "data": {
      "text/html": [
       "<table class=\"dataframe\">\n",
       "<caption>A data.frame: 6 × 8</caption>\n",
       "<thead>\n",
       "\t<tr><th></th><th scope=col>OrderDate</th><th scope=col>Region</th><th scope=col>City</th><th scope=col>Category</th><th scope=col>Product</th><th scope=col>Quantity</th><th scope=col>UnitPrice</th><th scope=col>TotalPrice</th></tr>\n",
       "\t<tr><th></th><th scope=col>&lt;chr&gt;</th><th scope=col>&lt;chr&gt;</th><th scope=col>&lt;chr&gt;</th><th scope=col>&lt;chr&gt;</th><th scope=col>&lt;chr&gt;</th><th scope=col>&lt;int&gt;</th><th scope=col>&lt;dbl&gt;</th><th scope=col>&lt;dbl&gt;</th></tr>\n",
       "</thead>\n",
       "<tbody>\n",
       "\t<tr><th scope=row>1</th><td>1/1/2020 </td><td>East</td><td>Boston     </td><td>Bars    </td><td>Carrot        </td><td>33</td><td>1.77</td><td> 58.41</td></tr>\n",
       "\t<tr><th scope=row>2</th><td>4/1/2020 </td><td>East</td><td>Boston     </td><td>Crackers</td><td>Whole Wheat   </td><td>87</td><td>3.49</td><td>303.63</td></tr>\n",
       "\t<tr><th scope=row>3</th><td>7/1/2020 </td><td>West</td><td>Los Angeles</td><td>Cookies </td><td>Chocolate Chip</td><td>58</td><td>1.87</td><td>108.46</td></tr>\n",
       "\t<tr><th scope=row>4</th><td>10/1/2020</td><td>East</td><td>New York   </td><td>Cookies </td><td>Chocolate Chip</td><td>82</td><td>1.87</td><td>153.34</td></tr>\n",
       "\t<tr><th scope=row>5</th><td>13/1/2020</td><td>East</td><td>Boston     </td><td>Cookies </td><td>Arrowroot     </td><td>38</td><td>2.18</td><td> 82.84</td></tr>\n",
       "\t<tr><th scope=row>6</th><td>16/1/2020</td><td>East</td><td>Boston     </td><td>Bars    </td><td>Carrot        </td><td>54</td><td>1.77</td><td> 95.58</td></tr>\n",
       "</tbody>\n",
       "</table>\n"
      ],
      "text/latex": [
       "A data.frame: 6 × 8\n",
       "\\begin{tabular}{r|llllllll}\n",
       "  & OrderDate & Region & City & Category & Product & Quantity & UnitPrice & TotalPrice\\\\\n",
       "  & <chr> & <chr> & <chr> & <chr> & <chr> & <int> & <dbl> & <dbl>\\\\\n",
       "\\hline\n",
       "\t1 & 1/1/2020  & East & Boston      & Bars     & Carrot         & 33 & 1.77 &  58.41\\\\\n",
       "\t2 & 4/1/2020  & East & Boston      & Crackers & Whole Wheat    & 87 & 3.49 & 303.63\\\\\n",
       "\t3 & 7/1/2020  & West & Los Angeles & Cookies  & Chocolate Chip & 58 & 1.87 & 108.46\\\\\n",
       "\t4 & 10/1/2020 & East & New York    & Cookies  & Chocolate Chip & 82 & 1.87 & 153.34\\\\\n",
       "\t5 & 13/1/2020 & East & Boston      & Cookies  & Arrowroot      & 38 & 2.18 &  82.84\\\\\n",
       "\t6 & 16/1/2020 & East & Boston      & Bars     & Carrot         & 54 & 1.77 &  95.58\\\\\n",
       "\\end{tabular}\n"
      ],
      "text/markdown": [
       "\n",
       "A data.frame: 6 × 8\n",
       "\n",
       "| <!--/--> | OrderDate &lt;chr&gt; | Region &lt;chr&gt; | City &lt;chr&gt; | Category &lt;chr&gt; | Product &lt;chr&gt; | Quantity &lt;int&gt; | UnitPrice &lt;dbl&gt; | TotalPrice &lt;dbl&gt; |\n",
       "|---|---|---|---|---|---|---|---|---|\n",
       "| 1 | 1/1/2020  | East | Boston      | Bars     | Carrot         | 33 | 1.77 |  58.41 |\n",
       "| 2 | 4/1/2020  | East | Boston      | Crackers | Whole Wheat    | 87 | 3.49 | 303.63 |\n",
       "| 3 | 7/1/2020  | West | Los Angeles | Cookies  | Chocolate Chip | 58 | 1.87 | 108.46 |\n",
       "| 4 | 10/1/2020 | East | New York    | Cookies  | Chocolate Chip | 82 | 1.87 | 153.34 |\n",
       "| 5 | 13/1/2020 | East | Boston      | Cookies  | Arrowroot      | 38 | 2.18 |  82.84 |\n",
       "| 6 | 16/1/2020 | East | Boston      | Bars     | Carrot         | 54 | 1.77 |  95.58 |\n",
       "\n"
      ],
      "text/plain": [
       "  OrderDate Region City        Category Product        Quantity UnitPrice\n",
       "1 1/1/2020  East   Boston      Bars     Carrot         33       1.77     \n",
       "2 4/1/2020  East   Boston      Crackers Whole Wheat    87       3.49     \n",
       "3 7/1/2020  West   Los Angeles Cookies  Chocolate Chip 58       1.87     \n",
       "4 10/1/2020 East   New York    Cookies  Chocolate Chip 82       1.87     \n",
       "5 13/1/2020 East   Boston      Cookies  Arrowroot      38       2.18     \n",
       "6 16/1/2020 East   Boston      Bars     Carrot         54       1.77     \n",
       "  TotalPrice\n",
       "1  58.41    \n",
       "2 303.63    \n",
       "3 108.46    \n",
       "4 153.34    \n",
       "5  82.84    \n",
       "6  95.58    "
      ]
     },
     "metadata": {},
     "output_type": "display_data"
    }
   ],
   "source": [
    "data <- read.csv(\"Data/Product.csv\", header = TRUE,encoding =\"utf8\")\n",
    "head(data)"
   ]
  },
  {
   "cell_type": "markdown",
   "id": "fbc4f9cc",
   "metadata": {},
   "source": [
    "* Đọc dữ liệu từ file \".xlsx\" (File excel)\n",
    "```r\n",
    "library(readxl)\n",
    "data = read_excel(\"Path\\\\to\\\\your\\\\xlsx\\\\file\")\n",
    "```"
   ]
  },
  {
   "cell_type": "code",
   "execution_count": 13,
   "id": "f74a662d",
   "metadata": {
    "vscode": {
     "languageId": "r"
    }
   },
   "outputs": [
    {
     "data": {
      "text/html": [
       "<table class=\"dataframe\">\n",
       "<caption>A tibble: 5 × 10</caption>\n",
       "<thead>\n",
       "\t<tr><th scope=col>Country</th><th scope=col>Region</th><th scope=col>Population</th><th scope=col>Under15</th><th scope=col>Over60</th><th scope=col>FertilityRate</th><th scope=col>LifeExpectancy</th><th scope=col>ChildMortality</th><th scope=col>LiteracyRate</th><th scope=col>GNI</th></tr>\n",
       "\t<tr><th scope=col>&lt;chr&gt;</th><th scope=col>&lt;chr&gt;</th><th scope=col>&lt;dbl&gt;</th><th scope=col>&lt;dbl&gt;</th><th scope=col>&lt;dbl&gt;</th><th scope=col>&lt;dbl&gt;</th><th scope=col>&lt;dbl&gt;</th><th scope=col>&lt;dbl&gt;</th><th scope=col>&lt;dbl&gt;</th><th scope=col>&lt;dbl&gt;</th></tr>\n",
       "</thead>\n",
       "<tbody>\n",
       "\t<tr><td>Afghanistan</td><td>Eastern Mediterranean</td><td>29825</td><td>   47.42</td><td> 3.82</td><td>45752.00</td><td>60</td><td>   98.5</td><td>  NA</td><td>1140</td></tr>\n",
       "\t<tr><td>Albania    </td><td>Europe               </td><td> 3162</td><td>   21.33</td><td>14.93</td><td>    1.75</td><td>74</td><td>45854.0</td><td>  NA</td><td>8820</td></tr>\n",
       "\t<tr><td>Algeria    </td><td>Africa               </td><td>38482</td><td>   27.42</td><td> 7.17</td><td>    2.83</td><td>73</td><td>   20.0</td><td>  NA</td><td>8310</td></tr>\n",
       "\t<tr><td>Andorra    </td><td>Europe               </td><td>   78</td><td>45703.00</td><td>22.86</td><td>      NA</td><td>82</td><td>45691.0</td><td>  NA</td><td>  NA</td></tr>\n",
       "\t<tr><td>Angola     </td><td>Africa               </td><td>20821</td><td>   47.58</td><td> 3.84</td><td>45663.00</td><td>51</td><td>  163.5</td><td>70.1</td><td>5230</td></tr>\n",
       "</tbody>\n",
       "</table>\n"
      ],
      "text/latex": [
       "A tibble: 5 × 10\n",
       "\\begin{tabular}{llllllllll}\n",
       " Country & Region & Population & Under15 & Over60 & FertilityRate & LifeExpectancy & ChildMortality & LiteracyRate & GNI\\\\\n",
       " <chr> & <chr> & <dbl> & <dbl> & <dbl> & <dbl> & <dbl> & <dbl> & <dbl> & <dbl>\\\\\n",
       "\\hline\n",
       "\t Afghanistan & Eastern Mediterranean & 29825 &    47.42 &  3.82 & 45752.00 & 60 &    98.5 &   NA & 1140\\\\\n",
       "\t Albania     & Europe                &  3162 &    21.33 & 14.93 &     1.75 & 74 & 45854.0 &   NA & 8820\\\\\n",
       "\t Algeria     & Africa                & 38482 &    27.42 &  7.17 &     2.83 & 73 &    20.0 &   NA & 8310\\\\\n",
       "\t Andorra     & Europe                &    78 & 45703.00 & 22.86 &       NA & 82 & 45691.0 &   NA &   NA\\\\\n",
       "\t Angola      & Africa                & 20821 &    47.58 &  3.84 & 45663.00 & 51 &   163.5 & 70.1 & 5230\\\\\n",
       "\\end{tabular}\n"
      ],
      "text/markdown": [
       "\n",
       "A tibble: 5 × 10\n",
       "\n",
       "| Country &lt;chr&gt; | Region &lt;chr&gt; | Population &lt;dbl&gt; | Under15 &lt;dbl&gt; | Over60 &lt;dbl&gt; | FertilityRate &lt;dbl&gt; | LifeExpectancy &lt;dbl&gt; | ChildMortality &lt;dbl&gt; | LiteracyRate &lt;dbl&gt; | GNI &lt;dbl&gt; |\n",
       "|---|---|---|---|---|---|---|---|---|---|\n",
       "| Afghanistan | Eastern Mediterranean | 29825 |    47.42 |  3.82 | 45752.00 | 60 |    98.5 |   NA | 1140 |\n",
       "| Albania     | Europe                |  3162 |    21.33 | 14.93 |     1.75 | 74 | 45854.0 |   NA | 8820 |\n",
       "| Algeria     | Africa                | 38482 |    27.42 |  7.17 |     2.83 | 73 |    20.0 |   NA | 8310 |\n",
       "| Andorra     | Europe                |    78 | 45703.00 | 22.86 |       NA | 82 | 45691.0 |   NA |   NA |\n",
       "| Angola      | Africa                | 20821 |    47.58 |  3.84 | 45663.00 | 51 |   163.5 | 70.1 | 5230 |\n",
       "\n"
      ],
      "text/plain": [
       "  Country     Region                Population Under15  Over60 FertilityRate\n",
       "1 Afghanistan Eastern Mediterranean 29825         47.42  3.82  45752.00     \n",
       "2 Albania     Europe                 3162         21.33 14.93      1.75     \n",
       "3 Algeria     Africa                38482         27.42  7.17      2.83     \n",
       "4 Andorra     Europe                   78      45703.00 22.86        NA     \n",
       "5 Angola      Africa                20821         47.58  3.84  45663.00     \n",
       "  LifeExpectancy ChildMortality LiteracyRate GNI \n",
       "1 60                98.5          NA         1140\n",
       "2 74             45854.0          NA         8820\n",
       "3 73                20.0          NA         8310\n",
       "4 82             45691.0          NA           NA\n",
       "5 51               163.5        70.1         5230"
      ]
     },
     "metadata": {},
     "output_type": "display_data"
    }
   ],
   "source": [
    "library(readxl)\n",
    "data = read_excel(\"Data/WHO1.xlsx\")\n",
    "head(data, 5)"
   ]
  },
  {
   "cell_type": "markdown",
   "id": "e61aa5b4",
   "metadata": {},
   "source": [
    "* Đọc dữ liệu từ packages\n",
    "```r\n",
    "library(<package>)\n",
    "data(<Data>)\n",
    "dim(<Data>)\n",
    "```\n",
    "\n",
    "Trong đó:\n",
    "* `library(<package>)`: load gói chứa dữ liệu hoặc hàm cần dùng.\n",
    "* `data(<Data>)`: tải dataset `<Data>` từ gói đã load vào bộ nhớ R.\n",
    "* `dim(<Data>)`: hiển thị **kích thước** của dataset, gồm số **hàng** và số **cột**. - Tùy chọn nếu như muốn xem kích thước, có thể bỏ qua.\n"
   ]
  },
  {
   "cell_type": "code",
   "execution_count": 14,
   "id": "3c8ebae7",
   "metadata": {
    "vscode": {
     "languageId": "r"
    }
   },
   "outputs": [
    {
     "data": {
      "text/html": [
       "<style>\n",
       ".list-inline {list-style: none; margin:0; padding: 0}\n",
       ".list-inline>li {display: inline-block}\n",
       ".list-inline>li:not(:last-child)::after {content: \"\\00b7\"; padding: 0 .5ex}\n",
       "</style>\n",
       "<ol class=list-inline><li>506</li><li>14</li></ol>\n"
      ],
      "text/latex": [
       "\\begin{enumerate*}\n",
       "\\item 506\n",
       "\\item 14\n",
       "\\end{enumerate*}\n"
      ],
      "text/markdown": [
       "1. 506\n",
       "2. 14\n",
       "\n",
       "\n"
      ],
      "text/plain": [
       "[1] 506  14"
      ]
     },
     "metadata": {},
     "output_type": "display_data"
    },
    {
     "data": {
      "text/html": [
       "<table class=\"dataframe\">\n",
       "<caption>A data.frame: 6 × 14</caption>\n",
       "<thead>\n",
       "\t<tr><th></th><th scope=col>crim</th><th scope=col>zn</th><th scope=col>indus</th><th scope=col>chas</th><th scope=col>nox</th><th scope=col>rm</th><th scope=col>age</th><th scope=col>dis</th><th scope=col>rad</th><th scope=col>tax</th><th scope=col>ptratio</th><th scope=col>black</th><th scope=col>lstat</th><th scope=col>medv</th></tr>\n",
       "\t<tr><th></th><th scope=col>&lt;dbl&gt;</th><th scope=col>&lt;dbl&gt;</th><th scope=col>&lt;dbl&gt;</th><th scope=col>&lt;int&gt;</th><th scope=col>&lt;dbl&gt;</th><th scope=col>&lt;dbl&gt;</th><th scope=col>&lt;dbl&gt;</th><th scope=col>&lt;dbl&gt;</th><th scope=col>&lt;int&gt;</th><th scope=col>&lt;dbl&gt;</th><th scope=col>&lt;dbl&gt;</th><th scope=col>&lt;dbl&gt;</th><th scope=col>&lt;dbl&gt;</th><th scope=col>&lt;dbl&gt;</th></tr>\n",
       "</thead>\n",
       "<tbody>\n",
       "\t<tr><th scope=row>1</th><td>0.00632</td><td>18</td><td>2.31</td><td>0</td><td>0.538</td><td>6.575</td><td>65.2</td><td>4.0900</td><td>1</td><td>296</td><td>15.3</td><td>396.90</td><td>4.98</td><td>24.0</td></tr>\n",
       "\t<tr><th scope=row>2</th><td>0.02731</td><td> 0</td><td>7.07</td><td>0</td><td>0.469</td><td>6.421</td><td>78.9</td><td>4.9671</td><td>2</td><td>242</td><td>17.8</td><td>396.90</td><td>9.14</td><td>21.6</td></tr>\n",
       "\t<tr><th scope=row>3</th><td>0.02729</td><td> 0</td><td>7.07</td><td>0</td><td>0.469</td><td>7.185</td><td>61.1</td><td>4.9671</td><td>2</td><td>242</td><td>17.8</td><td>392.83</td><td>4.03</td><td>34.7</td></tr>\n",
       "\t<tr><th scope=row>4</th><td>0.03237</td><td> 0</td><td>2.18</td><td>0</td><td>0.458</td><td>6.998</td><td>45.8</td><td>6.0622</td><td>3</td><td>222</td><td>18.7</td><td>394.63</td><td>2.94</td><td>33.4</td></tr>\n",
       "\t<tr><th scope=row>5</th><td>0.06905</td><td> 0</td><td>2.18</td><td>0</td><td>0.458</td><td>7.147</td><td>54.2</td><td>6.0622</td><td>3</td><td>222</td><td>18.7</td><td>396.90</td><td>5.33</td><td>36.2</td></tr>\n",
       "\t<tr><th scope=row>6</th><td>0.02985</td><td> 0</td><td>2.18</td><td>0</td><td>0.458</td><td>6.430</td><td>58.7</td><td>6.0622</td><td>3</td><td>222</td><td>18.7</td><td>394.12</td><td>5.21</td><td>28.7</td></tr>\n",
       "</tbody>\n",
       "</table>\n"
      ],
      "text/latex": [
       "A data.frame: 6 × 14\n",
       "\\begin{tabular}{r|llllllllllllll}\n",
       "  & crim & zn & indus & chas & nox & rm & age & dis & rad & tax & ptratio & black & lstat & medv\\\\\n",
       "  & <dbl> & <dbl> & <dbl> & <int> & <dbl> & <dbl> & <dbl> & <dbl> & <int> & <dbl> & <dbl> & <dbl> & <dbl> & <dbl>\\\\\n",
       "\\hline\n",
       "\t1 & 0.00632 & 18 & 2.31 & 0 & 0.538 & 6.575 & 65.2 & 4.0900 & 1 & 296 & 15.3 & 396.90 & 4.98 & 24.0\\\\\n",
       "\t2 & 0.02731 &  0 & 7.07 & 0 & 0.469 & 6.421 & 78.9 & 4.9671 & 2 & 242 & 17.8 & 396.90 & 9.14 & 21.6\\\\\n",
       "\t3 & 0.02729 &  0 & 7.07 & 0 & 0.469 & 7.185 & 61.1 & 4.9671 & 2 & 242 & 17.8 & 392.83 & 4.03 & 34.7\\\\\n",
       "\t4 & 0.03237 &  0 & 2.18 & 0 & 0.458 & 6.998 & 45.8 & 6.0622 & 3 & 222 & 18.7 & 394.63 & 2.94 & 33.4\\\\\n",
       "\t5 & 0.06905 &  0 & 2.18 & 0 & 0.458 & 7.147 & 54.2 & 6.0622 & 3 & 222 & 18.7 & 396.90 & 5.33 & 36.2\\\\\n",
       "\t6 & 0.02985 &  0 & 2.18 & 0 & 0.458 & 6.430 & 58.7 & 6.0622 & 3 & 222 & 18.7 & 394.12 & 5.21 & 28.7\\\\\n",
       "\\end{tabular}\n"
      ],
      "text/markdown": [
       "\n",
       "A data.frame: 6 × 14\n",
       "\n",
       "| <!--/--> | crim &lt;dbl&gt; | zn &lt;dbl&gt; | indus &lt;dbl&gt; | chas &lt;int&gt; | nox &lt;dbl&gt; | rm &lt;dbl&gt; | age &lt;dbl&gt; | dis &lt;dbl&gt; | rad &lt;int&gt; | tax &lt;dbl&gt; | ptratio &lt;dbl&gt; | black &lt;dbl&gt; | lstat &lt;dbl&gt; | medv &lt;dbl&gt; |\n",
       "|---|---|---|---|---|---|---|---|---|---|---|---|---|---|---|\n",
       "| 1 | 0.00632 | 18 | 2.31 | 0 | 0.538 | 6.575 | 65.2 | 4.0900 | 1 | 296 | 15.3 | 396.90 | 4.98 | 24.0 |\n",
       "| 2 | 0.02731 |  0 | 7.07 | 0 | 0.469 | 6.421 | 78.9 | 4.9671 | 2 | 242 | 17.8 | 396.90 | 9.14 | 21.6 |\n",
       "| 3 | 0.02729 |  0 | 7.07 | 0 | 0.469 | 7.185 | 61.1 | 4.9671 | 2 | 242 | 17.8 | 392.83 | 4.03 | 34.7 |\n",
       "| 4 | 0.03237 |  0 | 2.18 | 0 | 0.458 | 6.998 | 45.8 | 6.0622 | 3 | 222 | 18.7 | 394.63 | 2.94 | 33.4 |\n",
       "| 5 | 0.06905 |  0 | 2.18 | 0 | 0.458 | 7.147 | 54.2 | 6.0622 | 3 | 222 | 18.7 | 396.90 | 5.33 | 36.2 |\n",
       "| 6 | 0.02985 |  0 | 2.18 | 0 | 0.458 | 6.430 | 58.7 | 6.0622 | 3 | 222 | 18.7 | 394.12 | 5.21 | 28.7 |\n",
       "\n"
      ],
      "text/plain": [
       "  crim    zn indus chas nox   rm    age  dis    rad tax ptratio black  lstat\n",
       "1 0.00632 18 2.31  0    0.538 6.575 65.2 4.0900 1   296 15.3    396.90 4.98 \n",
       "2 0.02731  0 7.07  0    0.469 6.421 78.9 4.9671 2   242 17.8    396.90 9.14 \n",
       "3 0.02729  0 7.07  0    0.469 7.185 61.1 4.9671 2   242 17.8    392.83 4.03 \n",
       "4 0.03237  0 2.18  0    0.458 6.998 45.8 6.0622 3   222 18.7    394.63 2.94 \n",
       "5 0.06905  0 2.18  0    0.458 7.147 54.2 6.0622 3   222 18.7    396.90 5.33 \n",
       "6 0.02985  0 2.18  0    0.458 6.430 58.7 6.0622 3   222 18.7    394.12 5.21 \n",
       "  medv\n",
       "1 24.0\n",
       "2 21.6\n",
       "3 34.7\n",
       "4 33.4\n",
       "5 36.2\n",
       "6 28.7"
      ]
     },
     "metadata": {},
     "output_type": "display_data"
    }
   ],
   "source": [
    "library(MASS)\n",
    "data(Boston)\n",
    "dim(Boston)\n",
    "head(Boston)"
   ]
  },
  {
   "cell_type": "markdown",
   "id": "527666f0",
   "metadata": {},
   "source": [
    "Ngoài ra, R có rất nhiều hàm giúp chúng ta xuất data frame ra các định dạng tệp khác nhau:\n",
    "* Ghi ra file .csv dùng hàm `write.csv()`\n",
    "```r\n",
    "write.csv(data, \"Path/to/save/file.csv\")\n",
    "```"
   ]
  },
  {
   "cell_type": "code",
   "execution_count": 15,
   "id": "3d0f442c",
   "metadata": {
    "vscode": {
     "languageId": "r"
    }
   },
   "outputs": [],
   "source": [
    "data <- mtcars\n",
    "write.csv(data, \"Data/mtcars.csv\")"
   ]
  },
  {
   "cell_type": "markdown",
   "id": "3e670cba",
   "metadata": {},
   "source": [
    "* Ghi ra file .xlsx dùng hàm `write_xlsx()` trong gói writexl\n",
    "```r\n",
    "library(writexl)\n",
    "data <- mtcars\n",
    "write_xlsx(data, \"Path/to/save/file.xlsx\")\n",
    "```\n",
    "\n",
    "Lưu ý: Cần cài đặt gói \"writexl\" trước khi sử dụng"
   ]
  },
  {
   "cell_type": "code",
   "execution_count": 16,
   "id": "77074035",
   "metadata": {
    "vscode": {
     "languageId": "r"
    }
   },
   "outputs": [
    {
     "name": "stderr",
     "output_type": "stream",
     "text": [
      "Installing package into 'C:/Users/Hoang Tu/AppData/Local/R/win-library/4.5'\n",
      "(as 'lib' is unspecified)\n",
      "\n"
     ]
    },
    {
     "name": "stdout",
     "output_type": "stream",
     "text": [
      "package 'writexl' successfully unpacked and MD5 sums checked\n"
     ]
    },
    {
     "name": "stderr",
     "output_type": "stream",
     "text": [
      "Warning message:\n",
      "\"cannot remove prior installation of package 'writexl'\"\n",
      "Warning message in file.copy(savedcopy, lib, recursive = TRUE):\n",
      "\"problem copying C:\\Users\\Hoang Tu\\AppData\\Local\\R\\win-library\\4.5\\00LOCK\\writexl\\libs\\x64\\writexl.dll to C:\\Users\\Hoang Tu\\AppData\\Local\\R\\win-library\\4.5\\writexl\\libs\\x64\\writexl.dll: Permission denied\"\n",
      "Warning message:\n",
      "\"restored 'writexl'\"\n"
     ]
    },
    {
     "name": "stdout",
     "output_type": "stream",
     "text": [
      "\n",
      "The downloaded binary packages are in\n",
      "\tC:\\Users\\Hoang Tu\\AppData\\Local\\Temp\\RtmpUFjbuW\\downloaded_packages\n"
     ]
    }
   ],
   "source": [
    "install.packages(\"writexl\")\n",
    "library(writexl)\n",
    "data <- mtcars\n",
    "write_xlsx(data, \"Data/mtcars.xlsx\")"
   ]
  },
  {
   "cell_type": "markdown",
   "id": "0d82ff69",
   "metadata": {},
   "source": [
    "## **Nạp dữ liệu có sẵn**\n",
    "\n",
    "Trong R có hai cách phổ biến để nạp dữ liệu có sẵn:\n",
    "\n",
    "### Dữ liệu sẵn trong **base R**\n",
    "\n",
    "R cung cấp sẵn nhiều bộ dữ liệu mẫu.\n",
    "\n",
    "* Dùng hàm `data()` để xem danh sách toàn bộ.\n",
    "* Dùng `data(<tên_dữ_liệu>)` để nạp.\n",
    "\n",
    "Ví dụ:"
   ]
  },
  {
   "cell_type": "code",
   "execution_count": 17,
   "id": "06e35c86",
   "metadata": {
    "vscode": {
     "languageId": "r"
    }
   },
   "outputs": [
    {
     "data": {
      "text/html": [
       "<table class=\"dataframe\">\n",
       "<caption>A data.frame: 6 × 5</caption>\n",
       "<thead>\n",
       "\t<tr><th></th><th scope=col>Sepal.Length</th><th scope=col>Sepal.Width</th><th scope=col>Petal.Length</th><th scope=col>Petal.Width</th><th scope=col>Species</th></tr>\n",
       "\t<tr><th></th><th scope=col>&lt;dbl&gt;</th><th scope=col>&lt;dbl&gt;</th><th scope=col>&lt;dbl&gt;</th><th scope=col>&lt;dbl&gt;</th><th scope=col>&lt;fct&gt;</th></tr>\n",
       "</thead>\n",
       "<tbody>\n",
       "\t<tr><th scope=row>1</th><td>5.1</td><td>3.5</td><td>1.4</td><td>0.2</td><td>setosa</td></tr>\n",
       "\t<tr><th scope=row>2</th><td>4.9</td><td>3.0</td><td>1.4</td><td>0.2</td><td>setosa</td></tr>\n",
       "\t<tr><th scope=row>3</th><td>4.7</td><td>3.2</td><td>1.3</td><td>0.2</td><td>setosa</td></tr>\n",
       "\t<tr><th scope=row>4</th><td>4.6</td><td>3.1</td><td>1.5</td><td>0.2</td><td>setosa</td></tr>\n",
       "\t<tr><th scope=row>5</th><td>5.0</td><td>3.6</td><td>1.4</td><td>0.2</td><td>setosa</td></tr>\n",
       "\t<tr><th scope=row>6</th><td>5.4</td><td>3.9</td><td>1.7</td><td>0.4</td><td>setosa</td></tr>\n",
       "</tbody>\n",
       "</table>\n"
      ],
      "text/latex": [
       "A data.frame: 6 × 5\n",
       "\\begin{tabular}{r|lllll}\n",
       "  & Sepal.Length & Sepal.Width & Petal.Length & Petal.Width & Species\\\\\n",
       "  & <dbl> & <dbl> & <dbl> & <dbl> & <fct>\\\\\n",
       "\\hline\n",
       "\t1 & 5.1 & 3.5 & 1.4 & 0.2 & setosa\\\\\n",
       "\t2 & 4.9 & 3.0 & 1.4 & 0.2 & setosa\\\\\n",
       "\t3 & 4.7 & 3.2 & 1.3 & 0.2 & setosa\\\\\n",
       "\t4 & 4.6 & 3.1 & 1.5 & 0.2 & setosa\\\\\n",
       "\t5 & 5.0 & 3.6 & 1.4 & 0.2 & setosa\\\\\n",
       "\t6 & 5.4 & 3.9 & 1.7 & 0.4 & setosa\\\\\n",
       "\\end{tabular}\n"
      ],
      "text/markdown": [
       "\n",
       "A data.frame: 6 × 5\n",
       "\n",
       "| <!--/--> | Sepal.Length &lt;dbl&gt; | Sepal.Width &lt;dbl&gt; | Petal.Length &lt;dbl&gt; | Petal.Width &lt;dbl&gt; | Species &lt;fct&gt; |\n",
       "|---|---|---|---|---|---|\n",
       "| 1 | 5.1 | 3.5 | 1.4 | 0.2 | setosa |\n",
       "| 2 | 4.9 | 3.0 | 1.4 | 0.2 | setosa |\n",
       "| 3 | 4.7 | 3.2 | 1.3 | 0.2 | setosa |\n",
       "| 4 | 4.6 | 3.1 | 1.5 | 0.2 | setosa |\n",
       "| 5 | 5.0 | 3.6 | 1.4 | 0.2 | setosa |\n",
       "| 6 | 5.4 | 3.9 | 1.7 | 0.4 | setosa |\n",
       "\n"
      ],
      "text/plain": [
       "  Sepal.Length Sepal.Width Petal.Length Petal.Width Species\n",
       "1 5.1          3.5         1.4          0.2         setosa \n",
       "2 4.9          3.0         1.4          0.2         setosa \n",
       "3 4.7          3.2         1.3          0.2         setosa \n",
       "4 4.6          3.1         1.5          0.2         setosa \n",
       "5 5.0          3.6         1.4          0.2         setosa \n",
       "6 5.4          3.9         1.7          0.4         setosa "
      ]
     },
     "metadata": {},
     "output_type": "display_data"
    },
    {
     "name": "stdout",
     "output_type": "stream",
     "text": [
      "Data sets in package '.':\n",
      "\n",
      "AHCAvote2017            \n",
      "BirdNest                \n",
      "melb_data               \n",
      "mtcars                  \n",
      "Product                 \n",
      "Data sets in package 'datasets':\n",
      "\n",
      "AirPassengers           Monthly Airline Passenger Numbers 1949-1960\n",
      "BJsales                 Sales Data with Leading Indicator\n",
      "BJsales.lead (BJsales)\n",
      "                        Sales Data with Leading Indicator\n",
      "BOD                     Biochemical Oxygen Demand\n",
      "CO2                     Carbon Dioxide Uptake in Grass Plants\n",
      "ChickWeight             Weight versus age of chicks on different diets\n",
      "DNase                   Elisa assay of DNase\n",
      "EuStockMarkets          Daily Closing Prices of Major European Stock\n",
      "                        Indices, 1991-1998\n",
      "Formaldehyde            Determination of Formaldehyde\n",
      "HairEyeColor            Hair and Eye Color of Statistics Students\n",
      "Harman23.cor            Harman Example 2.3\n",
      "Harman74.cor            Harman Example 7.4\n",
      "Indometh                Pharmacokinetics of Indomethacin\n",
      "InsectSprays            Effectiveness of Insect Sprays\n",
      "JohnsonJohnson          Quarterly Earnings per Johnson & Johnson Share\n",
      "LakeHuron               Level of Lake Huron 1875-1972\n",
      "LifeCycleSavings        Intercountry Life-Cycle Savings Data\n",
      "Loblolly                Growth of Loblolly Pine Trees\n",
      "Nile                    Flow of the River Nile\n",
      "Orange                  Growth of Orange Trees\n",
      "OrchardSprays           Potency of Orchard Sprays\n",
      "PlantGrowth             Results from an Experiment on Plant Growth\n",
      "Puromycin               Reaction Velocity of an Enzymatic Reaction\n",
      "Seatbelts               Road Casualties in Great Britain 1969-84\n",
      "Theoph                  Pharmacokinetics of Theophylline\n",
      "Titanic                 Survival of passengers on the Titanic\n",
      "ToothGrowth             The Effect of Vitamin C on Tooth Growth in\n",
      "                        Guinea Pigs\n",
      "UCBAdmissions           Student Admissions at UC Berkeley\n",
      "UKDriverDeaths          Road Casualties in Great Britain 1969-84\n",
      "UKgas                   UK Quarterly Gas Consumption\n",
      "USAccDeaths             Accidental Deaths in the US 1973-1978\n",
      "USArrests               Violent Crime Rates by US State\n",
      "USJudgeRatings          Lawyers' Ratings of State Judges in the US\n",
      "                        Superior Court\n",
      "USPersonalExpenditure   Personal Expenditure Data\n",
      "UScitiesD               Distances Between European Cities and Between\n",
      "                        US Cities\n",
      "VADeaths                Death Rates in Virginia (1940)\n",
      "WWWusage                Internet Usage per Minute\n",
      "WorldPhones             The World's Telephones\n",
      "ability.cov             Ability and Intelligence Tests\n",
      "airmiles                Passenger Miles on Commercial US Airlines,\n",
      "                        1937-1960\n",
      "airquality              New York Air Quality Measurements\n",
      "anscombe                Anscombe's Quartet of 'Identical' Simple Linear\n",
      "                        Regressions\n",
      "attenu                  The Joyner-Boore Attenuation Data\n",
      "attitude                The Chatterjee-Price Attitude Data\n",
      "austres                 Quarterly Time Series of the Number of\n",
      "                        Australian Residents\n",
      "beaver1 (beavers)       Body Temperature Series of Two Beavers\n",
      "beaver2 (beavers)       Body Temperature Series of Two Beavers\n",
      "cars                    Speed and Stopping Distances of Cars\n",
      "chickwts                Chicken Weights by Feed Type\n",
      "co2                     Mauna Loa Atmospheric CO2 Concentration\n",
      "crimtab                 Student's 3000 Criminals Data\n",
      "discoveries             Yearly Numbers of Important Discoveries\n",
      "esoph                   Smoking, Alcohol and (O)esophageal Cancer\n",
      "euro                    Conversion Rates of Euro Currencies\n",
      "euro.cross (euro)       Conversion Rates of Euro Currencies\n",
      "eurodist                Distances Between European Cities and Between\n",
      "                        US Cities\n",
      "faithful                Old Faithful Geyser Data\n",
      "fdeaths (UKLungDeaths)\n",
      "                        Monthly Deaths from Lung Diseases in the UK\n",
      "freeny                  Freeny's Revenue Data\n",
      "freeny.x (freeny)       Freeny's Revenue Data\n",
      "freeny.y (freeny)       Freeny's Revenue Data\n",
      "gait                    Hip and Knee Angle while Walking\n",
      "infert                  Infertility after Spontaneous and Induced\n",
      "                        Abortion\n",
      "iris                    Edgar Anderson's Iris Data\n",
      "iris3                   Edgar Anderson's Iris Data\n",
      "islands                 Areas of the World's Major Landmasses\n",
      "ldeaths (UKLungDeaths)\n",
      "                        Monthly Deaths from Lung Diseases in the UK\n",
      "lh                      Luteinizing Hormone in Blood Samples\n",
      "longley                 Longley's Economic Regression Data\n",
      "lynx                    Annual Canadian Lynx trappings 1821-1934\n",
      "mdeaths (UKLungDeaths)\n",
      "                        Monthly Deaths from Lung Diseases in the UK\n",
      "morley                  Michelson Speed of Light Data\n",
      "mtcars                  Motor Trend Car Road Tests\n",
      "nhtemp                  Average Yearly Temperatures in New Haven\n",
      "nottem                  Average Monthly Temperatures at Nottingham,\n",
      "                        1920-1939\n",
      "npk                     Classical N, P, K Factorial Experiment\n",
      "occupationalStatus      Occupational Status of Fathers and their Sons\n",
      "penguins                Measurements of Penguins near Palmer Station,\n",
      "                        Antarctica\n",
      "penguins_raw (penguins)\n",
      "                        Measurements of Penguins near Palmer Station,\n",
      "                        Antarctica\n",
      "precip                  Annual Precipitation in Selected US Cities\n",
      "presidents              Quarterly Approval Ratings of US Presidents\n",
      "pressure                Vapor Pressure of Mercury as a Function of\n",
      "                        Temperature\n",
      "quakes                  Locations of Earthquakes off Fiji\n",
      "randu                   Random Numbers from Congruential Generator\n",
      "                        RANDU\n",
      "rivers                  Lengths of Major North American Rivers\n",
      "rock                    Measurements on Petroleum Rock Samples\n",
      "sleep                   Student's Sleep Data\n",
      "stack.loss (stackloss)\n",
      "                        Brownlee's Stack Loss Plant Data\n",
      "stack.x (stackloss)     Brownlee's Stack Loss Plant Data\n",
      "stackloss               Brownlee's Stack Loss Plant Data\n",
      "state.abb (state)       US State Facts and Figures\n",
      "state.area (state)      US State Facts and Figures\n",
      "state.center (state)    US State Facts and Figures\n",
      "state.division (state)\n",
      "                        US State Facts and Figures\n",
      "state.name (state)      US State Facts and Figures\n",
      "state.region (state)    US State Facts and Figures\n",
      "state.x77 (state)       US State Facts and Figures\n",
      "sunspot.m2014 (sunspot.month)\n",
      "                        Monthly Sunspot Data, from 1749 to \"Present\"\n",
      "sunspot.month           Monthly Sunspot Data, from 1749 to \"Present\"\n",
      "sunspot.year            Yearly Sunspot Data, 1700-1988\n",
      "sunspots                Monthly Sunspot Numbers, 1749-1983\n",
      "swiss                   Swiss Fertility and Socioeconomic Indicators\n",
      "                        (1888) Data\n",
      "treering                Yearly Tree-Ring Data, -6000-1979\n",
      "trees                   Diameter, Height and Volume for Black Cherry\n",
      "                        Trees\n",
      "uspop                   Populations Recorded by the US Census\n",
      "volcano                 Topographic Information on Auckland's Maunga\n",
      "                        Whau Volcano\n",
      "warpbreaks              The Number of Breaks in Yarn during Weaving\n",
      "women                   Average Heights and Weights for American Women\n",
      "Data sets in package 'MASS':\n",
      "\n",
      "Aids2                   Australian AIDS Survival Data\n",
      "Animals                 Brain and Body Weights for 28 Species\n",
      "Boston                  Housing Values in Suburbs of Boston\n",
      "Cars93                  Data from 93 Cars on Sale in the USA in 1993\n",
      "Cushings                Diagnostic Tests on Patients with Cushing's\n",
      "                        Syndrome\n",
      "DDT                     DDT in Kale\n",
      "GAGurine                Level of GAG in Urine of Children\n",
      "Insurance               Numbers of Car Insurance claims\n",
      "Melanoma                Survival from Malignant Melanoma\n",
      "OME                     Tests of Auditory Perception in Children with\n",
      "                        OME\n",
      "Pima.te                 Diabetes in Pima Indian Women\n",
      "Pima.tr                 Diabetes in Pima Indian Women\n",
      "Pima.tr2                Diabetes in Pima Indian Women\n",
      "Rabbit                  Blood Pressure in Rabbits\n",
      "Rubber                  Accelerated Testing of Tyre Rubber\n",
      "SP500                   Returns of the Standard and Poors 500\n",
      "Sitka                   Growth Curves for Sitka Spruce Trees in 1988\n",
      "Sitka89                 Growth Curves for Sitka Spruce Trees in 1989\n",
      "Skye                    AFM Compositions of Aphyric Skye Lavas\n",
      "Traffic                 Effect of Swedish Speed Limits on Accidents\n",
      "UScereal                Nutritional and Marketing Information on US\n",
      "                        Cereals\n",
      "UScrime                 The Effect of Punishment Regimes on Crime Rates\n",
      "VA                      Veteran's Administration Lung Cancer Trial\n",
      "abbey                   Determinations of Nickel Content\n",
      "accdeaths               Accidental Deaths in the US 1973-1978\n",
      "anorexia                Anorexia Data on Weight Change\n",
      "bacteria                Presence of Bacteria after Drug Treatments\n",
      "beav1                   Body Temperature Series of Beaver 1\n",
      "beav2                   Body Temperature Series of Beaver 2\n",
      "biopsy                  Biopsy Data on Breast Cancer Patients\n",
      "birthwt                 Risk Factors Associated with Low Infant Birth\n",
      "                        Weight\n",
      "cabbages                Data from a cabbage field trial\n",
      "caith                   Colours of Eyes and Hair of People in Caithness\n",
      "cats                    Anatomical Data from Domestic Cats\n",
      "cement                  Heat Evolved by Setting Cements\n",
      "chem                    Copper in Wholemeal Flour\n",
      "coop                    Co-operative Trial in Analytical Chemistry\n",
      "cpus                    Performance of Computer CPUs\n",
      "crabs                   Morphological Measurements on Leptograpsus\n",
      "                        Crabs\n",
      "deaths                  Monthly Deaths from Lung Diseases in the UK\n",
      "drivers                 Deaths of Car Drivers in Great Britain 1969-84\n",
      "eagles                  Foraging Ecology of Bald Eagles\n",
      "epil                    Seizure Counts for Epileptics\n",
      "farms                   Ecological Factors in Farm Management\n",
      "fgl                     Measurements of Forensic Glass Fragments\n",
      "forbes                  Forbes' Data on Boiling Points in the Alps\n",
      "galaxies                Velocities for 82 Galaxies\n",
      "gehan                   Remission Times of Leukaemia Patients\n",
      "genotype                Rat Genotype Data\n",
      "geyser                  Old Faithful Geyser Data\n",
      "gilgais                 Line Transect of Soil in Gilgai Territory\n",
      "hills                   Record Times in Scottish Hill Races\n",
      "housing                 Frequency Table from a Copenhagen Housing\n",
      "                        Conditions Survey\n",
      "immer                   Yields from a Barley Field Trial\n",
      "leuk                    Survival Times and White Blood Counts for\n",
      "                        Leukaemia Patients\n",
      "mammals                 Brain and Body Weights for 62 Species of Land\n",
      "                        Mammals\n",
      "mcycle                  Data from a Simulated Motorcycle Accident\n",
      "menarche                Age of Menarche in Warsaw\n",
      "michelson               Michelson's Speed of Light Data\n",
      "minn38                  Minnesota High School Graduates of 1938\n",
      "motors                  Accelerated Life Testing of Motorettes\n",
      "muscle                  Effect of Calcium Chloride on Muscle\n",
      "                        Contraction in Rat Hearts\n",
      "newcomb                 Newcomb's Measurements of the Passage Time of\n",
      "                        Light\n",
      "nlschools               Eighth-Grade Pupils in the Netherlands\n",
      "npk                     Classical N, P, K Factorial Experiment\n",
      "npr1                    US Naval Petroleum Reserve No. 1 data\n",
      "oats                    Data from an Oats Field Trial\n",
      "painters                The Painter's Data of de Piles\n",
      "petrol                  N. L. Prater's Petrol Refinery Data\n",
      "phones                  Belgium Phone Calls 1950-1973\n",
      "quine                   Absenteeism from School in Rural New South\n",
      "                        Wales\n",
      "road                    Road Accident Deaths in US States\n",
      "rotifer                 Numbers of Rotifers by Fluid Density\n",
      "ships                   Ships Damage Data\n",
      "shoes                   Shoe wear data of Box, Hunter and Hunter\n",
      "shrimp                  Percentage of Shrimp in Shrimp Cocktail\n",
      "shuttle                 Space Shuttle Autolander Problem\n",
      "snails                  Snail Mortality Data\n",
      "steam                   The Saturated Steam Pressure Data\n",
      "stormer                 The Stormer Viscometer Data\n",
      "survey                  Student Survey Data\n",
      "synth.te                Synthetic Classification Problem\n",
      "synth.tr                Synthetic Classification Problem\n",
      "topo                    Spatial Topographic Data\n",
      "waders                  Counts of Waders at 15 Sites in South Africa\n",
      "whiteside               House Insulation: Whiteside's Data\n",
      "wtloss                  Weight Loss Data from an Obese Patient\n",
      "\n",
      "Use 'data(package = .packages(all.available = TRUE))'\n",
      "to list the data sets in all *available* packages."
     ]
    }
   ],
   "source": [
    "# Xem toàn bộ dữ liệu có sẵn\n",
    "data()\n",
    "\n",
    "# Nạp bộ dữ liệu iris\n",
    "data(iris)\n",
    "head(iris)"
   ]
  },
  {
   "cell_type": "markdown",
   "id": "526b5197",
   "metadata": {},
   "source": [
    "### Dữ liệu thông qua **package**\n",
    "\n",
    "Một số package kèm theo dữ liệu minh họa.\n",
    "\n",
    "* Sau khi cài và nạp package, có thể gọi `data()` để xem dữ liệu trong package đó.\n",
    "\n",
    "Ví dụ với package `datasets` (đi kèm R):"
   ]
  },
  {
   "cell_type": "code",
   "execution_count": 18,
   "id": "78f5707b",
   "metadata": {
    "vscode": {
     "languageId": "r"
    }
   },
   "outputs": [
    {
     "data": {
      "text/html": [
       "<table class=\"dataframe\">\n",
       "<caption>A data.frame: 6 × 11</caption>\n",
       "<thead>\n",
       "\t<tr><th></th><th scope=col>mpg</th><th scope=col>cyl</th><th scope=col>disp</th><th scope=col>hp</th><th scope=col>drat</th><th scope=col>wt</th><th scope=col>qsec</th><th scope=col>vs</th><th scope=col>am</th><th scope=col>gear</th><th scope=col>carb</th></tr>\n",
       "\t<tr><th></th><th scope=col>&lt;dbl&gt;</th><th scope=col>&lt;dbl&gt;</th><th scope=col>&lt;dbl&gt;</th><th scope=col>&lt;dbl&gt;</th><th scope=col>&lt;dbl&gt;</th><th scope=col>&lt;dbl&gt;</th><th scope=col>&lt;dbl&gt;</th><th scope=col>&lt;dbl&gt;</th><th scope=col>&lt;dbl&gt;</th><th scope=col>&lt;dbl&gt;</th><th scope=col>&lt;dbl&gt;</th></tr>\n",
       "</thead>\n",
       "<tbody>\n",
       "\t<tr><th scope=row>Mazda RX4</th><td>21.0</td><td>6</td><td>160</td><td>110</td><td>3.90</td><td>2.620</td><td>16.46</td><td>0</td><td>1</td><td>4</td><td>4</td></tr>\n",
       "\t<tr><th scope=row>Mazda RX4 Wag</th><td>21.0</td><td>6</td><td>160</td><td>110</td><td>3.90</td><td>2.875</td><td>17.02</td><td>0</td><td>1</td><td>4</td><td>4</td></tr>\n",
       "\t<tr><th scope=row>Datsun 710</th><td>22.8</td><td>4</td><td>108</td><td> 93</td><td>3.85</td><td>2.320</td><td>18.61</td><td>1</td><td>1</td><td>4</td><td>1</td></tr>\n",
       "\t<tr><th scope=row>Hornet 4 Drive</th><td>21.4</td><td>6</td><td>258</td><td>110</td><td>3.08</td><td>3.215</td><td>19.44</td><td>1</td><td>0</td><td>3</td><td>1</td></tr>\n",
       "\t<tr><th scope=row>Hornet Sportabout</th><td>18.7</td><td>8</td><td>360</td><td>175</td><td>3.15</td><td>3.440</td><td>17.02</td><td>0</td><td>0</td><td>3</td><td>2</td></tr>\n",
       "\t<tr><th scope=row>Valiant</th><td>18.1</td><td>6</td><td>225</td><td>105</td><td>2.76</td><td>3.460</td><td>20.22</td><td>1</td><td>0</td><td>3</td><td>1</td></tr>\n",
       "</tbody>\n",
       "</table>\n"
      ],
      "text/latex": [
       "A data.frame: 6 × 11\n",
       "\\begin{tabular}{r|lllllllllll}\n",
       "  & mpg & cyl & disp & hp & drat & wt & qsec & vs & am & gear & carb\\\\\n",
       "  & <dbl> & <dbl> & <dbl> & <dbl> & <dbl> & <dbl> & <dbl> & <dbl> & <dbl> & <dbl> & <dbl>\\\\\n",
       "\\hline\n",
       "\tMazda RX4 & 21.0 & 6 & 160 & 110 & 3.90 & 2.620 & 16.46 & 0 & 1 & 4 & 4\\\\\n",
       "\tMazda RX4 Wag & 21.0 & 6 & 160 & 110 & 3.90 & 2.875 & 17.02 & 0 & 1 & 4 & 4\\\\\n",
       "\tDatsun 710 & 22.8 & 4 & 108 &  93 & 3.85 & 2.320 & 18.61 & 1 & 1 & 4 & 1\\\\\n",
       "\tHornet 4 Drive & 21.4 & 6 & 258 & 110 & 3.08 & 3.215 & 19.44 & 1 & 0 & 3 & 1\\\\\n",
       "\tHornet Sportabout & 18.7 & 8 & 360 & 175 & 3.15 & 3.440 & 17.02 & 0 & 0 & 3 & 2\\\\\n",
       "\tValiant & 18.1 & 6 & 225 & 105 & 2.76 & 3.460 & 20.22 & 1 & 0 & 3 & 1\\\\\n",
       "\\end{tabular}\n"
      ],
      "text/markdown": [
       "\n",
       "A data.frame: 6 × 11\n",
       "\n",
       "| <!--/--> | mpg &lt;dbl&gt; | cyl &lt;dbl&gt; | disp &lt;dbl&gt; | hp &lt;dbl&gt; | drat &lt;dbl&gt; | wt &lt;dbl&gt; | qsec &lt;dbl&gt; | vs &lt;dbl&gt; | am &lt;dbl&gt; | gear &lt;dbl&gt; | carb &lt;dbl&gt; |\n",
       "|---|---|---|---|---|---|---|---|---|---|---|---|\n",
       "| Mazda RX4 | 21.0 | 6 | 160 | 110 | 3.90 | 2.620 | 16.46 | 0 | 1 | 4 | 4 |\n",
       "| Mazda RX4 Wag | 21.0 | 6 | 160 | 110 | 3.90 | 2.875 | 17.02 | 0 | 1 | 4 | 4 |\n",
       "| Datsun 710 | 22.8 | 4 | 108 |  93 | 3.85 | 2.320 | 18.61 | 1 | 1 | 4 | 1 |\n",
       "| Hornet 4 Drive | 21.4 | 6 | 258 | 110 | 3.08 | 3.215 | 19.44 | 1 | 0 | 3 | 1 |\n",
       "| Hornet Sportabout | 18.7 | 8 | 360 | 175 | 3.15 | 3.440 | 17.02 | 0 | 0 | 3 | 2 |\n",
       "| Valiant | 18.1 | 6 | 225 | 105 | 2.76 | 3.460 | 20.22 | 1 | 0 | 3 | 1 |\n",
       "\n"
      ],
      "text/plain": [
       "                  mpg  cyl disp hp  drat wt    qsec  vs am gear carb\n",
       "Mazda RX4         21.0 6   160  110 3.90 2.620 16.46 0  1  4    4   \n",
       "Mazda RX4 Wag     21.0 6   160  110 3.90 2.875 17.02 0  1  4    4   \n",
       "Datsun 710        22.8 4   108   93 3.85 2.320 18.61 1  1  4    1   \n",
       "Hornet 4 Drive    21.4 6   258  110 3.08 3.215 19.44 1  0  3    1   \n",
       "Hornet Sportabout 18.7 8   360  175 3.15 3.440 17.02 0  0  3    2   \n",
       "Valiant           18.1 6   225  105 2.76 3.460 20.22 1  0  3    1   "
      ]
     },
     "metadata": {},
     "output_type": "display_data"
    }
   ],
   "source": [
    "library(datasets)\n",
    "data(\"mtcars\")\n",
    "head(mtcars)"
   ]
  },
  {
   "cell_type": "markdown",
   "id": "2282daed",
   "metadata": {},
   "source": [
    "Ví dụ với package `ggplot2`:"
   ]
  },
  {
   "cell_type": "code",
   "execution_count": 19,
   "id": "8454becd",
   "metadata": {
    "vscode": {
     "languageId": "r"
    }
   },
   "outputs": [
    {
     "name": "stderr",
     "output_type": "stream",
     "text": [
      "Installing package into 'C:/Users/Hoang Tu/AppData/Local/R/win-library/4.5'\n",
      "(as 'lib' is unspecified)\n",
      "\n"
     ]
    },
    {
     "name": "stdout",
     "output_type": "stream",
     "text": [
      "package 'ggplot2' successfully unpacked and MD5 sums checked\n",
      "\n",
      "The downloaded binary packages are in\n",
      "\tC:\\Users\\Hoang Tu\\AppData\\Local\\Temp\\RtmpUFjbuW\\downloaded_packages\n"
     ]
    },
    {
     "data": {
      "text/html": [
       "<table class=\"dataframe\">\n",
       "<caption>A tibble: 6 × 10</caption>\n",
       "<thead>\n",
       "\t<tr><th scope=col>carat</th><th scope=col>cut</th><th scope=col>color</th><th scope=col>clarity</th><th scope=col>depth</th><th scope=col>table</th><th scope=col>price</th><th scope=col>x</th><th scope=col>y</th><th scope=col>z</th></tr>\n",
       "\t<tr><th scope=col>&lt;dbl&gt;</th><th scope=col>&lt;ord&gt;</th><th scope=col>&lt;ord&gt;</th><th scope=col>&lt;ord&gt;</th><th scope=col>&lt;dbl&gt;</th><th scope=col>&lt;dbl&gt;</th><th scope=col>&lt;int&gt;</th><th scope=col>&lt;dbl&gt;</th><th scope=col>&lt;dbl&gt;</th><th scope=col>&lt;dbl&gt;</th></tr>\n",
       "</thead>\n",
       "<tbody>\n",
       "\t<tr><td>0.23</td><td>Ideal    </td><td>E</td><td>SI2 </td><td>61.5</td><td>55</td><td>326</td><td>3.95</td><td>3.98</td><td>2.43</td></tr>\n",
       "\t<tr><td>0.21</td><td>Premium  </td><td>E</td><td>SI1 </td><td>59.8</td><td>61</td><td>326</td><td>3.89</td><td>3.84</td><td>2.31</td></tr>\n",
       "\t<tr><td>0.23</td><td>Good     </td><td>E</td><td>VS1 </td><td>56.9</td><td>65</td><td>327</td><td>4.05</td><td>4.07</td><td>2.31</td></tr>\n",
       "\t<tr><td>0.29</td><td>Premium  </td><td>I</td><td>VS2 </td><td>62.4</td><td>58</td><td>334</td><td>4.20</td><td>4.23</td><td>2.63</td></tr>\n",
       "\t<tr><td>0.31</td><td>Good     </td><td>J</td><td>SI2 </td><td>63.3</td><td>58</td><td>335</td><td>4.34</td><td>4.35</td><td>2.75</td></tr>\n",
       "\t<tr><td>0.24</td><td>Very Good</td><td>J</td><td>VVS2</td><td>62.8</td><td>57</td><td>336</td><td>3.94</td><td>3.96</td><td>2.48</td></tr>\n",
       "</tbody>\n",
       "</table>\n"
      ],
      "text/latex": [
       "A tibble: 6 × 10\n",
       "\\begin{tabular}{llllllllll}\n",
       " carat & cut & color & clarity & depth & table & price & x & y & z\\\\\n",
       " <dbl> & <ord> & <ord> & <ord> & <dbl> & <dbl> & <int> & <dbl> & <dbl> & <dbl>\\\\\n",
       "\\hline\n",
       "\t 0.23 & Ideal     & E & SI2  & 61.5 & 55 & 326 & 3.95 & 3.98 & 2.43\\\\\n",
       "\t 0.21 & Premium   & E & SI1  & 59.8 & 61 & 326 & 3.89 & 3.84 & 2.31\\\\\n",
       "\t 0.23 & Good      & E & VS1  & 56.9 & 65 & 327 & 4.05 & 4.07 & 2.31\\\\\n",
       "\t 0.29 & Premium   & I & VS2  & 62.4 & 58 & 334 & 4.20 & 4.23 & 2.63\\\\\n",
       "\t 0.31 & Good      & J & SI2  & 63.3 & 58 & 335 & 4.34 & 4.35 & 2.75\\\\\n",
       "\t 0.24 & Very Good & J & VVS2 & 62.8 & 57 & 336 & 3.94 & 3.96 & 2.48\\\\\n",
       "\\end{tabular}\n"
      ],
      "text/markdown": [
       "\n",
       "A tibble: 6 × 10\n",
       "\n",
       "| carat &lt;dbl&gt; | cut &lt;ord&gt; | color &lt;ord&gt; | clarity &lt;ord&gt; | depth &lt;dbl&gt; | table &lt;dbl&gt; | price &lt;int&gt; | x &lt;dbl&gt; | y &lt;dbl&gt; | z &lt;dbl&gt; |\n",
       "|---|---|---|---|---|---|---|---|---|---|\n",
       "| 0.23 | Ideal     | E | SI2  | 61.5 | 55 | 326 | 3.95 | 3.98 | 2.43 |\n",
       "| 0.21 | Premium   | E | SI1  | 59.8 | 61 | 326 | 3.89 | 3.84 | 2.31 |\n",
       "| 0.23 | Good      | E | VS1  | 56.9 | 65 | 327 | 4.05 | 4.07 | 2.31 |\n",
       "| 0.29 | Premium   | I | VS2  | 62.4 | 58 | 334 | 4.20 | 4.23 | 2.63 |\n",
       "| 0.31 | Good      | J | SI2  | 63.3 | 58 | 335 | 4.34 | 4.35 | 2.75 |\n",
       "| 0.24 | Very Good | J | VVS2 | 62.8 | 57 | 336 | 3.94 | 3.96 | 2.48 |\n",
       "\n"
      ],
      "text/plain": [
       "  carat cut       color clarity depth table price x    y    z   \n",
       "1 0.23  Ideal     E     SI2     61.5  55    326   3.95 3.98 2.43\n",
       "2 0.21  Premium   E     SI1     59.8  61    326   3.89 3.84 2.31\n",
       "3 0.23  Good      E     VS1     56.9  65    327   4.05 4.07 2.31\n",
       "4 0.29  Premium   I     VS2     62.4  58    334   4.20 4.23 2.63\n",
       "5 0.31  Good      J     SI2     63.3  58    335   4.34 4.35 2.75\n",
       "6 0.24  Very Good J     VVS2    62.8  57    336   3.94 3.96 2.48"
      ]
     },
     "metadata": {},
     "output_type": "display_data"
    }
   ],
   "source": [
    "install.packages(\"ggplot2\")\n",
    "library(ggplot2)\n",
    "data(\"diamonds\")\n",
    "head(diamonds)"
   ]
  },
  {
   "cell_type": "markdown",
   "id": "ff8437a1",
   "metadata": {},
   "source": [
    "Có thể xem dữ liệu nào có trong package:"
   ]
  },
  {
   "cell_type": "code",
   "execution_count": 20,
   "id": "09f95b5e",
   "metadata": {
    "vscode": {
     "languageId": "r"
    }
   },
   "outputs": [
    {
     "name": "stdout",
     "output_type": "stream",
     "text": [
      "Data sets in package 'ggplot2':\n",
      "\n",
      "diamonds                Prices of over 50,000 round cut diamonds\n",
      "economics               US economic time series\n",
      "economics_long          US economic time series\n",
      "faithfuld               2d density estimate of Old Faithful data\n",
      "luv_colours             'colors()' in Luv space\n",
      "midwest                 Midwest demographics\n",
      "mpg                     Fuel economy data from 1999 to 2008 for 38\n",
      "                        popular models of cars\n",
      "msleep                  An updated and expanded version of the mammals\n",
      "                        sleep dataset\n",
      "presidential            Terms of 12 presidents from Eisenhower to Trump\n",
      "seals                   Vector field of seal movements\n",
      "txhousing               Housing sales in TX"
     ]
    }
   ],
   "source": [
    "data(package = \"ggplot2\")"
   ]
  },
  {
   "cell_type": "markdown",
   "id": "8d27a930",
   "metadata": {},
   "source": [
    "## **Chuyển đổi giữa các loại vector**\n",
    "\n",
    "Trong quá trình xử lý dữ liệu, ta thường gặp 3 loại vector: vector số, factor, vector chữ. Để chuyển đổi giữa 3 loại Để ta sử dụng các hàm sau:\n",
    "\n",
    "* `as.factor()`: Để chuyển thành factor\n",
    "* `as.character()`: Để chuyển thành vector chữ.\n",
    "* `as.numeric()`: Để chuyển thành vector số.\n",
    "\n",
    "Cú pháp chung\n",
    "\n",
    "```r\n",
    "<dataframe>$<new_var> <- as.<function>(<dataframe>$<var>)\n",
    "```\n",
    "\n",
    "Trong đó:\n",
    "\n",
    "* `<dataframe>`: Bảng dữ liệu.\n",
    "* `<var>`: Biến gốc (có thể là số hoặc chuỗi).\n",
    "* `<new_var>`: Biến mới sau khi được chuyển thành factor. Nếu chỉ ép kiểu thì `<new_var>` có thể trực tiếp thành `<var>`\n",
    "* `<function>`: Hàm sử dụng để biến đổi\n",
    "* `as.<function>(<var>)`: Biến đổi biến `<var>`."
   ]
  },
  {
   "cell_type": "code",
   "execution_count": 21,
   "id": "077bec1f",
   "metadata": {
    "vscode": {
     "languageId": "r"
    }
   },
   "outputs": [
    {
     "name": "stdout",
     "output_type": "stream",
     "text": [
      "[1] \"A\" \"B\" \"A\" \"C\"\n"
     ]
    },
    {
     "name": "stdout",
     "output_type": "stream",
     "text": [
      "[1] A B A C\n",
      "Levels: A B C\n"
     ]
    }
   ],
   "source": [
    "x <- c(\"A\", \"B\", \"A\", \"C\")\n",
    "y <- as.factor(x)\n",
    "print(x)\n",
    "print(y)"
   ]
  },
  {
   "cell_type": "code",
   "execution_count": 22,
   "id": "c33aca69",
   "metadata": {
    "vscode": {
     "languageId": "r"
    }
   },
   "outputs": [
    {
     "name": "stdout",
     "output_type": "stream",
     "text": [
      "[1] 1 2 3 4 5\n",
      "[1] \"1\" \"2\" \"3\" \"4\" \"5\"\n"
     ]
    }
   ],
   "source": [
    "x <- c(1, 2, 3, 4, 5)\n",
    "y <- as.character(x)\n",
    "print(x)\n",
    "print(y)"
   ]
  },
  {
   "cell_type": "code",
   "execution_count": 23,
   "id": "e227ff79",
   "metadata": {
    "vscode": {
     "languageId": "r"
    }
   },
   "outputs": [
    {
     "name": "stdout",
     "output_type": "stream",
     "text": [
      "[1] \"1\" \"2\" \"3\" \"4\" \"5\"\n",
      "[1] 1 2 3 4 5\n"
     ]
    }
   ],
   "source": [
    "x <- c(\"1\", \"2\", \"3\", \"4\", \"5\")\n",
    "y <- as.numeric(x)\n",
    "print(x)\n",
    "print(y)"
   ]
  },
  {
   "cell_type": "markdown",
   "id": "2e256ff1",
   "metadata": {},
   "source": [
    "# **Thao tác với dữ liệu**\n",
    "\n",
    "## **Lọc dữ liệu**\n",
    "\n",
    "Trong quá trình xử lý dữ liệu, đôi khi ta cần lọc data frame dựa trên các điều kiện nhất định để từ đó thực hiện các tính toán cần thiết Để lọc dữ liệu trong R, ta sử dụng dấu ngoặc vuông tương tự như khi truy vấn với `Matrix`. điểm khác biệt ở chỗ, `DataFrame` là tổng hợp và kết hợp giữa `List` và `Matrix` nên có thể sử dụng cách truy vấn của cả 2 mà không gặp vấn đề gì:"
   ]
  },
  {
   "cell_type": "code",
   "execution_count": 24,
   "id": "ca80332d",
   "metadata": {
    "vscode": {
     "languageId": "r"
    }
   },
   "outputs": [
    {
     "data": {
      "text/html": [
       "<table class=\"dataframe\">\n",
       "<caption>A data.frame: 5 × 11</caption>\n",
       "<thead>\n",
       "\t<tr><th></th><th scope=col>mpg</th><th scope=col>cyl</th><th scope=col>disp</th><th scope=col>hp</th><th scope=col>drat</th><th scope=col>wt</th><th scope=col>qsec</th><th scope=col>vs</th><th scope=col>am</th><th scope=col>gear</th><th scope=col>carb</th></tr>\n",
       "\t<tr><th></th><th scope=col>&lt;dbl&gt;</th><th scope=col>&lt;dbl&gt;</th><th scope=col>&lt;dbl&gt;</th><th scope=col>&lt;dbl&gt;</th><th scope=col>&lt;dbl&gt;</th><th scope=col>&lt;dbl&gt;</th><th scope=col>&lt;dbl&gt;</th><th scope=col>&lt;dbl&gt;</th><th scope=col>&lt;dbl&gt;</th><th scope=col>&lt;dbl&gt;</th><th scope=col>&lt;dbl&gt;</th></tr>\n",
       "</thead>\n",
       "<tbody>\n",
       "\t<tr><th scope=row>Mazda RX4</th><td>21.0</td><td>6</td><td>160</td><td>110</td><td>3.90</td><td>2.620</td><td>16.46</td><td>0</td><td>1</td><td>4</td><td>4</td></tr>\n",
       "\t<tr><th scope=row>Mazda RX4 Wag</th><td>21.0</td><td>6</td><td>160</td><td>110</td><td>3.90</td><td>2.875</td><td>17.02</td><td>0</td><td>1</td><td>4</td><td>4</td></tr>\n",
       "\t<tr><th scope=row>Datsun 710</th><td>22.8</td><td>4</td><td>108</td><td> 93</td><td>3.85</td><td>2.320</td><td>18.61</td><td>1</td><td>1</td><td>4</td><td>1</td></tr>\n",
       "\t<tr><th scope=row>Hornet 4 Drive</th><td>21.4</td><td>6</td><td>258</td><td>110</td><td>3.08</td><td>3.215</td><td>19.44</td><td>1</td><td>0</td><td>3</td><td>1</td></tr>\n",
       "\t<tr><th scope=row>Hornet Sportabout</th><td>18.7</td><td>8</td><td>360</td><td>175</td><td>3.15</td><td>3.440</td><td>17.02</td><td>0</td><td>0</td><td>3</td><td>2</td></tr>\n",
       "</tbody>\n",
       "</table>\n"
      ],
      "text/latex": [
       "A data.frame: 5 × 11\n",
       "\\begin{tabular}{r|lllllllllll}\n",
       "  & mpg & cyl & disp & hp & drat & wt & qsec & vs & am & gear & carb\\\\\n",
       "  & <dbl> & <dbl> & <dbl> & <dbl> & <dbl> & <dbl> & <dbl> & <dbl> & <dbl> & <dbl> & <dbl>\\\\\n",
       "\\hline\n",
       "\tMazda RX4 & 21.0 & 6 & 160 & 110 & 3.90 & 2.620 & 16.46 & 0 & 1 & 4 & 4\\\\\n",
       "\tMazda RX4 Wag & 21.0 & 6 & 160 & 110 & 3.90 & 2.875 & 17.02 & 0 & 1 & 4 & 4\\\\\n",
       "\tDatsun 710 & 22.8 & 4 & 108 &  93 & 3.85 & 2.320 & 18.61 & 1 & 1 & 4 & 1\\\\\n",
       "\tHornet 4 Drive & 21.4 & 6 & 258 & 110 & 3.08 & 3.215 & 19.44 & 1 & 0 & 3 & 1\\\\\n",
       "\tHornet Sportabout & 18.7 & 8 & 360 & 175 & 3.15 & 3.440 & 17.02 & 0 & 0 & 3 & 2\\\\\n",
       "\\end{tabular}\n"
      ],
      "text/markdown": [
       "\n",
       "A data.frame: 5 × 11\n",
       "\n",
       "| <!--/--> | mpg &lt;dbl&gt; | cyl &lt;dbl&gt; | disp &lt;dbl&gt; | hp &lt;dbl&gt; | drat &lt;dbl&gt; | wt &lt;dbl&gt; | qsec &lt;dbl&gt; | vs &lt;dbl&gt; | am &lt;dbl&gt; | gear &lt;dbl&gt; | carb &lt;dbl&gt; |\n",
       "|---|---|---|---|---|---|---|---|---|---|---|---|\n",
       "| Mazda RX4 | 21.0 | 6 | 160 | 110 | 3.90 | 2.620 | 16.46 | 0 | 1 | 4 | 4 |\n",
       "| Mazda RX4 Wag | 21.0 | 6 | 160 | 110 | 3.90 | 2.875 | 17.02 | 0 | 1 | 4 | 4 |\n",
       "| Datsun 710 | 22.8 | 4 | 108 |  93 | 3.85 | 2.320 | 18.61 | 1 | 1 | 4 | 1 |\n",
       "| Hornet 4 Drive | 21.4 | 6 | 258 | 110 | 3.08 | 3.215 | 19.44 | 1 | 0 | 3 | 1 |\n",
       "| Hornet Sportabout | 18.7 | 8 | 360 | 175 | 3.15 | 3.440 | 17.02 | 0 | 0 | 3 | 2 |\n",
       "\n"
      ],
      "text/plain": [
       "                  mpg  cyl disp hp  drat wt    qsec  vs am gear carb\n",
       "Mazda RX4         21.0 6   160  110 3.90 2.620 16.46 0  1  4    4   \n",
       "Mazda RX4 Wag     21.0 6   160  110 3.90 2.875 17.02 0  1  4    4   \n",
       "Datsun 710        22.8 4   108   93 3.85 2.320 18.61 1  1  4    1   \n",
       "Hornet 4 Drive    21.4 6   258  110 3.08 3.215 19.44 1  0  3    1   \n",
       "Hornet Sportabout 18.7 8   360  175 3.15 3.440 17.02 0  0  3    2   "
      ]
     },
     "metadata": {},
     "output_type": "display_data"
    }
   ],
   "source": [
    "df <- mtcars\n",
    "head(df, 5)"
   ]
  },
  {
   "cell_type": "code",
   "execution_count": 25,
   "id": "f9352173",
   "metadata": {
    "vscode": {
     "languageId": "r"
    }
   },
   "outputs": [
    {
     "data": {
      "text/html": [
       "<table class=\"dataframe\">\n",
       "<caption>A data.frame: 1 × 11</caption>\n",
       "<thead>\n",
       "\t<tr><th></th><th scope=col>mpg</th><th scope=col>cyl</th><th scope=col>disp</th><th scope=col>hp</th><th scope=col>drat</th><th scope=col>wt</th><th scope=col>qsec</th><th scope=col>vs</th><th scope=col>am</th><th scope=col>gear</th><th scope=col>carb</th></tr>\n",
       "\t<tr><th></th><th scope=col>&lt;dbl&gt;</th><th scope=col>&lt;dbl&gt;</th><th scope=col>&lt;dbl&gt;</th><th scope=col>&lt;dbl&gt;</th><th scope=col>&lt;dbl&gt;</th><th scope=col>&lt;dbl&gt;</th><th scope=col>&lt;dbl&gt;</th><th scope=col>&lt;dbl&gt;</th><th scope=col>&lt;dbl&gt;</th><th scope=col>&lt;dbl&gt;</th><th scope=col>&lt;dbl&gt;</th></tr>\n",
       "</thead>\n",
       "<tbody>\n",
       "\t<tr><th scope=row>Datsun 710</th><td>22.8</td><td>4</td><td>108</td><td>93</td><td>3.85</td><td>2.32</td><td>18.61</td><td>1</td><td>1</td><td>4</td><td>1</td></tr>\n",
       "</tbody>\n",
       "</table>\n"
      ],
      "text/latex": [
       "A data.frame: 1 × 11\n",
       "\\begin{tabular}{r|lllllllllll}\n",
       "  & mpg & cyl & disp & hp & drat & wt & qsec & vs & am & gear & carb\\\\\n",
       "  & <dbl> & <dbl> & <dbl> & <dbl> & <dbl> & <dbl> & <dbl> & <dbl> & <dbl> & <dbl> & <dbl>\\\\\n",
       "\\hline\n",
       "\tDatsun 710 & 22.8 & 4 & 108 & 93 & 3.85 & 2.32 & 18.61 & 1 & 1 & 4 & 1\\\\\n",
       "\\end{tabular}\n"
      ],
      "text/markdown": [
       "\n",
       "A data.frame: 1 × 11\n",
       "\n",
       "| <!--/--> | mpg &lt;dbl&gt; | cyl &lt;dbl&gt; | disp &lt;dbl&gt; | hp &lt;dbl&gt; | drat &lt;dbl&gt; | wt &lt;dbl&gt; | qsec &lt;dbl&gt; | vs &lt;dbl&gt; | am &lt;dbl&gt; | gear &lt;dbl&gt; | carb &lt;dbl&gt; |\n",
       "|---|---|---|---|---|---|---|---|---|---|---|---|\n",
       "| Datsun 710 | 22.8 | 4 | 108 | 93 | 3.85 | 2.32 | 18.61 | 1 | 1 | 4 | 1 |\n",
       "\n"
      ],
      "text/plain": [
       "           mpg  cyl disp hp drat wt   qsec  vs am gear carb\n",
       "Datsun 710 22.8 4   108  93 3.85 2.32 18.61 1  1  4    1   "
      ]
     },
     "metadata": {},
     "output_type": "display_data"
    }
   ],
   "source": [
    "data1 <- df[3, ]\n",
    "View(data1)"
   ]
  },
  {
   "cell_type": "code",
   "execution_count": 26,
   "id": "4581b9ff",
   "metadata": {
    "vscode": {
     "languageId": "r"
    }
   },
   "outputs": [
    {
     "name": "stdout",
     "output_type": "stream",
     "text": [
      " [1] 160.0 160.0 108.0 258.0 360.0 225.0 360.0 146.7 140.8 167.6 167.6 275.8\n",
      "[13] 275.8 275.8 472.0 460.0 440.0  78.7  75.7  71.1 120.1 318.0 304.0 350.0\n",
      "[25] 400.0  79.0 120.3  95.1 351.0 145.0 301.0 121.0\n"
     ]
    }
   ],
   "source": [
    "data2 <- df[, 3]\n",
    "print(data2)"
   ]
  },
  {
   "cell_type": "code",
   "execution_count": 27,
   "id": "bada3cd9",
   "metadata": {
    "vscode": {
     "languageId": "r"
    }
   },
   "outputs": [
    {
     "name": "stdout",
     "output_type": "stream",
     "text": [
      " [1] 160.0 160.0 108.0 258.0 360.0 225.0 360.0 146.7 140.8 167.6 167.6 275.8\n",
      "[13] 275.8 275.8 472.0 460.0 440.0  78.7  75.7  71.1 120.1 318.0 304.0 350.0\n",
      "[25] 400.0  79.0 120.3  95.1 351.0 145.0 301.0 121.0\n"
     ]
    }
   ],
   "source": [
    "data3 <- df$disp\n",
    "print(data3)"
   ]
  },
  {
   "cell_type": "code",
   "execution_count": 28,
   "id": "997d88bc",
   "metadata": {
    "vscode": {
     "languageId": "r"
    }
   },
   "outputs": [
    {
     "data": {
      "text/html": [
       "<table class=\"dataframe\">\n",
       "<caption>A data.frame: 3 × 3</caption>\n",
       "<thead>\n",
       "\t<tr><th></th><th scope=col>hp</th><th scope=col>drat</th><th scope=col>wt</th></tr>\n",
       "\t<tr><th></th><th scope=col>&lt;dbl&gt;</th><th scope=col>&lt;dbl&gt;</th><th scope=col>&lt;dbl&gt;</th></tr>\n",
       "</thead>\n",
       "<tbody>\n",
       "\t<tr><th scope=row>Mazda RX4</th><td>110</td><td>3.90</td><td>2.620</td></tr>\n",
       "\t<tr><th scope=row>Mazda RX4 Wag</th><td>110</td><td>3.90</td><td>2.875</td></tr>\n",
       "\t<tr><th scope=row>Datsun 710</th><td> 93</td><td>3.85</td><td>2.320</td></tr>\n",
       "</tbody>\n",
       "</table>\n"
      ],
      "text/latex": [
       "A data.frame: 3 × 3\n",
       "\\begin{tabular}{r|lll}\n",
       "  & hp & drat & wt\\\\\n",
       "  & <dbl> & <dbl> & <dbl>\\\\\n",
       "\\hline\n",
       "\tMazda RX4 & 110 & 3.90 & 2.620\\\\\n",
       "\tMazda RX4 Wag & 110 & 3.90 & 2.875\\\\\n",
       "\tDatsun 710 &  93 & 3.85 & 2.320\\\\\n",
       "\\end{tabular}\n"
      ],
      "text/markdown": [
       "\n",
       "A data.frame: 3 × 3\n",
       "\n",
       "| <!--/--> | hp &lt;dbl&gt; | drat &lt;dbl&gt; | wt &lt;dbl&gt; |\n",
       "|---|---|---|---|\n",
       "| Mazda RX4 | 110 | 3.90 | 2.620 |\n",
       "| Mazda RX4 Wag | 110 | 3.90 | 2.875 |\n",
       "| Datsun 710 |  93 | 3.85 | 2.320 |\n",
       "\n"
      ],
      "text/plain": [
       "              hp  drat wt   \n",
       "Mazda RX4     110 3.90 2.620\n",
       "Mazda RX4 Wag 110 3.90 2.875\n",
       "Datsun 710     93 3.85 2.320"
      ]
     },
     "metadata": {},
     "output_type": "display_data"
    }
   ],
   "source": [
    "data4 <- df[c(1, 2, 3), c(4, 5, 6)]\n",
    "View(data4)"
   ]
  },
  {
   "cell_type": "code",
   "execution_count": 29,
   "id": "e73ee73a",
   "metadata": {
    "vscode": {
     "languageId": "r"
    }
   },
   "outputs": [
    {
     "name": "stdout",
     "output_type": "stream",
     "text": [
      "                mpg cyl  disp  hp drat    wt  qsec vs am gear carb\n",
      "Mazda RX4      21.0   6 160.0 110 3.90 2.620 16.46  0  1    4    4\n",
      "Mazda RX4 Wag  21.0   6 160.0 110 3.90 2.875 17.02  0  1    4    4\n",
      "Datsun 710     22.8   4 108.0  93 3.85 2.320 18.61  1  1    4    1\n",
      "Fiat 128       32.4   4  78.7  66 4.08 2.200 19.47  1  1    4    1\n",
      "Honda Civic    30.4   4  75.7  52 4.93 1.615 18.52  1  1    4    2\n",
      "Toyota Corolla 33.9   4  71.1  65 4.22 1.835 19.90  1  1    4    1\n",
      "Fiat X1-9      27.3   4  79.0  66 4.08 1.935 18.90  1  1    4    1\n",
      "Porsche 914-2  26.0   4 120.3  91 4.43 2.140 16.70  0  1    5    2\n",
      "Lotus Europa   30.4   4  95.1 113 3.77 1.513 16.90  1  1    5    2\n",
      "Ford Pantera L 15.8   8 351.0 264 4.22 3.170 14.50  0  1    5    4\n",
      "Ferrari Dino   19.7   6 145.0 175 3.62 2.770 15.50  0  1    5    6\n",
      "Maserati Bora  15.0   8 301.0 335 3.54 3.570 14.60  0  1    5    8\n",
      "Volvo 142E     21.4   4 121.0 109 4.11 2.780 18.60  1  1    4    2\n"
     ]
    }
   ],
   "source": [
    "manual <- df[df$am == 1, ]\n",
    "print(manual)"
   ]
  },
  {
   "cell_type": "code",
   "execution_count": 30,
   "id": "21cedb61",
   "metadata": {
    "vscode": {
     "languageId": "r"
    }
   },
   "outputs": [
    {
     "name": "stdout",
     "output_type": "stream",
     "text": [
      "                mpg cyl  disp  hp drat    wt  qsec vs am gear carb\n",
      "Mazda RX4      21.0   6 160.0 110 3.90 2.620 16.46  0  1    4    4\n",
      "Mazda RX4 Wag  21.0   6 160.0 110 3.90 2.875 17.02  0  1    4    4\n",
      "Datsun 710     22.8   4 108.0  93 3.85 2.320 18.61  1  1    4    1\n",
      "Fiat 128       32.4   4  78.7  66 4.08 2.200 19.47  1  1    4    1\n",
      "Porsche 914-2  26.0   4 120.3  91 4.43 2.140 16.70  0  1    5    2\n",
      "Ford Pantera L 15.8   8 351.0 264 4.22 3.170 14.50  0  1    5    4\n",
      "Ferrari Dino   19.7   6 145.0 175 3.62 2.770 15.50  0  1    5    6\n",
      "Maserati Bora  15.0   8 301.0 335 3.54 3.570 14.60  0  1    5    8\n",
      "Volvo 142E     21.4   4 121.0 109 4.11 2.780 18.60  1  1    4    2\n"
     ]
    }
   ],
   "source": [
    "manual2 <- df[df$am == 1 & df$wt > 2, ]\n",
    "print(manual2)"
   ]
  },
  {
   "cell_type": "markdown",
   "id": "7323c0e3",
   "metadata": {},
   "source": [
    "## **Rời rạc hóa dữ liệu**\n",
    "\n",
    "Phần này ta sẽ sử dụng dữ liệu *\"`df=`[`mtcars`](../Data/mtcars.csv)\"* được lấy từ tạp chí **_Motor Trend US_** năm 1974. Trong data set này, biến \"**_am_**\" là kiểu hộp số được mã hóa với 2 giá trị `0` (số tự động), `1` (số điều khiển bằng tay). Chúng ta sẽ mã hóa lại biến số **_am_** thành dạng factor với tên lần lượt là \"**_automatic_**\" và \"**_manual_**\" và gán cho một biến số mới có tên là **_trans_**. Đây là một dataset có sẵn trong R nên ta có thể sử dụng trực tiếp bằng cách gọi đến biến `mtcars` hoặc thông qua file tại thư mục Data [matcars](../Data/mtcars.csv)"
   ]
  },
  {
   "cell_type": "code",
   "execution_count": 31,
   "id": "6d57c557",
   "metadata": {
    "vscode": {
     "languageId": "r"
    }
   },
   "outputs": [
    {
     "name": "stdout",
     "output_type": "stream",
     "text": [
      " [1] Manual    Manual    Manual    Automatic Automatic Automatic Automatic\n",
      " [8] Automatic Automatic Automatic Automatic Automatic Automatic Automatic\n",
      "[15] Automatic Automatic Automatic Manual    Manual    Manual    Automatic\n",
      "[22] Automatic Automatic Automatic Automatic Manual    Manual    Manual   \n",
      "[29] Manual    Manual    Manual    Manual   \n",
      "Levels: Automatic Manual\n"
     ]
    }
   ],
   "source": [
    "df <- mtcars\n",
    "df$trans <- factor(df$am, levels = c(0, 1), labels = c(\"Automatic\", \"Manual\"))\n",
    "print(df$trans)"
   ]
  },
  {
   "cell_type": "markdown",
   "id": "3abb00e6",
   "metadata": {},
   "source": [
    "Giả sử chúng ta muốn rời rạc hóa dữ liệu công suất của 32 dòng ô tô thành 3 nhóm: `cao (H)`, `trung bình (M)`, `thấp (L)` và gán các giá trị này vào một biến số mới có tên \"power\". Sử dụng hàm `cut()`:\n",
    "Trong R, đoạn lệnh:\n"
   ]
  },
  {
   "cell_type": "code",
   "execution_count": 32,
   "id": "b17c2ac0",
   "metadata": {
    "vscode": {
     "languageId": "r"
    }
   },
   "outputs": [
    {
     "name": "stdout",
     "output_type": "stream",
     "text": [
      " [1] M M L M M M H L L M M M M M H H H L L L M M M H M L L M H M H M\n",
      "Levels: L M H\n"
     ]
    }
   ],
   "source": [
    "df$power <- cut(df$hp, breaks=c(-Inf, 96.5, 180, Inf), labels=c(\"L\", \"M\", \"H\"))\n",
    "print(df$power)"
   ]
  },
  {
   "cell_type": "markdown",
   "id": "26fe75a1",
   "metadata": {},
   "source": [
    "Trong đó:\n",
    "* `df`: Data frame đang làm việc.\n",
    "* `df$hp`: Cột **hp** trong data frame `df` (giả sử là horsepower).\n",
    "* `cut(df$hp, ...)`: Hàm **cut** chia dữ liệu số liên tục thành các khoảng (bins).\n",
    "* `breaks=c(-Inf, 96.5, 180, Inf)`: Các điểm chia khoảng.\n",
    "\n",
    "  * `-Inf` → âm vô cùng (mọi giá trị nhỏ hơn 96.5).\n",
    "  * `96.5` → điểm cắt thứ nhất.\n",
    "  * `180` → điểm cắt thứ hai.\n",
    "  * `Inf` → dương vô cùng (mọi giá trị lớn hơn 180).\n",
    "* `labels=c(\"L\",\"M\",\"H\")`: Gán nhãn cho từng khoảng.\n",
    "\n",
    "  * `L`: nếu `hp` $\\leq$ 96.5\n",
    "  * `M`: nếu 96.5 $<$ `hp` $\\leq$ 180\n",
    "  * `H`: nếu `hp` $>$ 180\n",
    "* `df$power`: Cột mới được thêm vào `df`, chứa phân loại công suất (\"L\", \"M\", \"H\")."
   ]
  },
  {
   "cell_type": "markdown",
   "id": "e1cdd3dd",
   "metadata": {},
   "source": [
    "## **Ghép dữ liệu**\n",
    "\n",
    "Trong R, đôi khi ta có hai bảng dữ liệu khác nhau nhưng lại có một phần thông tin liên quan đến nhau. Ví dụ:\n",
    "\n",
    "* Một bảng lưu danh sách sinh viên cùng với **mã số sinh viên** và **tên**.\n",
    "* Một bảng khác lưu thông tin về **mã số sinh viên** và **điểm số**.\n",
    "\n",
    "Nếu chỉ nhìn từng bảng riêng lẻ thì thông tin chưa đầy đủ. Ta muốn có một bảng chung vừa có **tên sinh viên**, vừa có **điểm số**.\n",
    "\n",
    "Khi đó, hàm `merge()` trong R giúp chúng ta **ghép hai bảng** lại dựa trên cột chung (ở ví dụ trên là **mã số sinh viên**). Sau khi ghép, ta sẽ có một bảng lớn hơn, đầy đủ thông tin hơn để dễ dàng phân tích hoặc sử dụng tiếp.\n",
    "\n",
    "Nói đơn giản: **Bạn có hai bảng có một cột chung. Khi ghép, những dòng có cùng giá trị ở cột đó sẽ được nối thông tin lại với nhau.**\n",
    "\n",
    "Cú pháp\n",
    "\n",
    "```r\n",
    "merge(bảng1, bảng2, by.x = \"row11\", by.y = \"row21\")\n",
    "```\n",
    "\n",
    "**Giải thích:**\n",
    "\n",
    "Bạn có hai bảng dữ liệu:\n",
    "\n",
    "* Bảng 1 có một cột tên **row11**.\n",
    "* Bảng 2 có một cột tên **row21**.\n",
    "\n",
    "Trong hai cột này có những giá trị giống nhau, ví dụ cùng chứa `\"a\"`, `\"b\"`, `\"c\"`.\n",
    "\n",
    "Khi ghép bằng công thức trên, việc xảy ra là:\n",
    "\n",
    "* Tìm những giá trị **trùng nhau** giữa **row11** (bảng 1) và **row21** (bảng 2).\n",
    "* Với mỗi giá trị trùng, gộp toàn bộ thông tin ở hai bảng thành **một dòng mới** trong bảng kết quả.\n",
    "\n",
    "---\n",
    "\n",
    "**Ví dụ:**\n",
    "\n",
    "* Trong bảng 1: `\"a\"` đi kèm `\"d\"`.\n",
    "* Trong bảng 2: `\"a\"` đi kèm `\"Hello\"`.\n",
    "\n",
    "Ghép lại thành:\n",
    "`(\"a\", \"d\", \"Hello\")`.\n",
    "\n",
    "Tương tự cho `\"b\"` và `\"c\"`."
   ]
  },
  {
   "cell_type": "code",
   "execution_count": 33,
   "id": "7b2c1b2b",
   "metadata": {
    "vscode": {
     "languageId": "r"
    }
   },
   "outputs": [
    {
     "name": "stdout",
     "output_type": "stream",
     "text": [
      "  row11 row12  row22\n",
      "1     a     d  Hello\n",
      "2     b     e Grizmo\n",
      "3     c     f    HTT\n"
     ]
    }
   ],
   "source": [
    "df1 <- data.frame(row11 = c(\"a\", \"b\", \"c\"), row12 = c(\"d\", \"e\", \"f\"))\n",
    "df2 <- data.frame(row21 = c(\"a\", \"b\", \"c\"), row22 = c(\"Hello\", \"Grizmo\", \"HTT\"))\n",
    "\n",
    "df <- merge(df1, df2, by.x = \"row11\", by.y = \"row21\")\n",
    "print(df)"
   ]
  },
  {
   "cell_type": "markdown",
   "id": "4bbe0da9",
   "metadata": {},
   "source": [
    "# **Xử lý dữ liệu bị thiếu**\n",
    "\n",
    "## **Xóa bỏ dữ liệu bị thiếu**\n",
    "Để xóa bỏ các hàng dữ liệu bị thiếu, chúng ta sử dụng hàm `na.omit(data)`\n",
    "\n",
    "Trong đó: `data` là biến chứa Dataframe chứa các dữ liệu bị thiếu"
   ]
  },
  {
   "cell_type": "code",
   "execution_count": 34,
   "id": "547358b9",
   "metadata": {
    "vscode": {
     "languageId": "r"
    }
   },
   "outputs": [
    {
     "name": "stdout",
     "output_type": "stream",
     "text": [
      "[1] 13580    21\n",
      "[1] 6830   21\n"
     ]
    }
   ],
   "source": [
    "data <- read.csv(\"Data/melb_data.csv\")\n",
    "print(dim(data))\n",
    "\n",
    "data2 <- na.omit(data)\n",
    "print(dim(data2))"
   ]
  },
  {
   "cell_type": "markdown",
   "id": "98499234",
   "metadata": {},
   "source": [
    "## **Thay thế dữ liệu định lượng bị thiếu**\n",
    "\n",
    "Để thống kê số lượng ô bị thiếu dữ liệu ở từng cột, chúng ta sử dụng hàm `is.na()` và hàm `colSums()`.\n",
    "\n",
    "**1. `is.na(df)`**\n",
    "\n",
    "* Hàm `is.na()` kiểm tra từng ô trong bảng dữ liệu.\n",
    "* Nếu ô bị thiếu (`NA`) → trả về `TRUE`.\n",
    "* Nếu ô có dữ liệu → trả về `FALSE`.\n",
    "\n",
    "Ví dụ:"
   ]
  },
  {
   "cell_type": "code",
   "execution_count": 35,
   "id": "62c60e4a",
   "metadata": {
    "vscode": {
     "languageId": "r"
    }
   },
   "outputs": [
    {
     "name": "stdout",
     "output_type": "stream",
     "text": [
      "      Name Score\n",
      "[1,] FALSE FALSE\n",
      "[2,] FALSE  TRUE\n",
      "[3,]  TRUE FALSE\n",
      "[4,] FALSE  TRUE\n"
     ]
    }
   ],
   "source": [
    "df <- data.frame(\n",
    "  Name = c(\"A\", \"B\", NA, \"D\"),\n",
    "  Score = c(10, NA, 8, NA)\n",
    ")\n",
    "\n",
    "print(is.na(df)) # Kết quả sẽ là một bảng logic (TRUE/FALSE):"
   ]
  },
  {
   "cell_type": "markdown",
   "id": "8f35e96a",
   "metadata": {},
   "source": [
    "**2. `colSums()`**\n",
    "\n",
    "* Hàm `colSums()` dùng để tính tổng giá trị theo từng cột trong bảng.\n",
    "* Thường áp dụng với dữ liệu số.\n",
    "\n",
    "Ví dụ:\n"
   ]
  },
  {
   "cell_type": "code",
   "execution_count": 36,
   "id": "94e94104",
   "metadata": {
    "vscode": {
     "languageId": "r"
    }
   },
   "outputs": [
    {
     "name": "stdout",
     "output_type": "stream",
     "text": [
      "     [,1] [,2]\n",
      "[1,]    1    0\n",
      "[2,]    0    1\n",
      "[3,]    1    1\n",
      "     [,1] [,2]\n",
      "[1,]    1    0\n",
      "[2,]    0    1\n",
      "[3,]    1    1\n"
     ]
    }
   ],
   "source": [
    "print(m <- matrix(c(1, 0, 1, 0, 1, 1), nrow = 3))\n",
    "print(m)"
   ]
  },
  {
   "cell_type": "markdown",
   "id": "1d9522a6",
   "metadata": {},
   "source": [
    "Nếu ta dùng:"
   ]
  },
  {
   "cell_type": "code",
   "execution_count": 37,
   "id": "2471c62f",
   "metadata": {
    "vscode": {
     "languageId": "r"
    }
   },
   "outputs": [
    {
     "name": "stdout",
     "output_type": "stream",
     "text": [
      "[1] 2 2\n"
     ]
    }
   ],
   "source": [
    "res <- colSums(m)\n",
    "print(res)"
   ]
  },
  {
   "cell_type": "markdown",
   "id": "49f21f4c",
   "metadata": {},
   "source": [
    "→ Mỗi cột cộng tất cả giá trị trong cột đó lại.\n",
    "\n",
    "**3. Kết hợp `colSums(is.na(df))`**\n",
    "\n",
    "* `is.na(df)` tạo bảng `TRUE/FALSE`.\n",
    "* Trong R: `TRUE = 1`, `FALSE = 0`.\n",
    "* `colSums()` cộng số `1` trong mỗi cột → ra số lượng ô bị thiếu dữ liệu.\n",
    "\n",
    "Ví dụ:"
   ]
  },
  {
   "cell_type": "code",
   "execution_count": 38,
   "id": "20f79c07",
   "metadata": {
    "vscode": {
     "languageId": "r"
    }
   },
   "outputs": [
    {
     "name": "stdout",
     "output_type": "stream",
     "text": [
      "[1] 13580    21\n",
      "       Suburb       Address         Rooms          Type         Price \n",
      "            0             0             0             0             0 \n",
      "       Method       SellerG          Date      Distance      Postcode \n",
      "            0             0             0             0             0 \n",
      "     Bedroom2      Bathroom           Car      Landsize  BuildingArea \n",
      "            0             0            62             0          6450 \n",
      "    YearBuilt   CouncilArea     Lattitude    Longtitude    Regionname \n",
      "         5375             0             0             0             0 \n",
      "Propertycount \n",
      "            0 \n"
     ]
    }
   ],
   "source": [
    "data <- read.csv(\"Data/melb_data.csv\")\n",
    "print(dim(data))\n",
    "print(colSums(is.na(data)))"
   ]
  },
  {
   "cell_type": "markdown",
   "id": "b8c9b170",
   "metadata": {},
   "source": [
    "## **Thay thế dữ liệu định lượng bị thiếu**\n",
    "\n",
    "Để thay thế dữ liệu định lượng bị thiếu bằng các giá trị khác (ví dụ: giá trị trung bình), ta sử dụng các hàm của R để làm việc này.\n",
    "\n",
    "```r\n",
    "<data>$<col>[is.na(<data>$<col>)] <- mean(<data>$<col>, na.rm = TRUE)\n",
    "```\n",
    "\n",
    "Trong đó:\n",
    "\n",
    "* `<data>`: bảng dữ liệu.\n",
    "* `<col>`: tên cột cần xử lý.\n",
    "* `is.na(data$<col>)`: xác định vị trí các ô bị thiếu (NA) trong cột.\n",
    "* `na.rm = TRUE`: bỏ qua NA trong bảng dữ liệu.\n",
    "* `<-`: gán giá trị trung bình vào các ô bị thiếu.\n",
    "\n",
    "\n",
    "Lưu ý, ta có thể thay thế giá trị khác nhau: Như tạo với dữ liệu là phân bố chuẩn, ngẫu nhiên hoặc đơn giản hơn là thay thế với một giá trị số chung cho toàn thể:\n",
    "```r\n",
    "data$<col>[is.na(data$<col>)] <- <giá trị_số>\n",
    "```"
   ]
  },
  {
   "cell_type": "code",
   "execution_count": 39,
   "id": "8ac274c1",
   "metadata": {
    "vscode": {
     "languageId": "r"
    }
   },
   "outputs": [
    {
     "name": "stdout",
     "output_type": "stream",
     "text": [
      "[1] 13580    21\n",
      "       Suburb       Address         Rooms          Type         Price \n",
      "            0             0             0             0             0 \n",
      "       Method       SellerG          Date      Distance      Postcode \n",
      "            0             0             0             0             0 \n",
      "     Bedroom2      Bathroom           Car      Landsize  BuildingArea \n",
      "            0             0            62             0          6450 \n",
      "    YearBuilt   CouncilArea     Lattitude    Longtitude    Regionname \n",
      "         5375             0             0             0             0 \n",
      "Propertycount \n",
      "            0 \n",
      "[1] 151.9676\n",
      "       Suburb       Address         Rooms          Type         Price \n",
      "            0             0             0             0             0 \n",
      "       Method       SellerG          Date      Distance      Postcode \n",
      "            0             0             0             0             0 \n",
      "     Bedroom2      Bathroom           Car      Landsize  BuildingArea \n",
      "            0             0            62             0             0 \n",
      "    YearBuilt   CouncilArea     Lattitude    Longtitude    Regionname \n",
      "         5375             0             0             0             0 \n",
      "Propertycount \n",
      "            0 \n"
     ]
    }
   ],
   "source": [
    "data <- read.csv(\"Data/melb_data.csv\")\n",
    "print(dim(data))\n",
    "print(colSums(is.na(data)))\n",
    "\n",
    "print(data[is.na(data$BuildingArea), ]$BuildingArea <-\n",
    "        mean(data$BuildingArea, na.rm = TRUE))\n",
    "\n",
    "print(colSums(is.na(data)))"
   ]
  },
  {
   "cell_type": "code",
   "execution_count": 40,
   "id": "bf9b9ef8",
   "metadata": {
    "vscode": {
     "languageId": "r"
    }
   },
   "outputs": [
    {
     "name": "stdout",
     "output_type": "stream",
     "text": [
      "[1] 13580    21\n",
      "       Suburb       Address         Rooms          Type         Price \n",
      "            0             0             0             0             0 \n",
      "       Method       SellerG          Date      Distance      Postcode \n",
      "            0             0             0             0             0 \n",
      "     Bedroom2      Bathroom           Car      Landsize  BuildingArea \n",
      "            0             0            62             0          6450 \n",
      "    YearBuilt   CouncilArea     Lattitude    Longtitude    Regionname \n",
      "         5375             0             0             0             0 \n",
      "Propertycount \n",
      "            0 \n",
      "[1] 2000\n",
      "       Suburb       Address         Rooms          Type         Price \n",
      "            0             0             0             0             0 \n",
      "       Method       SellerG          Date      Distance      Postcode \n",
      "            0             0             0             0             0 \n",
      "     Bedroom2      Bathroom           Car      Landsize  BuildingArea \n",
      "            0             0            62             0          6450 \n",
      "    YearBuilt   CouncilArea     Lattitude    Longtitude    Regionname \n",
      "            0             0             0             0             0 \n",
      "Propertycount \n",
      "            0 \n"
     ]
    }
   ],
   "source": [
    "data <- read.csv(\"Data/melb_data.csv\")\n",
    "print(dim(data))\n",
    "print(colSums(is.na(data)))\n",
    "\n",
    "print(data[is.na(data$YearBuilt), ]$YearBuilt <- 2000)\n",
    "\n",
    "print(colSums(is.na(data)))"
   ]
  },
  {
   "cell_type": "markdown",
   "id": "412e108e",
   "metadata": {},
   "source": [
    "Bạn có thể viết lại phần **Sắp xếp dữ liệu** hoàn chỉnh như sau:\n",
    "\n",
    "---\n",
    "\n",
    "## **Sắp xếp dữ liệu**\n",
    "\n",
    "Trong thực tế, đôi khi chúng ta cần sắp xếp dữ liệu theo một thứ tự nhất định. Trong R, hàm `sort()` chỉ hoạt động trên **vector**. Nếu muốn sắp xếp **toàn bộ data frame**, ta nên dùng hàm `order()`.\n",
    "\n",
    "### Cú pháp chung\n",
    "\n",
    "```r\n",
    "# Sắp xếp data frame df theo một cột\n",
    "df_sorted <- df[order(df$column_name, decreasing = FALSE), ]\n",
    "\n",
    "# Nếu muốn sắp xếp nhiều cột\n",
    "df_sorted <- df[order(df$col1, -df$col2), ]\n",
    "```\n",
    "\n",
    "* `df` : data frame cần sắp xếp\n",
    "* `column_name` : tên cột muốn sắp xếp\n",
    "* `decreasing = FALSE` : tăng dần, nếu `TRUE` sẽ giảm dần\n",
    "* Dùng `-df$col` để sắp xếp giảm dần cho numeric"
   ]
  },
  {
   "cell_type": "code",
   "execution_count": 41,
   "id": "9f620406",
   "metadata": {
    "vscode": {
     "languageId": "r"
    }
   },
   "outputs": [
    {
     "data": {
      "text/html": [
       "<table class=\"dataframe\">\n",
       "<caption>A data.frame: 6 × 21</caption>\n",
       "<thead>\n",
       "\t<tr><th></th><th scope=col>Suburb</th><th scope=col>Address</th><th scope=col>Rooms</th><th scope=col>Type</th><th scope=col>Price</th><th scope=col>Method</th><th scope=col>SellerG</th><th scope=col>Date</th><th scope=col>Distance</th><th scope=col>Postcode</th><th scope=col>⋯</th><th scope=col>Bathroom</th><th scope=col>Car</th><th scope=col>Landsize</th><th scope=col>BuildingArea</th><th scope=col>YearBuilt</th><th scope=col>CouncilArea</th><th scope=col>Lattitude</th><th scope=col>Longtitude</th><th scope=col>Regionname</th><th scope=col>Propertycount</th></tr>\n",
       "\t<tr><th></th><th scope=col>&lt;chr&gt;</th><th scope=col>&lt;chr&gt;</th><th scope=col>&lt;int&gt;</th><th scope=col>&lt;chr&gt;</th><th scope=col>&lt;dbl&gt;</th><th scope=col>&lt;chr&gt;</th><th scope=col>&lt;chr&gt;</th><th scope=col>&lt;chr&gt;</th><th scope=col>&lt;dbl&gt;</th><th scope=col>&lt;dbl&gt;</th><th scope=col>⋯</th><th scope=col>&lt;dbl&gt;</th><th scope=col>&lt;dbl&gt;</th><th scope=col>&lt;dbl&gt;</th><th scope=col>&lt;dbl&gt;</th><th scope=col>&lt;dbl&gt;</th><th scope=col>&lt;chr&gt;</th><th scope=col>&lt;dbl&gt;</th><th scope=col>&lt;dbl&gt;</th><th scope=col>&lt;chr&gt;</th><th scope=col>&lt;dbl&gt;</th></tr>\n",
       "</thead>\n",
       "<tbody>\n",
       "\t<tr><th scope=row>2653</th><td>Footscray</td><td>202/51 Gordon St</td><td>1</td><td>u</td><td> 85000</td><td>PI</td><td>Burnham</td><td>3/09/2016 </td><td> 6.4</td><td>3011</td><td>⋯</td><td>1</td><td>0</td><td>  0</td><td> NA</td><td>2007</td><td>Maribyrnong</td><td>-37.79110</td><td>144.8900</td><td>Western Metropolitan </td><td> 7570</td></tr>\n",
       "\t<tr><th scope=row>1806</th><td>Caulfield</td><td>30 Pyne St      </td><td>4</td><td>h</td><td>131000</td><td>PI</td><td>Rodney </td><td>25/02/2017</td><td> 8.9</td><td>3162</td><td>⋯</td><td>1</td><td>2</td><td>499</td><td>155</td><td>1920</td><td>Glen Eira  </td><td>-37.88640</td><td>145.0242</td><td>Southern Metropolitan</td><td> 2379</td></tr>\n",
       "\t<tr><th scope=row>1928</th><td>Coburg   </td><td>171 Moreland Rd </td><td>4</td><td>h</td><td>145000</td><td>PI</td><td>Jellis </td><td>4/06/2016 </td><td> 7.8</td><td>3058</td><td>⋯</td><td>1</td><td>1</td><td>536</td><td>164</td><td>1910</td><td>Moreland   </td><td>-37.75550</td><td>144.9658</td><td>Northern Metropolitan</td><td>11204</td></tr>\n",
       "\t<tr><th scope=row>7304</th><td>Albion   </td><td>8/6 Ridley St   </td><td>1</td><td>u</td><td>145000</td><td>PI</td><td>Biggin </td><td>28/05/2016</td><td>13.9</td><td>3020</td><td>⋯</td><td>1</td><td>1</td><td> 36</td><td> NA</td><td>2000</td><td>Brimbank   </td><td>-37.78330</td><td>144.8266</td><td>Western Metropolitan </td><td> 2185</td></tr>\n",
       "\t<tr><th scope=row>7941</th><td>Hawthorn </td><td>17/17 Park St   </td><td>1</td><td>u</td><td>160000</td><td>VB</td><td>HAR    </td><td>8/04/2017 </td><td> 4.6</td><td>3122</td><td>⋯</td><td>1</td><td>0</td><td>322</td><td> NA</td><td>2009</td><td>Boroondara </td><td>-37.81980</td><td>145.0373</td><td>Southern Metropolitan</td><td>11308</td></tr>\n",
       "\t<tr><th scope=row>8812</th><td>Footscray</td><td>10/30 Pickett St</td><td>1</td><td>u</td><td>170000</td><td>PI</td><td>Burnham</td><td>1/07/2017 </td><td> 5.1</td><td>3011</td><td>⋯</td><td>1</td><td>0</td><td> 30</td><td> 26</td><td>2013</td><td>Maribyrnong</td><td>-37.80141</td><td>144.8959</td><td>Western Metropolitan </td><td> 7570</td></tr>\n",
       "</tbody>\n",
       "</table>\n"
      ],
      "text/latex": [
       "A data.frame: 6 × 21\n",
       "\\begin{tabular}{r|lllllllllllllllllllll}\n",
       "  & Suburb & Address & Rooms & Type & Price & Method & SellerG & Date & Distance & Postcode & ⋯ & Bathroom & Car & Landsize & BuildingArea & YearBuilt & CouncilArea & Lattitude & Longtitude & Regionname & Propertycount\\\\\n",
       "  & <chr> & <chr> & <int> & <chr> & <dbl> & <chr> & <chr> & <chr> & <dbl> & <dbl> & ⋯ & <dbl> & <dbl> & <dbl> & <dbl> & <dbl> & <chr> & <dbl> & <dbl> & <chr> & <dbl>\\\\\n",
       "\\hline\n",
       "\t2653 & Footscray & 202/51 Gordon St & 1 & u &  85000 & PI & Burnham & 3/09/2016  &  6.4 & 3011 & ⋯ & 1 & 0 &   0 &  NA & 2007 & Maribyrnong & -37.79110 & 144.8900 & Western Metropolitan  &  7570\\\\\n",
       "\t1806 & Caulfield & 30 Pyne St       & 4 & h & 131000 & PI & Rodney  & 25/02/2017 &  8.9 & 3162 & ⋯ & 1 & 2 & 499 & 155 & 1920 & Glen Eira   & -37.88640 & 145.0242 & Southern Metropolitan &  2379\\\\\n",
       "\t1928 & Coburg    & 171 Moreland Rd  & 4 & h & 145000 & PI & Jellis  & 4/06/2016  &  7.8 & 3058 & ⋯ & 1 & 1 & 536 & 164 & 1910 & Moreland    & -37.75550 & 144.9658 & Northern Metropolitan & 11204\\\\\n",
       "\t7304 & Albion    & 8/6 Ridley St    & 1 & u & 145000 & PI & Biggin  & 28/05/2016 & 13.9 & 3020 & ⋯ & 1 & 1 &  36 &  NA & 2000 & Brimbank    & -37.78330 & 144.8266 & Western Metropolitan  &  2185\\\\\n",
       "\t7941 & Hawthorn  & 17/17 Park St    & 1 & u & 160000 & VB & HAR     & 8/04/2017  &  4.6 & 3122 & ⋯ & 1 & 0 & 322 &  NA & 2009 & Boroondara  & -37.81980 & 145.0373 & Southern Metropolitan & 11308\\\\\n",
       "\t8812 & Footscray & 10/30 Pickett St & 1 & u & 170000 & PI & Burnham & 1/07/2017  &  5.1 & 3011 & ⋯ & 1 & 0 &  30 &  26 & 2013 & Maribyrnong & -37.80141 & 144.8959 & Western Metropolitan  &  7570\\\\\n",
       "\\end{tabular}\n"
      ],
      "text/markdown": [
       "\n",
       "A data.frame: 6 × 21\n",
       "\n",
       "| <!--/--> | Suburb &lt;chr&gt; | Address &lt;chr&gt; | Rooms &lt;int&gt; | Type &lt;chr&gt; | Price &lt;dbl&gt; | Method &lt;chr&gt; | SellerG &lt;chr&gt; | Date &lt;chr&gt; | Distance &lt;dbl&gt; | Postcode &lt;dbl&gt; | ⋯ ⋯ | Bathroom &lt;dbl&gt; | Car &lt;dbl&gt; | Landsize &lt;dbl&gt; | BuildingArea &lt;dbl&gt; | YearBuilt &lt;dbl&gt; | CouncilArea &lt;chr&gt; | Lattitude &lt;dbl&gt; | Longtitude &lt;dbl&gt; | Regionname &lt;chr&gt; | Propertycount &lt;dbl&gt; |\n",
       "|---|---|---|---|---|---|---|---|---|---|---|---|---|---|---|---|---|---|---|---|---|---|\n",
       "| 2653 | Footscray | 202/51 Gordon St | 1 | u |  85000 | PI | Burnham | 3/09/2016  |  6.4 | 3011 | ⋯ | 1 | 0 |   0 |  NA | 2007 | Maribyrnong | -37.79110 | 144.8900 | Western Metropolitan  |  7570 |\n",
       "| 1806 | Caulfield | 30 Pyne St       | 4 | h | 131000 | PI | Rodney  | 25/02/2017 |  8.9 | 3162 | ⋯ | 1 | 2 | 499 | 155 | 1920 | Glen Eira   | -37.88640 | 145.0242 | Southern Metropolitan |  2379 |\n",
       "| 1928 | Coburg    | 171 Moreland Rd  | 4 | h | 145000 | PI | Jellis  | 4/06/2016  |  7.8 | 3058 | ⋯ | 1 | 1 | 536 | 164 | 1910 | Moreland    | -37.75550 | 144.9658 | Northern Metropolitan | 11204 |\n",
       "| 7304 | Albion    | 8/6 Ridley St    | 1 | u | 145000 | PI | Biggin  | 28/05/2016 | 13.9 | 3020 | ⋯ | 1 | 1 |  36 |  NA | 2000 | Brimbank    | -37.78330 | 144.8266 | Western Metropolitan  |  2185 |\n",
       "| 7941 | Hawthorn  | 17/17 Park St    | 1 | u | 160000 | VB | HAR     | 8/04/2017  |  4.6 | 3122 | ⋯ | 1 | 0 | 322 |  NA | 2009 | Boroondara  | -37.81980 | 145.0373 | Southern Metropolitan | 11308 |\n",
       "| 8812 | Footscray | 10/30 Pickett St | 1 | u | 170000 | PI | Burnham | 1/07/2017  |  5.1 | 3011 | ⋯ | 1 | 0 |  30 |  26 | 2013 | Maribyrnong | -37.80141 | 144.8959 | Western Metropolitan  |  7570 |\n",
       "\n"
      ],
      "text/plain": [
       "     Suburb    Address          Rooms Type Price  Method SellerG Date      \n",
       "2653 Footscray 202/51 Gordon St 1     u     85000 PI     Burnham 3/09/2016 \n",
       "1806 Caulfield 30 Pyne St       4     h    131000 PI     Rodney  25/02/2017\n",
       "1928 Coburg    171 Moreland Rd  4     h    145000 PI     Jellis  4/06/2016 \n",
       "7304 Albion    8/6 Ridley St    1     u    145000 PI     Biggin  28/05/2016\n",
       "7941 Hawthorn  17/17 Park St    1     u    160000 VB     HAR     8/04/2017 \n",
       "8812 Footscray 10/30 Pickett St 1     u    170000 PI     Burnham 1/07/2017 \n",
       "     Distance Postcode ⋯ Bathroom Car Landsize BuildingArea YearBuilt\n",
       "2653  6.4     3011     ⋯ 1        0     0       NA          2007     \n",
       "1806  8.9     3162     ⋯ 1        2   499      155          1920     \n",
       "1928  7.8     3058     ⋯ 1        1   536      164          1910     \n",
       "7304 13.9     3020     ⋯ 1        1    36       NA          2000     \n",
       "7941  4.6     3122     ⋯ 1        0   322       NA          2009     \n",
       "8812  5.1     3011     ⋯ 1        0    30       26          2013     \n",
       "     CouncilArea Lattitude Longtitude Regionname            Propertycount\n",
       "2653 Maribyrnong -37.79110 144.8900   Western Metropolitan   7570        \n",
       "1806 Glen Eira   -37.88640 145.0242   Southern Metropolitan  2379        \n",
       "1928 Moreland    -37.75550 144.9658   Northern Metropolitan 11204        \n",
       "7304 Brimbank    -37.78330 144.8266   Western Metropolitan   2185        \n",
       "7941 Boroondara  -37.81980 145.0373   Southern Metropolitan 11308        \n",
       "8812 Maribyrnong -37.80141 144.8959   Western Metropolitan   7570        "
      ]
     },
     "metadata": {},
     "output_type": "display_data"
    },
    {
     "data": {
      "text/html": [
       "<table class=\"dataframe\">\n",
       "<caption>A data.frame: 6 × 21</caption>\n",
       "<thead>\n",
       "\t<tr><th></th><th scope=col>Suburb</th><th scope=col>Address</th><th scope=col>Rooms</th><th scope=col>Type</th><th scope=col>Price</th><th scope=col>Method</th><th scope=col>SellerG</th><th scope=col>Date</th><th scope=col>Distance</th><th scope=col>Postcode</th><th scope=col>⋯</th><th scope=col>Bathroom</th><th scope=col>Car</th><th scope=col>Landsize</th><th scope=col>BuildingArea</th><th scope=col>YearBuilt</th><th scope=col>CouncilArea</th><th scope=col>Lattitude</th><th scope=col>Longtitude</th><th scope=col>Regionname</th><th scope=col>Propertycount</th></tr>\n",
       "\t<tr><th></th><th scope=col>&lt;chr&gt;</th><th scope=col>&lt;chr&gt;</th><th scope=col>&lt;int&gt;</th><th scope=col>&lt;chr&gt;</th><th scope=col>&lt;dbl&gt;</th><th scope=col>&lt;chr&gt;</th><th scope=col>&lt;chr&gt;</th><th scope=col>&lt;chr&gt;</th><th scope=col>&lt;dbl&gt;</th><th scope=col>&lt;dbl&gt;</th><th scope=col>⋯</th><th scope=col>&lt;dbl&gt;</th><th scope=col>&lt;dbl&gt;</th><th scope=col>&lt;dbl&gt;</th><th scope=col>&lt;dbl&gt;</th><th scope=col>&lt;dbl&gt;</th><th scope=col>&lt;chr&gt;</th><th scope=col>&lt;dbl&gt;</th><th scope=col>&lt;dbl&gt;</th><th scope=col>&lt;chr&gt;</th><th scope=col>&lt;dbl&gt;</th></tr>\n",
       "</thead>\n",
       "<tbody>\n",
       "\t<tr><th scope=row>12095</th><td>Mulgrave   </td><td>35 Bevis St   </td><td>3</td><td>h</td><td>9000000</td><td>PI</td><td>Hall        </td><td>29/07/2017</td><td>18.8</td><td>3170</td><td>⋯</td><td>1</td><td>1</td><td> 744</td><td>117.0</td><td>1960</td><td>Monash     </td><td>-37.93168</td><td>145.1613</td><td>South-Eastern Metropolitan</td><td> 7113</td></tr>\n",
       "\t<tr><th scope=row>7693</th><td>Canterbury </td><td>49 Mangarra Rd</td><td>5</td><td>h</td><td>8000000</td><td>VB</td><td>Sotheby's   </td><td>13/05/2017</td><td> 9.0</td><td>3126</td><td>⋯</td><td>5</td><td>4</td><td>2079</td><td>464.3</td><td>1880</td><td>Boroondara </td><td>-37.81790</td><td>145.0694</td><td>Southern Metropolitan     </td><td> 3265</td></tr>\n",
       "\t<tr><th scope=row>9576</th><td>Hawthorn   </td><td>49 Lisson Gr  </td><td>4</td><td>h</td><td>7650000</td><td>S </td><td>Abercromby's</td><td>17/06/2017</td><td> 5.3</td><td>3122</td><td>⋯</td><td>2</td><td>4</td><td>1690</td><td>284.0</td><td>1863</td><td>Boroondara </td><td>-37.82652</td><td>145.0305</td><td>Southern Metropolitan     </td><td>11308</td></tr>\n",
       "\t<tr><th scope=row>3617</th><td>Kew        </td><td>15 Barry St   </td><td>6</td><td>h</td><td>6500000</td><td>S </td><td>Jellis      </td><td>13/08/2016</td><td> 5.6</td><td>3101</td><td>⋯</td><td>6</td><td>3</td><td>1334</td><td>365.0</td><td>1890</td><td>Boroondara </td><td>-37.80290</td><td>145.0267</td><td>Southern Metropolitan     </td><td>10331</td></tr>\n",
       "\t<tr><th scope=row>12558</th><td>Middle Park</td><td>136 Page St   </td><td>5</td><td>h</td><td>6400000</td><td>S </td><td>Marshall    </td><td>9/09/2017 </td><td> 3.0</td><td>3206</td><td>⋯</td><td>2</td><td>1</td><td> 553</td><td>308.0</td><td>1920</td><td>           </td><td>-37.84908</td><td>144.9575</td><td>Southern Metropolitan     </td><td> 2019</td></tr>\n",
       "\t<tr><th scope=row>6373</th><td>Toorak     </td><td>17 Albany Rd  </td><td>3</td><td>h</td><td>6250000</td><td>S </td><td>Kay         </td><td>15/10/2016</td><td> 4.6</td><td>3142</td><td>⋯</td><td>3</td><td>2</td><td> 564</td><td>342.0</td><td>2000</td><td>Stonnington</td><td>-37.84860</td><td>145.0244</td><td>Southern Metropolitan     </td><td> 7217</td></tr>\n",
       "</tbody>\n",
       "</table>\n"
      ],
      "text/latex": [
       "A data.frame: 6 × 21\n",
       "\\begin{tabular}{r|lllllllllllllllllllll}\n",
       "  & Suburb & Address & Rooms & Type & Price & Method & SellerG & Date & Distance & Postcode & ⋯ & Bathroom & Car & Landsize & BuildingArea & YearBuilt & CouncilArea & Lattitude & Longtitude & Regionname & Propertycount\\\\\n",
       "  & <chr> & <chr> & <int> & <chr> & <dbl> & <chr> & <chr> & <chr> & <dbl> & <dbl> & ⋯ & <dbl> & <dbl> & <dbl> & <dbl> & <dbl> & <chr> & <dbl> & <dbl> & <chr> & <dbl>\\\\\n",
       "\\hline\n",
       "\t12095 & Mulgrave    & 35 Bevis St    & 3 & h & 9000000 & PI & Hall         & 29/07/2017 & 18.8 & 3170 & ⋯ & 1 & 1 &  744 & 117.0 & 1960 & Monash      & -37.93168 & 145.1613 & South-Eastern Metropolitan &  7113\\\\\n",
       "\t7693 & Canterbury  & 49 Mangarra Rd & 5 & h & 8000000 & VB & Sotheby's    & 13/05/2017 &  9.0 & 3126 & ⋯ & 5 & 4 & 2079 & 464.3 & 1880 & Boroondara  & -37.81790 & 145.0694 & Southern Metropolitan      &  3265\\\\\n",
       "\t9576 & Hawthorn    & 49 Lisson Gr   & 4 & h & 7650000 & S  & Abercromby's & 17/06/2017 &  5.3 & 3122 & ⋯ & 2 & 4 & 1690 & 284.0 & 1863 & Boroondara  & -37.82652 & 145.0305 & Southern Metropolitan      & 11308\\\\\n",
       "\t3617 & Kew         & 15 Barry St    & 6 & h & 6500000 & S  & Jellis       & 13/08/2016 &  5.6 & 3101 & ⋯ & 6 & 3 & 1334 & 365.0 & 1890 & Boroondara  & -37.80290 & 145.0267 & Southern Metropolitan      & 10331\\\\\n",
       "\t12558 & Middle Park & 136 Page St    & 5 & h & 6400000 & S  & Marshall     & 9/09/2017  &  3.0 & 3206 & ⋯ & 2 & 1 &  553 & 308.0 & 1920 &             & -37.84908 & 144.9575 & Southern Metropolitan      &  2019\\\\\n",
       "\t6373 & Toorak      & 17 Albany Rd   & 3 & h & 6250000 & S  & Kay          & 15/10/2016 &  4.6 & 3142 & ⋯ & 3 & 2 &  564 & 342.0 & 2000 & Stonnington & -37.84860 & 145.0244 & Southern Metropolitan      &  7217\\\\\n",
       "\\end{tabular}\n"
      ],
      "text/markdown": [
       "\n",
       "A data.frame: 6 × 21\n",
       "\n",
       "| <!--/--> | Suburb &lt;chr&gt; | Address &lt;chr&gt; | Rooms &lt;int&gt; | Type &lt;chr&gt; | Price &lt;dbl&gt; | Method &lt;chr&gt; | SellerG &lt;chr&gt; | Date &lt;chr&gt; | Distance &lt;dbl&gt; | Postcode &lt;dbl&gt; | ⋯ ⋯ | Bathroom &lt;dbl&gt; | Car &lt;dbl&gt; | Landsize &lt;dbl&gt; | BuildingArea &lt;dbl&gt; | YearBuilt &lt;dbl&gt; | CouncilArea &lt;chr&gt; | Lattitude &lt;dbl&gt; | Longtitude &lt;dbl&gt; | Regionname &lt;chr&gt; | Propertycount &lt;dbl&gt; |\n",
       "|---|---|---|---|---|---|---|---|---|---|---|---|---|---|---|---|---|---|---|---|---|---|\n",
       "| 12095 | Mulgrave    | 35 Bevis St    | 3 | h | 9000000 | PI | Hall         | 29/07/2017 | 18.8 | 3170 | ⋯ | 1 | 1 |  744 | 117.0 | 1960 | Monash      | -37.93168 | 145.1613 | South-Eastern Metropolitan |  7113 |\n",
       "| 7693 | Canterbury  | 49 Mangarra Rd | 5 | h | 8000000 | VB | Sotheby's    | 13/05/2017 |  9.0 | 3126 | ⋯ | 5 | 4 | 2079 | 464.3 | 1880 | Boroondara  | -37.81790 | 145.0694 | Southern Metropolitan      |  3265 |\n",
       "| 9576 | Hawthorn    | 49 Lisson Gr   | 4 | h | 7650000 | S  | Abercromby's | 17/06/2017 |  5.3 | 3122 | ⋯ | 2 | 4 | 1690 | 284.0 | 1863 | Boroondara  | -37.82652 | 145.0305 | Southern Metropolitan      | 11308 |\n",
       "| 3617 | Kew         | 15 Barry St    | 6 | h | 6500000 | S  | Jellis       | 13/08/2016 |  5.6 | 3101 | ⋯ | 6 | 3 | 1334 | 365.0 | 1890 | Boroondara  | -37.80290 | 145.0267 | Southern Metropolitan      | 10331 |\n",
       "| 12558 | Middle Park | 136 Page St    | 5 | h | 6400000 | S  | Marshall     | 9/09/2017  |  3.0 | 3206 | ⋯ | 2 | 1 |  553 | 308.0 | 1920 | <!----> | -37.84908 | 144.9575 | Southern Metropolitan      |  2019 |\n",
       "| 6373 | Toorak      | 17 Albany Rd   | 3 | h | 6250000 | S  | Kay          | 15/10/2016 |  4.6 | 3142 | ⋯ | 3 | 2 |  564 | 342.0 | 2000 | Stonnington | -37.84860 | 145.0244 | Southern Metropolitan      |  7217 |\n",
       "\n"
      ],
      "text/plain": [
       "      Suburb      Address        Rooms Type Price   Method SellerG     \n",
       "12095 Mulgrave    35 Bevis St    3     h    9000000 PI     Hall        \n",
       "7693  Canterbury  49 Mangarra Rd 5     h    8000000 VB     Sotheby's   \n",
       "9576  Hawthorn    49 Lisson Gr   4     h    7650000 S      Abercromby's\n",
       "3617  Kew         15 Barry St    6     h    6500000 S      Jellis      \n",
       "12558 Middle Park 136 Page St    5     h    6400000 S      Marshall    \n",
       "6373  Toorak      17 Albany Rd   3     h    6250000 S      Kay         \n",
       "      Date       Distance Postcode ⋯ Bathroom Car Landsize BuildingArea\n",
       "12095 29/07/2017 18.8     3170     ⋯ 1        1    744     117.0       \n",
       "7693  13/05/2017  9.0     3126     ⋯ 5        4   2079     464.3       \n",
       "9576  17/06/2017  5.3     3122     ⋯ 2        4   1690     284.0       \n",
       "3617  13/08/2016  5.6     3101     ⋯ 6        3   1334     365.0       \n",
       "12558 9/09/2017   3.0     3206     ⋯ 2        1    553     308.0       \n",
       "6373  15/10/2016  4.6     3142     ⋯ 3        2    564     342.0       \n",
       "      YearBuilt CouncilArea Lattitude Longtitude Regionname                \n",
       "12095 1960      Monash      -37.93168 145.1613   South-Eastern Metropolitan\n",
       "7693  1880      Boroondara  -37.81790 145.0694   Southern Metropolitan     \n",
       "9576  1863      Boroondara  -37.82652 145.0305   Southern Metropolitan     \n",
       "3617  1890      Boroondara  -37.80290 145.0267   Southern Metropolitan     \n",
       "12558 1920                  -37.84908 144.9575   Southern Metropolitan     \n",
       "6373  2000      Stonnington -37.84860 145.0244   Southern Metropolitan     \n",
       "      Propertycount\n",
       "12095  7113        \n",
       "7693   3265        \n",
       "9576  11308        \n",
       "3617  10331        \n",
       "12558  2019        \n",
       "6373   7217        "
      ]
     },
     "metadata": {},
     "output_type": "display_data"
    }
   ],
   "source": [
    "# Sắp xếp theo Price tăng dần\n",
    "data_sorted <- data[order(data$Price), ]\n",
    "head(data_sorted)\n",
    "\n",
    "# Sắp xếp theo Price giảm dần\n",
    "data_sorted <- data[order(data$Price, decreasing = TRUE), ]\n",
    "head(data_sorted)"
   ]
  },
  {
   "cell_type": "markdown",
   "id": "2486ef3d",
   "metadata": {},
   "source": [
    "# **Họ hàm `apply`**\n",
    "\n",
    "Trong R, ngoài việc sử dung vòng for để thực hiện thao tác lặp, ta còn có thể sử dụng các hàm `apply()`, `lapply()` , `sapply()` Ưu điểm lớn nhất của các hàm này so với sử dụng vòng lặp `for` là giúp code trở nên ngắn gọn hơn.\n",
    "\n",
    "## **Hàm `apply()`**\n",
    "\n",
    "Hàm apply() có cấu trúc như sau:\n",
    "```r\n",
    "apply(X, MARGIN, FUN)\n",
    "```\n",
    "\n",
    "Trong đó:\n",
    "* `X` là một vector hoặc matrix\n",
    "* `MARGIN`: Nếu `MARGIN = 1` thì hàm sẽ áp dụng với từng hàng, `MARGIN = 2` thì sẽ áp dụng hàm với từng cột.\n",
    "* `FUN`: tên của hàm mà ta muốn áp dụng, có thể tự định nghĩa."
   ]
  },
  {
   "cell_type": "code",
   "execution_count": 42,
   "id": "acdd38c4",
   "metadata": {
    "vscode": {
     "languageId": "r"
    }
   },
   "outputs": [
    {
     "name": "stdout",
     "output_type": "stream",
     "text": [
      "     [,1] [,2] [,3] [,4] [,5] [,6] [,7] [,8] [,9] [,10]\n",
      "[1,]    1    4    7   10    3    6    9    2    5     8\n",
      "[2,]    2    5    8    1    4    7   10    3    6     9\n",
      "[3,]    3    6    9    2    5    8    1    4    7    10\n"
     ]
    },
    {
     "name": "stdout",
     "output_type": "stream",
     "text": [
      "[1] \"sum across rows:\"\n",
      "[1] 55 55 55\n"
     ]
    }
   ],
   "source": [
    "sample_matrix <- matrix(1:10, nrow = 3, ncol = 10)\n",
    "print(sample_matrix)\n",
    "print(\"sum across rows:\")\n",
    "print(apply(sample_matrix, 1, sum))"
   ]
  },
  {
   "cell_type": "markdown",
   "id": "edbcef2e",
   "metadata": {},
   "source": [
    "## **Hàm `lapply()`**\n",
    "\n",
    "```r\n",
    "lapply(X, FUN)\n",
    "```\n",
    "\n",
    "Với các tham số tương tự như hàm `apply()`\n",
    "\n",
    "Lưu ý rằng hàm `lapply()` luôn trả về kết quả là 1 `list`."
   ]
  },
  {
   "cell_type": "code",
   "execution_count": 43,
   "id": "1a30496e",
   "metadata": {
    "vscode": {
     "languageId": "r"
    }
   },
   "outputs": [
    {
     "name": "stdout",
     "output_type": "stream",
     "text": [
      "[1] \"data after lapply():\"\n",
      "[[1]]\n",
      "[1] \"PRIYANK\"\n",
      "\n",
      "[[2]]\n",
      "[1] \"ABHIRAJ\"\n",
      "\n",
      "[[3]]\n",
      "[1] \"PAWANANJANI\"\n",
      "\n",
      "[[4]]\n",
      "[1] \"SUDHANSHU\"\n",
      "\n",
      "[[5]]\n",
      "[1] \"DEVRAJ\"\n",
      "\n"
     ]
    }
   ],
   "source": [
    "names <- c(\"priyank\", \"abhiraj\", \"pawananjani\", \"sudhanshu\", \"devraj\")\n",
    "# apply lapply() function\n",
    "print(\"data after lapply():\")\n",
    "print(lapply(names, toupper))"
   ]
  },
  {
   "cell_type": "markdown",
   "id": "4c8057ea",
   "metadata": {},
   "source": [
    "> Hàm `toupper(text)` có tác dụng là biến tất cả các ký tự chữ thành in hoa."
   ]
  },
  {
   "cell_type": "markdown",
   "id": "a872c662",
   "metadata": {},
   "source": [
    "## **Hàm `sapply()`**\n",
    "Hàm `sapply()` có cấu trúc như sau:\n",
    "```r\n",
    "sapply(X, FUN)\n",
    "```\n",
    "\n",
    "Với các tham số tương tự như hàm `lapply()`. Điểm khác biệt của hàm trên so với hàm `lapply()` là hàm trả về `vector` hoặc `matrix`."
   ]
  },
  {
   "cell_type": "code",
   "execution_count": 44,
   "id": "2234edc9",
   "metadata": {
    "vscode": {
     "languageId": "r"
    }
   },
   "outputs": [
    {
     "name": "stdout",
     "output_type": "stream",
     "text": [
      "  x  y\n",
      "1 1  3\n",
      "2 2  2\n",
      "3 3  4\n",
      "4 4  2\n",
      "5 5 34\n",
      "6 6  5\n",
      "[1] \"data after sapply():\"\n",
      " x  y \n",
      " 6 34 \n",
      " x  y \n",
      " 4 30 \n"
     ]
    }
   ],
   "source": [
    "x <- c(1, 2, 3, 4, 5, 6)\n",
    "y <- c(3, 2, 4, 2, 34, 5)\n",
    "sample_data <- data.frame(x, y)\n",
    "\n",
    "print(sample_data)\n",
    "print(\"data after sapply():\")\n",
    "print(sapply(sample_data, max))\n",
    "print(sapply(sample_data, function(data) { return(max(data) - 2 * min(data))}))"
   ]
  },
  {
   "cell_type": "markdown",
   "id": "3ce52f50",
   "metadata": {},
   "source": [
    "## **Hàm `tapply`**\n",
    "\n",
    "Hàm `tapply()` trong R dùng để áp dụng một hàm nào đó (ví dụ: `sum`, `mean`, `sd`, …) cho từng nhóm trong một **vector** dựa theo các **nhóm phân loại**. Nó thường dùng cho vector đơn, khác với `by()` có thể áp dụng trực tiếp trên data frame.\n",
    "\n",
    "### Cú pháp\n",
    "\n",
    "```r\n",
    "tapply(X, INDEX, FUN, ..., simplify = TRUE)\n",
    "```\n",
    "\n",
    "Trong đó:\n",
    "\n",
    "* `X`: vector dữ liệu cần tính toán\n",
    "* `INDEX`: biến (hoặc list biến) dùng để chia nhóm\n",
    "* `FUN`: hàm áp dụng cho từng nhóm\n",
    "* `...`: các tham số bổ sung cho hàm `FUN`\n",
    "* `simplify`: nếu TRUE, kết quả được chuyển thành ma trận hoặc vector nếu có thể\n",
    "\n",
    "### Ví dụ\n",
    "\n",
    "Giả sử ta có một vector điểm số của học sinh và nhóm lớp:"
   ]
  },
  {
   "cell_type": "code",
   "execution_count": 45,
   "id": "39946309",
   "metadata": {
    "vscode": {
     "languageId": "r"
    }
   },
   "outputs": [
    {
     "name": "stdout",
     "output_type": "stream",
     "text": [
      "       A        B \n",
      "6.666667 7.333333 \n"
     ]
    }
   ],
   "source": [
    "scores <- c(8, 7, 9, 6, 5, 7)\n",
    "class <- c(\"A\", \"A\", \"B\", \"B\", \"A\", \"B\")\n",
    "\n",
    "# Tính trung bình theo lớp\n",
    "print(tapply(scores, class, mean))"
   ]
  },
  {
   "cell_type": "markdown",
   "id": "bc337fec",
   "metadata": {},
   "source": [
    "## **Hàm `by`**\n",
    "\n",
    "Hàm `by()` trong R dùng để áp dụng một hàm nào đó (như `sum`, `mean`, `sd`,) cho từng nhóm trong dữ liệu. Nó tương tự như `tapply()` nhưng thường trực quan hơn khi làm việc với data frame.\n",
    "\n",
    "Cú pháp\n",
    "```r\n",
    "by(data, INDICES, FUN)\n",
    "```\n",
    "\n",
    "Trong đó:\n",
    "* `data`: một vector, ma trận, hoặc data frame\n",
    "* `INDICES`: biến (hoặc list biến) để chia nhóm\n",
    "* `FUN`: hàm áp dụng cho từng nhóm\n",
    "\n",
    "Ví dụ: giả sử ta có Data frame như sau:"
   ]
  },
  {
   "cell_type": "code",
   "execution_count": 46,
   "id": "f4a84d65",
   "metadata": {
    "vscode": {
     "languageId": "r"
    }
   },
   "outputs": [],
   "source": [
    "df <- data.frame(\n",
    "  City = c(\"Hanoi\", \"Hanoi\", \"Hue\", \"Hue\", \"Saigon\"),\n",
    "  TotalPrice = c(100, 200, 150, 300, 400)\n",
    ")"
   ]
  },
  {
   "cell_type": "markdown",
   "id": "34fd1e13",
   "metadata": {},
   "source": [
    "Dùng `by()` để tính tổng `TotalPrice` theo `City`:"
   ]
  },
  {
   "cell_type": "code",
   "execution_count": 47,
   "id": "fd47ee32",
   "metadata": {
    "vscode": {
     "languageId": "r"
    }
   },
   "outputs": [
    {
     "name": "stdout",
     "output_type": "stream",
     "text": [
      "df$City: Hanoi\n",
      "[1] 300\n",
      "------------------------------------------------------------ \n",
      "df$City: Hue\n",
      "[1] 450\n",
      "------------------------------------------------------------ \n",
      "df$City: Saigon\n",
      "[1] 400\n",
      "[1] \"by\"\n"
     ]
    }
   ],
   "source": [
    "res <- by(df$TotalPrice, df$City, sum)\n",
    "print(res)\n",
    "print(class(res))"
   ]
  },
  {
   "cell_type": "markdown",
   "id": "bb58cc35",
   "metadata": {},
   "source": [
    "Hàm `by()` dùng để **chia nhóm dữ liệu và áp dụng một hàm cho từng nhóm**. Kết quả trả về là một đối tượng có thể coi như một vector có tên (tên chính là các nhóm).\n",
    "\n",
    "Sau đó, ta dùng các hàm **`which...`** để lọc kết quả:\n",
    "\n",
    "* **`which.max(x)`**: trả về vị trí của giá trị lớn nhất trong `x`"
   ]
  },
  {
   "cell_type": "code",
   "execution_count": 48,
   "id": "8e3f7558",
   "metadata": {
    "vscode": {
     "languageId": "r"
    }
   },
   "outputs": [
    {
     "name": "stdout",
     "output_type": "stream",
     "text": [
      "Hue \n",
      "450 \n"
     ]
    }
   ],
   "source": [
    "print(res[which.max(res)])      # nhóm có tổng lớn nhất"
   ]
  },
  {
   "cell_type": "markdown",
   "id": "079f0b1a",
   "metadata": {},
   "source": [
    "* **`which.min(x)`**: trả về vị trí của giá trị nhỏ nhất trong `x`"
   ]
  },
  {
   "cell_type": "code",
   "execution_count": 49,
   "id": "908ff96b",
   "metadata": {
    "vscode": {
     "languageId": "r"
    }
   },
   "outputs": [
    {
     "name": "stdout",
     "output_type": "stream",
     "text": [
      "Hanoi \n",
      "  300 \n"
     ]
    }
   ],
   "source": [
    "print(res[which.min(res)])      # nhóm có tổng nhỏ nhất"
   ]
  },
  {
   "cell_type": "markdown",
   "id": "4f1c0728",
   "metadata": {},
   "source": [
    "* **`which(điều_kiện)`**: trả về vị trí các phần tử thỏa điều kiện"
   ]
  },
  {
   "cell_type": "code",
   "execution_count": 50,
   "id": "bc1a48b8",
   "metadata": {
    "vscode": {
     "languageId": "r"
    }
   },
   "outputs": [
    {
     "name": "stdout",
     "output_type": "stream",
     "text": [
      "df$City\n",
      "   Hue Saigon \n",
      "   450    400 \n"
     ]
    }
   ],
   "source": [
    "print(res[which(res > 300)])    # nhóm có tổng lớn hơn 300"
   ]
  },
  {
   "cell_type": "markdown",
   "id": "2b742d47",
   "metadata": {},
   "source": [
    "Cách làm: **`by()` để gom nhóm + tính toán → `which...` để chọn nhóm theo điều kiện**.\n",
    "\n",
    "Để lấy tên của nhóm thỏa mãn điều kiện và giá trị của nó ta làm như sau:\n",
    "\n",
    "```r\n",
    "names(<res>)[<pos>]   # tên nhóm\n",
    "<res>[[<pos>]]        # giá trị\n",
    "```\n",
    "* **`res`**: kết quả của `by()`, lưu các giá trị tính toán cho từng nhóm.\n",
    "* **`pos`**: biến lưu vị trí nhóm được chọn.\n",
    "* **`names(res)[pos]`**: tên nhóm (ví dụ: tên thành phố).\n",
    "* **`res[[pos]]`**: giá trị của nhóm đó (ví dụ: tổng doanh thu)."
   ]
  },
  {
   "cell_type": "code",
   "execution_count": 51,
   "id": "5fe2f2c8",
   "metadata": {
    "vscode": {
     "languageId": "r"
    }
   },
   "outputs": [
    {
     "name": "stdout",
     "output_type": "stream",
     "text": [
      "[1] \"Hanoi\"\n",
      "[1] 300\n"
     ]
    }
   ],
   "source": [
    "print(names(res)[1])\n",
    "print(res[[1]])"
   ]
  },
  {
   "cell_type": "markdown",
   "id": "adccce61",
   "metadata": {},
   "source": [
    "Dưới đây là bảng so sánh các hàm `apply`, `lapply`, `sapply`, `tapply` và `by` trong R:\n",
    "\n",
    "| Hàm      | Dữ liệu áp dụng             | Nhóm/Chỉ số                               | Kết quả trả về                   | Mục đích chính                                                                        |\n",
    "| -------- | --------------------------- | ----------------------------------------- | -------------------------------- | ------------------------------------------------------------------------------------- |\n",
    "| `apply`  | Ma trận hoặc data frame     | Theo **hàng** hoặc **cột** (`MARGIN=1/2`) | Vector, ma trận hoặc list        | Thực hiện hàm trên từng **hàng/cột**                                                  |\n",
    "| `lapply` | Vector, list, data frame    | Không có nhóm                             | List                             | Áp dụng hàm cho **từng phần tử**; luôn trả về **list**                                |\n",
    "| `sapply` | Vector, list, data frame    | Không có nhóm                             | Vector hoặc ma trận (nếu có thể) | Giống `lapply` nhưng **trả về dạng đơn giản** nếu có thể                              |\n",
    "| `tapply` | Vector                      | Biến phân loại (`factor`)                 | Mảng hoặc vector                 | Áp dụng hàm cho **từng nhóm** trong vector                                            |\n",
    "| `by`     | Vector, ma trận, data frame | Biến phân loại (`factor`)                 | Kết quả kiểu list-like           | Áp dụng hàm cho **từng nhóm trong data frame**; trực quan hơn `tapply` cho data frame |\n",
    "\n",
    "---\n",
    "\n",
    "### **Điểm chính để phân biệt**\n",
    "\n",
    "1. **Theo nhóm hay không**\n",
    "\n",
    "   * `tapply`, `by` → theo nhóm (`factor`)\n",
    "   * `apply` → theo chiều (hàng/cột)\n",
    "   * `lapply`, `sapply` → theo phần tử, không theo nhóm\n",
    "\n",
    "2. **Dữ liệu áp dụng**\n",
    "\n",
    "   * `apply` → ma trận hoặc data frame\n",
    "   * `lapply`, `sapply` → list, vector, data frame\n",
    "   * `tapply` → vector\n",
    "   * `by` → vector, ma trận hoặc data frame\n",
    "\n",
    "3. **Kết quả trả về**\n",
    "\n",
    "   * `lapply` → luôn list\n",
    "   * `sapply` → đơn giản hóa về vector/ma trận nếu được\n",
    "   * `tapply` → vector/matrix\n",
    "   * `by` → kiểu list-like\n"
   ]
  }
 ],
 "metadata": {
  "kernelspec": {
   "display_name": "R",
   "language": "R",
   "name": "ir"
  },
  "language_info": {
   "codemirror_mode": "r",
   "file_extension": ".r",
   "mimetype": "text/x-r-source",
   "name": "R",
   "pygments_lexer": "r",
   "version": "4.5.1"
  }
 },
 "nbformat": 4,
 "nbformat_minor": 5
}
