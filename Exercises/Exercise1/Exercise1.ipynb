{
 "cells": [
  {
   "cell_type": "markdown",
   "id": "546f0aff",
   "metadata": {},
   "source": [
    "# **Mức Dễ**\n",
    "\n",
    "## 1. Tạo vector `x` gồm các số từ 1 đến 10. Tính tổng, hiệu, tích và thương của tất cả phần tử với số 2."
   ]
  },
  {
   "cell_type": "code",
   "execution_count": 1,
   "id": "013fe3bc",
   "metadata": {
    "vscode": {
     "languageId": "r"
    }
   },
   "outputs": [
    {
     "name": "stdout",
     "output_type": "stream",
     "text": [
      " [1]  3  4  5  6  7  8  9 10 11 12\n",
      " [1] -1  0  1  2  3  4  5  6  7  8\n",
      " [1]  2  4  6  8 10 12 14 16 18 20\n",
      " [1] 0.5 1.0 1.5 2.0 2.5 3.0 3.5 4.0 4.5 5.0\n"
     ]
    }
   ],
   "source": [
    "x <- 1:10\n",
    "print(x + 2)\n",
    "print(x - 2)\n",
    "print(x * 2)\n",
    "print(x / 2)"
   ]
  },
  {
   "cell_type": "markdown",
   "id": "71366e87",
   "metadata": {},
   "source": [
    "\n",
    "---\n",
    "2. Cho vector `a <- c(TRUE, FALSE, TRUE)` và `b <- c(FALSE, TRUE, TRUE)`. Tính `a & b`, `a | b` và `!a`."
   ]
  },
  {
   "cell_type": "code",
   "execution_count": 2,
   "id": "8a5df68d",
   "metadata": {
    "vscode": {
     "languageId": "r"
    }
   },
   "outputs": [
    {
     "name": "stdout",
     "output_type": "stream",
     "text": [
      "[1] FALSE FALSE  TRUE\n",
      "[1] TRUE TRUE TRUE\n",
      "[1] FALSE  TRUE FALSE\n"
     ]
    }
   ],
   "source": [
    "a <- c(TRUE, FALSE, TRUE)\n",
    "b <- c(FALSE, TRUE, TRUE)\n",
    "print(a & b)\n",
    "print(a | b)\n",
    "print(!a)"
   ]
  },
  {
   "cell_type": "markdown",
   "id": "5ba8db1a",
   "metadata": {},
   "source": [
    "\n",
    "---\n",
    "3. Cho vector `x <- c(3, 7, 10, 15)`. Kiểm tra các phần tử nào lớn hơn 5, nhỏ hơn hoặc bằng 10, và bằng 7."
   ]
  },
  {
   "cell_type": "code",
   "execution_count": 3,
   "id": "ef24c9bd",
   "metadata": {
    "vscode": {
     "languageId": "r"
    }
   },
   "outputs": [
    {
     "name": "stdout",
     "output_type": "stream",
     "text": [
      "[1] FALSE  TRUE  TRUE  TRUE\n",
      "[1]  TRUE  TRUE  TRUE FALSE\n"
     ]
    },
    {
     "name": "stdout",
     "output_type": "stream",
     "text": [
      "[1] FALSE  TRUE FALSE FALSE\n"
     ]
    }
   ],
   "source": [
    "x <- c(3, 7, 10, 15)\n",
    "print(x > 5)\n",
    "print(x <= 10)\n",
    "print(x == 7)"
   ]
  },
  {
   "cell_type": "markdown",
   "id": "dd1aa081",
   "metadata": {},
   "source": [
    "\n",
    "---\n",
    "4. Tạo vector `v <- c(5, 10, 15, 20, 25)`. Lấy phần tử thứ 2, phần tử cuối cùng, và loại bỏ phần tử thứ 3."
   ]
  },
  {
   "cell_type": "code",
   "execution_count": 4,
   "id": "8c748a74",
   "metadata": {
    "vscode": {
     "languageId": "r"
    }
   },
   "outputs": [
    {
     "name": "stdout",
     "output_type": "stream",
     "text": [
      "[1] 10\n"
     ]
    },
    {
     "name": "stdout",
     "output_type": "stream",
     "text": [
      "[1] 25\n",
      "[1]  5 10 20 25\n"
     ]
    }
   ],
   "source": [
    "v <- c(5, 10, 15, 20, 25)\n",
    "print(v[2])\n",
    "print(v[5])\n",
    "print(v[-3])"
   ]
  },
  {
   "cell_type": "markdown",
   "id": "d0b49e5c",
   "metadata": {},
   "source": [
    "\n",
    "---\n",
    "5. Cho `x <- c(1, 2, 3, 4)` và `y <- c(5, 6)`. Thực hiện phép cộng và phép nhân theo vector hóa."
   ]
  },
  {
   "cell_type": "code",
   "execution_count": 5,
   "id": "8f551e0a",
   "metadata": {
    "vscode": {
     "languageId": "r"
    }
   },
   "outputs": [
    {
     "name": "stdout",
     "output_type": "stream",
     "text": [
      "[1]  6  8  8 10\n"
     ]
    },
    {
     "name": "stdout",
     "output_type": "stream",
     "text": [
      "[1]  5 12 15 24\n"
     ]
    }
   ],
   "source": [
    "x <- c(1, 2, 3, 4)\n",
    "y <- c(5, 6)\n",
    "\n",
    "print(x + y)\n",
    "print(x * y)"
   ]
  },
  {
   "cell_type": "markdown",
   "id": "2607a981",
   "metadata": {},
   "source": [
    "\n",
    "---\n",
    "6. Tạo một list chứa tên của bạn, tuổi và điểm trung bình môn R. Truy xuất từng phần tử từ list."
   ]
  },
  {
   "cell_type": "code",
   "execution_count": 6,
   "id": "44cfb927",
   "metadata": {
    "vscode": {
     "languageId": "r"
    }
   },
   "outputs": [
    {
     "name": "stdout",
     "output_type": "stream",
     "text": [
      "[1] \"Hoang Tuan Tu\"\n",
      "[1] 22\n"
     ]
    },
    {
     "name": "stdout",
     "output_type": "stream",
     "text": [
      "[1] 10\n"
     ]
    }
   ],
   "source": [
    "HTT <- list(\n",
    "    name = \"Hoang Tuan Tu\",\n",
    "    age = 22,\n",
    "    GPA = 10.0\n",
    ")\n",
    "\n",
    "print(HTT$name)\n",
    "print(HTT$age)\n",
    "print(HTT$GPA)"
   ]
  },
  {
   "cell_type": "markdown",
   "id": "e8a897f6",
   "metadata": {},
   "source": [
    "\n",
    "---\n",
    "7. Tạo vector `colors <- c(\"red\",\"blue\",\"red\",\"green\",\"blue\",\"green\",\"red\")`. sau đó tạo factor với vector đó"
   ]
  },
  {
   "cell_type": "code",
   "execution_count": 7,
   "id": "9bef126e",
   "metadata": {
    "vscode": {
     "languageId": "r"
    }
   },
   "outputs": [
    {
     "name": "stdout",
     "output_type": "stream",
     "text": [
      "[1] red   blue  red   green blue  green red  \n",
      "Levels: blue green red\n"
     ]
    }
   ],
   "source": [
    "colors <- c(\"red\", \"blue\", \"red\", \"green\", \"blue\", \"green\", \"red\")\n",
    "colors_factor <- factor(colors)\n",
    "print(colors_factor)"
   ]
  },
  {
   "cell_type": "markdown",
   "id": "d2bbec9f",
   "metadata": {},
   "source": [
    "\n",
    "---\n",
    "8. Tạo ma trận 3x3 từ vector `c(1:9)`. Lấy phần tử hàng 2 cột 3, toàn bộ hàng 1, và cột 2 & 3."
   ]
  },
  {
   "cell_type": "code",
   "execution_count": 8,
   "id": "3c35af9b",
   "metadata": {
    "vscode": {
     "languageId": "r"
    }
   },
   "outputs": [
    {
     "name": "stdout",
     "output_type": "stream",
     "text": [
      "[1] 8\n",
      "[1] 1 4 7\n",
      "     [,1] [,2]\n",
      "[1,]    4    7\n",
      "[2,]    5    8\n",
      "[3,]    6    9\n"
     ]
    }
   ],
   "source": [
    "matrix <- matrix(1:9, 3, 3)\n",
    "print(matrix[2, 3])\n",
    "print(matrix[1, ])\n",
    "print(matrix[, 2:3])"
   ]
  },
  {
   "cell_type": "markdown",
   "id": "bf8846c8",
   "metadata": {},
   "source": [
    "\n",
    "---\n",
    "9. Tạo ma trận `A <- matrix(1:4, 2, 2)` và `B <- matrix(5:8, 2, 2)`. Thực hiện cộng, trừ, nhân theo từng phần tử và nhân ma trận."
   ]
  },
  {
   "cell_type": "code",
   "execution_count": 9,
   "id": "2c302d25",
   "metadata": {
    "vscode": {
     "languageId": "r"
    }
   },
   "outputs": [
    {
     "name": "stdout",
     "output_type": "stream",
     "text": [
      "     [,1] [,2]\n",
      "[1,]    6   10\n",
      "[2,]    8   12\n",
      "     [,1] [,2]\n",
      "[1,]   -4   -4\n",
      "[2,]   -4   -4\n"
     ]
    },
    {
     "name": "stdout",
     "output_type": "stream",
     "text": [
      "     [,1] [,2]\n",
      "[1,]    5   21\n",
      "[2,]   12   32\n",
      "     [,1] [,2]\n",
      "[1,]   23   31\n",
      "[2,]   34   46\n"
     ]
    }
   ],
   "source": [
    "A <- matrix(1:4, 2, 2)\n",
    "B <- matrix(5:8, 2, 2)\n",
    "\n",
    "print(A + B)\n",
    "print(A - B)\n",
    "print(A * B)\n",
    "print(A %*% B)"
   ]
  },
  {
   "cell_type": "markdown",
   "id": "640cd28e",
   "metadata": {},
   "source": [
    "---\n",
    "10. Tạo vector số nguyên từ 1 đến 20.\n",
    "\n",
    "* Chia vector thành hai vector: số chẵn và số lẻ.\n",
    "* Tạo ma trận 2x5 từ vector số chẵn.\n",
    "* Tính bình phương các phần tử ma trận."
   ]
  },
  {
   "cell_type": "code",
   "execution_count": 10,
   "id": "95c13e8f",
   "metadata": {
    "vscode": {
     "languageId": "r"
    }
   },
   "outputs": [
    {
     "name": "stdout",
     "output_type": "stream",
     "text": [
      " [1]  2  4  6  8 10 12 14 16 18 20\n",
      " [1]  1  3  5  7  9 11 13 15 17 19\n",
      "     [,1] [,2] [,3] [,4] [,5]\n",
      "[1,]    2    6   10   14   18\n",
      "[2,]    4    8   12   16   20\n",
      "     [,1] [,2] [,3] [,4] [,5]\n",
      "[1,]    4   36  100  196  324\n",
      "[2,]   16   64  144  256  400\n"
     ]
    }
   ],
   "source": [
    "# Tạo vector số nguyên từ 1 đến 20\n",
    "v <- 1:20\n",
    "\n",
    "# Chia thành số chẵn và số lẻ\n",
    "even_conditition <- v %% 2 == 0\n",
    "even <- v[even_conditition]\n",
    "print(even)\n",
    "\n",
    "odd_conditition <- v %% 2 != 0\n",
    "odd  <- v[odd_conditition]\n",
    "print(odd)\n",
    "\n",
    "# Tạo ma trận 2x5 từ vector số chẵn\n",
    "m <- matrix(even, nrow = 2)\n",
    "print(m)\n",
    "\n",
    "# Tính bình phương các phần tử ma trận\n",
    "m_sq <- m^2\n",
    "print(m_sq)"
   ]
  }
 ],
 "metadata": {
  "kernelspec": {
   "display_name": "R",
   "language": "R",
   "name": "ir"
  },
  "language_info": {
   "codemirror_mode": "r",
   "file_extension": ".r",
   "mimetype": "text/x-r-source",
   "name": "R",
   "pygments_lexer": "r",
   "version": "4.5.1"
  }
 },
 "nbformat": 4,
 "nbformat_minor": 5
}
