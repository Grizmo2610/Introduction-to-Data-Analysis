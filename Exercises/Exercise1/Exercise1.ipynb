{
 "cells": [
  {
   "cell_type": "markdown",
   "id": "d3b08b8c",
   "metadata": {
    "vscode": {
     "languageId": "r"
    }
   },
   "source": [
    "## **Phần 1: Vector và toán tử (Bài 1–6, dễ)**\n",
    "\n",
    "1. Tạo một vector `x` gồm các số từ 1 đến 10 và in ra.\n",
    "2. Tính tổng các số chẵn trong vector `x`.\n",
    "3. Tạo vector `y = c(2, 4, 6, 8, 10)` và tính `x + y`.\n",
    "4. Tính bình phương của tất cả phần tử trong vector `x` bằng **vector hóa**.\n",
    "5. Lọc các phần tử lớn hơn 5 trong vector `x` bằng toán tử logic.\n",
    "6. Kiểm tra xem **tất cả** phần tử trong vector `x` có lớn hơn 0 không."
   ]
  },
  {
   "cell_type": "markdown",
   "id": "1a59f60c",
   "metadata": {
    "vscode": {
     "languageId": "r"
    }
   },
   "source": [
    "\n",
    "---\n",
    "\n",
    "## **Phần 2: Vòng lặp và điều kiện (Bài 7–12, trung bình)**\n",
    "\n",
    "7. Viết vòng lặp `for` in ra các số lẻ từ 1 đến 15.\n",
    "8. Viết vòng lặp `while` tính tổng các số từ 1 đến 20.\n",
    "9. Dùng `repeat` để in ra các bình phương của số từ 1 đến 5.\n",
    "10. Viết vòng lặp `for` in ra “Dương”, “Âm” hoặc “Bằng 0” cho các phần tử của vector `c(-2, 0, 3, -1, 5)`.\n",
    "11. Dùng `ifelse()` để biến một vector số thành vector ký tự “Dương” / “Không dương”.\n",
    "12. Viết vòng lặp `for` kết hợp `next` và `break` để in các số từ 1 đến 10, bỏ qua số 5 và dừng khi đến số 8.\n"
   ]
  },
  {
   "cell_type": "markdown",
   "id": "fa9d3699",
   "metadata": {},
   "source": [
    "\n",
    "---\n",
    "\n",
    "## **Phần 3: List và ma trận (Bài 13–16, trung bình – khó)**\n",
    "\n",
    "13. Tạo một list chứa: một vector, một ma trận 2×2, và một giá trị số.\n",
    "14. Truy cập phần tử thứ 2 trong list và in ra.\n",
    "15. Tạo ma trận 3×3 với các số từ 1 đến 9, tính **ma trận chuyển vị**.\n",
    "16. Tính **nghịch đảo** của ma trận 2×2 `matrix(c(2,1,3,4),2,2)`."
   ]
  },
  {
   "cell_type": "markdown",
   "id": "3a2b3b25",
   "metadata": {},
   "source": [
    "\n",
    "---\n",
    "\n",
    "## **Phần 4: Vector hóa nâng cao và hàm (Bài 17–20, khó)**\n",
    "\n",
    "17. Tạo vector `x = 1:10` và tính sin, cos, tan của tất cả phần tử bằng **vector hóa**.\n",
    "18. Viết hàm tính tổng bình phương các số dương trong một vector.\n",
    "19. Sinh 10 số ngẫu nhiên từ phân phối chuẩn với `rnorm()`, in ra các số lớn hơn trung bình.\n",
    "20. Tạo ma trận 3×3, tính **giá trị riêng** và **vector riêng** bằng hàm `eigen()`."
   ]
  }
 ],
 "metadata": {
  "language_info": {
   "name": "python"
  }
 },
 "nbformat": 4,
 "nbformat_minor": 5
}
