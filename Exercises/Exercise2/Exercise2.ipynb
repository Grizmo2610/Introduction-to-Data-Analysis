{
 "cells": [
  {
   "cell_type": "markdown",
   "id": "886baa87",
   "metadata": {},
   "source": [
    "# **BÀI TẬP CHƯƠNG II**\n",
    "\n",
    "## 1. Viết hàm `tong_hai_so(a, b = 10)` tính tổng hai số. Gọi hàm với cả hai tham số và chỉ với tham số bắt buộc."
   ]
  },
  {
   "cell_type": "code",
   "execution_count": 1,
   "id": "0fee6f12",
   "metadata": {
    "vscode": {
     "languageId": "r"
    }
   },
   "outputs": [
    {
     "data": {
      "text/html": [
       "25"
      ],
      "text/latex": [
       "25"
      ],
      "text/markdown": [
       "25"
      ],
      "text/plain": [
       "[1] 25"
      ]
     },
     "metadata": {},
     "output_type": "display_data"
    },
    {
     "data": {
      "text/html": [
       "15"
      ],
      "text/latex": [
       "15"
      ],
      "text/markdown": [
       "15"
      ],
      "text/plain": [
       "[1] 15"
      ]
     },
     "metadata": {},
     "output_type": "display_data"
    }
   ],
   "source": [
    "tong_hai_so <- function(a, b = 10) {\n",
    "    return (a + b)\n",
    "}\n",
    "\n",
    "tong_hai_so(5, 20)\n",
    "tong_hai_so(5)"
   ]
  },
  {
   "cell_type": "markdown",
   "id": "b62426a1",
   "metadata": {},
   "source": [
    "\n",
    "---\n",
    "## 2. Viết hàm `binh_phuong(x, y)` trả về bình phương của `x` cộng với bình phương của `y`. Gọi hàm với `x = 4` và `y = 5`."
   ]
  },
  {
   "cell_type": "code",
   "execution_count": 2,
   "id": "42eed988",
   "metadata": {
    "vscode": {
     "languageId": "r"
    }
   },
   "outputs": [
    {
     "data": {
      "text/html": [
       "41"
      ],
      "text/latex": [
       "41"
      ],
      "text/markdown": [
       "41"
      ],
      "text/plain": [
       "[1] 41"
      ]
     },
     "metadata": {},
     "output_type": "display_data"
    }
   ],
   "source": [
    "binh_phuong <- function(x, y) {\n",
    "    return(x^2 + y^2)\n",
    "}\n",
    "\n",
    "binh_phuong(4, 5)"
   ]
  },
  {
   "cell_type": "markdown",
   "id": "daad846d",
   "metadata": {},
   "source": [
    "\n",
    "---\n",
    "## 3. Sử dụng hàm `abs()`, `sqrt()` và `round()` với các giá trị `-7`, `16` và `5.6`."
   ]
  },
  {
   "cell_type": "code",
   "execution_count": 3,
   "id": "9c8a98e0",
   "metadata": {
    "vscode": {
     "languageId": "r"
    }
   },
   "outputs": [
    {
     "name": "stdout",
     "output_type": "stream",
     "text": [
      "[1] 7\n"
     ]
    },
    {
     "name": "stdout",
     "output_type": "stream",
     "text": [
      "[1] 16\n",
      "[1] 5.6\n"
     ]
    },
    {
     "name": "stderr",
     "output_type": "stream",
     "text": [
      "Warning message in sqrt(-7):\n",
      "\"NaNs produced\"\n"
     ]
    },
    {
     "name": "stdout",
     "output_type": "stream",
     "text": [
      "[1] NaN\n",
      "[1] 4\n",
      "[1] 2.366432\n",
      "[1] -7\n",
      "[1] 16\n",
      "[1] 6\n"
     ]
    }
   ],
   "source": [
    "print(abs(-7))\n",
    "print(abs(16))\n",
    "print(abs(5.6))\n",
    "print(sqrt(-7))\n",
    "print(sqrt(16))\n",
    "print(sqrt(5.6))\n",
    "print(round(-7))\n",
    "print(round(16))\n",
    "print(round(5.6))"
   ]
  },
  {
   "cell_type": "markdown",
   "id": "5516ae9e",
   "metadata": {},
   "source": [
    "\n",
    "---\n",
    "## 4. Viết hàm `tong_nhieu_so(...)` tính tổng nhiều số bất kỳ. Thử với các số `1,2,3,4,5`."
   ]
  },
  {
   "cell_type": "code",
   "execution_count": 4,
   "id": "19b8bf30",
   "metadata": {
    "vscode": {
     "languageId": "r"
    }
   },
   "outputs": [
    {
     "name": "stdout",
     "output_type": "stream",
     "text": [
      "[1] 15\n"
     ]
    }
   ],
   "source": [
    "tong_nhieu_so <- function(...) {\n",
    "    return(sum(...))\n",
    "}\n",
    "print(tong_nhieu_so(1, 2, 3, 4, 5))"
   ]
  },
  {
   "cell_type": "markdown",
   "id": "79e113d8",
   "metadata": {},
   "source": [
    "\n",
    "---\n",
    "## 5. Tạo ma trận `mat_a <- matrix(c(2, 1, 3, 4), 2, 2)`. Tính chuyển vị và định thức."
   ]
  },
  {
   "cell_type": "code",
   "execution_count": 5,
   "id": "1af652a2",
   "metadata": {
    "vscode": {
     "languageId": "r"
    }
   },
   "outputs": [
    {
     "name": "stdout",
     "output_type": "stream",
     "text": [
      "     [,1] [,2]\n",
      "[1,]    2    3\n",
      "[2,]    1    4\n",
      "     [,1] [,2]\n",
      "[1,]    2    1\n",
      "[2,]    3    4\n",
      "[1] 5\n"
     ]
    }
   ],
   "source": [
    "mat_a <- matrix(c(2, 1, 3, 4), 2, 2)\n",
    "print(mat_a)\n",
    "\n",
    "print(t(mat_a))\n",
    "\n",
    "print(det(mat_a))"
   ]
  },
  {
   "cell_type": "markdown",
   "id": "1e4ae437",
   "metadata": {},
   "source": [
    "\n",
    "---\n",
    "## 6. Sinh 10 số ngẫu nhiên từ phân phối chuẩn với `mean = 0.5`, `sd = 0.5` và tính trung bình của chúng bằng `mean()`."
   ]
  },
  {
   "cell_type": "code",
   "execution_count": 6,
   "id": "bd4913e4",
   "metadata": {
    "vscode": {
     "languageId": "r"
    }
   },
   "outputs": [
    {
     "name": "stdout",
     "output_type": "stream",
     "text": [
      " [1] 1.1854792 0.2176509 0.6815642 0.8164313 0.7021342 0.4469377 1.2557610\n",
      " [8] 0.4526705 1.5092119 0.4686430\n"
     ]
    },
    {
     "name": "stdout",
     "output_type": "stream",
     "text": [
      "[1] 0.7736484\n"
     ]
    }
   ],
   "source": [
    "set.seed(42)\n",
    "\n",
    "v = rnorm(10, 0.5, 0.5)\n",
    "print(v)\n",
    "print(mean(v))"
   ]
  },
  {
   "cell_type": "markdown",
   "id": "a54448b3",
   "metadata": {},
   "source": [
    "\n",
    "---\n",
    "## 7. Sinh 10 số ngẫu nhiên từ phân phối nhị thức `size = 20`, `prob = 0.3`. Tính tổng và trung bình các giá trị."
   ]
  },
  {
   "cell_type": "code",
   "execution_count": 7,
   "id": "545c3231",
   "metadata": {
    "vscode": {
     "languageId": "r"
    }
   },
   "outputs": [
    {
     "name": "stdout",
     "output_type": "stream",
     "text": [
      " [1] 9 9 5 8 7 6 7 4 7 7\n",
      "[1] 69\n",
      "[1] 6.9\n"
     ]
    }
   ],
   "source": [
    "set.seed(42)\n",
    "\n",
    "v <- rbinom(10, 20, 0.3)\n",
    "print(v)\n",
    "print(sum(v))\n",
    "print(mean(v))"
   ]
  },
  {
   "cell_type": "markdown",
   "id": "1ab2517e",
   "metadata": {},
   "source": [
    "\n",
    "---\n",
    "## 8. Sinh 5 số từ phân phối Poisson với `lambda = 3` và 5 số từ phân phối đều trên \\[0,10]. Kết hợp thành một vector và tính `min()`, `max()`, `length()`."
   ]
  },
  {
   "cell_type": "code",
   "execution_count": 8,
   "id": "e1406330",
   "metadata": {
    "vscode": {
     "languageId": "r"
    }
   },
   "outputs": [
    {
     "name": "stdout",
     "output_type": "stream",
     "text": [
      "[1] 5 6 2 5 3\n",
      "[1] 5.190959 7.365883 1.346666 6.569923 7.050648\n",
      " [1] 5.000000 6.000000 2.000000 5.000000 3.000000 5.190959 7.365883 1.346666\n",
      " [9] 6.569923 7.050648\n",
      "[1] 1.346666\n",
      "[1] 7.365883\n",
      "[1] 10\n"
     ]
    }
   ],
   "source": [
    "set.seed(42)\n",
    "\n",
    "poiss <- rpois(n = 5, lambda = 3)\n",
    "print(poiss)\n",
    "\n",
    "unif <- runif(n = 5, min = 0, max = 10)\n",
    "print(unif)\n",
    "\n",
    "res <- c(poiss, unif)\n",
    "print(res)\n",
    "\n",
    "print(min(res))\n",
    "\n",
    "print(max(res))\n",
    "\n",
    "print(length(res))"
   ]
  },
  {
   "cell_type": "markdown",
   "id": "d9188473",
   "metadata": {},
   "source": [
    "\n",
    "---\n",
    "## 9. Tạo vector `x <- c(4, 1, 5, 7, 2, 3, 6, 9)`. Sắp xếp vector, tính tổng, tích và số phần tử."
   ]
  },
  {
   "cell_type": "code",
   "execution_count": 9,
   "id": "f28e39aa",
   "metadata": {
    "vscode": {
     "languageId": "r"
    }
   },
   "outputs": [
    {
     "name": "stdout",
     "output_type": "stream",
     "text": [
      "[1] 1 2 3 4 5 6 7 9\n",
      "[1] 37\n",
      "[1] 45360\n",
      "[1] 8\n"
     ]
    }
   ],
   "source": [
    "x <- c(4, 1, 5, 7, 2, 3, 6, 9)\n",
    "x <- sort(x)\n",
    "print(x)\n",
    "print(sum(x))\n",
    "print(prod(x))\n",
    "print(length(x))\n"
   ]
  },
  {
   "cell_type": "markdown",
   "id": "52711d85",
   "metadata": {},
   "source": [
    "## 10. Viết hàm `phan_tich_vector(v)` nhận một vector số nguyên. Hàm trả về list gồm:\n",
    "\n",
    "* vector các số chẵn\n",
    "* vector các số lẻ\n",
    "* bình phương các số chẵn\n",
    "* tổng các số lẻ\n",
    "\n",
    "Gọi hàm với `v <- 1:20` và in kết quả."
   ]
  },
  {
   "cell_type": "code",
   "execution_count": 10,
   "id": "df8e6533",
   "metadata": {
    "vscode": {
     "languageId": "r"
    }
   },
   "outputs": [
    {
     "name": "stdout",
     "output_type": "stream",
     "text": [
      " [1]  2  4  6  8 10 12 14 16 18 20\n",
      " [1]  1  3  5  7  9 11 13 15 17 19\n",
      " [1]   4  16  36  64 100 144 196 256 324 400\n",
      "[1] 100\n",
      "[1] 100\n"
     ]
    }
   ],
   "source": [
    "phan_tich_vector <- function(v) {\n",
    "    even <- v[v %% 2 == 0]\n",
    "    odd <- v[v %% 2 != 0]\n",
    "    even_sq <- even ^ 2\n",
    "    sum_odd <- sum(odd)\n",
    "    return(list(\n",
    "                even = even,\n",
    "                odd = odd,\n",
    "                even_sq = even_sq,\n",
    "                sum_odd = sum_odd))\n",
    "}\n",
    "\n",
    "v <- 1:20\n",
    "result <- phan_tich_vector(v)\n",
    "\n",
    "print(result$even)\n",
    "print(result$odd)\n",
    "print(result$even_sq)\n",
    "print(print(result$sum_odd))"
   ]
  }
 ],
 "metadata": {
  "kernelspec": {
   "display_name": "R",
   "language": "R",
   "name": "ir"
  },
  "language_info": {
   "codemirror_mode": "r",
   "file_extension": ".r",
   "mimetype": "text/x-r-source",
   "name": "R",
   "pygments_lexer": "r",
   "version": "4.5.1"
  }
 },
 "nbformat": 4,
 "nbformat_minor": 5
}
